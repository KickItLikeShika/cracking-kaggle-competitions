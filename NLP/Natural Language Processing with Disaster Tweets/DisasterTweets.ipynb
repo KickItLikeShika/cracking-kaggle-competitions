{
  "nbformat": 4,
  "nbformat_minor": 0,
  "metadata": {
    "kernelspec": {
      "display_name": "Python 3",
      "language": "python",
      "name": "python3"
    },
    "language_info": {
      "codemirror_mode": {
        "name": "ipython",
        "version": 3
      },
      "file_extension": ".py",
      "mimetype": "text/x-python",
      "name": "python",
      "nbconvert_exporter": "python",
      "pygments_lexer": "ipython3",
      "version": "3.8.3"
    },
    "colab": {
      "name": "DisasterTweets.ipynb",
      "provenance": [],
      "collapsed_sections": []
    },
    "accelerator": "GPU"
  },
  "cells": [
    {
      "cell_type": "code",
      "metadata": {
        "colab": {
          "base_uri": "https://localhost:8080/"
        },
        "id": "lXIfPgqeRKmg",
        "outputId": "5d6dc923-7715-4e10-b941-8d8042771624"
      },
      "source": [
        "import re\n",
        "import pandas as pd\n",
        "import numpy as np\n",
        "import nltk\n",
        "from nltk.corpus import stopwords\n",
        "from nltk.stem import SnowballStemmer\n",
        "from nltk.stem import WordNetLemmatizer\n",
        "import spacy\n",
        "from spacy.tokenizer import Tokenizer\n",
        "import torch\n",
        "import torch.nn as nn\n",
        "from torchtext import data, legacy\n",
        "from torchtext.vocab import Vectors, GloVe\n",
        "import tqdm\n",
        "nltk.download('stopwords')\n",
        "nltk.download('wordnet')"
      ],
      "execution_count": 121,
      "outputs": [
        {
          "output_type": "stream",
          "text": [
            "[nltk_data] Downloading package stopwords to /root/nltk_data...\n",
            "[nltk_data]   Package stopwords is already up-to-date!\n",
            "[nltk_data] Downloading package wordnet to /root/nltk_data...\n",
            "[nltk_data]   Package wordnet is already up-to-date!\n"
          ],
          "name": "stdout"
        },
        {
          "output_type": "execute_result",
          "data": {
            "text/plain": [
              "True"
            ]
          },
          "metadata": {
            "tags": []
          },
          "execution_count": 121
        }
      ]
    },
    {
      "cell_type": "code",
      "metadata": {
        "colab": {
          "base_uri": "https://localhost:8080/"
        },
        "id": "gOAnAKyURKmp",
        "outputId": "ad059615-fc08-47ee-efe2-caf451843666"
      },
      "source": [
        "train = pd.read_csv('../train.csv')\n",
        "test = pd.read_csv('../test.csv')\n",
        "smaple = pd.read_csv('../sample_submission.csv')\n",
        "print(train.shape)\n",
        "print(test.shape)"
      ],
      "execution_count": 80,
      "outputs": [
        {
          "output_type": "stream",
          "text": [
            "(7613, 5)\n",
            "(3263, 4)\n"
          ],
          "name": "stdout"
        }
      ]
    },
    {
      "cell_type": "markdown",
      "metadata": {
        "id": "oZIZJ2zFRKmq"
      },
      "source": [
        "# Exploration"
      ]
    },
    {
      "cell_type": "code",
      "metadata": {
        "colab": {
          "base_uri": "https://localhost:8080/",
          "height": 195
        },
        "id": "COlcz6jaRKmr",
        "outputId": "1dbe531e-05f9-4cda-d736-43c8c8c491b8"
      },
      "source": [
        "train.head()"
      ],
      "execution_count": 81,
      "outputs": [
        {
          "output_type": "execute_result",
          "data": {
            "text/html": [
              "<div>\n",
              "<style scoped>\n",
              "    .dataframe tbody tr th:only-of-type {\n",
              "        vertical-align: middle;\n",
              "    }\n",
              "\n",
              "    .dataframe tbody tr th {\n",
              "        vertical-align: top;\n",
              "    }\n",
              "\n",
              "    .dataframe thead th {\n",
              "        text-align: right;\n",
              "    }\n",
              "</style>\n",
              "<table border=\"1\" class=\"dataframe\">\n",
              "  <thead>\n",
              "    <tr style=\"text-align: right;\">\n",
              "      <th></th>\n",
              "      <th>id</th>\n",
              "      <th>keyword</th>\n",
              "      <th>location</th>\n",
              "      <th>text</th>\n",
              "      <th>target</th>\n",
              "    </tr>\n",
              "  </thead>\n",
              "  <tbody>\n",
              "    <tr>\n",
              "      <th>0</th>\n",
              "      <td>1</td>\n",
              "      <td>NaN</td>\n",
              "      <td>NaN</td>\n",
              "      <td>Our Deeds are the Reason of this #earthquake M...</td>\n",
              "      <td>1</td>\n",
              "    </tr>\n",
              "    <tr>\n",
              "      <th>1</th>\n",
              "      <td>4</td>\n",
              "      <td>NaN</td>\n",
              "      <td>NaN</td>\n",
              "      <td>Forest fire near La Ronge Sask. Canada</td>\n",
              "      <td>1</td>\n",
              "    </tr>\n",
              "    <tr>\n",
              "      <th>2</th>\n",
              "      <td>5</td>\n",
              "      <td>NaN</td>\n",
              "      <td>NaN</td>\n",
              "      <td>All residents asked to 'shelter in place' are ...</td>\n",
              "      <td>1</td>\n",
              "    </tr>\n",
              "    <tr>\n",
              "      <th>3</th>\n",
              "      <td>6</td>\n",
              "      <td>NaN</td>\n",
              "      <td>NaN</td>\n",
              "      <td>13,000 people receive #wildfires evacuation or...</td>\n",
              "      <td>1</td>\n",
              "    </tr>\n",
              "    <tr>\n",
              "      <th>4</th>\n",
              "      <td>7</td>\n",
              "      <td>NaN</td>\n",
              "      <td>NaN</td>\n",
              "      <td>Just got sent this photo from Ruby #Alaska as ...</td>\n",
              "      <td>1</td>\n",
              "    </tr>\n",
              "  </tbody>\n",
              "</table>\n",
              "</div>"
            ],
            "text/plain": [
              "   id keyword  ...                                               text target\n",
              "0   1     NaN  ...  Our Deeds are the Reason of this #earthquake M...      1\n",
              "1   4     NaN  ...             Forest fire near La Ronge Sask. Canada      1\n",
              "2   5     NaN  ...  All residents asked to 'shelter in place' are ...      1\n",
              "3   6     NaN  ...  13,000 people receive #wildfires evacuation or...      1\n",
              "4   7     NaN  ...  Just got sent this photo from Ruby #Alaska as ...      1\n",
              "\n",
              "[5 rows x 5 columns]"
            ]
          },
          "metadata": {
            "tags": []
          },
          "execution_count": 81
        }
      ]
    },
    {
      "cell_type": "code",
      "metadata": {
        "colab": {
          "base_uri": "https://localhost:8080/",
          "height": 195
        },
        "id": "6MV5m9GpRKmr",
        "outputId": "dea696ef-39c2-410e-dd26-882b49d0dde0"
      },
      "source": [
        "test.head()"
      ],
      "execution_count": 82,
      "outputs": [
        {
          "output_type": "execute_result",
          "data": {
            "text/html": [
              "<div>\n",
              "<style scoped>\n",
              "    .dataframe tbody tr th:only-of-type {\n",
              "        vertical-align: middle;\n",
              "    }\n",
              "\n",
              "    .dataframe tbody tr th {\n",
              "        vertical-align: top;\n",
              "    }\n",
              "\n",
              "    .dataframe thead th {\n",
              "        text-align: right;\n",
              "    }\n",
              "</style>\n",
              "<table border=\"1\" class=\"dataframe\">\n",
              "  <thead>\n",
              "    <tr style=\"text-align: right;\">\n",
              "      <th></th>\n",
              "      <th>id</th>\n",
              "      <th>keyword</th>\n",
              "      <th>location</th>\n",
              "      <th>text</th>\n",
              "    </tr>\n",
              "  </thead>\n",
              "  <tbody>\n",
              "    <tr>\n",
              "      <th>0</th>\n",
              "      <td>0</td>\n",
              "      <td>NaN</td>\n",
              "      <td>NaN</td>\n",
              "      <td>Just happened a terrible car crash</td>\n",
              "    </tr>\n",
              "    <tr>\n",
              "      <th>1</th>\n",
              "      <td>2</td>\n",
              "      <td>NaN</td>\n",
              "      <td>NaN</td>\n",
              "      <td>Heard about #earthquake is different cities, s...</td>\n",
              "    </tr>\n",
              "    <tr>\n",
              "      <th>2</th>\n",
              "      <td>3</td>\n",
              "      <td>NaN</td>\n",
              "      <td>NaN</td>\n",
              "      <td>there is a forest fire at spot pond, geese are...</td>\n",
              "    </tr>\n",
              "    <tr>\n",
              "      <th>3</th>\n",
              "      <td>9</td>\n",
              "      <td>NaN</td>\n",
              "      <td>NaN</td>\n",
              "      <td>Apocalypse lighting. #Spokane #wildfires</td>\n",
              "    </tr>\n",
              "    <tr>\n",
              "      <th>4</th>\n",
              "      <td>11</td>\n",
              "      <td>NaN</td>\n",
              "      <td>NaN</td>\n",
              "      <td>Typhoon Soudelor kills 28 in China and Taiwan</td>\n",
              "    </tr>\n",
              "  </tbody>\n",
              "</table>\n",
              "</div>"
            ],
            "text/plain": [
              "   id keyword location                                               text\n",
              "0   0     NaN      NaN                 Just happened a terrible car crash\n",
              "1   2     NaN      NaN  Heard about #earthquake is different cities, s...\n",
              "2   3     NaN      NaN  there is a forest fire at spot pond, geese are...\n",
              "3   9     NaN      NaN           Apocalypse lighting. #Spokane #wildfires\n",
              "4  11     NaN      NaN      Typhoon Soudelor kills 28 in China and Taiwan"
            ]
          },
          "metadata": {
            "tags": []
          },
          "execution_count": 82
        }
      ]
    },
    {
      "cell_type": "markdown",
      "metadata": {
        "id": "xixTGAwZRKms"
      },
      "source": [
        "# Data Cleaning"
      ]
    },
    {
      "cell_type": "code",
      "metadata": {
        "colab": {
          "base_uri": "https://localhost:8080/"
        },
        "id": "on0srVe7RKms",
        "outputId": "27288b2a-041a-4c4a-95af-b78aa54af08a"
      },
      "source": [
        "print(train.info())\n",
        "print(\"=================\")\n",
        "print(test.info())"
      ],
      "execution_count": 83,
      "outputs": [
        {
          "output_type": "stream",
          "text": [
            "<class 'pandas.core.frame.DataFrame'>\n",
            "RangeIndex: 7613 entries, 0 to 7612\n",
            "Data columns (total 5 columns):\n",
            " #   Column    Non-Null Count  Dtype \n",
            "---  ------    --------------  ----- \n",
            " 0   id        7613 non-null   int64 \n",
            " 1   keyword   7552 non-null   object\n",
            " 2   location  5080 non-null   object\n",
            " 3   text      7613 non-null   object\n",
            " 4   target    7613 non-null   int64 \n",
            "dtypes: int64(2), object(3)\n",
            "memory usage: 297.5+ KB\n",
            "None\n",
            "=================\n",
            "<class 'pandas.core.frame.DataFrame'>\n",
            "RangeIndex: 3263 entries, 0 to 3262\n",
            "Data columns (total 4 columns):\n",
            " #   Column    Non-Null Count  Dtype \n",
            "---  ------    --------------  ----- \n",
            " 0   id        3263 non-null   int64 \n",
            " 1   keyword   3237 non-null   object\n",
            " 2   location  2158 non-null   object\n",
            " 3   text      3263 non-null   object\n",
            "dtypes: int64(1), object(3)\n",
            "memory usage: 102.1+ KB\n",
            "None\n"
          ],
          "name": "stdout"
        }
      ]
    },
    {
      "cell_type": "code",
      "metadata": {
        "id": "EU3G3FJXRKmt"
      },
      "source": [
        "train.drop(['location', 'keyword'], axis=1, inplace=True)\n",
        "test.drop(['location', 'keyword'], axis=1, inplace=True)"
      ],
      "execution_count": 84,
      "outputs": []
    },
    {
      "cell_type": "code",
      "metadata": {
        "colab": {
          "base_uri": "https://localhost:8080/"
        },
        "id": "mKt49zFdRKmt",
        "outputId": "5fe48dd6-7204-4e1b-ca27-5baeba1952bc"
      },
      "source": [
        "train.shape, test.shape"
      ],
      "execution_count": 85,
      "outputs": [
        {
          "output_type": "execute_result",
          "data": {
            "text/plain": [
              "((7613, 3), (3263, 2))"
            ]
          },
          "metadata": {
            "tags": []
          },
          "execution_count": 85
        }
      ]
    },
    {
      "cell_type": "code",
      "metadata": {
        "colab": {
          "base_uri": "https://localhost:8080/"
        },
        "id": "PZ8hjDQzRKmu",
        "outputId": "08256c89-7f53-46fc-e5e6-94f68a87d76f"
      },
      "source": [
        "for i in range(50):\n",
        "    print(train['text'][i])\n",
        "    print(\"------------\")"
      ],
      "execution_count": 86,
      "outputs": [
        {
          "output_type": "stream",
          "text": [
            "Our Deeds are the Reason of this #earthquake May ALLAH Forgive us all\n",
            "------------\n",
            "Forest fire near La Ronge Sask. Canada\n",
            "------------\n",
            "All residents asked to 'shelter in place' are being notified by officers. No other evacuation or shelter in place orders are expected\n",
            "------------\n",
            "13,000 people receive #wildfires evacuation orders in California \n",
            "------------\n",
            "Just got sent this photo from Ruby #Alaska as smoke from #wildfires pours into a school \n",
            "------------\n",
            "#RockyFire Update => California Hwy. 20 closed in both directions due to Lake County fire - #CAfire #wildfires\n",
            "------------\n",
            "#flood #disaster Heavy rain causes flash flooding of streets in Manitou, Colorado Springs areas\n",
            "------------\n",
            "I'm on top of the hill and I can see a fire in the woods...\n",
            "------------\n",
            "There's an emergency evacuation happening now in the building across the street\n",
            "------------\n",
            "I'm afraid that the tornado is coming to our area...\n",
            "------------\n",
            "Three people died from the heat wave so far\n",
            "------------\n",
            "Haha South Tampa is getting flooded hah- WAIT A SECOND I LIVE IN SOUTH TAMPA WHAT AM I GONNA DO WHAT AM I GONNA DO FVCK #flooding\n",
            "------------\n",
            "#raining #flooding #Florida #TampaBay #Tampa 18 or 19 days. I've lost count \n",
            "------------\n",
            "#Flood in Bago Myanmar #We arrived Bago\n",
            "------------\n",
            "Damage to school bus on 80 in multi car crash #BREAKING \n",
            "------------\n",
            "What's up man?\n",
            "------------\n",
            "I love fruits\n",
            "------------\n",
            "Summer is lovely\n",
            "------------\n",
            "My car is so fast\n",
            "------------\n",
            "What a goooooooaaaaaal!!!!!!\n",
            "------------\n",
            "this is ridiculous....\n",
            "------------\n",
            "London is cool ;)\n",
            "------------\n",
            "Love skiing\n",
            "------------\n",
            "What a wonderful day!\n",
            "------------\n",
            "LOOOOOOL\n",
            "------------\n",
            "No way...I can't eat that shit\n",
            "------------\n",
            "Was in NYC last week!\n",
            "------------\n",
            "Love my girlfriend\n",
            "------------\n",
            "Cooool :)\n",
            "------------\n",
            "Do you like pasta?\n",
            "------------\n",
            "The end!\n",
            "------------\n",
            "@bbcmtd Wholesale Markets ablaze http://t.co/lHYXEOHY6C\n",
            "------------\n",
            "We always try to bring the heavy. #metal #RT http://t.co/YAo1e0xngw\n",
            "------------\n",
            "#AFRICANBAZE: Breaking news:Nigeria flag set ablaze in Aba. http://t.co/2nndBGwyEi\n",
            "------------\n",
            "Crying out for more! Set me ablaze\n",
            "------------\n",
            "On plus side LOOK AT THE SKY LAST NIGHT IT WAS ABLAZE http://t.co/qqsmshaJ3N\n",
            "------------\n",
            "@PhDSquares #mufc they've built so much hype around new acquisitions but I doubt they will set the EPL ablaze this season.\n",
            "------------\n",
            "INEC Office in Abia Set Ablaze - http://t.co/3ImaomknnA\n",
            "------------\n",
            "Barbados #Bridgetown JAMAICA ÛÒ Two cars set ablaze: SANTA CRUZ ÛÓ Head of the St Elizabeth Police Superintende...  http://t.co/wDUEaj8Q4J\n",
            "------------\n",
            "Ablaze for you Lord :D\n",
            "------------\n",
            "Check these out: http://t.co/rOI2NSmEJJ http://t.co/3Tj8ZjiN21 http://t.co/YDUiXEfIpE http://t.co/LxTjc87KLS #nsfw\n",
            "------------\n",
            "on the outside you're ablaze and alive\n",
            "but you're dead inside\n",
            "------------\n",
            "Had an awesome time visiting the CFC head office the ancop site and ablaze. Thanks to Tita Vida for taking care of us ??\n",
            "------------\n",
            "SOOOO PUMPED FOR ABLAZE ???? @southridgelife\n",
            "------------\n",
            "I wanted to set Chicago ablaze with my preaching... But not my hotel! http://t.co/o9qknbfOFX\n",
            "------------\n",
            "I gained 3 followers in the last week. You? Know your stats and grow with http://t.co/TIyUliF5c6\n",
            "------------\n",
            "How the West was burned: Thousands of wildfires ablaze in California alone http://t.co/vl5TBR3wbr\n",
            "------------\n",
            "Building the perfect tracklist to life leave the streets ablaze\n",
            "------------\n",
            "Check these out: http://t.co/rOI2NSmEJJ http://t.co/3Tj8ZjiN21 http://t.co/YDUiXEfIpE http://t.co/LxTjc87KLS #nsfw\n",
            "------------\n",
            "First night with retainers in. It's quite weird. Better get used to it; I have to wear them every single night for the next year at least.\n",
            "------------\n"
          ],
          "name": "stdout"
        }
      ]
    },
    {
      "cell_type": "code",
      "metadata": {
        "id": "mMp_f0CcRKmv"
      },
      "source": [
        "puncts = [',', '.', '\"', ':', ')', '(', '-', '!', '?', '|', ';', \"'\", '$', '&', '/', \n",
        "          '[', ']', '>', '%', '=', '#', '*', '+', '\\\\', '•',  '~', '@', '£', '·', '_', \n",
        "          '{', '}', '©', '^', '®', '`',  '<', '→', '°', '€', '™', '›',  '♥', '←', '×',\n",
        "          '§', '″', '′', 'Â', '█', '½', 'à', '…', '“', '★', '”', '–', '●', 'â', '►', '−', \n",
        "          '¢', '²', '¬', '░', '¶', '↑', '±', '¿', '▾', '═', '¦', '║', '―', '¥', '▓', '—', \n",
        "          '‹', '─', '▒', '：', '¼', '⊕', '▼', '▪', '†', '■', '’', '▀', '¨', '▄', '♫', '☆', \n",
        "          'é', '¯', '♦', '¤', '▲', 'è', '¸', '¾', 'Ã', '⋅', '‘', '∞', '∙', '）', '↓', '、', \n",
        "          '│', '（', '»', '，', '♪', '╩', '╚', '³', '・', '╦', '╣', '╔', '╗', '▬', '❤', 'ï', \n",
        "          'Ø', '¹', '≤', '‡', '√', ]\n",
        "\n",
        "\n",
        "def clean_text(x):\n",
        "    x = str(x)\n",
        "    for punct in puncts:\n",
        "        x = x.replace(punct, f' {punct} ')\n",
        "    return x\n",
        "\n",
        "\n",
        "def clean_numbers(x):\n",
        "    x = re.sub('[0-9]{5, }', '#####', x)\n",
        "    x = re.sub('[0-9]{4}', '####', x)\n",
        "    x = re.sub('[0-9]{3}', '###', x)\n",
        "    x = re.sub('[0-9]{2}', '##', x)\n",
        "    return x"
      ],
      "execution_count": 87,
      "outputs": []
    },
    {
      "cell_type": "code",
      "metadata": {
        "id": "0TdgvuTORKmw"
      },
      "source": [
        "mispell_dict = {\"aren't\": \"are not\", \"can't\": \"cannot\", \n",
        "                \"couldn't\": \"could not\", \"didn't\": \"did not\",\n",
        "                \"doesn't\": \"does not\", \"don't\": \"do not\", \n",
        "                \"hadn't\": \"had not\", \"hasn't\": \"has not\",\n",
        "                \"haven't\": \"have not\", \"he'd\": \"he would\", \n",
        "                \"he'll\": \"he will\", \"he's\": \"he is\",\n",
        "                \"i'd\": \"I would\", \"i'd\": \"I had\", \"i'll\": \n",
        "                \"I will\", \"i'm\" : \"I am\", \"isn't\": \"is not\",\n",
        "                \"it's\": \"it is\", \"it'll\": \"it will\", \n",
        "                \"i've\" : \"I have\", \"let's\": \"let us\", \n",
        "                \"mightn't\": \"might not\", \"mustn't\": \"must not\", \n",
        "                \"shan't\" : \"shall not\", \"she'd\": \"she would\",\n",
        "                \"she'll\": \"she will\", \"she's\": \"she is\", \n",
        "                \"shouldn't\": \"should not\", \"that's\": \"that is\", \n",
        "                \"there's\": \"there is\",\"they'd\": \"they would\", \n",
        "                \"they'll\": \"they will\", \"they're\": \"they are\",\n",
        "                \"they've\": \"they have\", \"we'd\": \"we would\", \n",
        "                \"we're\": \"we are\", \"weren't\": \"were not\",\n",
        "                \"we've\": \"we have\", \"what'll\": \"what will\", \n",
        "                \"what're\": \"what are\", \"what's\": \"what is\", \n",
        "                \"what've\": \"what have\", \"where's\": \"where is\", \n",
        "                \"who'd\": \"who would\", \"who'll\": \"who will\",\n",
        "                \"who're\": \"who are\", \"who's\": \"who is\", \n",
        "                \"who've\": \"who have\", \"won't\": \"will not\",\n",
        "                \"wouldn't\" : \"would not\", \"you'd\": \"you would\", \n",
        "                \"you'll\": \"you will\", \"you're\": \"you are\",\n",
        "                \"you've\": \"you have\", \"'re\": \" are\", \n",
        "                \"wasn't\": \"was not\", \"we'll\": \" will\", \n",
        "                \"didn't\": \"did not\", \"tryin'\": \"trying\", \n",
        "                \"colour\": \"color\", \"centre\": \"center\",\n",
        "                \"didnt\": \"did not\", \"doesnt\": \"does not\",\n",
        "                \"isnt\": \"is not\", \"shouldnt\": \"should not\",\n",
        "                \"favourite\": \"favorite\", \"travelling\": \"traveling\",\n",
        "                \"counselling\": \"counseling\", \"theatre\": \"theater\",\n",
        "                \"cancelled\": \"canceled\", \"labour\": \"labor\",\n",
        "                \"organisation\": \"organization\", \"wwii\": \"world war 2\",\n",
        "                \"citicise\": \"criticize\", \"instagram\": \"social medium\",\n",
        "                \"whatsapp\": \"social medium\", \"snapchat\": \"social medium\"}\n",
        "\n",
        "\n",
        "def get_mispell(mispell_dict):\n",
        "    mispell_re = re.compile('(%s)' % '|'.join(mispell_dict.keys()))\n",
        "    return mispell_dict, mispell_re\n",
        "\n",
        "def replace_typical_misspell(text):\n",
        "    def replace(match):\n",
        "        return mispellings[match.group(0)]\n",
        "    return mispellings_re.sub(replace, text)"
      ],
      "execution_count": 88,
      "outputs": []
    },
    {
      "cell_type": "code",
      "metadata": {
        "colab": {
          "base_uri": "https://localhost:8080/"
        },
        "id": "r1SMUsDYRKmy",
        "outputId": "71f611cb-a62a-4c4f-ccc0-1c84bc0d075a"
      },
      "source": [
        "mispellings, mispellings_re = get_mispell(mispell_dict)\n",
        "mispellings, mispellings_re"
      ],
      "execution_count": 89,
      "outputs": [
        {
          "output_type": "execute_result",
          "data": {
            "text/plain": [
              "({\"'re\": ' are',\n",
              "  \"aren't\": 'are not',\n",
              "  \"can't\": 'cannot',\n",
              "  'cancelled': 'canceled',\n",
              "  'centre': 'center',\n",
              "  'citicise': 'criticize',\n",
              "  'colour': 'color',\n",
              "  \"couldn't\": 'could not',\n",
              "  'counselling': 'counseling',\n",
              "  \"didn't\": 'did not',\n",
              "  'didnt': 'did not',\n",
              "  \"doesn't\": 'does not',\n",
              "  'doesnt': 'does not',\n",
              "  \"don't\": 'do not',\n",
              "  'favourite': 'favorite',\n",
              "  \"hadn't\": 'had not',\n",
              "  \"hasn't\": 'has not',\n",
              "  \"haven't\": 'have not',\n",
              "  \"he'd\": 'he would',\n",
              "  \"he'll\": 'he will',\n",
              "  \"he's\": 'he is',\n",
              "  \"i'd\": 'I had',\n",
              "  \"i'll\": 'I will',\n",
              "  \"i'm\": 'I am',\n",
              "  \"i've\": 'I have',\n",
              "  'instagram': 'social medium',\n",
              "  \"isn't\": 'is not',\n",
              "  'isnt': 'is not',\n",
              "  \"it'll\": 'it will',\n",
              "  \"it's\": 'it is',\n",
              "  'labour': 'labor',\n",
              "  \"let's\": 'let us',\n",
              "  \"mightn't\": 'might not',\n",
              "  \"mustn't\": 'must not',\n",
              "  'organisation': 'organization',\n",
              "  \"shan't\": 'shall not',\n",
              "  \"she'd\": 'she would',\n",
              "  \"she'll\": 'she will',\n",
              "  \"she's\": 'she is',\n",
              "  \"shouldn't\": 'should not',\n",
              "  'shouldnt': 'should not',\n",
              "  'snapchat': 'social medium',\n",
              "  \"that's\": 'that is',\n",
              "  'theatre': 'theater',\n",
              "  \"there's\": 'there is',\n",
              "  \"they'd\": 'they would',\n",
              "  \"they'll\": 'they will',\n",
              "  \"they're\": 'they are',\n",
              "  \"they've\": 'they have',\n",
              "  'travelling': 'traveling',\n",
              "  \"tryin'\": 'trying',\n",
              "  \"wasn't\": 'was not',\n",
              "  \"we'd\": 'we would',\n",
              "  \"we'll\": ' will',\n",
              "  \"we're\": 'we are',\n",
              "  \"we've\": 'we have',\n",
              "  \"weren't\": 'were not',\n",
              "  \"what'll\": 'what will',\n",
              "  \"what're\": 'what are',\n",
              "  \"what's\": 'what is',\n",
              "  \"what've\": 'what have',\n",
              "  'whatsapp': 'social medium',\n",
              "  \"where's\": 'where is',\n",
              "  \"who'd\": 'who would',\n",
              "  \"who'll\": 'who will',\n",
              "  \"who're\": 'who are',\n",
              "  \"who's\": 'who is',\n",
              "  \"who've\": 'who have',\n",
              "  \"won't\": 'will not',\n",
              "  \"wouldn't\": 'would not',\n",
              "  'wwii': 'world war 2',\n",
              "  \"you'd\": 'you would',\n",
              "  \"you'll\": 'you will',\n",
              "  \"you're\": 'you are',\n",
              "  \"you've\": 'you have'},\n",
              " re.compile(r\"(aren't|can't|couldn't|didn't|doesn't|don't|hadn't|hasn't|haven't|he'd|he'll|he's|i'd|i'll|i'm|isn't|it's|it'll|i've|let's|mightn't|mustn't|shan't|she'd|she'll|she's|shouldn't|that's|there's|they'd|they'll|they're|they've|we'd|we're|weren't|we've|what'll|what're|what's|what've|where's|who'd|who'll|who're|who's|who've|won't|wouldn't|you'd|you'll|you're|you've|'re|wasn't|we'll|tryin'|colour|centre|didnt|doesnt|isnt|shouldnt|favourite|travelling|counselling|theatre|cancelled|labour|organisation|wwii|citicise|instagram|whatsapp|snapchat)\",\n",
              " re.UNICODE))"
            ]
          },
          "metadata": {
            "tags": []
          },
          "execution_count": 89
        }
      ]
    },
    {
      "cell_type": "code",
      "metadata": {
        "id": "v1lD-WVwRKmz"
      },
      "source": [
        "def remove_emoji(sentence):\n",
        "    emoji_pattern = re.compile(\"[\"\n",
        "                           u\"\\U0001F600-\\U0001F64F\"  # emoticons\n",
        "                           u\"\\U0001F300-\\U0001F5FF\"  # symbols & pictographs\n",
        "                           u\"\\U0001F680-\\U0001F6FF\"  # transport & map symbols\n",
        "                           u\"\\U0001F1E0-\\U0001F1FF\"  # flags (iOS)\n",
        "                           u\"\\U00002702-\\U000027B0\"\n",
        "                           u\"\\U000024C2-\\U0001F251\"\n",
        "                           \"]+\", flags=re.UNICODE)\n",
        "    \n",
        "    return emoji_pattern.sub(r'', sentence)\n",
        "\n",
        "def remove_stopwords(sentence):\n",
        "    words = sentence.split()\n",
        "    words = [word for word in words if word not in stopwords.words('english')]\n",
        "    \n",
        "    return ' '.join(words)"
      ],
      "execution_count": 90,
      "outputs": []
    },
    {
      "cell_type": "code",
      "metadata": {
        "id": "MCHNRib6RKm0"
      },
      "source": [
        "stemmer = SnowballStemmer('english')\n",
        "wl = WordNetLemmatizer()\n",
        "def lemmatize_words(sentence):\n",
        "    words = sentence.split()\n",
        "    words = [wl.lemmatize(word) for word in words]\n",
        "    return ' '.join(words)"
      ],
      "execution_count": 91,
      "outputs": []
    },
    {
      "cell_type": "code",
      "metadata": {
        "id": "L-uxD1OlRKm2"
      },
      "source": [
        "# Clean the text\n",
        "train[\"text\"] = train[\"text\"].apply(lambda x: clean_text(x.lower()))\n",
        "test[\"text\"] = test[\"text\"].apply(lambda x: clean_text(x.lower()))\n",
        "\n",
        "# Clean numbers\n",
        "train[\"text\"] = train[\"text\"].apply(lambda x: clean_numbers(x))\n",
        "test[\"text\"] = test[\"text\"].apply(lambda x: clean_numbers(x))\n",
        "\n",
        "# Clean spellings\n",
        "train[\"text\"] = train[\"text\"].apply(lambda x: replace_typical_misspell(x))\n",
        "test[\"text\"] = test[\"text\"].apply(lambda x: replace_typical_misspell(x))\n",
        "\n",
        "# Clear emojis\n",
        "train[\"text\"] = train[\"text\"].apply(lambda x: remove_emoji(x))\n",
        "test[\"text\"] = test[\"text\"].apply(lambda x: remove_emoji(x))\n",
        "\n",
        "# Stopwords\n",
        "train[\"text\"] = train[\"text\"].apply(lambda x: remove_stopwords(x))\n",
        "test[\"text\"] = test[\"text\"].apply(lambda x: remove_stopwords(x))\n",
        "\n",
        "# Lemmatization\n",
        "train[\"text\"] = train[\"text\"].apply(lambda x: lemmatize_words(x))\n",
        "test[\"text\"] = test[\"text\"].apply(lambda x: lemmatize_words(x))"
      ],
      "execution_count": 92,
      "outputs": []
    },
    {
      "cell_type": "code",
      "metadata": {
        "colab": {
          "base_uri": "https://localhost:8080/"
        },
        "id": "KlWrc43ERKm3",
        "outputId": "14f3893d-4c20-4bc5-9e95-dec5d3d2ec3a"
      },
      "source": [
        "for i in range(50):\n",
        "    print(train['text'][i])\n",
        "    print(\"------------\")"
      ],
      "execution_count": 93,
      "outputs": [
        {
          "output_type": "stream",
          "text": [
            "deed reason # earthquake may allah forgive u\n",
            "------------\n",
            "forest fire near la ronge sask . canada\n",
            "------------\n",
            "resident asked ' shelter place ' notified officer . evacuation shelter place order expected\n",
            "------------\n",
            "## , ### people receive # wildfire evacuation order california\n",
            "------------\n",
            "got sent photo ruby # alaska smoke # wildfire pours school\n",
            "------------\n",
            "# rockyfire update = > california hwy . ## closed direction due lake county fire - # cafire # wildfire\n",
            "------------\n",
            "# flood # disaster heavy rain cause flash flooding street manitou , colorado spring area\n",
            "------------\n",
            "' top hill see fire wood . . .\n",
            "------------\n",
            "' emergency evacuation happening building across street\n",
            "------------\n",
            "' afraid tornado coming area . . .\n",
            "------------\n",
            "three people died heat wave far\n",
            "------------\n",
            "haha south tampa getting flooded hah - wait second live south tampa gonna gonna fvck # flooding\n",
            "------------\n",
            "# raining # flooding # florida # tampabay # tampa ## ## day . ' lost count\n",
            "------------\n",
            "# flood bago myanmar # arrived bago\n",
            "------------\n",
            "damage school bus ## multi car crash # breaking\n",
            "------------\n",
            "' man ?\n",
            "------------\n",
            "love fruit\n",
            "------------\n",
            "summer lovely\n",
            "------------\n",
            "car fast\n",
            "------------\n",
            "goooooooaaaaaal ! ! ! ! ! !\n",
            "------------\n",
            "ridiculous . . . .\n",
            "------------\n",
            "london cool ; )\n",
            "------------\n",
            "love skiing\n",
            "------------\n",
            "wonderful day !\n",
            "------------\n",
            "looooool\n",
            "------------\n",
            "way . . . ' eat shit\n",
            "------------\n",
            "nyc last week !\n",
            "------------\n",
            "love girlfriend\n",
            "------------\n",
            "cooool : )\n",
            "------------\n",
            "like pasta ?\n",
            "------------\n",
            "end !\n",
            "------------\n",
            "@ bbcmtd wholesale market ablaze http : / / . co / lhyxeohy6c\n",
            "------------\n",
            "always try bring heavy . # metal # rt http : / / . co / yao1e0xngw\n",
            "------------\n",
            "# africanbaze : breaking news : nigeria flag set ablaze aba . http : / / . co / 2nndbgwyei\n",
            "------------\n",
            "cry ! set ablaze\n",
            "------------\n",
            "plus side look sky last night ablaze http : / / . co / qqsmshaj3n\n",
            "------------\n",
            "@ phdsquares # mufc ' built much hype around new acquisition doubt set epl ablaze season .\n",
            "------------\n",
            "inec office abia set ablaze - http : / / . co / 3imaomknna\n",
            "------------\n",
            "barbados # bridgetown jamaica ûò two car set ablaze : santa cruz ûó head st elizabeth police superintende . . . http : / / . co / wdueaj8q4j\n",
            "------------\n",
            "ablaze lord :\n",
            "------------\n",
            "check : http : / / . co / roi2nsmejj http : / / . co / 3tj8zjin## http : / / . co / yduixefipe http : / / . co / lxtjc##kls # nsfw\n",
            "------------\n",
            "outside ' ablaze alive ' dead inside\n",
            "------------\n",
            "awesome time visiting cfc head office ancop site ablaze . thanks tita vida taking care u ? ?\n",
            "------------\n",
            "soooo pumped ablaze ? ? ? ? @ southridgelife\n",
            "------------\n",
            "wanted set chicago ablaze preaching . . . hotel ! http : / / . co / o9qknbfofx\n",
            "------------\n",
            "gained 3 follower last week . ? know stats grow http : / / . co / tiyulif5c6\n",
            "------------\n",
            "west burned : thousand wildfire ablaze california alone http : / / . co / vl5tbr3wbr\n",
            "------------\n",
            "building perfect tracklist life leave street ablaze\n",
            "------------\n",
            "check : http : / / . co / roi2nsmejj http : / / . co / 3tj8zjin## http : / / . co / yduixefipe http : / / . co / lxtjc##kls # nsfw\n",
            "------------\n",
            "first night retainer . ' quite weird . better get used ; wear every single night next year least .\n",
            "------------\n"
          ],
          "name": "stdout"
        }
      ]
    },
    {
      "cell_type": "code",
      "metadata": {
        "colab": {
          "base_uri": "https://localhost:8080/"
        },
        "id": "ZKev9fdaRKm6",
        "outputId": "86adedf9-d4e7-4732-ebdd-fe46efe45d84"
      },
      "source": [
        "print(train.head())\n",
        "print(\"\\n================================================================\\n\")\n",
        "print(test.head())"
      ],
      "execution_count": 94,
      "outputs": [
        {
          "output_type": "stream",
          "text": [
            "   id                                               text  target\n",
            "0   1       deed reason # earthquake may allah forgive u       1\n",
            "1   4            forest fire near la ronge sask . canada       1\n",
            "2   5  resident asked ' shelter place ' notified offi...       1\n",
            "3   6  ## , ### people receive # wildfire evacuation ...       1\n",
            "4   7  got sent photo ruby # alaska smoke # wildfire ...       1\n",
            "\n",
            "================================================================\n",
            "\n",
            "   id                                               text\n",
            "0   0                        happened terrible car crash\n",
            "1   2  heard # earthquake different city , stay safe ...\n",
            "2   3  forest fire spot pond , goose fleeing across s...\n",
            "3   9         apocalypse lighting . # spokane # wildfire\n",
            "4  11              typhoon soudelor kill ## china taiwan\n"
          ],
          "name": "stdout"
        }
      ]
    },
    {
      "cell_type": "code",
      "metadata": {
        "id": "G-9vXdfqrXkK"
      },
      "source": [
        "def get_iterator(dataset, batch_size, train=True,\n",
        "                 shuffle=True, repeat=False):\n",
        "    \n",
        "    device = torch.device('cuda:0' if torch.cuda.is_available()\n",
        "                          else 'cpu')\n",
        "    \n",
        "    dataset_iter = legacy.data.Iterator(\n",
        "        dataset, batch_size=batch_size, device=device,\n",
        "        train=train, shuffle=shuffle, repeat=repeat,\n",
        "        sort=False\n",
        "    )\n",
        "    \n",
        "    return dataset_iter"
      ],
      "execution_count": 95,
      "outputs": []
    },
    {
      "cell_type": "code",
      "metadata": {
        "id": "74q9Jx0N5DA8"
      },
      "source": [
        "def prepare_csv(df_train, df_test, seed=27, val_ratio=0.3):\n",
        "    idx = np.arange(df_train.shape[0])\n",
        "    \n",
        "    np.random.seed(seed)\n",
        "    np.random.shuffle(idx)\n",
        "    \n",
        "    val_size = int(len(idx) * val_ratio)\n",
        "    \n",
        "    if not os.path.exists('cache'):\n",
        "        os.makedirs('cache')\n",
        "    \n",
        "    df_train.iloc[idx[val_size:], :][['id', 'target', 'text']].to_csv(\n",
        "        'cache/dataset_train.csv', index=False\n",
        "    )\n",
        "    \n",
        "    df_train.iloc[idx[:val_size], :][['id', 'target', 'text']].to_csv(\n",
        "        'cache/dataset_val.csv', index=False\n",
        "    )\n",
        "    \n",
        "    df_test[['id', 'text']].to_csv('cache/dataset_test.csv',\n",
        "                   index=False)\n"
      ],
      "execution_count": 104,
      "outputs": []
    },
    {
      "cell_type": "code",
      "metadata": {
        "id": "11M5W45Sr3OT"
      },
      "source": [
        "import logging\n",
        "from copy import deepcopy\n",
        "import random\n",
        "import os\n",
        "\n",
        "SEED=12\n",
        "LOGGER = logging.getLogger('tweets_dataset')\n",
        "\n",
        "def get_dataset(fix_length=100, lower=False, vectors=None):\n",
        "    \n",
        "    if vectors is not None:\n",
        "        lower=True\n",
        "        \n",
        "    LOGGER.debug('Preparing CSV files...')\n",
        "    prepare_csv(train, test)\n",
        "    \n",
        "    TEXT = legacy.data.Field(sequential=True, \n",
        "                      lower=True, \n",
        "                      include_lengths=True, \n",
        "                      batch_first=True, \n",
        "                      fix_length=25)\n",
        "\n",
        "    LABEL = legacy.data.Field(use_vocab=True,\n",
        "                       sequential=False,\n",
        "                       dtype=torch.float16)\n",
        "\n",
        "    ID = legacy.data.Field(use_vocab=False,\n",
        "                    sequential=False,\n",
        "                    dtype=torch.float16)\n",
        "    \n",
        "    LOGGER.debug('Reading train csv files...')\n",
        "    \n",
        "    train_temp, val_temp = legacy.data.TabularDataset.splits(\n",
        "        path='cache/', format='csv', skip_header=True,\n",
        "        train='dataset_train.csv', validation='dataset_val.csv',\n",
        "        fields=[\n",
        "            ('id', ID),\n",
        "            ('target', LABEL),\n",
        "            ('text', TEXT)\n",
        "        ]\n",
        "    )\n",
        "    \n",
        "    LOGGER.debug('Reading test csv file...')\n",
        "    \n",
        "    test_temp = legacy.data.TabularDataset(\n",
        "        path='cache/dataset_test.csv', format='csv',\n",
        "        skip_header=True,\n",
        "        fields=[\n",
        "            ('id', ID),\n",
        "            ('text', TEXT)\n",
        "        ]\n",
        "    )\n",
        "    \n",
        "    LOGGER.debug('Building vocabulary...')\n",
        "    \n",
        "    TEXT.build_vocab(\n",
        "        train_temp, val_temp, test_temp,\n",
        "        max_size=20000,\n",
        "        min_freq=10,\n",
        "        vectors=GloVe(name='6B', dim=300)  # We use it for getting vocabulary of words\n",
        "    )\n",
        "\n",
        "    LABEL.build_vocab(\n",
        "        train_temp\n",
        "    )\n",
        "\n",
        "    ID.build_vocab(\n",
        "        train_temp, val_temp, test_temp\n",
        "    )\n",
        "\n",
        "    word_embeddings = TEXT.vocab.vectors\n",
        "    vocab_size = len(TEXT.vocab)\n",
        "    \n",
        "    train_iter = get_iterator(train_temp, batch_size=32, \n",
        "                              train=True, shuffle=True,\n",
        "                              repeat=False)\n",
        "\n",
        "    val_iter = get_iterator(val_temp, batch_size=32, \n",
        "                            train=True, shuffle=True,\n",
        "                            repeat=False)\n",
        "\n",
        "    test_iter = get_iterator(test_temp, batch_size=32, \n",
        "                             train=False, shuffle=False,\n",
        "                             repeat=False)    \n",
        "    \n",
        "    LOGGER.debug('Done preparing the datasets')\n",
        "    \n",
        "    return TEXT, vocab_size, word_embeddings, train_iter, val_iter, test_iter"
      ],
      "execution_count": 111,
      "outputs": []
    },
    {
      "cell_type": "code",
      "metadata": {
        "id": "bSJvmScisdf-"
      },
      "source": [
        "TEXT, vocab_size, word_embeddings, train_iter, val_iter, test_iter = get_dataset()"
      ],
      "execution_count": null,
      "outputs": []
    },
    {
      "cell_type": "code",
      "metadata": {
        "id": "CILUHDVg9qK4"
      },
      "source": [
        "class LSTMClassifier(torch.nn.Module):\n",
        "    def __init__(self, vocab_size, output_size, embedding_dim, hidden_dim, n_layers, weights):\n",
        "        super(LSTMClassifier, self).__init__()\n",
        "        \n",
        "        self.output_size = output_size\n",
        "        self.n_layers = n_layers\n",
        "        self.hidden_dim = hidden_dim\n",
        "        \n",
        "        self.word_embeddings = torch.nn.Embedding(vocab_size,\n",
        "                                                  embedding_dim)\n",
        "        self.word_embeddings.weight.data.copy_(weights)\n",
        "        \n",
        "        self.dropout_1 = torch.nn.Dropout(0.3)\n",
        "        self.lstm = torch.nn.LSTM(embedding_dim,\n",
        "                                  hidden_dim,\n",
        "                                  n_layers,\n",
        "                                  dropout=0.3,\n",
        "                                  batch_first=True)\n",
        "        \n",
        "        self.dropout_2 = torch.nn.Dropout(0.3)\n",
        "        self.label_layer = torch.nn.Linear(hidden_dim, output_size)\n",
        "        \n",
        "        self.act = torch.nn.Sigmoid()\n",
        "        \n",
        "    def forward(self, x, hidden):\n",
        "        batch_size = x.size(0)\n",
        "        \n",
        "        x = self.word_embeddings(x)\n",
        "        \n",
        "        x = self.dropout_1(x)\n",
        "        \n",
        "        lstm_out, hidden = self.lstm(x, hidden)\n",
        "                \n",
        "        lstm_out = lstm_out.contiguous().view(-1, self.hidden_dim)\n",
        "        \n",
        "        out = self.dropout_2(lstm_out)\n",
        "        out = self.label_layer(out)    \n",
        "        \n",
        "        out = out.view(batch_size, -1, self.output_size)\n",
        "        out = out[:, -1, :]\n",
        "\n",
        "        out = self.act(out)\n",
        "        \n",
        "        return out, hidden\n",
        "    \n",
        "    def init_hidden(self, batch_size):\n",
        "        weight = next(self.parameters()).data\n",
        "        \n",
        "        hidden = (weight.new(self.n_layers, batch_size, self.hidden_dim).zero_().to(device),\n",
        "                  weight.new(self.n_layers, batch_size, self.hidden_dim).zero_().to(device))\n",
        "        \n",
        "        return hidden"
      ],
      "execution_count": 117,
      "outputs": []
    },
    {
      "cell_type": "code",
      "metadata": {
        "id": "hmPBFS2lArLJ"
      },
      "source": [
        "def train_model(model, train_iter, val_iter, optim, loss, num_epochs, batch_size=32):\n",
        "    h = model.init_hidden(batch_size)\n",
        "    \n",
        "    clip = 5\n",
        "    val_loss_min = np.Inf\n",
        "    \n",
        "    total_train_epoch_loss = list()\n",
        "    total_train_epoch_acc = list()\n",
        "        \n",
        "    total_val_epoch_loss = list()\n",
        "    total_val_epoch_acc = list()\n",
        "    \n",
        "    device = torch.device('cuda:0' if torch.cuda.is_available()\n",
        "                           else 'cpu')\n",
        "    \n",
        "    for epoch in range(num_epochs):\n",
        "\n",
        "        model.train()\n",
        "        \n",
        "        train_epoch_loss = list()\n",
        "        train_epoch_acc = list()\n",
        "        \n",
        "        val_epoch_loss = list()\n",
        "        val_epoch_acc = list()\n",
        "        \n",
        "        for idx, batch in enumerate(train_iter):\n",
        "            h = tuple([e.data for e in h])\n",
        "\n",
        "            text = batch.text[0]\n",
        "            target = batch.target\n",
        "            target = target - 1\n",
        "            target = target.type(torch.LongTensor)\n",
        "\n",
        "            text = text.to(device)\n",
        "            target = target.to(device)\n",
        "\n",
        "            optim.zero_grad()\n",
        "            \n",
        "            if text.size()[0] is not batch_size:\n",
        "                continue\n",
        "            \n",
        "            prediction, h = model(text, h)\n",
        "                \n",
        "            loss_train = loss(prediction.squeeze(), target)\n",
        "            loss_train.backward()\n",
        "\n",
        "            num_corrects = (torch.max(prediction, 1)[1].\n",
        "                                view(target.size()).data == target.data).float().sum()\n",
        "\n",
        "            acc = 100.0 * num_corrects / len(batch)\n",
        "\n",
        "            train_epoch_loss.append(loss_train.item())\n",
        "            train_epoch_acc.append(acc.item())\n",
        "            \n",
        "            torch.nn.utils.clip_grad_norm_(model.parameters(), 5)\n",
        "            \n",
        "            optim.step()\n",
        "    \n",
        "        print(f'Train Epoch: {epoch}, Training Loss: {np.mean(train_epoch_loss):.4f}, Training Accuracy: {np.mean(train_epoch_acc): .2f}%')\n",
        "\n",
        "        model.eval()\n",
        "\n",
        "        with torch.no_grad():\n",
        "            for idx, batch in enumerate(val_iter):\n",
        "                val_h = tuple([e.data for e in h])\n",
        "\n",
        "                text = batch.text[0]\n",
        "                target = batch.target\n",
        "                target = target - 1\n",
        "                target = target.type(torch.LongTensor)\n",
        "                \n",
        "                text = text.to(device)\n",
        "                target = target.to(device)\n",
        "                \n",
        "                if text.size()[0] is not batch_size:\n",
        "                    continue\n",
        "\n",
        "                prediction, h = model(text, h)\n",
        "                loss_val = loss(prediction.squeeze(), target)\n",
        "\n",
        "                num_corrects = (torch.max(prediction, 1)[1].\n",
        "                                view(target.size()).data == target.data).float().sum()\n",
        "\n",
        "                acc = 100.0 * num_corrects / len(batch)\n",
        "\n",
        "                val_epoch_loss.append(loss_val.item())\n",
        "                val_epoch_acc.append(acc.item())\n",
        "                \n",
        "            print(f'Vadlidation Epoch: {epoch}, Training Loss: {np.mean(val_epoch_loss):.4f}, Training Accuracy: {np.mean(val_epoch_acc): .2f}%')\n",
        "                \n",
        "            if np.mean(val_epoch_loss) <= val_loss_min:\n",
        "#                 torch.save(model.state_dict(), 'state_dict.pth')\n",
        "                print('Validation loss decreased ({:.6f} --> {:.6f})'.\n",
        "                      format(val_loss_min, np.mean(val_epoch_loss)))\n",
        "                \n",
        "                val_loss_min = np.mean(val_epoch_loss)\n",
        "                \n",
        "        total_train_epoch_loss.append(np.mean(train_epoch_loss))\n",
        "        total_train_epoch_acc.append(np.mean(train_epoch_acc))\n",
        "    \n",
        "        total_val_epoch_loss.append(np.mean(val_epoch_loss))\n",
        "        total_val_epoch_acc.append(np.mean(val_epoch_acc))\n",
        "    \n",
        "    return (total_train_epoch_loss, total_train_epoch_acc,\n",
        "            total_val_epoch_loss, total_val_epoch_acc)"
      ],
      "execution_count": 123,
      "outputs": []
    },
    {
      "cell_type": "code",
      "metadata": {
        "colab": {
          "base_uri": "https://localhost:8080/"
        },
        "id": "GuZx9maQAuE4",
        "outputId": "1190212b-3a82-473b-db72-ed30c732468e"
      },
      "source": [
        "lr = 1e-4\n",
        "batch_size = 32\n",
        "output_size = 2\n",
        "hidden_size = 128\n",
        "embedding_length = 300\n",
        "\n",
        "model = LSTMClassifier(vocab_size=vocab_size, \n",
        "                       output_size=output_size, \n",
        "                       embedding_dim=embedding_length,\n",
        "                       hidden_dim=hidden_size,\n",
        "                       n_layers=2,\n",
        "                       weights=word_embeddings\n",
        ")\n",
        "\n",
        "device = torch.device('cuda:0' if torch.cuda.is_available()\n",
        "                      else 'cpu')\n",
        "    \n",
        "model.to(device)\n",
        "optim = torch.optim.Adam(model.parameters(), lr=lr)\n",
        "loss = torch.nn.CrossEntropyLoss()\n",
        "    \n",
        "train_loss, train_acc, val_loss, val_acc = train_model(model=model,\n",
        "                                                       train_iter=train_iter,\n",
        "                                                       val_iter=val_iter,\n",
        "                                                       optim=optim,\n",
        "                                                       loss=loss,\n",
        "                                                       num_epochs=20,\n",
        "                                                       batch_size=batch_size)"
      ],
      "execution_count": 124,
      "outputs": [
        {
          "output_type": "stream",
          "text": [
            "Train Epoch: 0, Training Loss: 0.6742, Training Accuracy:  59.07%\n",
            "Vadlidation Epoch: 0, Training Loss: 0.6501, Training Accuracy:  62.10%\n",
            "Validation loss decreased (inf --> 0.650052)\n",
            "Train Epoch: 1, Training Loss: 0.6157, Training Accuracy:  67.85%\n",
            "Vadlidation Epoch: 1, Training Loss: 0.6119, Training Accuracy:  69.59%\n",
            "Validation loss decreased (0.650052 --> 0.611857)\n",
            "Train Epoch: 2, Training Loss: 0.5690, Training Accuracy:  74.28%\n",
            "Vadlidation Epoch: 2, Training Loss: 0.5662, Training Accuracy:  74.56%\n",
            "Validation loss decreased (0.611857 --> 0.566180)\n",
            "Train Epoch: 3, Training Loss: 0.5414, Training Accuracy:  76.64%\n",
            "Vadlidation Epoch: 3, Training Loss: 0.5443, Training Accuracy:  76.72%\n",
            "Validation loss decreased (0.566180 --> 0.544306)\n",
            "Train Epoch: 4, Training Loss: 0.5266, Training Accuracy:  78.24%\n",
            "Vadlidation Epoch: 4, Training Loss: 0.5384, Training Accuracy:  77.20%\n",
            "Validation loss decreased (0.544306 --> 0.538442)\n",
            "Train Epoch: 5, Training Loss: 0.5092, Training Accuracy:  80.05%\n",
            "Vadlidation Epoch: 5, Training Loss: 0.5318, Training Accuracy:  77.20%\n",
            "Validation loss decreased (0.538442 --> 0.531787)\n",
            "Train Epoch: 6, Training Loss: 0.5067, Training Accuracy:  80.21%\n",
            "Vadlidation Epoch: 6, Training Loss: 0.5268, Training Accuracy:  77.68%\n",
            "Validation loss decreased (0.531787 --> 0.526806)\n",
            "Train Epoch: 7, Training Loss: 0.5020, Training Accuracy:  80.44%\n",
            "Vadlidation Epoch: 7, Training Loss: 0.5252, Training Accuracy:  78.43%\n",
            "Validation loss decreased (0.526806 --> 0.525165)\n",
            "Train Epoch: 8, Training Loss: 0.4975, Training Accuracy:  81.12%\n",
            "Vadlidation Epoch: 8, Training Loss: 0.5228, Training Accuracy:  78.30%\n",
            "Validation loss decreased (0.525165 --> 0.522841)\n",
            "Train Epoch: 9, Training Loss: 0.4935, Training Accuracy:  81.70%\n",
            "Vadlidation Epoch: 9, Training Loss: 0.5284, Training Accuracy:  77.82%\n",
            "Train Epoch: 10, Training Loss: 0.4910, Training Accuracy:  81.81%\n",
            "Vadlidation Epoch: 10, Training Loss: 0.5191, Training Accuracy:  78.65%\n",
            "Validation loss decreased (0.522841 --> 0.519079)\n",
            "Train Epoch: 11, Training Loss: 0.4898, Training Accuracy:  81.70%\n",
            "Vadlidation Epoch: 11, Training Loss: 0.5204, Training Accuracy:  78.30%\n",
            "Train Epoch: 12, Training Loss: 0.4807, Training Accuracy:  82.72%\n",
            "Vadlidation Epoch: 12, Training Loss: 0.5207, Training Accuracy:  78.43%\n",
            "Train Epoch: 13, Training Loss: 0.4791, Training Accuracy:  83.15%\n",
            "Vadlidation Epoch: 13, Training Loss: 0.5184, Training Accuracy:  79.01%\n",
            "Validation loss decreased (0.519079 --> 0.518376)\n",
            "Train Epoch: 14, Training Loss: 0.4789, Training Accuracy:  83.02%\n",
            "Vadlidation Epoch: 14, Training Loss: 0.5166, Training Accuracy:  78.92%\n",
            "Validation loss decreased (0.518376 --> 0.516570)\n",
            "Train Epoch: 15, Training Loss: 0.4750, Training Accuracy:  83.32%\n",
            "Vadlidation Epoch: 15, Training Loss: 0.5176, Training Accuracy:  78.61%\n",
            "Train Epoch: 16, Training Loss: 0.4726, Training Accuracy:  83.72%\n",
            "Vadlidation Epoch: 16, Training Loss: 0.5196, Training Accuracy:  78.52%\n",
            "Train Epoch: 17, Training Loss: 0.4696, Training Accuracy:  83.90%\n",
            "Vadlidation Epoch: 17, Training Loss: 0.5180, Training Accuracy:  78.39%\n",
            "Train Epoch: 18, Training Loss: 0.4707, Training Accuracy:  83.79%\n",
            "Vadlidation Epoch: 18, Training Loss: 0.5180, Training Accuracy:  78.70%\n",
            "Train Epoch: 19, Training Loss: 0.4672, Training Accuracy:  84.17%\n",
            "Vadlidation Epoch: 19, Training Loss: 0.5147, Training Accuracy:  78.92%\n",
            "Validation loss decreased (0.516570 --> 0.514684)\n"
          ],
          "name": "stdout"
        }
      ]
    },
    {
      "cell_type": "code",
      "metadata": {
        "id": "ceC9uIezA0-u"
      },
      "source": [
        "results_target = list()\n",
        "\n",
        "with torch.no_grad():\n",
        "    for batch in test_iter:\n",
        "        for text, idx in zip(batch.text[0], batch.id):\n",
        "            text = text.unsqueeze(0)\n",
        "            res, _ = model(text, hidden=None)\n",
        "\n",
        "            target = np.round(res.cpu().numpy())\n",
        "            \n",
        "            results_target.append(target[0][1])\n"
      ],
      "execution_count": 125,
      "outputs": []
    },
    {
      "cell_type": "code",
      "metadata": {
        "id": "_Q-K_dT3CGwq"
      },
      "source": [
        "smaple['target'] = list(map(int, results_target))"
      ],
      "execution_count": 128,
      "outputs": []
    },
    {
      "cell_type": "code",
      "metadata": {
        "id": "DBSQ05LoCLSK"
      },
      "source": [
        "smaple.to_csv('submission.csv', index=False)"
      ],
      "execution_count": 129,
      "outputs": []
    },
    {
      "cell_type": "code",
      "metadata": {
        "id": "Tf9y5VjgCWyd"
      },
      "source": [
        ""
      ],
      "execution_count": null,
      "outputs": []
    }
  ]
}