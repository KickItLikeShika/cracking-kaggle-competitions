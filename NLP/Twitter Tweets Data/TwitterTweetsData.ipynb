{
  "nbformat": 4,
  "nbformat_minor": 0,
  "metadata": {
    "colab": {
      "name": "TwitterTweetsData.ipynb",
      "provenance": [],
      "collapsed_sections": []
    },
    "kernelspec": {
      "name": "python3",
      "display_name": "Python 3"
    },
    "language_info": {
      "name": "python"
    },
    "accelerator": "GPU"
  },
  "cells": [
    {
      "cell_type": "code",
      "metadata": {
        "id": "0N1oWoG3qqBY",
        "colab": {
          "base_uri": "https://localhost:8080/"
        },
        "outputId": "9c25428f-7dff-46ff-9684-a7ca40d96640"
      },
      "source": [
        "import os\n",
        "import random\n",
        "import re\n",
        "\n",
        "import numpy as np\n",
        "import pandas as pd\n",
        "import matplotlib.pyplot as plt\n",
        "import seaborn as sns\n",
        "import nltk\n",
        "from nltk.corpus import stopwords\n",
        "from nltk.stem import SnowballStemmer, WordNetLemmatizer\n",
        "import spacy\n",
        "from spacy.tokenizer import Tokenizer\n",
        "import gensim\n",
        "\n",
        "import torch\n",
        "import torch.nn as nn\n",
        "\n",
        "nltk.download('stopwords')\n",
        "nltk.download('wordnet')"
      ],
      "execution_count": 29,
      "outputs": [
        {
          "output_type": "stream",
          "text": [
            "[nltk_data] Downloading package stopwords to /root/nltk_data...\n",
            "[nltk_data]   Unzipping corpora/stopwords.zip.\n",
            "[nltk_data] Downloading package wordnet to /root/nltk_data...\n",
            "[nltk_data]   Unzipping corpora/wordnet.zip.\n"
          ],
          "name": "stdout"
        },
        {
          "output_type": "execute_result",
          "data": {
            "text/plain": [
              "True"
            ]
          },
          "metadata": {
            "tags": []
          },
          "execution_count": 29
        }
      ]
    },
    {
      "cell_type": "code",
      "metadata": {
        "colab": {
          "base_uri": "https://localhost:8080/"
        },
        "id": "4ucTNhAYtRZp",
        "outputId": "3fea8a00-1a8b-46e5-964f-2ce7767d403c"
      },
      "source": [
        "train = pd.read_csv('../train_tweet.csv')\n",
        "test = pd.read_csv('../test_tweets.csv')\n",
        "print(\"TRAIN\")\n",
        "print(train.shape)\n",
        "print(train.info())\n",
        "print(\"\\n=====================================\\n\")\n",
        "print(\"TEST\")\n",
        "print(test.shape)\n",
        "print(test.info())"
      ],
      "execution_count": 33,
      "outputs": [
        {
          "output_type": "stream",
          "text": [
            "TRAIN\n",
            "(31962, 3)\n",
            "<class 'pandas.core.frame.DataFrame'>\n",
            "RangeIndex: 31962 entries, 0 to 31961\n",
            "Data columns (total 3 columns):\n",
            " #   Column  Non-Null Count  Dtype \n",
            "---  ------  --------------  ----- \n",
            " 0   id      31962 non-null  int64 \n",
            " 1   label   31962 non-null  int64 \n",
            " 2   tweet   31962 non-null  object\n",
            "dtypes: int64(2), object(1)\n",
            "memory usage: 749.2+ KB\n",
            "None\n",
            "\n",
            "=====================================\n",
            "\n",
            "TEST\n",
            "(17197, 2)\n",
            "<class 'pandas.core.frame.DataFrame'>\n",
            "RangeIndex: 17197 entries, 0 to 17196\n",
            "Data columns (total 2 columns):\n",
            " #   Column  Non-Null Count  Dtype \n",
            "---  ------  --------------  ----- \n",
            " 0   id      17197 non-null  int64 \n",
            " 1   tweet   17197 non-null  object\n",
            "dtypes: int64(1), object(1)\n",
            "memory usage: 268.8+ KB\n",
            "None\n"
          ],
          "name": "stdout"
        }
      ]
    },
    {
      "cell_type": "code",
      "metadata": {
        "colab": {
          "base_uri": "https://localhost:8080/",
          "height": 195
        },
        "id": "9m0ZCBert8CY",
        "outputId": "62de3577-9c09-42f6-dffb-2e8db42f3c1d"
      },
      "source": [
        "train.head()"
      ],
      "execution_count": 34,
      "outputs": [
        {
          "output_type": "execute_result",
          "data": {
            "text/html": [
              "<div>\n",
              "<style scoped>\n",
              "    .dataframe tbody tr th:only-of-type {\n",
              "        vertical-align: middle;\n",
              "    }\n",
              "\n",
              "    .dataframe tbody tr th {\n",
              "        vertical-align: top;\n",
              "    }\n",
              "\n",
              "    .dataframe thead th {\n",
              "        text-align: right;\n",
              "    }\n",
              "</style>\n",
              "<table border=\"1\" class=\"dataframe\">\n",
              "  <thead>\n",
              "    <tr style=\"text-align: right;\">\n",
              "      <th></th>\n",
              "      <th>id</th>\n",
              "      <th>label</th>\n",
              "      <th>tweet</th>\n",
              "    </tr>\n",
              "  </thead>\n",
              "  <tbody>\n",
              "    <tr>\n",
              "      <th>0</th>\n",
              "      <td>1</td>\n",
              "      <td>0</td>\n",
              "      <td>@user when a father is dysfunctional and is s...</td>\n",
              "    </tr>\n",
              "    <tr>\n",
              "      <th>1</th>\n",
              "      <td>2</td>\n",
              "      <td>0</td>\n",
              "      <td>@user @user thanks for #lyft credit i can't us...</td>\n",
              "    </tr>\n",
              "    <tr>\n",
              "      <th>2</th>\n",
              "      <td>3</td>\n",
              "      <td>0</td>\n",
              "      <td>bihday your majesty</td>\n",
              "    </tr>\n",
              "    <tr>\n",
              "      <th>3</th>\n",
              "      <td>4</td>\n",
              "      <td>0</td>\n",
              "      <td>#model   i love u take with u all the time in ...</td>\n",
              "    </tr>\n",
              "    <tr>\n",
              "      <th>4</th>\n",
              "      <td>5</td>\n",
              "      <td>0</td>\n",
              "      <td>factsguide: society now    #motivation</td>\n",
              "    </tr>\n",
              "  </tbody>\n",
              "</table>\n",
              "</div>"
            ],
            "text/plain": [
              "   id  label                                              tweet\n",
              "0   1      0   @user when a father is dysfunctional and is s...\n",
              "1   2      0  @user @user thanks for #lyft credit i can't us...\n",
              "2   3      0                                bihday your majesty\n",
              "3   4      0  #model   i love u take with u all the time in ...\n",
              "4   5      0             factsguide: society now    #motivation"
            ]
          },
          "metadata": {
            "tags": []
          },
          "execution_count": 34
        }
      ]
    },
    {
      "cell_type": "code",
      "metadata": {
        "colab": {
          "base_uri": "https://localhost:8080/",
          "height": 195
        },
        "id": "WotZycrJvGkc",
        "outputId": "3a62e72d-b8a5-4cc6-f990-ba0c552aab43"
      },
      "source": [
        "test.head()"
      ],
      "execution_count": 35,
      "outputs": [
        {
          "output_type": "execute_result",
          "data": {
            "text/html": [
              "<div>\n",
              "<style scoped>\n",
              "    .dataframe tbody tr th:only-of-type {\n",
              "        vertical-align: middle;\n",
              "    }\n",
              "\n",
              "    .dataframe tbody tr th {\n",
              "        vertical-align: top;\n",
              "    }\n",
              "\n",
              "    .dataframe thead th {\n",
              "        text-align: right;\n",
              "    }\n",
              "</style>\n",
              "<table border=\"1\" class=\"dataframe\">\n",
              "  <thead>\n",
              "    <tr style=\"text-align: right;\">\n",
              "      <th></th>\n",
              "      <th>id</th>\n",
              "      <th>tweet</th>\n",
              "    </tr>\n",
              "  </thead>\n",
              "  <tbody>\n",
              "    <tr>\n",
              "      <th>0</th>\n",
              "      <td>31963</td>\n",
              "      <td>#studiolife #aislife #requires #passion #dedic...</td>\n",
              "    </tr>\n",
              "    <tr>\n",
              "      <th>1</th>\n",
              "      <td>31964</td>\n",
              "      <td>@user #white #supremacists want everyone to s...</td>\n",
              "    </tr>\n",
              "    <tr>\n",
              "      <th>2</th>\n",
              "      <td>31965</td>\n",
              "      <td>safe ways to heal your #acne!!    #altwaystohe...</td>\n",
              "    </tr>\n",
              "    <tr>\n",
              "      <th>3</th>\n",
              "      <td>31966</td>\n",
              "      <td>is the hp and the cursed child book up for res...</td>\n",
              "    </tr>\n",
              "    <tr>\n",
              "      <th>4</th>\n",
              "      <td>31967</td>\n",
              "      <td>3rd #bihday to my amazing, hilarious #nephew...</td>\n",
              "    </tr>\n",
              "  </tbody>\n",
              "</table>\n",
              "</div>"
            ],
            "text/plain": [
              "      id                                              tweet\n",
              "0  31963  #studiolife #aislife #requires #passion #dedic...\n",
              "1  31964   @user #white #supremacists want everyone to s...\n",
              "2  31965  safe ways to heal your #acne!!    #altwaystohe...\n",
              "3  31966  is the hp and the cursed child book up for res...\n",
              "4  31967    3rd #bihday to my amazing, hilarious #nephew..."
            ]
          },
          "metadata": {
            "tags": []
          },
          "execution_count": 35
        }
      ]
    },
    {
      "cell_type": "code",
      "metadata": {
        "colab": {
          "base_uri": "https://localhost:8080/"
        },
        "id": "IsAQ1aPQvHFG",
        "outputId": "ba3efb36-ec05-464d-e6cf-56bc23257531"
      },
      "source": [
        "print(\"TRAIN SAMPLES\")\n",
        "for i in range(10):\n",
        "  print(train['tweet'][i])\n",
        "  print(\"------------------\")\n",
        "print(\"\\n=====================================\\n\")\n",
        "print(\"TEST SAMPLES\")\n",
        "for i in range(10):\n",
        "  print(test['tweet'][i])\n",
        "  print(\"------------------\")"
      ],
      "execution_count": 36,
      "outputs": [
        {
          "output_type": "stream",
          "text": [
            "TRAIN SAMPLES\n",
            " @user when a father is dysfunctional and is so selfish he drags his kids into his dysfunction.   #run\n",
            "------------------\n",
            "@user @user thanks for #lyft credit i can't use cause they don't offer wheelchair vans in pdx.    #disapointed #getthanked\n",
            "------------------\n",
            "  bihday your majesty\n",
            "------------------\n",
            "#model   i love u take with u all the time in urð±!!! ððððð¦ð¦ð¦  \n",
            "------------------\n",
            " factsguide: society now    #motivation\n",
            "------------------\n",
            "[2/2] huge fan fare and big talking before they leave. chaos and pay disputes when they get there. #allshowandnogo  \n",
            "------------------\n",
            " @user camping tomorrow @user @user @user @user @user @user @user dannyâ¦\n",
            "------------------\n",
            "the next school year is the year for exams.ð¯ can't think about that ð­ #school #exams   #hate #imagine #actorslife #revolutionschool #girl\n",
            "------------------\n",
            "we won!!! love the land!!! #allin #cavs #champions #cleveland #clevelandcavaliers  â¦ \n",
            "------------------\n",
            " @user @user welcome here !  i'm   it's so #gr8 ! \n",
            "------------------\n",
            "\n",
            "=====================================\n",
            "\n",
            "TEST SAMPLES\n",
            "#studiolife #aislife #requires #passion #dedication #willpower   to find #newmaterialsâ¦ \n",
            "------------------\n",
            " @user #white #supremacists want everyone to see the new â  #birdsâ #movie â and hereâs why  \n",
            "------------------\n",
            "safe ways to heal your #acne!!    #altwaystoheal #healthy   #healing!! \n",
            "------------------\n",
            "is the hp and the cursed child book up for reservations already? if yes, where? if no, when? ððð   #harrypotter #pottermore #favorite\n",
            "------------------\n",
            "  3rd #bihday to my amazing, hilarious #nephew eli ahmir! uncle dave loves you and missesâ¦ \n",
            "------------------\n",
            "choose to be   :) #momtips \n",
            "------------------\n",
            "something inside me dies ð¦ð¿â¨  eyes ness #smokeyeyes #tired  #lonely #sof #grungeâ¦ \n",
            "------------------\n",
            "#finished#tattoo#inked#ink#loveitâ¤ï¸ #â¤ï¸â¤ï¸â¤ï¸â¤ï¸ #thanks#aleeee !!! \n",
            "------------------\n",
            " @user @user @user i will never understand why my dad left me when i was so young.... :/ #deep #inthefeels  \n",
            "------------------\n",
            "#delicious   #food #lovelife #capetown mannaepicure #resturantâ¦ \n",
            "------------------\n"
          ],
          "name": "stdout"
        }
      ]
    },
    {
      "cell_type": "code",
      "metadata": {
        "id": "uoBi15CLvPiF"
      },
      "source": [
        "puncts = [',', '.', '\"', ':', ')', '(', '-', '!', '?', '|', ';', \"'\", '$', '&', '/', \n",
        "          '[', ']', '>', '%', '=', '#', '*', '+', '\\\\', '•',  '~', '@', '£', '·', '_', \n",
        "          '{', '}', '©', '^', '®', '`',  '<', '→', '°', '€', '™', '›',  '♥', '←', '×',\n",
        "          '§', '″', '′', 'Â', '█', '½', 'à', '…', '“', '★', '”', '–', '●', 'â', '►', '−', \n",
        "          '¢', '²', '¬', '░', '¶', '↑', '±', '¿', '▾', '═', '¦', '║', '―', '¥', '▓', '—', \n",
        "          '‹', '─', '▒', '：', '¼', '⊕', '▼', '▪', '†', '■', '’', '▀', '¨', '▄', '♫', '☆', \n",
        "          'é', '¯', '♦', '¤', '▲', 'è', '¸', '¾', 'Ã', '⋅', '‘', '∞', '∙', '）', '↓', '、', \n",
        "          '│', '（', '»', '，', '♪', '╩', '╚', '³', '・', '╦', '╣', '╔', '╗', '▬', '❤', 'ï', \n",
        "          'Ø', '¹', '≤', '‡', '√', '#', '¦']\n",
        "\n",
        "\n",
        "def clean_text(x):\n",
        "    x = str(x)\n",
        "    for punct in puncts:\n",
        "        x = x.replace(punct, '')\n",
        "    return x\n",
        "\n",
        "\n",
        "# def clean_numbers(x):\n",
        "#     x = re.sub('[0-9]{5, }', '#####', x)\n",
        "#     x = re.sub('[0-9]{4}', '####', x)\n",
        "#     x = re.sub('[0-9]{3}', '###', x)\n",
        "#     x = re.sub('[0-9]{2}', '##', x)\n",
        "#     return x"
      ],
      "execution_count": 37,
      "outputs": []
    },
    {
      "cell_type": "code",
      "metadata": {
        "id": "svy15n5DxUKx"
      },
      "source": [
        "mispell_dict = {\"aren't\": \"are not\", \"can't\": \"cannot\", \n",
        "                \"couldn't\": \"could not\", \"didn't\": \"did not\",\n",
        "                \"doesn't\": \"does not\", \"don't\": \"do not\", \n",
        "                \"hadn't\": \"had not\", \"hasn't\": \"has not\",\n",
        "                \"haven't\": \"have not\", \"he'd\": \"he would\", \n",
        "                \"he'll\": \"he will\", \"he's\": \"he is\",\n",
        "                \"i'd\": \"I would\", \"i'd\": \"I had\", \"i'll\": \n",
        "                \"I will\", \"i'm\" : \"I am\", \"isn't\": \"is not\",\n",
        "                \"it's\": \"it is\", \"it'll\": \"it will\", \n",
        "                \"i've\" : \"I have\", \"let's\": \"let us\", \n",
        "                \"mightn't\": \"might not\", \"mustn't\": \"must not\", \n",
        "                \"shan't\" : \"shall not\", \"she'd\": \"she would\",\n",
        "                \"she'll\": \"she will\", \"she's\": \"she is\", \n",
        "                \"shouldn't\": \"should not\", \"that's\": \"that is\", \n",
        "                \"there's\": \"there is\",\"they'd\": \"they would\", \n",
        "                \"they'll\": \"they will\", \"they're\": \"they are\",\n",
        "                \"they've\": \"they have\", \"we'd\": \"we would\", \n",
        "                \"we're\": \"we are\", \"weren't\": \"were not\",\n",
        "                \"we've\": \"we have\", \"what'll\": \"what will\", \n",
        "                \"what're\": \"what are\", \"what's\": \"what is\", \n",
        "                \"what've\": \"what have\", \"where's\": \"where is\", \n",
        "                \"who'd\": \"who would\", \"who'll\": \"who will\",\n",
        "                \"who're\": \"who are\", \"who's\": \"who is\", \n",
        "                \"who've\": \"who have\", \"won't\": \"will not\",\n",
        "                \"wouldn't\" : \"would not\", \"you'd\": \"you would\", \n",
        "                \"you'll\": \"you will\", \"you're\": \"you are\",\n",
        "                \"you've\": \"you have\", \"'re\": \" are\", \n",
        "                \"wasn't\": \"was not\", \"we'll\": \" will\", \n",
        "                \"didn't\": \"did not\", \"tryin'\": \"trying\", \n",
        "                \"colour\": \"color\", \"centre\": \"center\",\n",
        "                \"didnt\": \"did not\", \"doesnt\": \"does not\",\n",
        "                \"isnt\": \"is not\", \"shouldnt\": \"should not\",\n",
        "                \"favourite\": \"favorite\", \"travelling\": \"traveling\",\n",
        "                \"counselling\": \"counseling\", \"theatre\": \"theater\",\n",
        "                \"cancelled\": \"canceled\", \"labour\": \"labor\",\n",
        "                \"organisation\": \"organization\", \"wwii\": \"world war 2\",\n",
        "                \"citicise\": \"criticize\", \"instagram\": \"social medium\",\n",
        "                \"whatsapp\": \"social medium\", \"snapchat\": \"social medium\"}\n",
        "\n",
        "\n",
        "def get_mispell(mispell_dict):\n",
        "    mispell_re = re.compile('(%s)' % '|'.join(mispell_dict.keys()))\n",
        "    return mispell_dict, mispell_re\n",
        "\n",
        "\n",
        "def replace_typical_misspell(text):\n",
        "    def replace(match):\n",
        "        return mispellings[match.group(0)]\n",
        "    return mispellings_re.sub(replace, text)"
      ],
      "execution_count": 38,
      "outputs": []
    },
    {
      "cell_type": "code",
      "metadata": {
        "colab": {
          "base_uri": "https://localhost:8080/"
        },
        "id": "f5kYmolOxVge",
        "outputId": "3fea92cd-6a93-4828-eab0-923d960d5d39"
      },
      "source": [
        "mispellings, mispellings_re = get_mispell(mispell_dict)\n",
        "mispellings, mispellings_re"
      ],
      "execution_count": 39,
      "outputs": [
        {
          "output_type": "execute_result",
          "data": {
            "text/plain": [
              "({\"'re\": ' are',\n",
              "  \"aren't\": 'are not',\n",
              "  \"can't\": 'cannot',\n",
              "  'cancelled': 'canceled',\n",
              "  'centre': 'center',\n",
              "  'citicise': 'criticize',\n",
              "  'colour': 'color',\n",
              "  \"couldn't\": 'could not',\n",
              "  'counselling': 'counseling',\n",
              "  \"didn't\": 'did not',\n",
              "  'didnt': 'did not',\n",
              "  \"doesn't\": 'does not',\n",
              "  'doesnt': 'does not',\n",
              "  \"don't\": 'do not',\n",
              "  'favourite': 'favorite',\n",
              "  \"hadn't\": 'had not',\n",
              "  \"hasn't\": 'has not',\n",
              "  \"haven't\": 'have not',\n",
              "  \"he'd\": 'he would',\n",
              "  \"he'll\": 'he will',\n",
              "  \"he's\": 'he is',\n",
              "  \"i'd\": 'I had',\n",
              "  \"i'll\": 'I will',\n",
              "  \"i'm\": 'I am',\n",
              "  \"i've\": 'I have',\n",
              "  'instagram': 'social medium',\n",
              "  \"isn't\": 'is not',\n",
              "  'isnt': 'is not',\n",
              "  \"it'll\": 'it will',\n",
              "  \"it's\": 'it is',\n",
              "  'labour': 'labor',\n",
              "  \"let's\": 'let us',\n",
              "  \"mightn't\": 'might not',\n",
              "  \"mustn't\": 'must not',\n",
              "  'organisation': 'organization',\n",
              "  \"shan't\": 'shall not',\n",
              "  \"she'd\": 'she would',\n",
              "  \"she'll\": 'she will',\n",
              "  \"she's\": 'she is',\n",
              "  \"shouldn't\": 'should not',\n",
              "  'shouldnt': 'should not',\n",
              "  'snapchat': 'social medium',\n",
              "  \"that's\": 'that is',\n",
              "  'theatre': 'theater',\n",
              "  \"there's\": 'there is',\n",
              "  \"they'd\": 'they would',\n",
              "  \"they'll\": 'they will',\n",
              "  \"they're\": 'they are',\n",
              "  \"they've\": 'they have',\n",
              "  'travelling': 'traveling',\n",
              "  \"tryin'\": 'trying',\n",
              "  \"wasn't\": 'was not',\n",
              "  \"we'd\": 'we would',\n",
              "  \"we'll\": ' will',\n",
              "  \"we're\": 'we are',\n",
              "  \"we've\": 'we have',\n",
              "  \"weren't\": 'were not',\n",
              "  \"what'll\": 'what will',\n",
              "  \"what're\": 'what are',\n",
              "  \"what's\": 'what is',\n",
              "  \"what've\": 'what have',\n",
              "  'whatsapp': 'social medium',\n",
              "  \"where's\": 'where is',\n",
              "  \"who'd\": 'who would',\n",
              "  \"who'll\": 'who will',\n",
              "  \"who're\": 'who are',\n",
              "  \"who's\": 'who is',\n",
              "  \"who've\": 'who have',\n",
              "  \"won't\": 'will not',\n",
              "  \"wouldn't\": 'would not',\n",
              "  'wwii': 'world war 2',\n",
              "  \"you'd\": 'you would',\n",
              "  \"you'll\": 'you will',\n",
              "  \"you're\": 'you are',\n",
              "  \"you've\": 'you have'},\n",
              " re.compile(r\"(aren't|can't|couldn't|didn't|doesn't|don't|hadn't|hasn't|haven't|he'd|he'll|he's|i'd|i'll|i'm|isn't|it's|it'll|i've|let's|mightn't|mustn't|shan't|she'd|she'll|she's|shouldn't|that's|there's|they'd|they'll|they're|they've|we'd|we're|weren't|we've|what'll|what're|what's|what've|where's|who'd|who'll|who're|who's|who've|won't|wouldn't|you'd|you'll|you're|you've|'re|wasn't|we'll|tryin'|colour|centre|didnt|doesnt|isnt|shouldnt|favourite|travelling|counselling|theatre|cancelled|labour|organisation|wwii|citicise|instagram|whatsapp|snapchat)\",\n",
              " re.UNICODE))"
            ]
          },
          "metadata": {
            "tags": []
          },
          "execution_count": 39
        }
      ]
    },
    {
      "cell_type": "code",
      "metadata": {
        "id": "OGihC1xZxY3m"
      },
      "source": [
        "train['tweet'] = train['tweet'].apply(lambda x: replace_typical_misspell(x.lower()))\n",
        "test['tweet'] = test['tweet'].apply(lambda x: replace_typical_misspell(x.lower()))\n",
        "\n",
        "train['tweet'] = train['tweet'].apply(lambda x: clean_text(x.lower()))\n",
        "test['tweet'] = test['tweet'].apply(lambda x: clean_text(x.lower()))"
      ],
      "execution_count": 40,
      "outputs": []
    },
    {
      "cell_type": "code",
      "metadata": {
        "colab": {
          "base_uri": "https://localhost:8080/"
        },
        "id": "cpQENZkO0BhY",
        "outputId": "88ddd2cf-f1fc-4776-a350-04763e03d0a3"
      },
      "source": [
        "print(\"TRAIN SAMPLES\")\n",
        "for i in range(10):\n",
        "  print(train['tweet'][i])\n",
        "  print(\"------------------\")\n",
        "print(\"\\n=====================================\\n\")\n",
        "print(\"TEST SAMPLES\")\n",
        "for i in range(10):\n",
        "  print(test['tweet'][i])\n",
        "  print(\"------------------\")"
      ],
      "execution_count": 41,
      "outputs": [
        {
          "output_type": "stream",
          "text": [
            "TRAIN SAMPLES\n",
            " user when a father is dysfunctional and is so selfish he drags his kids into his dysfunction   run\n",
            "------------------\n",
            "user user thanks for lyft credit i cannot use cause they do not offer wheelchair vans in pdx    disapointed getthanked\n",
            "------------------\n",
            "  bihday your majesty\n",
            "------------------\n",
            "model   i love u take with u all the time in urð ððððððð  \n",
            "------------------\n",
            " factsguide society now    motivation\n",
            "------------------\n",
            "22 huge fan fare and big talking before they leave chaos and pay disputes when they get there allshowandnogo  \n",
            "------------------\n",
            " user camping tomorrow user user user user user user user danny\n",
            "------------------\n",
            "the next school year is the year for examsð cannot think about that ð­ school exams   hate imagine actorslife revolutionschool girl\n",
            "------------------\n",
            "we won love the land allin cavs champions cleveland clevelandcavaliers   \n",
            "------------------\n",
            " user user welcome here   i am   it is so gr8  \n",
            "------------------\n",
            "\n",
            "=====================================\n",
            "\n",
            "TEST SAMPLES\n",
            "studiolife aislife requires passion dedication willpower   to find newmaterials \n",
            "------------------\n",
            " user white supremacists want everyone to see the new   birds movie  and heres why  \n",
            "------------------\n",
            "safe ways to heal your acne    altwaystoheal healthy   healing \n",
            "------------------\n",
            "is the hp and the cursed child book up for reservations already if yes where if no when ððð   harrypotter pottermore favorite\n",
            "------------------\n",
            "  3rd bihday to my amazing hilarious nephew eli ahmir uncle dave loves you and misses \n",
            "------------------\n",
            "choose to be    momtips \n",
            "------------------\n",
            "something inside me dies ðð  eyes ness smokeyeyes tired  lonely sof grunge \n",
            "------------------\n",
            "finishedtattooinkedinkloveit  thanksaleeee  \n",
            "------------------\n",
            " user user user i will never understand why my dad left me when i was so young  deep inthefeels  \n",
            "------------------\n",
            "delicious   food lovelife capetown mannaepicure resturant \n",
            "------------------\n"
          ],
          "name": "stdout"
        }
      ]
    },
    {
      "cell_type": "code",
      "metadata": {
        "id": "WxOJ2betzLLk"
      },
      "source": [
        "def remove_emoji(sentence):\n",
        "    emoji_pattern = re.compile(\"[\"\n",
        "                           u\"\\U0001F600-\\U0001F64F\"  # emoticons\n",
        "                           u\"\\U0001F300-\\U0001F5FF\"  # symbols & pictographs\n",
        "                           u\"\\U0001F680-\\U0001F6FF\"  # transport & map symbols\n",
        "                           u\"\\U0001F1E0-\\U0001F1FF\"  # flags (iOS)\n",
        "                           u\"\\U00002702-\\U000027B0\"\n",
        "                           u\"\\U000024C2-\\U0001F251\"\n",
        "                           \"]+\", flags=re.UNICODE)\n",
        "    \n",
        "    return emoji_pattern.sub(r'', sentence)\n",
        "\n",
        "def remove_stopwords(sentence):\n",
        "    words = sentence.split()\n",
        "    words = [word for word in words if word not in stopwords.words('english')]\n",
        "    \n",
        "    return ' '.join(words)"
      ],
      "execution_count": 42,
      "outputs": []
    },
    {
      "cell_type": "code",
      "metadata": {
        "id": "XpzQcADczP9h"
      },
      "source": [
        "stemmer = SnowballStemmer('english')\n",
        "wl = WordNetLemmatizer()\n",
        "def lemmatize_words(sentence):\n",
        "    words = sentence.split()\n",
        "    words = [wl.lemmatize(word) for word in words]\n",
        "    return ' '.join(words)"
      ],
      "execution_count": 43,
      "outputs": []
    },
    {
      "cell_type": "code",
      "metadata": {
        "id": "JmR1OuoCzWJQ"
      },
      "source": [
        "# Clear emojis\n",
        "train[\"tweet\"] = train[\"tweet\"].apply(lambda x: remove_emoji(x))\n",
        "test[\"tweet\"] = test[\"tweet\"].apply(lambda x: remove_emoji(x))\n",
        "\n",
        "# Stopwords\n",
        "train[\"tweet\"] = train[\"tweet\"].apply(lambda x: remove_stopwords(x))\n",
        "test[\"tweet\"] = test[\"tweet\"].apply(lambda x: remove_stopwords(x))\n",
        "\n",
        "# Lemmatization\n",
        "train[\"tweet\"] = train[\"tweet\"].apply(lambda x: lemmatize_words(x))\n",
        "test[\"tweet\"] = test[\"tweet\"].apply(lambda x: lemmatize_words(x))"
      ],
      "execution_count": 44,
      "outputs": []
    },
    {
      "cell_type": "code",
      "metadata": {
        "colab": {
          "base_uri": "https://localhost:8080/"
        },
        "id": "0DLVnT50xyuN",
        "outputId": "613bc779-3eac-450f-8dee-3a1882ac751c"
      },
      "source": [
        "print(\"TRAIN SAMPLES\")\n",
        "for i in range(10):\n",
        "  print(train['tweet'][i])\n",
        "  print(\"------------------\")\n",
        "print(\"\\n=====================================\\n\")\n",
        "print(\"TEST SAMPLES\")\n",
        "for i in range(10):\n",
        "  print(test['tweet'][i])\n",
        "  print(\"------------------\")"
      ],
      "execution_count": 45,
      "outputs": [
        {
          "output_type": "stream",
          "text": [
            "TRAIN SAMPLES\n",
            "user father dysfunctional selfish drag kid dysfunction run\n",
            "------------------\n",
            "user user thanks lyft credit cannot use cause offer wheelchair van pdx disapointed getthanked\n",
            "------------------\n",
            "bihday majesty\n",
            "------------------\n",
            "model love u take u time urð ðððð ððð\n",
            "------------------\n",
            "factsguide society motivation\n",
            "------------------\n",
            "22 huge fan fare big talking leave chaos pay dispute get allshowandnogo\n",
            "------------------\n",
            "user camping tomorrow user user user user user user user danny\n",
            "------------------\n",
            "next school year year examsð cannot think ð­ school exam hate imagine actorslife revolutionschool girl\n",
            "------------------\n",
            "love land allin cavs champion cleveland clevelandcavaliers \n",
            "------------------\n",
            "user user welcome gr8\n",
            "------------------\n",
            "\n",
            "=====================================\n",
            "\n",
            "TEST SAMPLES\n",
            "studiolife aislife requires passion dedication willpower find newmaterials\n",
            "------------------\n",
            "user white supremacist want everyone see new  birds movie  heres\n",
            "------------------\n",
            "safe way heal acne altwaystoheal healthy healing\n",
            "------------------\n",
            "hp cursed child book reservation already yes ððð harrypotter pottermore favorite\n",
            "------------------\n",
            "3rd bihday amazing hilarious nephew eli ahmir uncle dave love misses\n",
            "------------------\n",
            "choose momtips\n",
            "------------------\n",
            "something inside dy ðð eye ness smokeyeyes tired lonely sof grunge\n",
            "------------------\n",
            "finishedtattooinkedinkloveit  thanksaleeee\n",
            "------------------\n",
            "user user user never understand dad left young deep inthefeels\n",
            "------------------\n",
            "delicious food lovelife capetown mannaepicure resturant\n",
            "------------------\n"
          ],
          "name": "stdout"
        }
      ]
    },
    {
      "cell_type": "code",
      "metadata": {
        "colab": {
          "base_uri": "https://localhost:8080/",
          "height": 298
        },
        "id": "Nqq7kvdEx0ei",
        "outputId": "f2aa0625-a496-41ae-f8d1-ffc5ae794c74"
      },
      "source": [
        "train['tweet'].apply(lambda x: len(x.split())).plot(kind='hist')\n",
        "plt.yscale('log')\n",
        "plt.title('Distribution of tweet length in characters')"
      ],
      "execution_count": 46,
      "outputs": [
        {
          "output_type": "execute_result",
          "data": {
            "text/plain": [
              "Text(0.5, 1.0, 'Distribution of tweet length in characters')"
            ]
          },
          "metadata": {
            "tags": []
          },
          "execution_count": 46
        },
        {
          "output_type": "display_data",
          "data": {
            "image/png": "[encoded data removed]",
            "text/plain": [
              "<Figure size 432x288 with 1 Axes>"
            ]
          },
          "metadata": {
            "tags": [],
            "needs_background": "light"
          }
        }
      ]
    },
    {
      "cell_type": "code",
      "metadata": {
        "colab": {
          "base_uri": "https://localhost:8080/"
        },
        "id": "2PRSi-lwyer2",
        "outputId": "7b10b7f8-45d1-4294-88fd-08be744987e4"
      },
      "source": [
        "!wget http://nlp.stanford.edu/data/glove.6B.zip"
      ],
      "execution_count": 48,
      "outputs": [
        {
          "output_type": "stream",
          "text": [
            "--2021-04-12 16:23:25--  http://nlp.stanford.edu/data/glove.6B.zip\n",
            "Resolving nlp.stanford.edu (nlp.stanford.edu)... 171.64.67.140\n",
            "Connecting to nlp.stanford.edu (nlp.stanford.edu)|171.64.67.140|:80... connected.\n",
            "HTTP request sent, awaiting response... 302 Found\n",
            "Location: https://nlp.stanford.edu/data/glove.6B.zip [following]\n",
            "--2021-04-12 16:23:25--  https://nlp.stanford.edu/data/glove.6B.zip\n",
            "Connecting to nlp.stanford.edu (nlp.stanford.edu)|171.64.67.140|:443... connected.\n",
            "HTTP request sent, awaiting response... 301 Moved Permanently\n",
            "Location: http://downloads.cs.stanford.edu/nlp/data/glove.6B.zip [following]\n",
            "--2021-04-12 16:23:25--  http://downloads.cs.stanford.edu/nlp/data/glove.6B.zip\n",
            "Resolving downloads.cs.stanford.edu (downloads.cs.stanford.edu)... 171.64.64.22\n",
            "Connecting to downloads.cs.stanford.edu (downloads.cs.stanford.edu)|171.64.64.22|:80... connected.\n",
            "HTTP request sent, awaiting response... 200 OK\n",
            "Length: 862182613 (822M) [application/zip]\n",
            "Saving to: ‘glove.6B.zip’\n",
            "\n",
            "glove.6B.zip        100%[===================>] 822.24M  4.98MB/s    in 2m 41s  \n",
            "\n",
            "2021-04-12 16:26:06 (5.10 MB/s) - ‘glove.6B.zip’ saved [862182613/862182613]\n",
            "\n"
          ],
          "name": "stdout"
        }
      ]
    },
    {
      "cell_type": "code",
      "metadata": {
        "colab": {
          "base_uri": "https://localhost:8080/"
        },
        "id": "id9uDOCF0JQK",
        "outputId": "31720ea9-c1f0-48cc-ef99-425d55c4c49c"
      },
      "source": [
        "!unzip glove*.zip"
      ],
      "execution_count": 49,
      "outputs": [
        {
          "output_type": "stream",
          "text": [
            "Archive:  glove.6B.zip\n",
            "  inflating: glove.6B.50d.txt        \n",
            "  inflating: glove.6B.100d.txt       \n",
            "  inflating: glove.6B.200d.txt       \n",
            "  inflating: glove.6B.300d.txt       \n"
          ],
          "name": "stdout"
        }
      ]
    },
    {
      "cell_type": "code",
      "metadata": {
        "colab": {
          "base_uri": "https://localhost:8080/"
        },
        "id": "Tik4O2vE5_k2",
        "outputId": "b853436c-a8d3-44bf-a05d-63dd98342b91"
      },
      "source": [
        "!ls"
      ],
      "execution_count": 50,
      "outputs": [
        {
          "output_type": "stream",
          "text": [
            "glove.6B.100d.txt  glove.6B.300d.txt  glove.6B.zip\n",
            "glove.6B.200d.txt  glove.6B.50d.txt   sample_data\n"
          ],
          "name": "stdout"
        }
      ]
    },
    {
      "cell_type": "code",
      "metadata": {
        "colab": {
          "base_uri": "https://localhost:8080/"
        },
        "id": "a7KBFvuW6F0P",
        "outputId": "b20ea8c1-1b9f-4733-fc3d-229a0dd8dc6b"
      },
      "source": [
        "print('Indexing word vectors.')\n",
        "\n",
        "embeddings_index = {}\n",
        "f = open('glove.6B.300d.txt', encoding='utf-8')\n",
        "for line in f:\n",
        "    values = line.split()\n",
        "    word = values[0]\n",
        "    # print(word)\n",
        "    # print(values)\n",
        "    coefs = np.asarray(values[1:], dtype='float32')\n",
        "    # print(coefs)\n",
        "    embeddings_index[word] = coefs\n",
        "f.close()\n",
        "\n",
        "print('Found', len(embeddings_index), 'word vectors.')"
      ],
      "execution_count": 56,
      "outputs": [
        {
          "output_type": "stream",
          "text": [
            "Indexing word vectors.\n",
            "Found 400000 word vectors.\n"
          ],
          "name": "stdout"
        }
      ]
    },
    {
      "cell_type": "code",
      "metadata": {
        "id": "Y7b3nKHr9q4s"
      },
      "source": [
        ""
      ],
      "execution_count": null,
      "outputs": []
    }
  ]
}