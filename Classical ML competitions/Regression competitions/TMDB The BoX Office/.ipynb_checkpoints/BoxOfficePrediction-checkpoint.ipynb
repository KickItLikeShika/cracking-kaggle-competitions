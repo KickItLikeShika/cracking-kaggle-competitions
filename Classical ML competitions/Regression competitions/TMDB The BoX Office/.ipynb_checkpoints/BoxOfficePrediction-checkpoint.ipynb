{
 "cells": [
  {
   "cell_type": "code",
   "execution_count": 1,
   "metadata": {},
   "outputs": [],
   "source": [
    "import warnings\n",
    "from collections import Counter\n",
    "import math\n",
    "import pandas as pd\n",
    "import numpy as np\n",
    "import matplotlib.pyplot as plt\n",
    "import seaborn as sns\n",
    "from scipy.stats import norm, skew\n",
    "from sklearn.preprocessing import StandardScaler, LabelEncoder\n",
    "from sklearn.metrics import mean_squared_log_error, accuracy_score\n",
    "import xgboost as xgb\n",
    "import lightgbm as lgb\n",
    "\n",
    "warnings.filterwarnings('ignore')\n",
    "pd.set_option('display.max_columns', None)\n",
    "plt.style.use(style='ggplot')\n",
    "%matplotlib inline"
   ]
  },
  {
   "cell_type": "code",
   "execution_count": 2,
   "metadata": {},
   "outputs": [],
   "source": [
    "train = pd.read_csv('train.csv')\n",
    "test = pd.read_csv('test.csv')\n",
    "sample = pd.read_csv('sample_submission.csv')\n",
    "test_id = test['id']\n",
    "target = train['revenue']"
   ]
  },
  {
   "cell_type": "code",
   "execution_count": 3,
   "metadata": {},
   "outputs": [
    {
     "data": {
      "text/html": [
       "<div>\n",
       "<style scoped>\n",
       "    .dataframe tbody tr th:only-of-type {\n",
       "        vertical-align: middle;\n",
       "    }\n",
       "\n",
       "    .dataframe tbody tr th {\n",
       "        vertical-align: top;\n",
       "    }\n",
       "\n",
       "    .dataframe thead th {\n",
       "        text-align: right;\n",
       "    }\n",
       "</style>\n",
       "<table border=\"1\" class=\"dataframe\">\n",
       "  <thead>\n",
       "    <tr style=\"text-align: right;\">\n",
       "      <th></th>\n",
       "      <th>id</th>\n",
       "      <th>belongs_to_collection</th>\n",
       "      <th>budget</th>\n",
       "      <th>genres</th>\n",
       "      <th>homepage</th>\n",
       "      <th>imdb_id</th>\n",
       "      <th>original_language</th>\n",
       "      <th>original_title</th>\n",
       "      <th>overview</th>\n",
       "      <th>popularity</th>\n",
       "      <th>poster_path</th>\n",
       "      <th>production_companies</th>\n",
       "      <th>production_countries</th>\n",
       "      <th>release_date</th>\n",
       "      <th>runtime</th>\n",
       "      <th>spoken_languages</th>\n",
       "      <th>status</th>\n",
       "      <th>tagline</th>\n",
       "      <th>title</th>\n",
       "      <th>Keywords</th>\n",
       "      <th>cast</th>\n",
       "      <th>crew</th>\n",
       "      <th>revenue</th>\n",
       "    </tr>\n",
       "  </thead>\n",
       "  <tbody>\n",
       "    <tr>\n",
       "      <th>0</th>\n",
       "      <td>1</td>\n",
       "      <td>[{'id': 313576, 'name': 'Hot Tub Time Machine ...</td>\n",
       "      <td>14000000</td>\n",
       "      <td>[{'id': 35, 'name': 'Comedy'}]</td>\n",
       "      <td>NaN</td>\n",
       "      <td>tt2637294</td>\n",
       "      <td>en</td>\n",
       "      <td>Hot Tub Time Machine 2</td>\n",
       "      <td>When Lou, who has become the \"father of the In...</td>\n",
       "      <td>6.575393</td>\n",
       "      <td>/tQtWuwvMf0hCc2QR2tkolwl7c3c.jpg</td>\n",
       "      <td>[{'name': 'Paramount Pictures', 'id': 4}, {'na...</td>\n",
       "      <td>[{'iso_3166_1': 'US', 'name': 'United States o...</td>\n",
       "      <td>2/20/15</td>\n",
       "      <td>93.0</td>\n",
       "      <td>[{'iso_639_1': 'en', 'name': 'English'}]</td>\n",
       "      <td>Released</td>\n",
       "      <td>The Laws of Space and Time are About to be Vio...</td>\n",
       "      <td>Hot Tub Time Machine 2</td>\n",
       "      <td>[{'id': 4379, 'name': 'time travel'}, {'id': 9...</td>\n",
       "      <td>[{'cast_id': 4, 'character': 'Lou', 'credit_id...</td>\n",
       "      <td>[{'credit_id': '59ac067c92514107af02c8c8', 'de...</td>\n",
       "      <td>12314651</td>\n",
       "    </tr>\n",
       "    <tr>\n",
       "      <th>1</th>\n",
       "      <td>2</td>\n",
       "      <td>[{'id': 107674, 'name': 'The Princess Diaries ...</td>\n",
       "      <td>40000000</td>\n",
       "      <td>[{'id': 35, 'name': 'Comedy'}, {'id': 18, 'nam...</td>\n",
       "      <td>NaN</td>\n",
       "      <td>tt0368933</td>\n",
       "      <td>en</td>\n",
       "      <td>The Princess Diaries 2: Royal Engagement</td>\n",
       "      <td>Mia Thermopolis is now a college graduate and ...</td>\n",
       "      <td>8.248895</td>\n",
       "      <td>/w9Z7A0GHEhIp7etpj0vyKOeU1Wx.jpg</td>\n",
       "      <td>[{'name': 'Walt Disney Pictures', 'id': 2}]</td>\n",
       "      <td>[{'iso_3166_1': 'US', 'name': 'United States o...</td>\n",
       "      <td>8/6/04</td>\n",
       "      <td>113.0</td>\n",
       "      <td>[{'iso_639_1': 'en', 'name': 'English'}]</td>\n",
       "      <td>Released</td>\n",
       "      <td>It can take a lifetime to find true love; she'...</td>\n",
       "      <td>The Princess Diaries 2: Royal Engagement</td>\n",
       "      <td>[{'id': 2505, 'name': 'coronation'}, {'id': 42...</td>\n",
       "      <td>[{'cast_id': 1, 'character': 'Mia Thermopolis'...</td>\n",
       "      <td>[{'credit_id': '52fe43fe9251416c7502563d', 'de...</td>\n",
       "      <td>95149435</td>\n",
       "    </tr>\n",
       "    <tr>\n",
       "      <th>2</th>\n",
       "      <td>3</td>\n",
       "      <td>NaN</td>\n",
       "      <td>3300000</td>\n",
       "      <td>[{'id': 18, 'name': 'Drama'}]</td>\n",
       "      <td>http://sonyclassics.com/whiplash/</td>\n",
       "      <td>tt2582802</td>\n",
       "      <td>en</td>\n",
       "      <td>Whiplash</td>\n",
       "      <td>Under the direction of a ruthless instructor, ...</td>\n",
       "      <td>64.299990</td>\n",
       "      <td>/lIv1QinFqz4dlp5U4lQ6HaiskOZ.jpg</td>\n",
       "      <td>[{'name': 'Bold Films', 'id': 2266}, {'name': ...</td>\n",
       "      <td>[{'iso_3166_1': 'US', 'name': 'United States o...</td>\n",
       "      <td>10/10/14</td>\n",
       "      <td>105.0</td>\n",
       "      <td>[{'iso_639_1': 'en', 'name': 'English'}]</td>\n",
       "      <td>Released</td>\n",
       "      <td>The road to greatness can take you to the edge.</td>\n",
       "      <td>Whiplash</td>\n",
       "      <td>[{'id': 1416, 'name': 'jazz'}, {'id': 1523, 'n...</td>\n",
       "      <td>[{'cast_id': 5, 'character': 'Andrew Neimann',...</td>\n",
       "      <td>[{'credit_id': '54d5356ec3a3683ba0000039', 'de...</td>\n",
       "      <td>13092000</td>\n",
       "    </tr>\n",
       "    <tr>\n",
       "      <th>3</th>\n",
       "      <td>4</td>\n",
       "      <td>NaN</td>\n",
       "      <td>1200000</td>\n",
       "      <td>[{'id': 53, 'name': 'Thriller'}, {'id': 18, 'n...</td>\n",
       "      <td>http://kahaanithefilm.com/</td>\n",
       "      <td>tt1821480</td>\n",
       "      <td>hi</td>\n",
       "      <td>Kahaani</td>\n",
       "      <td>Vidya Bagchi (Vidya Balan) arrives in Kolkata ...</td>\n",
       "      <td>3.174936</td>\n",
       "      <td>/aTXRaPrWSinhcmCrcfJK17urp3F.jpg</td>\n",
       "      <td>NaN</td>\n",
       "      <td>[{'iso_3166_1': 'IN', 'name': 'India'}]</td>\n",
       "      <td>3/9/12</td>\n",
       "      <td>122.0</td>\n",
       "      <td>[{'iso_639_1': 'en', 'name': 'English'}, {'iso...</td>\n",
       "      <td>Released</td>\n",
       "      <td>NaN</td>\n",
       "      <td>Kahaani</td>\n",
       "      <td>[{'id': 10092, 'name': 'mystery'}, {'id': 1054...</td>\n",
       "      <td>[{'cast_id': 1, 'character': 'Vidya Bagchi', '...</td>\n",
       "      <td>[{'credit_id': '52fe48779251416c9108d6eb', 'de...</td>\n",
       "      <td>16000000</td>\n",
       "    </tr>\n",
       "    <tr>\n",
       "      <th>4</th>\n",
       "      <td>5</td>\n",
       "      <td>NaN</td>\n",
       "      <td>0</td>\n",
       "      <td>[{'id': 28, 'name': 'Action'}, {'id': 53, 'nam...</td>\n",
       "      <td>NaN</td>\n",
       "      <td>tt1380152</td>\n",
       "      <td>ko</td>\n",
       "      <td>마린보이</td>\n",
       "      <td>Marine Boy is the story of a former national s...</td>\n",
       "      <td>1.148070</td>\n",
       "      <td>/m22s7zvkVFDU9ir56PiiqIEWFdT.jpg</td>\n",
       "      <td>NaN</td>\n",
       "      <td>[{'iso_3166_1': 'KR', 'name': 'South Korea'}]</td>\n",
       "      <td>2/5/09</td>\n",
       "      <td>118.0</td>\n",
       "      <td>[{'iso_639_1': 'ko', 'name': '한국어/조선말'}]</td>\n",
       "      <td>Released</td>\n",
       "      <td>NaN</td>\n",
       "      <td>Marine Boy</td>\n",
       "      <td>NaN</td>\n",
       "      <td>[{'cast_id': 3, 'character': 'Chun-soo', 'cred...</td>\n",
       "      <td>[{'credit_id': '52fe464b9251416c75073b43', 'de...</td>\n",
       "      <td>3923970</td>\n",
       "    </tr>\n",
       "  </tbody>\n",
       "</table>\n",
       "</div>"
      ],
      "text/plain": [
       "   id                              belongs_to_collection    budget  \\\n",
       "0   1  [{'id': 313576, 'name': 'Hot Tub Time Machine ...  14000000   \n",
       "1   2  [{'id': 107674, 'name': 'The Princess Diaries ...  40000000   \n",
       "2   3                                                NaN   3300000   \n",
       "3   4                                                NaN   1200000   \n",
       "4   5                                                NaN         0   \n",
       "\n",
       "                                              genres  \\\n",
       "0                     [{'id': 35, 'name': 'Comedy'}]   \n",
       "1  [{'id': 35, 'name': 'Comedy'}, {'id': 18, 'nam...   \n",
       "2                      [{'id': 18, 'name': 'Drama'}]   \n",
       "3  [{'id': 53, 'name': 'Thriller'}, {'id': 18, 'n...   \n",
       "4  [{'id': 28, 'name': 'Action'}, {'id': 53, 'nam...   \n",
       "\n",
       "                            homepage    imdb_id original_language  \\\n",
       "0                                NaN  tt2637294                en   \n",
       "1                                NaN  tt0368933                en   \n",
       "2  http://sonyclassics.com/whiplash/  tt2582802                en   \n",
       "3         http://kahaanithefilm.com/  tt1821480                hi   \n",
       "4                                NaN  tt1380152                ko   \n",
       "\n",
       "                             original_title  \\\n",
       "0                    Hot Tub Time Machine 2   \n",
       "1  The Princess Diaries 2: Royal Engagement   \n",
       "2                                  Whiplash   \n",
       "3                                   Kahaani   \n",
       "4                                      마린보이   \n",
       "\n",
       "                                            overview  popularity  \\\n",
       "0  When Lou, who has become the \"father of the In...    6.575393   \n",
       "1  Mia Thermopolis is now a college graduate and ...    8.248895   \n",
       "2  Under the direction of a ruthless instructor, ...   64.299990   \n",
       "3  Vidya Bagchi (Vidya Balan) arrives in Kolkata ...    3.174936   \n",
       "4  Marine Boy is the story of a former national s...    1.148070   \n",
       "\n",
       "                        poster_path  \\\n",
       "0  /tQtWuwvMf0hCc2QR2tkolwl7c3c.jpg   \n",
       "1  /w9Z7A0GHEhIp7etpj0vyKOeU1Wx.jpg   \n",
       "2  /lIv1QinFqz4dlp5U4lQ6HaiskOZ.jpg   \n",
       "3  /aTXRaPrWSinhcmCrcfJK17urp3F.jpg   \n",
       "4  /m22s7zvkVFDU9ir56PiiqIEWFdT.jpg   \n",
       "\n",
       "                                production_companies  \\\n",
       "0  [{'name': 'Paramount Pictures', 'id': 4}, {'na...   \n",
       "1        [{'name': 'Walt Disney Pictures', 'id': 2}]   \n",
       "2  [{'name': 'Bold Films', 'id': 2266}, {'name': ...   \n",
       "3                                                NaN   \n",
       "4                                                NaN   \n",
       "\n",
       "                                production_countries release_date  runtime  \\\n",
       "0  [{'iso_3166_1': 'US', 'name': 'United States o...      2/20/15     93.0   \n",
       "1  [{'iso_3166_1': 'US', 'name': 'United States o...       8/6/04    113.0   \n",
       "2  [{'iso_3166_1': 'US', 'name': 'United States o...     10/10/14    105.0   \n",
       "3            [{'iso_3166_1': 'IN', 'name': 'India'}]       3/9/12    122.0   \n",
       "4      [{'iso_3166_1': 'KR', 'name': 'South Korea'}]       2/5/09    118.0   \n",
       "\n",
       "                                    spoken_languages    status  \\\n",
       "0           [{'iso_639_1': 'en', 'name': 'English'}]  Released   \n",
       "1           [{'iso_639_1': 'en', 'name': 'English'}]  Released   \n",
       "2           [{'iso_639_1': 'en', 'name': 'English'}]  Released   \n",
       "3  [{'iso_639_1': 'en', 'name': 'English'}, {'iso...  Released   \n",
       "4           [{'iso_639_1': 'ko', 'name': '한국어/조선말'}]  Released   \n",
       "\n",
       "                                             tagline  \\\n",
       "0  The Laws of Space and Time are About to be Vio...   \n",
       "1  It can take a lifetime to find true love; she'...   \n",
       "2    The road to greatness can take you to the edge.   \n",
       "3                                                NaN   \n",
       "4                                                NaN   \n",
       "\n",
       "                                      title  \\\n",
       "0                    Hot Tub Time Machine 2   \n",
       "1  The Princess Diaries 2: Royal Engagement   \n",
       "2                                  Whiplash   \n",
       "3                                   Kahaani   \n",
       "4                                Marine Boy   \n",
       "\n",
       "                                            Keywords  \\\n",
       "0  [{'id': 4379, 'name': 'time travel'}, {'id': 9...   \n",
       "1  [{'id': 2505, 'name': 'coronation'}, {'id': 42...   \n",
       "2  [{'id': 1416, 'name': 'jazz'}, {'id': 1523, 'n...   \n",
       "3  [{'id': 10092, 'name': 'mystery'}, {'id': 1054...   \n",
       "4                                                NaN   \n",
       "\n",
       "                                                cast  \\\n",
       "0  [{'cast_id': 4, 'character': 'Lou', 'credit_id...   \n",
       "1  [{'cast_id': 1, 'character': 'Mia Thermopolis'...   \n",
       "2  [{'cast_id': 5, 'character': 'Andrew Neimann',...   \n",
       "3  [{'cast_id': 1, 'character': 'Vidya Bagchi', '...   \n",
       "4  [{'cast_id': 3, 'character': 'Chun-soo', 'cred...   \n",
       "\n",
       "                                                crew   revenue  \n",
       "0  [{'credit_id': '59ac067c92514107af02c8c8', 'de...  12314651  \n",
       "1  [{'credit_id': '52fe43fe9251416c7502563d', 'de...  95149435  \n",
       "2  [{'credit_id': '54d5356ec3a3683ba0000039', 'de...  13092000  \n",
       "3  [{'credit_id': '52fe48779251416c9108d6eb', 'de...  16000000  \n",
       "4  [{'credit_id': '52fe464b9251416c75073b43', 'de...   3923970  "
      ]
     },
     "execution_count": 3,
     "metadata": {},
     "output_type": "execute_result"
    }
   ],
   "source": [
    "train.head()"
   ]
  },
  {
   "cell_type": "code",
   "execution_count": 4,
   "metadata": {},
   "outputs": [
    {
     "data": {
      "text/html": [
       "<div>\n",
       "<style scoped>\n",
       "    .dataframe tbody tr th:only-of-type {\n",
       "        vertical-align: middle;\n",
       "    }\n",
       "\n",
       "    .dataframe tbody tr th {\n",
       "        vertical-align: top;\n",
       "    }\n",
       "\n",
       "    .dataframe thead th {\n",
       "        text-align: right;\n",
       "    }\n",
       "</style>\n",
       "<table border=\"1\" class=\"dataframe\">\n",
       "  <thead>\n",
       "    <tr style=\"text-align: right;\">\n",
       "      <th></th>\n",
       "      <th>id</th>\n",
       "      <th>belongs_to_collection</th>\n",
       "      <th>budget</th>\n",
       "      <th>genres</th>\n",
       "      <th>homepage</th>\n",
       "      <th>imdb_id</th>\n",
       "      <th>original_language</th>\n",
       "      <th>original_title</th>\n",
       "      <th>overview</th>\n",
       "      <th>popularity</th>\n",
       "      <th>poster_path</th>\n",
       "      <th>production_companies</th>\n",
       "      <th>production_countries</th>\n",
       "      <th>release_date</th>\n",
       "      <th>runtime</th>\n",
       "      <th>spoken_languages</th>\n",
       "      <th>status</th>\n",
       "      <th>tagline</th>\n",
       "      <th>title</th>\n",
       "      <th>Keywords</th>\n",
       "      <th>cast</th>\n",
       "      <th>crew</th>\n",
       "    </tr>\n",
       "  </thead>\n",
       "  <tbody>\n",
       "    <tr>\n",
       "      <th>0</th>\n",
       "      <td>3001</td>\n",
       "      <td>[{'id': 34055, 'name': 'Pokémon Collection', '...</td>\n",
       "      <td>0</td>\n",
       "      <td>[{'id': 12, 'name': 'Adventure'}, {'id': 16, '...</td>\n",
       "      <td>http://www.pokemon.com/us/movies/movie-pokemon...</td>\n",
       "      <td>tt1226251</td>\n",
       "      <td>ja</td>\n",
       "      <td>ディアルガVSパルキアVSダークライ</td>\n",
       "      <td>Ash and friends (this time accompanied by newc...</td>\n",
       "      <td>3.851534</td>\n",
       "      <td>/tnftmLMemPLduW6MRyZE0ZUD19z.jpg</td>\n",
       "      <td>NaN</td>\n",
       "      <td>[{'iso_3166_1': 'JP', 'name': 'Japan'}, {'iso_...</td>\n",
       "      <td>7/14/07</td>\n",
       "      <td>90.0</td>\n",
       "      <td>[{'iso_639_1': 'en', 'name': 'English'}, {'iso...</td>\n",
       "      <td>Released</td>\n",
       "      <td>Somewhere Between Time &amp; Space... A Legend Is ...</td>\n",
       "      <td>Pokémon: The Rise of Darkrai</td>\n",
       "      <td>[{'id': 11451, 'name': 'pok√©mon'}, {'id': 115...</td>\n",
       "      <td>[{'cast_id': 3, 'character': 'Tonio', 'credit_...</td>\n",
       "      <td>[{'credit_id': '52fe44e7c3a368484e03d683', 'de...</td>\n",
       "    </tr>\n",
       "    <tr>\n",
       "      <th>1</th>\n",
       "      <td>3002</td>\n",
       "      <td>NaN</td>\n",
       "      <td>88000</td>\n",
       "      <td>[{'id': 27, 'name': 'Horror'}, {'id': 878, 'na...</td>\n",
       "      <td>NaN</td>\n",
       "      <td>tt0051380</td>\n",
       "      <td>en</td>\n",
       "      <td>Attack of the 50 Foot Woman</td>\n",
       "      <td>When an abused wife grows to giant size becaus...</td>\n",
       "      <td>3.559789</td>\n",
       "      <td>/9MgBNBqlH1sG4yG2u4XkwI5CoJa.jpg</td>\n",
       "      <td>[{'name': 'Woolner Brothers Pictures Inc.', 'i...</td>\n",
       "      <td>[{'iso_3166_1': 'US', 'name': 'United States o...</td>\n",
       "      <td>5/19/58</td>\n",
       "      <td>65.0</td>\n",
       "      <td>[{'iso_639_1': 'en', 'name': 'English'}]</td>\n",
       "      <td>Released</td>\n",
       "      <td>A titanic beauty spreads a macabre wave of hor...</td>\n",
       "      <td>Attack of the 50 Foot Woman</td>\n",
       "      <td>[{'id': 9748, 'name': 'revenge'}, {'id': 9951,...</td>\n",
       "      <td>[{'cast_id': 2, 'character': 'Nancy Fowler Arc...</td>\n",
       "      <td>[{'credit_id': '55807805c3a3685b1300060b', 'de...</td>\n",
       "    </tr>\n",
       "    <tr>\n",
       "      <th>2</th>\n",
       "      <td>3003</td>\n",
       "      <td>NaN</td>\n",
       "      <td>0</td>\n",
       "      <td>[{'id': 35, 'name': 'Comedy'}, {'id': 10749, '...</td>\n",
       "      <td>NaN</td>\n",
       "      <td>tt0118556</td>\n",
       "      <td>en</td>\n",
       "      <td>Addicted to Love</td>\n",
       "      <td>Good-natured astronomer Sam is devastated when...</td>\n",
       "      <td>8.085194</td>\n",
       "      <td>/ed6nD7h9sbojSWY2qrnDcSvDFko.jpg</td>\n",
       "      <td>[{'name': 'Warner Bros.', 'id': 6194}, {'name'...</td>\n",
       "      <td>[{'iso_3166_1': 'US', 'name': 'United States o...</td>\n",
       "      <td>5/23/97</td>\n",
       "      <td>100.0</td>\n",
       "      <td>[{'iso_639_1': 'en', 'name': 'English'}]</td>\n",
       "      <td>Released</td>\n",
       "      <td>A Comedy About Lost Loves And Last Laughs</td>\n",
       "      <td>Addicted to Love</td>\n",
       "      <td>[{'id': 931, 'name': 'jealousy'}, {'id': 9673,...</td>\n",
       "      <td>[{'cast_id': 11, 'character': 'Maggie', 'credi...</td>\n",
       "      <td>[{'credit_id': '52fe4330c3a36847f8041367', 'de...</td>\n",
       "    </tr>\n",
       "    <tr>\n",
       "      <th>3</th>\n",
       "      <td>3004</td>\n",
       "      <td>NaN</td>\n",
       "      <td>6800000</td>\n",
       "      <td>[{'id': 18, 'name': 'Drama'}, {'id': 10752, 'n...</td>\n",
       "      <td>http://www.sonyclassics.com/incendies/</td>\n",
       "      <td>tt1255953</td>\n",
       "      <td>fr</td>\n",
       "      <td>Incendies</td>\n",
       "      <td>A mother's last wishes send twins Jeanne and S...</td>\n",
       "      <td>8.596012</td>\n",
       "      <td>/sEUG3qjxwHjxkzuO7plrRHhOZUH.jpg</td>\n",
       "      <td>[{'name': 'TS Productions', 'id': 313}, {'name...</td>\n",
       "      <td>[{'iso_3166_1': 'CA', 'name': 'Canada'}, {'iso...</td>\n",
       "      <td>9/4/10</td>\n",
       "      <td>130.0</td>\n",
       "      <td>[{'iso_639_1': 'fr', 'name': 'Français'}, {'is...</td>\n",
       "      <td>Released</td>\n",
       "      <td>The search began at the opening of their mothe...</td>\n",
       "      <td>Incendies</td>\n",
       "      <td>[{'id': 378, 'name': 'prison'}, {'id': 539, 'n...</td>\n",
       "      <td>[{'cast_id': 6, 'character': 'Nawal', 'credit_...</td>\n",
       "      <td>[{'credit_id': '56478092c3a36826140043af', 'de...</td>\n",
       "    </tr>\n",
       "    <tr>\n",
       "      <th>4</th>\n",
       "      <td>3005</td>\n",
       "      <td>NaN</td>\n",
       "      <td>2000000</td>\n",
       "      <td>[{'id': 36, 'name': 'History'}, {'id': 99, 'na...</td>\n",
       "      <td>NaN</td>\n",
       "      <td>tt0418753</td>\n",
       "      <td>en</td>\n",
       "      <td>Inside Deep Throat</td>\n",
       "      <td>In 1972, a seemingly typical shoestring budget...</td>\n",
       "      <td>3.217680</td>\n",
       "      <td>/n4WC3zbelz6SG7rhkWbf8m9pMHB.jpg</td>\n",
       "      <td>NaN</td>\n",
       "      <td>[{'iso_3166_1': 'US', 'name': 'United States o...</td>\n",
       "      <td>2/11/05</td>\n",
       "      <td>92.0</td>\n",
       "      <td>[{'iso_639_1': 'en', 'name': 'English'}]</td>\n",
       "      <td>Released</td>\n",
       "      <td>It was filmed in 6 days for 25 thousand dollar...</td>\n",
       "      <td>Inside Deep Throat</td>\n",
       "      <td>[{'id': 279, 'name': 'usa'}, {'id': 1228, 'nam...</td>\n",
       "      <td>[{'cast_id': 1, 'character': 'Narrator (voice)...</td>\n",
       "      <td>[{'credit_id': '52fe44ce9251416c75041967', 'de...</td>\n",
       "    </tr>\n",
       "  </tbody>\n",
       "</table>\n",
       "</div>"
      ],
      "text/plain": [
       "     id                              belongs_to_collection   budget  \\\n",
       "0  3001  [{'id': 34055, 'name': 'Pokémon Collection', '...        0   \n",
       "1  3002                                                NaN    88000   \n",
       "2  3003                                                NaN        0   \n",
       "3  3004                                                NaN  6800000   \n",
       "4  3005                                                NaN  2000000   \n",
       "\n",
       "                                              genres  \\\n",
       "0  [{'id': 12, 'name': 'Adventure'}, {'id': 16, '...   \n",
       "1  [{'id': 27, 'name': 'Horror'}, {'id': 878, 'na...   \n",
       "2  [{'id': 35, 'name': 'Comedy'}, {'id': 10749, '...   \n",
       "3  [{'id': 18, 'name': 'Drama'}, {'id': 10752, 'n...   \n",
       "4  [{'id': 36, 'name': 'History'}, {'id': 99, 'na...   \n",
       "\n",
       "                                            homepage    imdb_id  \\\n",
       "0  http://www.pokemon.com/us/movies/movie-pokemon...  tt1226251   \n",
       "1                                                NaN  tt0051380   \n",
       "2                                                NaN  tt0118556   \n",
       "3             http://www.sonyclassics.com/incendies/  tt1255953   \n",
       "4                                                NaN  tt0418753   \n",
       "\n",
       "  original_language               original_title  \\\n",
       "0                ja           ディアルガVSパルキアVSダークライ   \n",
       "1                en  Attack of the 50 Foot Woman   \n",
       "2                en             Addicted to Love   \n",
       "3                fr                    Incendies   \n",
       "4                en           Inside Deep Throat   \n",
       "\n",
       "                                            overview  popularity  \\\n",
       "0  Ash and friends (this time accompanied by newc...    3.851534   \n",
       "1  When an abused wife grows to giant size becaus...    3.559789   \n",
       "2  Good-natured astronomer Sam is devastated when...    8.085194   \n",
       "3  A mother's last wishes send twins Jeanne and S...    8.596012   \n",
       "4  In 1972, a seemingly typical shoestring budget...    3.217680   \n",
       "\n",
       "                        poster_path  \\\n",
       "0  /tnftmLMemPLduW6MRyZE0ZUD19z.jpg   \n",
       "1  /9MgBNBqlH1sG4yG2u4XkwI5CoJa.jpg   \n",
       "2  /ed6nD7h9sbojSWY2qrnDcSvDFko.jpg   \n",
       "3  /sEUG3qjxwHjxkzuO7plrRHhOZUH.jpg   \n",
       "4  /n4WC3zbelz6SG7rhkWbf8m9pMHB.jpg   \n",
       "\n",
       "                                production_companies  \\\n",
       "0                                                NaN   \n",
       "1  [{'name': 'Woolner Brothers Pictures Inc.', 'i...   \n",
       "2  [{'name': 'Warner Bros.', 'id': 6194}, {'name'...   \n",
       "3  [{'name': 'TS Productions', 'id': 313}, {'name...   \n",
       "4                                                NaN   \n",
       "\n",
       "                                production_countries release_date  runtime  \\\n",
       "0  [{'iso_3166_1': 'JP', 'name': 'Japan'}, {'iso_...      7/14/07     90.0   \n",
       "1  [{'iso_3166_1': 'US', 'name': 'United States o...      5/19/58     65.0   \n",
       "2  [{'iso_3166_1': 'US', 'name': 'United States o...      5/23/97    100.0   \n",
       "3  [{'iso_3166_1': 'CA', 'name': 'Canada'}, {'iso...       9/4/10    130.0   \n",
       "4  [{'iso_3166_1': 'US', 'name': 'United States o...      2/11/05     92.0   \n",
       "\n",
       "                                    spoken_languages    status  \\\n",
       "0  [{'iso_639_1': 'en', 'name': 'English'}, {'iso...  Released   \n",
       "1           [{'iso_639_1': 'en', 'name': 'English'}]  Released   \n",
       "2           [{'iso_639_1': 'en', 'name': 'English'}]  Released   \n",
       "3  [{'iso_639_1': 'fr', 'name': 'Français'}, {'is...  Released   \n",
       "4           [{'iso_639_1': 'en', 'name': 'English'}]  Released   \n",
       "\n",
       "                                             tagline  \\\n",
       "0  Somewhere Between Time & Space... A Legend Is ...   \n",
       "1  A titanic beauty spreads a macabre wave of hor...   \n",
       "2          A Comedy About Lost Loves And Last Laughs   \n",
       "3  The search began at the opening of their mothe...   \n",
       "4  It was filmed in 6 days for 25 thousand dollar...   \n",
       "\n",
       "                          title  \\\n",
       "0  Pokémon: The Rise of Darkrai   \n",
       "1   Attack of the 50 Foot Woman   \n",
       "2              Addicted to Love   \n",
       "3                     Incendies   \n",
       "4            Inside Deep Throat   \n",
       "\n",
       "                                            Keywords  \\\n",
       "0  [{'id': 11451, 'name': 'pok√©mon'}, {'id': 115...   \n",
       "1  [{'id': 9748, 'name': 'revenge'}, {'id': 9951,...   \n",
       "2  [{'id': 931, 'name': 'jealousy'}, {'id': 9673,...   \n",
       "3  [{'id': 378, 'name': 'prison'}, {'id': 539, 'n...   \n",
       "4  [{'id': 279, 'name': 'usa'}, {'id': 1228, 'nam...   \n",
       "\n",
       "                                                cast  \\\n",
       "0  [{'cast_id': 3, 'character': 'Tonio', 'credit_...   \n",
       "1  [{'cast_id': 2, 'character': 'Nancy Fowler Arc...   \n",
       "2  [{'cast_id': 11, 'character': 'Maggie', 'credi...   \n",
       "3  [{'cast_id': 6, 'character': 'Nawal', 'credit_...   \n",
       "4  [{'cast_id': 1, 'character': 'Narrator (voice)...   \n",
       "\n",
       "                                                crew  \n",
       "0  [{'credit_id': '52fe44e7c3a368484e03d683', 'de...  \n",
       "1  [{'credit_id': '55807805c3a3685b1300060b', 'de...  \n",
       "2  [{'credit_id': '52fe4330c3a36847f8041367', 'de...  \n",
       "3  [{'credit_id': '56478092c3a36826140043af', 'de...  \n",
       "4  [{'credit_id': '52fe44ce9251416c75041967', 'de...  "
      ]
     },
     "execution_count": 4,
     "metadata": {},
     "output_type": "execute_result"
    }
   ],
   "source": [
    "test.head()"
   ]
  },
  {
   "cell_type": "code",
   "execution_count": 5,
   "metadata": {},
   "outputs": [
    {
     "data": {
      "text/html": [
       "<div>\n",
       "<style scoped>\n",
       "    .dataframe tbody tr th:only-of-type {\n",
       "        vertical-align: middle;\n",
       "    }\n",
       "\n",
       "    .dataframe tbody tr th {\n",
       "        vertical-align: top;\n",
       "    }\n",
       "\n",
       "    .dataframe thead th {\n",
       "        text-align: right;\n",
       "    }\n",
       "</style>\n",
       "<table border=\"1\" class=\"dataframe\">\n",
       "  <thead>\n",
       "    <tr style=\"text-align: right;\">\n",
       "      <th></th>\n",
       "      <th>id</th>\n",
       "      <th>revenue</th>\n",
       "    </tr>\n",
       "  </thead>\n",
       "  <tbody>\n",
       "    <tr>\n",
       "      <th>0</th>\n",
       "      <td>3001</td>\n",
       "      <td>1000000</td>\n",
       "    </tr>\n",
       "    <tr>\n",
       "      <th>1</th>\n",
       "      <td>3002</td>\n",
       "      <td>1000000</td>\n",
       "    </tr>\n",
       "    <tr>\n",
       "      <th>2</th>\n",
       "      <td>3003</td>\n",
       "      <td>1000000</td>\n",
       "    </tr>\n",
       "    <tr>\n",
       "      <th>3</th>\n",
       "      <td>3004</td>\n",
       "      <td>1000000</td>\n",
       "    </tr>\n",
       "    <tr>\n",
       "      <th>4</th>\n",
       "      <td>3005</td>\n",
       "      <td>1000000</td>\n",
       "    </tr>\n",
       "  </tbody>\n",
       "</table>\n",
       "</div>"
      ],
      "text/plain": [
       "     id  revenue\n",
       "0  3001  1000000\n",
       "1  3002  1000000\n",
       "2  3003  1000000\n",
       "3  3004  1000000\n",
       "4  3005  1000000"
      ]
     },
     "execution_count": 5,
     "metadata": {},
     "output_type": "execute_result"
    }
   ],
   "source": [
    "sample.head()"
   ]
  },
  {
   "cell_type": "code",
   "execution_count": 6,
   "metadata": {},
   "outputs": [
    {
     "data": {
      "text/plain": [
       "((3000, 23), (4398, 22))"
      ]
     },
     "execution_count": 6,
     "metadata": {},
     "output_type": "execute_result"
    }
   ],
   "source": [
    "train.shape, test.shape"
   ]
  },
  {
   "cell_type": "markdown",
   "metadata": {},
   "source": [
    "# EDA"
   ]
  },
  {
   "cell_type": "markdown",
   "metadata": {},
   "source": [
    "# Belongs To Collection"
   ]
  },
  {
   "cell_type": "code",
   "execution_count": 7,
   "metadata": {},
   "outputs": [
    {
     "name": "stdout",
     "output_type": "stream",
     "text": [
      "[{'id': 313576, 'name': 'Hot Tub Time Machine Collection', 'poster_path': '/iEhb00TGPucF0b4joM1ieyY026U.jpg', 'backdrop_path': '/noeTVcgpBiD48fDjFVic1Vz7ope.jpg'}]\n",
      "[{'id': 107674, 'name': 'The Princess Diaries Collection', 'poster_path': '/wt5AMbxPTS4Kfjx7Fgm149qPfZl.jpg', 'backdrop_path': '/zSEtYD77pKRJlUPx34BJgUG9v1c.jpg'}]\n",
      "nan\n",
      "nan\n",
      "nan\n",
      "nan\n",
      "nan\n",
      "nan\n",
      "[{'id': 256377, 'name': 'The Muppet Collection', 'poster_path': '/8Ew8EIdFFurMMYjSbWPu1Hl4vLX.jpg', 'backdrop_path': '/1AWd3MM90G47mxtD112gRDxSXY9.jpg'}]\n",
      "nan\n"
     ]
    }
   ],
   "source": [
    "for i in range(10):\n",
    "    print(train['belongs_to_collection'][i])"
   ]
  },
  {
   "cell_type": "code",
   "execution_count": 8,
   "metadata": {},
   "outputs": [
    {
     "data": {
      "text/plain": [
       "id                          0\n",
       "belongs_to_collection    2396\n",
       "budget                      0\n",
       "genres                      7\n",
       "homepage                 2054\n",
       "imdb_id                     0\n",
       "original_language           0\n",
       "original_title              0\n",
       "overview                    8\n",
       "popularity                  0\n",
       "poster_path                 1\n",
       "production_companies      156\n",
       "production_countries       55\n",
       "release_date                0\n",
       "runtime                     2\n",
       "spoken_languages           20\n",
       "status                      0\n",
       "tagline                   597\n",
       "title                       0\n",
       "Keywords                  276\n",
       "cast                       13\n",
       "crew                       16\n",
       "revenue                     0\n",
       "dtype: int64"
      ]
     },
     "execution_count": 8,
     "metadata": {},
     "output_type": "execute_result"
    }
   ],
   "source": [
    "train.isnull().sum()"
   ]
  },
  {
   "cell_type": "code",
   "execution_count": 9,
   "metadata": {},
   "outputs": [
    {
     "data": {
      "text/plain": [
       "id                          0\n",
       "belongs_to_collection    3521\n",
       "budget                      0\n",
       "genres                     16\n",
       "homepage                 2978\n",
       "imdb_id                     0\n",
       "original_language           0\n",
       "original_title              0\n",
       "overview                   14\n",
       "popularity                  0\n",
       "poster_path                 1\n",
       "production_companies      258\n",
       "production_countries      102\n",
       "release_date                1\n",
       "runtime                     4\n",
       "spoken_languages           42\n",
       "status                      2\n",
       "tagline                   863\n",
       "title                       3\n",
       "Keywords                  393\n",
       "cast                       13\n",
       "crew                       22\n",
       "dtype: int64"
      ]
     },
     "execution_count": 9,
     "metadata": {},
     "output_type": "execute_result"
    }
   ],
   "source": [
    "test.isnull().sum()"
   ]
  },
  {
   "cell_type": "code",
   "execution_count": 10,
   "metadata": {},
   "outputs": [],
   "source": [
    "train.drop(['belongs_to_collection'], axis=1, inplace=True)\n",
    "test.drop(['belongs_to_collection'], axis=1, inplace=True)"
   ]
  },
  {
   "cell_type": "markdown",
   "metadata": {},
   "source": [
    "# Genres"
   ]
  },
  {
   "cell_type": "code",
   "execution_count": 11,
   "metadata": {},
   "outputs": [
    {
     "name": "stdout",
     "output_type": "stream",
     "text": [
      "[{'id': 35, 'name': 'Comedy'}]\n",
      "[{'id': 35, 'name': 'Comedy'}, {'id': 18, 'name': 'Drama'}, {'id': 10751, 'name': 'Family'}, {'id': 10749, 'name': 'Romance'}]\n",
      "[{'id': 18, 'name': 'Drama'}]\n",
      "[{'id': 53, 'name': 'Thriller'}, {'id': 18, 'name': 'Drama'}]\n",
      "[{'id': 28, 'name': 'Action'}, {'id': 53, 'name': 'Thriller'}]\n",
      "[{'id': 16, 'name': 'Animation'}, {'id': 12, 'name': 'Adventure'}, {'id': 10751, 'name': 'Family'}]\n",
      "[{'id': 27, 'name': 'Horror'}, {'id': 53, 'name': 'Thriller'}]\n",
      "[{'id': 99, 'name': 'Documentary'}]\n",
      "[{'id': 28, 'name': 'Action'}, {'id': 35, 'name': 'Comedy'}, {'id': 10402, 'name': 'Music'}, {'id': 10751, 'name': 'Family'}, {'id': 12, 'name': 'Adventure'}]\n",
      "[{'id': 35, 'name': 'Comedy'}, {'id': 10402, 'name': 'Music'}]\n"
     ]
    }
   ],
   "source": [
    "for i in range(10):\n",
    "    print(train['genres'][i])"
   ]
  },
  {
   "cell_type": "markdown",
   "metadata": {},
   "source": [
    "### We Should just extract the useful info (in this case we just need the genre of the movie)"
   ]
  },
  {
   "cell_type": "code",
   "execution_count": 12,
   "metadata": {},
   "outputs": [
    {
     "name": "stdout",
     "output_type": "stream",
     "text": [
      "id                                                                      2\n",
      "budget                                                           40000000\n",
      "genres                  [{'id': 35, 'name': 'Comedy'}, {'id': 18, 'nam...\n",
      "homepage                                                              NaN\n",
      "imdb_id                                                         tt0368933\n",
      "original_language                                                      en\n",
      "original_title                   The Princess Diaries 2: Royal Engagement\n",
      "overview                Mia Thermopolis is now a college graduate and ...\n",
      "popularity                                                        8.24889\n",
      "poster_path                              /w9Z7A0GHEhIp7etpj0vyKOeU1Wx.jpg\n",
      "production_companies          [{'name': 'Walt Disney Pictures', 'id': 2}]\n",
      "production_countries    [{'iso_3166_1': 'US', 'name': 'United States o...\n",
      "release_date                                                       8/6/04\n",
      "runtime                                                               113\n",
      "spoken_languages                 [{'iso_639_1': 'en', 'name': 'English'}]\n",
      "status                                                           Released\n",
      "tagline                 It can take a lifetime to find true love; she'...\n",
      "title                            The Princess Diaries 2: Royal Engagement\n",
      "Keywords                [{'id': 2505, 'name': 'coronation'}, {'id': 42...\n",
      "cast                    [{'cast_id': 1, 'character': 'Mia Thermopolis'...\n",
      "crew                    [{'credit_id': '52fe43fe9251416c7502563d', 'de...\n",
      "revenue                                                          95149435\n",
      "Name: 1, dtype: object\n"
     ]
    }
   ],
   "source": [
    "print(train.iloc[1, :])"
   ]
  },
  {
   "cell_type": "code",
   "execution_count": 13,
   "metadata": {},
   "outputs": [],
   "source": [
    "def get_dict(s):\n",
    "    try:\n",
    "        d = eval(s)\n",
    "    except:\n",
    "        d = {}\n",
    "    return d"
   ]
  },
  {
   "cell_type": "code",
   "execution_count": 14,
   "metadata": {},
   "outputs": [
    {
     "data": {
      "text/html": [
       "<div>\n",
       "<style scoped>\n",
       "    .dataframe tbody tr th:only-of-type {\n",
       "        vertical-align: middle;\n",
       "    }\n",
       "\n",
       "    .dataframe tbody tr th {\n",
       "        vertical-align: top;\n",
       "    }\n",
       "\n",
       "    .dataframe thead th {\n",
       "        text-align: right;\n",
       "    }\n",
       "</style>\n",
       "<table border=\"1\" class=\"dataframe\">\n",
       "  <thead>\n",
       "    <tr style=\"text-align: right;\">\n",
       "      <th></th>\n",
       "      <th>genre_name</th>\n",
       "    </tr>\n",
       "  </thead>\n",
       "  <tbody>\n",
       "  </tbody>\n",
       "</table>\n",
       "</div>"
      ],
      "text/plain": [
       "Empty DataFrame\n",
       "Columns: [genre_name]\n",
       "Index: []"
      ]
     },
     "execution_count": 14,
     "metadata": {},
     "output_type": "execute_result"
    }
   ],
   "source": [
    "gn = pd.DataFrame(columns=['genre_name'])\n",
    "gn"
   ]
  },
  {
   "cell_type": "code",
   "execution_count": 15,
   "metadata": {},
   "outputs": [
    {
     "data": {
      "text/html": [
       "<div>\n",
       "<style scoped>\n",
       "    .dataframe tbody tr th:only-of-type {\n",
       "        vertical-align: middle;\n",
       "    }\n",
       "\n",
       "    .dataframe tbody tr th {\n",
       "        vertical-align: top;\n",
       "    }\n",
       "\n",
       "    .dataframe thead th {\n",
       "        text-align: right;\n",
       "    }\n",
       "</style>\n",
       "<table border=\"1\" class=\"dataframe\">\n",
       "  <thead>\n",
       "    <tr style=\"text-align: right;\">\n",
       "      <th></th>\n",
       "      <th>id</th>\n",
       "      <th>budget</th>\n",
       "      <th>genres</th>\n",
       "      <th>homepage</th>\n",
       "      <th>imdb_id</th>\n",
       "      <th>original_language</th>\n",
       "      <th>original_title</th>\n",
       "      <th>overview</th>\n",
       "      <th>popularity</th>\n",
       "      <th>poster_path</th>\n",
       "      <th>production_companies</th>\n",
       "      <th>production_countries</th>\n",
       "      <th>release_date</th>\n",
       "      <th>runtime</th>\n",
       "      <th>spoken_languages</th>\n",
       "      <th>status</th>\n",
       "      <th>tagline</th>\n",
       "      <th>title</th>\n",
       "      <th>Keywords</th>\n",
       "      <th>cast</th>\n",
       "      <th>crew</th>\n",
       "      <th>revenue</th>\n",
       "      <th>genre_name</th>\n",
       "    </tr>\n",
       "  </thead>\n",
       "  <tbody>\n",
       "    <tr>\n",
       "      <th>0</th>\n",
       "      <td>1</td>\n",
       "      <td>14000000</td>\n",
       "      <td>[{'id': 35, 'name': 'Comedy'}]</td>\n",
       "      <td>NaN</td>\n",
       "      <td>tt2637294</td>\n",
       "      <td>en</td>\n",
       "      <td>Hot Tub Time Machine 2</td>\n",
       "      <td>When Lou, who has become the \"father of the In...</td>\n",
       "      <td>6.575393</td>\n",
       "      <td>/tQtWuwvMf0hCc2QR2tkolwl7c3c.jpg</td>\n",
       "      <td>[{'name': 'Paramount Pictures', 'id': 4}, {'na...</td>\n",
       "      <td>[{'iso_3166_1': 'US', 'name': 'United States o...</td>\n",
       "      <td>2/20/15</td>\n",
       "      <td>93.0</td>\n",
       "      <td>[{'iso_639_1': 'en', 'name': 'English'}]</td>\n",
       "      <td>Released</td>\n",
       "      <td>The Laws of Space and Time are About to be Vio...</td>\n",
       "      <td>Hot Tub Time Machine 2</td>\n",
       "      <td>[{'id': 4379, 'name': 'time travel'}, {'id': 9...</td>\n",
       "      <td>[{'cast_id': 4, 'character': 'Lou', 'credit_id...</td>\n",
       "      <td>[{'credit_id': '59ac067c92514107af02c8c8', 'de...</td>\n",
       "      <td>12314651</td>\n",
       "      <td>NaN</td>\n",
       "    </tr>\n",
       "    <tr>\n",
       "      <th>1</th>\n",
       "      <td>2</td>\n",
       "      <td>40000000</td>\n",
       "      <td>[{'id': 35, 'name': 'Comedy'}, {'id': 18, 'nam...</td>\n",
       "      <td>NaN</td>\n",
       "      <td>tt0368933</td>\n",
       "      <td>en</td>\n",
       "      <td>The Princess Diaries 2: Royal Engagement</td>\n",
       "      <td>Mia Thermopolis is now a college graduate and ...</td>\n",
       "      <td>8.248895</td>\n",
       "      <td>/w9Z7A0GHEhIp7etpj0vyKOeU1Wx.jpg</td>\n",
       "      <td>[{'name': 'Walt Disney Pictures', 'id': 2}]</td>\n",
       "      <td>[{'iso_3166_1': 'US', 'name': 'United States o...</td>\n",
       "      <td>8/6/04</td>\n",
       "      <td>113.0</td>\n",
       "      <td>[{'iso_639_1': 'en', 'name': 'English'}]</td>\n",
       "      <td>Released</td>\n",
       "      <td>It can take a lifetime to find true love; she'...</td>\n",
       "      <td>The Princess Diaries 2: Royal Engagement</td>\n",
       "      <td>[{'id': 2505, 'name': 'coronation'}, {'id': 42...</td>\n",
       "      <td>[{'cast_id': 1, 'character': 'Mia Thermopolis'...</td>\n",
       "      <td>[{'credit_id': '52fe43fe9251416c7502563d', 'de...</td>\n",
       "      <td>95149435</td>\n",
       "      <td>NaN</td>\n",
       "    </tr>\n",
       "    <tr>\n",
       "      <th>2</th>\n",
       "      <td>3</td>\n",
       "      <td>3300000</td>\n",
       "      <td>[{'id': 18, 'name': 'Drama'}]</td>\n",
       "      <td>http://sonyclassics.com/whiplash/</td>\n",
       "      <td>tt2582802</td>\n",
       "      <td>en</td>\n",
       "      <td>Whiplash</td>\n",
       "      <td>Under the direction of a ruthless instructor, ...</td>\n",
       "      <td>64.299990</td>\n",
       "      <td>/lIv1QinFqz4dlp5U4lQ6HaiskOZ.jpg</td>\n",
       "      <td>[{'name': 'Bold Films', 'id': 2266}, {'name': ...</td>\n",
       "      <td>[{'iso_3166_1': 'US', 'name': 'United States o...</td>\n",
       "      <td>10/10/14</td>\n",
       "      <td>105.0</td>\n",
       "      <td>[{'iso_639_1': 'en', 'name': 'English'}]</td>\n",
       "      <td>Released</td>\n",
       "      <td>The road to greatness can take you to the edge.</td>\n",
       "      <td>Whiplash</td>\n",
       "      <td>[{'id': 1416, 'name': 'jazz'}, {'id': 1523, 'n...</td>\n",
       "      <td>[{'cast_id': 5, 'character': 'Andrew Neimann',...</td>\n",
       "      <td>[{'credit_id': '54d5356ec3a3683ba0000039', 'de...</td>\n",
       "      <td>13092000</td>\n",
       "      <td>NaN</td>\n",
       "    </tr>\n",
       "    <tr>\n",
       "      <th>3</th>\n",
       "      <td>4</td>\n",
       "      <td>1200000</td>\n",
       "      <td>[{'id': 53, 'name': 'Thriller'}, {'id': 18, 'n...</td>\n",
       "      <td>http://kahaanithefilm.com/</td>\n",
       "      <td>tt1821480</td>\n",
       "      <td>hi</td>\n",
       "      <td>Kahaani</td>\n",
       "      <td>Vidya Bagchi (Vidya Balan) arrives in Kolkata ...</td>\n",
       "      <td>3.174936</td>\n",
       "      <td>/aTXRaPrWSinhcmCrcfJK17urp3F.jpg</td>\n",
       "      <td>NaN</td>\n",
       "      <td>[{'iso_3166_1': 'IN', 'name': 'India'}]</td>\n",
       "      <td>3/9/12</td>\n",
       "      <td>122.0</td>\n",
       "      <td>[{'iso_639_1': 'en', 'name': 'English'}, {'iso...</td>\n",
       "      <td>Released</td>\n",
       "      <td>NaN</td>\n",
       "      <td>Kahaani</td>\n",
       "      <td>[{'id': 10092, 'name': 'mystery'}, {'id': 1054...</td>\n",
       "      <td>[{'cast_id': 1, 'character': 'Vidya Bagchi', '...</td>\n",
       "      <td>[{'credit_id': '52fe48779251416c9108d6eb', 'de...</td>\n",
       "      <td>16000000</td>\n",
       "      <td>NaN</td>\n",
       "    </tr>\n",
       "    <tr>\n",
       "      <th>4</th>\n",
       "      <td>5</td>\n",
       "      <td>0</td>\n",
       "      <td>[{'id': 28, 'name': 'Action'}, {'id': 53, 'nam...</td>\n",
       "      <td>NaN</td>\n",
       "      <td>tt1380152</td>\n",
       "      <td>ko</td>\n",
       "      <td>마린보이</td>\n",
       "      <td>Marine Boy is the story of a former national s...</td>\n",
       "      <td>1.148070</td>\n",
       "      <td>/m22s7zvkVFDU9ir56PiiqIEWFdT.jpg</td>\n",
       "      <td>NaN</td>\n",
       "      <td>[{'iso_3166_1': 'KR', 'name': 'South Korea'}]</td>\n",
       "      <td>2/5/09</td>\n",
       "      <td>118.0</td>\n",
       "      <td>[{'iso_639_1': 'ko', 'name': '한국어/조선말'}]</td>\n",
       "      <td>Released</td>\n",
       "      <td>NaN</td>\n",
       "      <td>Marine Boy</td>\n",
       "      <td>NaN</td>\n",
       "      <td>[{'cast_id': 3, 'character': 'Chun-soo', 'cred...</td>\n",
       "      <td>[{'credit_id': '52fe464b9251416c75073b43', 'de...</td>\n",
       "      <td>3923970</td>\n",
       "      <td>NaN</td>\n",
       "    </tr>\n",
       "  </tbody>\n",
       "</table>\n",
       "</div>"
      ],
      "text/plain": [
       "   id    budget                                             genres  \\\n",
       "0   1  14000000                     [{'id': 35, 'name': 'Comedy'}]   \n",
       "1   2  40000000  [{'id': 35, 'name': 'Comedy'}, {'id': 18, 'nam...   \n",
       "2   3   3300000                      [{'id': 18, 'name': 'Drama'}]   \n",
       "3   4   1200000  [{'id': 53, 'name': 'Thriller'}, {'id': 18, 'n...   \n",
       "4   5         0  [{'id': 28, 'name': 'Action'}, {'id': 53, 'nam...   \n",
       "\n",
       "                            homepage    imdb_id original_language  \\\n",
       "0                                NaN  tt2637294                en   \n",
       "1                                NaN  tt0368933                en   \n",
       "2  http://sonyclassics.com/whiplash/  tt2582802                en   \n",
       "3         http://kahaanithefilm.com/  tt1821480                hi   \n",
       "4                                NaN  tt1380152                ko   \n",
       "\n",
       "                             original_title  \\\n",
       "0                    Hot Tub Time Machine 2   \n",
       "1  The Princess Diaries 2: Royal Engagement   \n",
       "2                                  Whiplash   \n",
       "3                                   Kahaani   \n",
       "4                                      마린보이   \n",
       "\n",
       "                                            overview  popularity  \\\n",
       "0  When Lou, who has become the \"father of the In...    6.575393   \n",
       "1  Mia Thermopolis is now a college graduate and ...    8.248895   \n",
       "2  Under the direction of a ruthless instructor, ...   64.299990   \n",
       "3  Vidya Bagchi (Vidya Balan) arrives in Kolkata ...    3.174936   \n",
       "4  Marine Boy is the story of a former national s...    1.148070   \n",
       "\n",
       "                        poster_path  \\\n",
       "0  /tQtWuwvMf0hCc2QR2tkolwl7c3c.jpg   \n",
       "1  /w9Z7A0GHEhIp7etpj0vyKOeU1Wx.jpg   \n",
       "2  /lIv1QinFqz4dlp5U4lQ6HaiskOZ.jpg   \n",
       "3  /aTXRaPrWSinhcmCrcfJK17urp3F.jpg   \n",
       "4  /m22s7zvkVFDU9ir56PiiqIEWFdT.jpg   \n",
       "\n",
       "                                production_companies  \\\n",
       "0  [{'name': 'Paramount Pictures', 'id': 4}, {'na...   \n",
       "1        [{'name': 'Walt Disney Pictures', 'id': 2}]   \n",
       "2  [{'name': 'Bold Films', 'id': 2266}, {'name': ...   \n",
       "3                                                NaN   \n",
       "4                                                NaN   \n",
       "\n",
       "                                production_countries release_date  runtime  \\\n",
       "0  [{'iso_3166_1': 'US', 'name': 'United States o...      2/20/15     93.0   \n",
       "1  [{'iso_3166_1': 'US', 'name': 'United States o...       8/6/04    113.0   \n",
       "2  [{'iso_3166_1': 'US', 'name': 'United States o...     10/10/14    105.0   \n",
       "3            [{'iso_3166_1': 'IN', 'name': 'India'}]       3/9/12    122.0   \n",
       "4      [{'iso_3166_1': 'KR', 'name': 'South Korea'}]       2/5/09    118.0   \n",
       "\n",
       "                                    spoken_languages    status  \\\n",
       "0           [{'iso_639_1': 'en', 'name': 'English'}]  Released   \n",
       "1           [{'iso_639_1': 'en', 'name': 'English'}]  Released   \n",
       "2           [{'iso_639_1': 'en', 'name': 'English'}]  Released   \n",
       "3  [{'iso_639_1': 'en', 'name': 'English'}, {'iso...  Released   \n",
       "4           [{'iso_639_1': 'ko', 'name': '한국어/조선말'}]  Released   \n",
       "\n",
       "                                             tagline  \\\n",
       "0  The Laws of Space and Time are About to be Vio...   \n",
       "1  It can take a lifetime to find true love; she'...   \n",
       "2    The road to greatness can take you to the edge.   \n",
       "3                                                NaN   \n",
       "4                                                NaN   \n",
       "\n",
       "                                      title  \\\n",
       "0                    Hot Tub Time Machine 2   \n",
       "1  The Princess Diaries 2: Royal Engagement   \n",
       "2                                  Whiplash   \n",
       "3                                   Kahaani   \n",
       "4                                Marine Boy   \n",
       "\n",
       "                                            Keywords  \\\n",
       "0  [{'id': 4379, 'name': 'time travel'}, {'id': 9...   \n",
       "1  [{'id': 2505, 'name': 'coronation'}, {'id': 42...   \n",
       "2  [{'id': 1416, 'name': 'jazz'}, {'id': 1523, 'n...   \n",
       "3  [{'id': 10092, 'name': 'mystery'}, {'id': 1054...   \n",
       "4                                                NaN   \n",
       "\n",
       "                                                cast  \\\n",
       "0  [{'cast_id': 4, 'character': 'Lou', 'credit_id...   \n",
       "1  [{'cast_id': 1, 'character': 'Mia Thermopolis'...   \n",
       "2  [{'cast_id': 5, 'character': 'Andrew Neimann',...   \n",
       "3  [{'cast_id': 1, 'character': 'Vidya Bagchi', '...   \n",
       "4  [{'cast_id': 3, 'character': 'Chun-soo', 'cred...   \n",
       "\n",
       "                                                crew   revenue genre_name  \n",
       "0  [{'credit_id': '59ac067c92514107af02c8c8', 'de...  12314651        NaN  \n",
       "1  [{'credit_id': '52fe43fe9251416c7502563d', 'de...  95149435        NaN  \n",
       "2  [{'credit_id': '54d5356ec3a3683ba0000039', 'de...  13092000        NaN  \n",
       "3  [{'credit_id': '52fe48779251416c9108d6eb', 'de...  16000000        NaN  \n",
       "4  [{'credit_id': '52fe464b9251416c75073b43', 'de...   3923970        NaN  "
      ]
     },
     "execution_count": 15,
     "metadata": {},
     "output_type": "execute_result"
    }
   ],
   "source": [
    "train = pd.concat([train, gn], axis=1)\n",
    "train.head()"
   ]
  },
  {
   "cell_type": "code",
   "execution_count": 16,
   "metadata": {},
   "outputs": [
    {
     "data": {
      "text/html": [
       "<div>\n",
       "<style scoped>\n",
       "    .dataframe tbody tr th:only-of-type {\n",
       "        vertical-align: middle;\n",
       "    }\n",
       "\n",
       "    .dataframe tbody tr th {\n",
       "        vertical-align: top;\n",
       "    }\n",
       "\n",
       "    .dataframe thead th {\n",
       "        text-align: right;\n",
       "    }\n",
       "</style>\n",
       "<table border=\"1\" class=\"dataframe\">\n",
       "  <thead>\n",
       "    <tr style=\"text-align: right;\">\n",
       "      <th></th>\n",
       "      <th>id</th>\n",
       "      <th>budget</th>\n",
       "      <th>genres</th>\n",
       "      <th>homepage</th>\n",
       "      <th>imdb_id</th>\n",
       "      <th>original_language</th>\n",
       "      <th>original_title</th>\n",
       "      <th>overview</th>\n",
       "      <th>popularity</th>\n",
       "      <th>poster_path</th>\n",
       "      <th>production_companies</th>\n",
       "      <th>production_countries</th>\n",
       "      <th>release_date</th>\n",
       "      <th>runtime</th>\n",
       "      <th>spoken_languages</th>\n",
       "      <th>status</th>\n",
       "      <th>tagline</th>\n",
       "      <th>title</th>\n",
       "      <th>Keywords</th>\n",
       "      <th>cast</th>\n",
       "      <th>crew</th>\n",
       "      <th>genre_name</th>\n",
       "    </tr>\n",
       "  </thead>\n",
       "  <tbody>\n",
       "    <tr>\n",
       "      <th>0</th>\n",
       "      <td>3001</td>\n",
       "      <td>0</td>\n",
       "      <td>[{'id': 12, 'name': 'Adventure'}, {'id': 16, '...</td>\n",
       "      <td>http://www.pokemon.com/us/movies/movie-pokemon...</td>\n",
       "      <td>tt1226251</td>\n",
       "      <td>ja</td>\n",
       "      <td>ディアルガVSパルキアVSダークライ</td>\n",
       "      <td>Ash and friends (this time accompanied by newc...</td>\n",
       "      <td>3.851534</td>\n",
       "      <td>/tnftmLMemPLduW6MRyZE0ZUD19z.jpg</td>\n",
       "      <td>NaN</td>\n",
       "      <td>[{'iso_3166_1': 'JP', 'name': 'Japan'}, {'iso_...</td>\n",
       "      <td>7/14/07</td>\n",
       "      <td>90.0</td>\n",
       "      <td>[{'iso_639_1': 'en', 'name': 'English'}, {'iso...</td>\n",
       "      <td>Released</td>\n",
       "      <td>Somewhere Between Time &amp; Space... A Legend Is ...</td>\n",
       "      <td>Pokémon: The Rise of Darkrai</td>\n",
       "      <td>[{'id': 11451, 'name': 'pok√©mon'}, {'id': 115...</td>\n",
       "      <td>[{'cast_id': 3, 'character': 'Tonio', 'credit_...</td>\n",
       "      <td>[{'credit_id': '52fe44e7c3a368484e03d683', 'de...</td>\n",
       "      <td>NaN</td>\n",
       "    </tr>\n",
       "    <tr>\n",
       "      <th>1</th>\n",
       "      <td>3002</td>\n",
       "      <td>88000</td>\n",
       "      <td>[{'id': 27, 'name': 'Horror'}, {'id': 878, 'na...</td>\n",
       "      <td>NaN</td>\n",
       "      <td>tt0051380</td>\n",
       "      <td>en</td>\n",
       "      <td>Attack of the 50 Foot Woman</td>\n",
       "      <td>When an abused wife grows to giant size becaus...</td>\n",
       "      <td>3.559789</td>\n",
       "      <td>/9MgBNBqlH1sG4yG2u4XkwI5CoJa.jpg</td>\n",
       "      <td>[{'name': 'Woolner Brothers Pictures Inc.', 'i...</td>\n",
       "      <td>[{'iso_3166_1': 'US', 'name': 'United States o...</td>\n",
       "      <td>5/19/58</td>\n",
       "      <td>65.0</td>\n",
       "      <td>[{'iso_639_1': 'en', 'name': 'English'}]</td>\n",
       "      <td>Released</td>\n",
       "      <td>A titanic beauty spreads a macabre wave of hor...</td>\n",
       "      <td>Attack of the 50 Foot Woman</td>\n",
       "      <td>[{'id': 9748, 'name': 'revenge'}, {'id': 9951,...</td>\n",
       "      <td>[{'cast_id': 2, 'character': 'Nancy Fowler Arc...</td>\n",
       "      <td>[{'credit_id': '55807805c3a3685b1300060b', 'de...</td>\n",
       "      <td>NaN</td>\n",
       "    </tr>\n",
       "    <tr>\n",
       "      <th>2</th>\n",
       "      <td>3003</td>\n",
       "      <td>0</td>\n",
       "      <td>[{'id': 35, 'name': 'Comedy'}, {'id': 10749, '...</td>\n",
       "      <td>NaN</td>\n",
       "      <td>tt0118556</td>\n",
       "      <td>en</td>\n",
       "      <td>Addicted to Love</td>\n",
       "      <td>Good-natured astronomer Sam is devastated when...</td>\n",
       "      <td>8.085194</td>\n",
       "      <td>/ed6nD7h9sbojSWY2qrnDcSvDFko.jpg</td>\n",
       "      <td>[{'name': 'Warner Bros.', 'id': 6194}, {'name'...</td>\n",
       "      <td>[{'iso_3166_1': 'US', 'name': 'United States o...</td>\n",
       "      <td>5/23/97</td>\n",
       "      <td>100.0</td>\n",
       "      <td>[{'iso_639_1': 'en', 'name': 'English'}]</td>\n",
       "      <td>Released</td>\n",
       "      <td>A Comedy About Lost Loves And Last Laughs</td>\n",
       "      <td>Addicted to Love</td>\n",
       "      <td>[{'id': 931, 'name': 'jealousy'}, {'id': 9673,...</td>\n",
       "      <td>[{'cast_id': 11, 'character': 'Maggie', 'credi...</td>\n",
       "      <td>[{'credit_id': '52fe4330c3a36847f8041367', 'de...</td>\n",
       "      <td>NaN</td>\n",
       "    </tr>\n",
       "    <tr>\n",
       "      <th>3</th>\n",
       "      <td>3004</td>\n",
       "      <td>6800000</td>\n",
       "      <td>[{'id': 18, 'name': 'Drama'}, {'id': 10752, 'n...</td>\n",
       "      <td>http://www.sonyclassics.com/incendies/</td>\n",
       "      <td>tt1255953</td>\n",
       "      <td>fr</td>\n",
       "      <td>Incendies</td>\n",
       "      <td>A mother's last wishes send twins Jeanne and S...</td>\n",
       "      <td>8.596012</td>\n",
       "      <td>/sEUG3qjxwHjxkzuO7plrRHhOZUH.jpg</td>\n",
       "      <td>[{'name': 'TS Productions', 'id': 313}, {'name...</td>\n",
       "      <td>[{'iso_3166_1': 'CA', 'name': 'Canada'}, {'iso...</td>\n",
       "      <td>9/4/10</td>\n",
       "      <td>130.0</td>\n",
       "      <td>[{'iso_639_1': 'fr', 'name': 'Français'}, {'is...</td>\n",
       "      <td>Released</td>\n",
       "      <td>The search began at the opening of their mothe...</td>\n",
       "      <td>Incendies</td>\n",
       "      <td>[{'id': 378, 'name': 'prison'}, {'id': 539, 'n...</td>\n",
       "      <td>[{'cast_id': 6, 'character': 'Nawal', 'credit_...</td>\n",
       "      <td>[{'credit_id': '56478092c3a36826140043af', 'de...</td>\n",
       "      <td>NaN</td>\n",
       "    </tr>\n",
       "    <tr>\n",
       "      <th>4</th>\n",
       "      <td>3005</td>\n",
       "      <td>2000000</td>\n",
       "      <td>[{'id': 36, 'name': 'History'}, {'id': 99, 'na...</td>\n",
       "      <td>NaN</td>\n",
       "      <td>tt0418753</td>\n",
       "      <td>en</td>\n",
       "      <td>Inside Deep Throat</td>\n",
       "      <td>In 1972, a seemingly typical shoestring budget...</td>\n",
       "      <td>3.217680</td>\n",
       "      <td>/n4WC3zbelz6SG7rhkWbf8m9pMHB.jpg</td>\n",
       "      <td>NaN</td>\n",
       "      <td>[{'iso_3166_1': 'US', 'name': 'United States o...</td>\n",
       "      <td>2/11/05</td>\n",
       "      <td>92.0</td>\n",
       "      <td>[{'iso_639_1': 'en', 'name': 'English'}]</td>\n",
       "      <td>Released</td>\n",
       "      <td>It was filmed in 6 days for 25 thousand dollar...</td>\n",
       "      <td>Inside Deep Throat</td>\n",
       "      <td>[{'id': 279, 'name': 'usa'}, {'id': 1228, 'nam...</td>\n",
       "      <td>[{'cast_id': 1, 'character': 'Narrator (voice)...</td>\n",
       "      <td>[{'credit_id': '52fe44ce9251416c75041967', 'de...</td>\n",
       "      <td>NaN</td>\n",
       "    </tr>\n",
       "  </tbody>\n",
       "</table>\n",
       "</div>"
      ],
      "text/plain": [
       "     id   budget                                             genres  \\\n",
       "0  3001        0  [{'id': 12, 'name': 'Adventure'}, {'id': 16, '...   \n",
       "1  3002    88000  [{'id': 27, 'name': 'Horror'}, {'id': 878, 'na...   \n",
       "2  3003        0  [{'id': 35, 'name': 'Comedy'}, {'id': 10749, '...   \n",
       "3  3004  6800000  [{'id': 18, 'name': 'Drama'}, {'id': 10752, 'n...   \n",
       "4  3005  2000000  [{'id': 36, 'name': 'History'}, {'id': 99, 'na...   \n",
       "\n",
       "                                            homepage    imdb_id  \\\n",
       "0  http://www.pokemon.com/us/movies/movie-pokemon...  tt1226251   \n",
       "1                                                NaN  tt0051380   \n",
       "2                                                NaN  tt0118556   \n",
       "3             http://www.sonyclassics.com/incendies/  tt1255953   \n",
       "4                                                NaN  tt0418753   \n",
       "\n",
       "  original_language               original_title  \\\n",
       "0                ja           ディアルガVSパルキアVSダークライ   \n",
       "1                en  Attack of the 50 Foot Woman   \n",
       "2                en             Addicted to Love   \n",
       "3                fr                    Incendies   \n",
       "4                en           Inside Deep Throat   \n",
       "\n",
       "                                            overview  popularity  \\\n",
       "0  Ash and friends (this time accompanied by newc...    3.851534   \n",
       "1  When an abused wife grows to giant size becaus...    3.559789   \n",
       "2  Good-natured astronomer Sam is devastated when...    8.085194   \n",
       "3  A mother's last wishes send twins Jeanne and S...    8.596012   \n",
       "4  In 1972, a seemingly typical shoestring budget...    3.217680   \n",
       "\n",
       "                        poster_path  \\\n",
       "0  /tnftmLMemPLduW6MRyZE0ZUD19z.jpg   \n",
       "1  /9MgBNBqlH1sG4yG2u4XkwI5CoJa.jpg   \n",
       "2  /ed6nD7h9sbojSWY2qrnDcSvDFko.jpg   \n",
       "3  /sEUG3qjxwHjxkzuO7plrRHhOZUH.jpg   \n",
       "4  /n4WC3zbelz6SG7rhkWbf8m9pMHB.jpg   \n",
       "\n",
       "                                production_companies  \\\n",
       "0                                                NaN   \n",
       "1  [{'name': 'Woolner Brothers Pictures Inc.', 'i...   \n",
       "2  [{'name': 'Warner Bros.', 'id': 6194}, {'name'...   \n",
       "3  [{'name': 'TS Productions', 'id': 313}, {'name...   \n",
       "4                                                NaN   \n",
       "\n",
       "                                production_countries release_date  runtime  \\\n",
       "0  [{'iso_3166_1': 'JP', 'name': 'Japan'}, {'iso_...      7/14/07     90.0   \n",
       "1  [{'iso_3166_1': 'US', 'name': 'United States o...      5/19/58     65.0   \n",
       "2  [{'iso_3166_1': 'US', 'name': 'United States o...      5/23/97    100.0   \n",
       "3  [{'iso_3166_1': 'CA', 'name': 'Canada'}, {'iso...       9/4/10    130.0   \n",
       "4  [{'iso_3166_1': 'US', 'name': 'United States o...      2/11/05     92.0   \n",
       "\n",
       "                                    spoken_languages    status  \\\n",
       "0  [{'iso_639_1': 'en', 'name': 'English'}, {'iso...  Released   \n",
       "1           [{'iso_639_1': 'en', 'name': 'English'}]  Released   \n",
       "2           [{'iso_639_1': 'en', 'name': 'English'}]  Released   \n",
       "3  [{'iso_639_1': 'fr', 'name': 'Français'}, {'is...  Released   \n",
       "4           [{'iso_639_1': 'en', 'name': 'English'}]  Released   \n",
       "\n",
       "                                             tagline  \\\n",
       "0  Somewhere Between Time & Space... A Legend Is ...   \n",
       "1  A titanic beauty spreads a macabre wave of hor...   \n",
       "2          A Comedy About Lost Loves And Last Laughs   \n",
       "3  The search began at the opening of their mothe...   \n",
       "4  It was filmed in 6 days for 25 thousand dollar...   \n",
       "\n",
       "                          title  \\\n",
       "0  Pokémon: The Rise of Darkrai   \n",
       "1   Attack of the 50 Foot Woman   \n",
       "2              Addicted to Love   \n",
       "3                     Incendies   \n",
       "4            Inside Deep Throat   \n",
       "\n",
       "                                            Keywords  \\\n",
       "0  [{'id': 11451, 'name': 'pok√©mon'}, {'id': 115...   \n",
       "1  [{'id': 9748, 'name': 'revenge'}, {'id': 9951,...   \n",
       "2  [{'id': 931, 'name': 'jealousy'}, {'id': 9673,...   \n",
       "3  [{'id': 378, 'name': 'prison'}, {'id': 539, 'n...   \n",
       "4  [{'id': 279, 'name': 'usa'}, {'id': 1228, 'nam...   \n",
       "\n",
       "                                                cast  \\\n",
       "0  [{'cast_id': 3, 'character': 'Tonio', 'credit_...   \n",
       "1  [{'cast_id': 2, 'character': 'Nancy Fowler Arc...   \n",
       "2  [{'cast_id': 11, 'character': 'Maggie', 'credi...   \n",
       "3  [{'cast_id': 6, 'character': 'Nawal', 'credit_...   \n",
       "4  [{'cast_id': 1, 'character': 'Narrator (voice)...   \n",
       "\n",
       "                                                crew genre_name  \n",
       "0  [{'credit_id': '52fe44e7c3a368484e03d683', 'de...        NaN  \n",
       "1  [{'credit_id': '55807805c3a3685b1300060b', 'de...        NaN  \n",
       "2  [{'credit_id': '52fe4330c3a36847f8041367', 'de...        NaN  \n",
       "3  [{'credit_id': '56478092c3a36826140043af', 'de...        NaN  \n",
       "4  [{'credit_id': '52fe44ce9251416c75041967', 'de...        NaN  "
      ]
     },
     "execution_count": 16,
     "metadata": {},
     "output_type": "execute_result"
    }
   ],
   "source": [
    "test = pd.concat([test, gn], axis=1)\n",
    "test.head()"
   ]
  },
  {
   "cell_type": "code",
   "execution_count": 17,
   "metadata": {},
   "outputs": [],
   "source": [
    "j = 0\n",
    "for i in train['genres']:\n",
    "    d = get_dict(i)\n",
    "    if d != {}:\n",
    "        train['genre_name'][j] = d[0]['name'] \n",
    "    else:\n",
    "         train['genre_name'][j] = np.NaN\n",
    "    j += 1\n",
    "\n",
    "j = 0\n",
    "for i in test['genres']:\n",
    "    d = get_dict(i)\n",
    "    if d != {}:\n",
    "        test['genre_name'][j] = d[0]['name'] \n",
    "    else:\n",
    "         test['genre_name'][j] = np.NaN\n",
    "    j += 1"
   ]
  },
  {
   "cell_type": "code",
   "execution_count": 18,
   "metadata": {},
   "outputs": [],
   "source": [
    "train.drop(['genres'], axis=1, inplace=True)\n",
    "test.drop(['genres'], axis=1, inplace=True)"
   ]
  },
  {
   "cell_type": "markdown",
   "metadata": {},
   "source": [
    "# Budget"
   ]
  },
  {
   "cell_type": "code",
   "execution_count": 19,
   "metadata": {},
   "outputs": [
    {
     "data": {
      "text/plain": [
       "array([ 14000000,  40000000,   3300000,   1200000,         0,   8000000,\n",
       "         6000000,   1000000,  15000000,  53000000, 102000000,    500000,\n",
       "        26000000,  32000000,  80000000,   4000000,  10000000,  11000000,\n",
       "        45000000,  13000000,  90000000, 140000000,  30000000,  50000000,\n",
       "         3800000,   3000000,  25000000,   3906840,  44000000,  38000000,\n",
       "          560000,  12000000,  20000000, 125000000, 150000000,   5000000,\n",
       "         1500000,   2000000,  85000000,  29000000,    445000,  17000000,\n",
       "        10284523,  43000000,  28000000,   7500000,  35000000,   2500000,\n",
       "        10500000,   7000000,  60000000,  10900000,  31000000,  72000000,\n",
       "        75000000, 100000000,  93000000,  12716953,  18000000,   2400000,\n",
       "        65000000,   9000000, 110000000,  14320000,   3500000,  39200000,\n",
       "        63600000,    125000,  19000000,  12468389,  82500000,    259000,\n",
       "       180000000,   4500000,  24000000,  12600000,  55000000,   3200000,\n",
       "        22000000,   6700000,   2600000,  49000000,   6244087,    800000,\n",
       "        70000000,  23000000,  18339750,   7920000,  12560000,  98000000,\n",
       "         8500000,     11178,   9500000,     24554,     27000,  21000000,\n",
       "        72500000,   2915739,  16000000, 160000000,    225000, 108000000,\n",
       "       175000000, 115000000, 135000000,  71000000,         1,  27000000,\n",
       "        36000000,        12,    350000,   7200000,  20500000, 130000000,\n",
       "         2200000,  15400000,      7000,  13100000,  74500000,   6843500,\n",
       "         7075038,  18500000,  87000000,   3750000,   2900000,    810000,\n",
       "        57000000,    762241,  10300000,   1288000,    250000,  16500000,\n",
       "             113,  48000000,  13500000,    590235,   2800000,     60000,\n",
       "         6500000,    910000,        93, 149000000,  62000000,  78146652,\n",
       "         4100000,   6900000,  79000000,   5800000,  14500000,   2700000,\n",
       "        10400000,     90000,   5500000,    100000,    700000,   8575000,\n",
       "          300000,         6,  39000000,     20000,  11500000,  54000000,\n",
       "       250000000,   6300000,   2650000,   6400000,   4200000,   1271000,\n",
       "       113000000,   2053648,   9250000, 103000000,   8250000,    967686,\n",
       "           50000, 200000000, 105000000,  22500000,   1601792,  94000000,\n",
       "         1300000,         8,  42000000,  33000000,    886000,   3860000,\n",
       "        10721568,    355000,   2196531,  59000000,   9750000,    151000,\n",
       "        88000000,   7700000,  37000000, 185000000,   9600000,    940000,\n",
       "       195000000,    143149, 163000000,    558000,  25530000,    609000,\n",
       "         6788000,  73000000,   9200000,    137731,   1800000,    280379,\n",
       "        56000000,  68000000,  58000000,  95000000,   5600000, 220000000,\n",
       "         3537415,    878000,   3400000,   1250000,   3250000,    747000,\n",
       "         1119000,         5,     65000,  52000000,   1750000,     15000,\n",
       "        13800000,  11800000, 225000000,    802000, 260000000,    120000,\n",
       "          230000,   1700000,  10700000,  61000000,   3900000,    722083,\n",
       "       120000000,     25000,   5700000,    325000,   2883848, 116000000,\n",
       "       165000000, 190000000, 270000000,  46000000,    645180,   5200000,\n",
       "         2410000,   4361898,    950000,    210000,   3705538,   1752000,\n",
       "          650000,    777000,    850000,   4798235,    750000, 145000000,\n",
       "        17500000,  27220000,   9100000,    450000,  44500000,   4520000,\n",
       "          891000,    662141,    400000,   4600000,   1400000,  12500000,\n",
       "          360000,  16400000,   1900000,    180000,   2153912,  41000000,\n",
       "          521873,  34000000,   3837625, 152000000,   3347850,   4437508,\n",
       "        63000000,  17820000,         2,    290000,  13400000,   1070000,\n",
       "        14600000,  97000000,   2159280,  10831173,  13360000,      2500,\n",
       "         3230939, 170000000,   1549000,   3700000,  19800000, 210000000,\n",
       "         2300000,     12000,       592,  31115000,  26400000,  83000000,\n",
       "          855000,   5952000,  11715578,   1379375,  67000000,   1114000,\n",
       "         3196621,    440141,         4, 207000000,   2627000,    134000,\n",
       "         1243000,    550000,    134005,   9900000,    531374,       344,\n",
       "       380000000,   3500159,    600000,    658000,   5300000,  47000000,\n",
       "           74050,   1688000, 300000000,   8272296,   8700000,    200000,\n",
       "         2160000,  19500000,       130,  12823507,   2380000,   1227401,\n",
       "        12156348,   1805000,   6200000,   8376800,   4300000,   1821052,\n",
       "       132000000,   1202007,  23600000,    135000,   4317946,   6600000,\n",
       "        32745300,  97250400,   3600000,  21500000,    103000,   7400000,\n",
       "         1350000,    475000,      5000, 197471676,    852510,   1455000,\n",
       "        41300000,   4900000,  12250000,    463455,        10,   8045760,\n",
       "       245000000,  92000000,    784170,   1089360,   1556288, 280000000,\n",
       "        82000000,      7300,     17000,  14734000,    220000,  11930000,\n",
       "          150000,  16800000,      6000,  49300000,   5400000,   3062000,\n",
       "          410000,   5579750,   3512454, 127500000,   1365000,  64000000,\n",
       "        31500000,    483103,  37665000,   1135654])"
      ]
     },
     "execution_count": 19,
     "metadata": {},
     "output_type": "execute_result"
    }
   ],
   "source": [
    "train['budget'].unique()"
   ]
  },
  {
   "cell_type": "markdown",
   "metadata": {},
   "source": [
    "## Zeros in budget mean unknown, we will treat it as missing values later"
   ]
  },
  {
   "cell_type": "code",
   "execution_count": 20,
   "metadata": {},
   "outputs": [
    {
     "data": {
      "text/plain": [
       "812"
      ]
     },
     "execution_count": 20,
     "metadata": {},
     "output_type": "execute_result"
    }
   ],
   "source": [
    "train[train['budget'] == 0].shape[0]"
   ]
  },
  {
   "cell_type": "code",
   "execution_count": 21,
   "metadata": {},
   "outputs": [
    {
     "data": {
      "text/plain": [
       "<matplotlib.collections.PathCollection at 0x7f3eb1bde4f0>"
      ]
     },
     "execution_count": 21,
     "metadata": {},
     "output_type": "execute_result"
    },
    {
     "data": {
      "image/png": "[encoded data removed]",
      "text/plain": [
       "<Figure size 864x648 with 1 Axes>"
      ]
     },
     "metadata": {
      "needs_background": "light"
     },
     "output_type": "display_data"
    }
   ],
   "source": [
    "plt.subplots(figsize=(12, 9))\n",
    "plt.scatter(x=train['budget'], y=train['revenue'])"
   ]
  },
  {
   "cell_type": "markdown",
   "metadata": {},
   "source": [
    "# Homepage"
   ]
  },
  {
   "cell_type": "code",
   "execution_count": 22,
   "metadata": {},
   "outputs": [
    {
     "data": {
      "text/plain": [
       "NaN                                                                     2054\n",
       "http://www.transformersmovie.com/                                          4\n",
       "http://www.lordoftherings.net/                                             2\n",
       "http://www.thehobbit.com/                                                  2\n",
       "http://www.sonypictures.com/movies/spectre/                                1\n",
       "                                                                        ... \n",
       "http://www.theofficialjohncarpenter.com/big-trouble-in-little-china/       1\n",
       "http://www.beetlequeen.com/                                                1\n",
       "http://workingtitlefilms.com/film.php?filmID=59                            1\n",
       "http://www.lionsgate.com/planethulk/                                       1\n",
       "http://www.downfallthefilm.com/                                            1\n",
       "Name: homepage, Length: 942, dtype: int64"
      ]
     },
     "execution_count": 22,
     "metadata": {},
     "output_type": "execute_result"
    }
   ],
   "source": [
    "train['homepage'].value_counts(dropna=False)"
   ]
  },
  {
   "cell_type": "code",
   "execution_count": 23,
   "metadata": {},
   "outputs": [],
   "source": [
    "has_hompage = pd.DataFrame(columns=['has_homepage'])"
   ]
  },
  {
   "cell_type": "code",
   "execution_count": 24,
   "metadata": {},
   "outputs": [],
   "source": [
    "train = pd.concat([train, has_hompage], axis=1)\n",
    "test = pd.concat([test, has_hompage], axis=1)"
   ]
  },
  {
   "cell_type": "code",
   "execution_count": 25,
   "metadata": {},
   "outputs": [],
   "source": [
    "j = 0\n",
    "for i in train['homepage']:\n",
    "    if str(train['homepage'][j]) == 'nan':\n",
    "        train['has_homepage'][j] = 0\n",
    "    else:\n",
    "        train['has_homepage'][j] = 1\n",
    "    j += 1\n",
    "\n",
    "j = 0\n",
    "for i in test['homepage']:\n",
    "    if str(test['homepage'][j]) == 'nan':\n",
    "        test['has_homepage'][j] = 0\n",
    "    else:\n",
    "        test['has_homepage'][j] = 1\n",
    "    j += 1"
   ]
  },
  {
   "cell_type": "code",
   "execution_count": 26,
   "metadata": {},
   "outputs": [
    {
     "data": {
      "text/plain": [
       "<seaborn.axisgrid.FacetGrid at 0x7f3eb1bcd730>"
      ]
     },
     "execution_count": 26,
     "metadata": {},
     "output_type": "execute_result"
    },
    {
     "data": {
      "image/png": "[encoded data removed]",
      "text/plain": [
       "<Figure size 360x360 with 1 Axes>"
      ]
     },
     "metadata": {
      "needs_background": "light"
     },
     "output_type": "display_data"
    }
   ],
   "source": [
    "sns.catplot(x='has_homepage', y='revenue', data=train)"
   ]
  },
  {
   "cell_type": "markdown",
   "metadata": {},
   "source": [
    "## The scatter plot above seems interesting, this really shows that having a wepage for the movie is really affects its revenue"
   ]
  },
  {
   "cell_type": "code",
   "execution_count": 27,
   "metadata": {},
   "outputs": [
    {
     "data": {
      "text/plain": [
       "((3000, 22), (4398, 21))"
      ]
     },
     "execution_count": 27,
     "metadata": {},
     "output_type": "execute_result"
    }
   ],
   "source": [
    "train.drop(['homepage'], axis=1, inplace=True)\n",
    "test.drop(['homepage'], axis=1, inplace=True)\n",
    "train.shape, test.shape"
   ]
  },
  {
   "cell_type": "markdown",
   "metadata": {},
   "source": [
    "# Imdb Id"
   ]
  },
  {
   "cell_type": "code",
   "execution_count": 28,
   "metadata": {},
   "outputs": [
    {
     "data": {
      "text/plain": [
       "0       tt2637294\n",
       "1       tt0368933\n",
       "2       tt2582802\n",
       "3       tt1821480\n",
       "4       tt1380152\n",
       "          ...    \n",
       "2995    tt0109403\n",
       "2996    tt2364975\n",
       "2997    tt0116908\n",
       "2998    tt0343135\n",
       "2999    tt1600195\n",
       "Name: imdb_id, Length: 3000, dtype: object"
      ]
     },
     "execution_count": 28,
     "metadata": {},
     "output_type": "execute_result"
    }
   ],
   "source": [
    "train['imdb_id']"
   ]
  },
  {
   "cell_type": "markdown",
   "metadata": {},
   "source": [
    "## There is no useful info in the imdb id"
   ]
  },
  {
   "cell_type": "code",
   "execution_count": 29,
   "metadata": {},
   "outputs": [
    {
     "data": {
      "text/plain": [
       "((3000, 21), (4398, 20))"
      ]
     },
     "execution_count": 29,
     "metadata": {},
     "output_type": "execute_result"
    }
   ],
   "source": [
    "train.drop(['imdb_id'], axis=1, inplace=True)\n",
    "test.drop(['imdb_id'], axis=1, inplace=True)\n",
    "train.shape, test.shape"
   ]
  },
  {
   "cell_type": "markdown",
   "metadata": {},
   "source": [
    "# Original Language"
   ]
  },
  {
   "cell_type": "code",
   "execution_count": 30,
   "metadata": {},
   "outputs": [
    {
     "name": "stdout",
     "output_type": "stream",
     "text": [
      "36\n"
     ]
    },
    {
     "data": {
      "text/plain": [
       "en    2575\n",
       "fr      78\n",
       "ru      47\n",
       "es      43\n",
       "hi      42\n",
       "ja      37\n",
       "it      24\n",
       "ko      20\n",
       "cn      20\n",
       "zh      19\n",
       "de      18\n",
       "ta      16\n",
       "sv       8\n",
       "nl       6\n",
       "pt       6\n",
       "da       5\n",
       "fa       5\n",
       "ro       4\n",
       "tr       3\n",
       "hu       3\n",
       "no       2\n",
       "pl       2\n",
       "te       2\n",
       "ml       2\n",
       "fi       2\n",
       "ur       1\n",
       "id       1\n",
       "el       1\n",
       "cs       1\n",
       "vi       1\n",
       "mr       1\n",
       "ar       1\n",
       "he       1\n",
       "bn       1\n",
       "nb       1\n",
       "sr       1\n",
       "Name: original_language, dtype: int64"
      ]
     },
     "execution_count": 30,
     "metadata": {},
     "output_type": "execute_result"
    }
   ],
   "source": [
    "print(len(train['original_language'].value_counts(dropna=False)))\n",
    "train['original_language'].value_counts(dropna=False)"
   ]
  },
  {
   "cell_type": "code",
   "execution_count": 31,
   "metadata": {},
   "outputs": [
    {
     "name": "stdout",
     "output_type": "stream",
     "text": [
      "39\n"
     ]
    },
    {
     "data": {
      "text/plain": [
       "en    3776\n",
       "fr     121\n",
       "hi      76\n",
       "ru      62\n",
       "ja      53\n",
       "es      52\n",
       "it      32\n",
       "de      31\n",
       "ko      29\n",
       "zh      27\n",
       "cn      21\n",
       "ta      15\n",
       "sv      12\n",
       "da      12\n",
       "ml      10\n",
       "pt       7\n",
       "te       7\n",
       "tr       6\n",
       "th       5\n",
       "nl       5\n",
       "he       5\n",
       "ro       5\n",
       "pl       3\n",
       "no       3\n",
       "cs       2\n",
       "bn       2\n",
       "sr       2\n",
       "el       2\n",
       "id       2\n",
       "fi       2\n",
       "bm       2\n",
       "xx       2\n",
       "ur       1\n",
       "kn       1\n",
       "ka       1\n",
       "ca       1\n",
       "hu       1\n",
       "af       1\n",
       "is       1\n",
       "Name: original_language, dtype: int64"
      ]
     },
     "execution_count": 31,
     "metadata": {},
     "output_type": "execute_result"
    }
   ],
   "source": [
    "print(len(test['original_language'].value_counts(dropna=False)))\n",
    "test['original_language'].value_counts(dropna=False)"
   ]
  },
  {
   "cell_type": "code",
   "execution_count": 32,
   "metadata": {},
   "outputs": [
    {
     "data": {
      "text/plain": [
       "<AxesSubplot:xlabel='original_language', ylabel='revenue'>"
      ]
     },
     "execution_count": 32,
     "metadata": {},
     "output_type": "execute_result"
    },
    {
     "data": {
      "image/png": "[encoded data removed]",
      "text/plain": [
       "<Figure size 864x648 with 1 Axes>"
      ]
     },
     "metadata": {
      "needs_background": "light"
     },
     "output_type": "display_data"
    }
   ],
   "source": [
    "plt.subplots(figsize=(12, 9))\n",
    "sns.boxplot(x=train['original_language'], y=train['revenue'])"
   ]
  },
  {
   "cell_type": "markdown",
   "metadata": {},
   "source": [
    "## It would be great to make a new feature (Is Original Language is English)"
   ]
  },
  {
   "cell_type": "code",
   "execution_count": 33,
   "metadata": {},
   "outputs": [
    {
     "name": "stdout",
     "output_type": "stream",
     "text": [
      "en\n"
     ]
    }
   ],
   "source": [
    "isOrgEn = pd.DataFrame(columns=['is_en_original_language'])\n",
    "train = pd.concat([train, isOrgEn], axis=1)\n",
    "test = pd.concat([test, isOrgEn], axis=1)\n",
    "\n",
    "print(train['original_language'][0])"
   ]
  },
  {
   "cell_type": "code",
   "execution_count": 34,
   "metadata": {},
   "outputs": [],
   "source": [
    "j = 0\n",
    "for i in train['original_language']:\n",
    "    if i == 'en':\n",
    "        train['is_en_original_language'][j] = 1\n",
    "    else:\n",
    "        train['is_en_original_language'][j] = 0\n",
    "    j += 1\n",
    "    \n",
    "j = 0\n",
    "for i in test['original_language']:\n",
    "    if i == 'en':\n",
    "        test['is_en_original_language'][j] = 1\n",
    "    else:\n",
    "        test['is_en_original_language'][j] = 0\n",
    "    j += 1"
   ]
  },
  {
   "cell_type": "code",
   "execution_count": 35,
   "metadata": {},
   "outputs": [
    {
     "data": {
      "text/plain": [
       "<seaborn.axisgrid.FacetGrid at 0x7f3eb0ec6460>"
      ]
     },
     "execution_count": 35,
     "metadata": {},
     "output_type": "execute_result"
    },
    {
     "data": {
      "image/png": "[encoded data removed]",
      "text/plain": [
       "<Figure size 360x360 with 1 Axes>"
      ]
     },
     "metadata": {
      "needs_background": "light"
     },
     "output_type": "display_data"
    }
   ],
   "source": [
    "sns.catplot(x='is_en_original_language', y='revenue', data=train)"
   ]
  },
  {
   "cell_type": "markdown",
   "metadata": {},
   "source": [
    "### The feature we generated is great indeed"
   ]
  },
  {
   "cell_type": "markdown",
   "metadata": {},
   "source": [
    "# Original Title"
   ]
  },
  {
   "cell_type": "code",
   "execution_count": 36,
   "metadata": {},
   "outputs": [
    {
     "data": {
      "text/plain": [
       "2975"
      ]
     },
     "execution_count": 36,
     "metadata": {},
     "output_type": "execute_result"
    }
   ],
   "source": [
    "len(train['original_title'].value_counts())"
   ]
  },
  {
   "cell_type": "code",
   "execution_count": 37,
   "metadata": {},
   "outputs": [],
   "source": [
    "train.drop(['original_title'], axis=1, inplace=True)\n",
    "test.drop(['original_title'], axis=1, inplace=True)"
   ]
  },
  {
   "cell_type": "markdown",
   "metadata": {},
   "source": [
    "# Overview"
   ]
  },
  {
   "cell_type": "code",
   "execution_count": 38,
   "metadata": {},
   "outputs": [
    {
     "name": "stdout",
     "output_type": "stream",
     "text": [
      "When Lou, who has become the \"father of the Internet,\" is shot by an unknown assailant, Jacob and Nick fire up the time machine again to save their friend.\n",
      "--------------------\n",
      "Mia Thermopolis is now a college graduate and on her way to Genovia to take up her duties as princess. Her best friend Lilly also joins her for the summer. Mia continues her 'princess lessons'- riding horses side-saddle, archery, and other royal. But her complicated life is turned upside down once again when she not only learns that she is to take the crown as queen earlier than expected...\n",
      "--------------------\n",
      "Under the direction of a ruthless instructor, a talented young drummer begins to pursue perfection at any cost, even his humanity.\n",
      "--------------------\n",
      "Vidya Bagchi (Vidya Balan) arrives in Kolkata from London to find her missing husband Arnab Bagchi. Seven months pregnant and alone in a festive city, she begins a relentless search for her husband. With nothing to rely on except fragments from her memories about him, all clues seem to reach a dead end when everyone tries to convince Vidya that her husband does not exist. She slowly realises that nothing is what it seems. In a city soaked in lies, Vidya is determined to unravel the truth about her husband - for herself and her unborn child - even at the cost of her own life.\n",
      "--------------------\n",
      "Marine Boy is the story of a former national swimmer who finds himself in debt, and out of desperation is employed as a mule by a gangster boss, smuggling drugs by sea.\n",
      "--------------------\n"
     ]
    }
   ],
   "source": [
    "for i in range(5): \n",
    "    print(train['overview'][i])\n",
    "    print(\"--------------------\")"
   ]
  },
  {
   "cell_type": "markdown",
   "metadata": {},
   "source": [
    "### I don't think using overview is gonna help us"
   ]
  },
  {
   "cell_type": "code",
   "execution_count": 39,
   "metadata": {},
   "outputs": [
    {
     "data": {
      "text/plain": [
       "((3000, 20), (4398, 19))"
      ]
     },
     "execution_count": 39,
     "metadata": {},
     "output_type": "execute_result"
    }
   ],
   "source": [
    "train.drop(['overview'], axis=1, inplace=True)\n",
    "test.drop(['overview'], axis=1, inplace=True)\n",
    "train.shape, test.shape"
   ]
  },
  {
   "cell_type": "markdown",
   "metadata": {},
   "source": [
    "# Popularity "
   ]
  },
  {
   "cell_type": "code",
   "execution_count": 40,
   "metadata": {},
   "outputs": [
    {
     "data": {
      "text/plain": [
       "array([ 6.575393,  8.248895, 64.29999 , ..., 14.482345, 15.725542,\n",
       "       10.512109])"
      ]
     },
     "execution_count": 40,
     "metadata": {},
     "output_type": "execute_result"
    }
   ],
   "source": [
    "train['popularity'].unique()"
   ]
  },
  {
   "cell_type": "code",
   "execution_count": 41,
   "metadata": {},
   "outputs": [
    {
     "data": {
      "text/plain": [
       "0"
      ]
     },
     "execution_count": 41,
     "metadata": {},
     "output_type": "execute_result"
    }
   ],
   "source": [
    "train['popularity'].isnull().sum()"
   ]
  },
  {
   "cell_type": "code",
   "execution_count": 42,
   "metadata": {},
   "outputs": [
    {
     "data": {
      "image/png": "[encoded data removed]",
      "text/plain": [
       "<Figure size 864x648 with 1 Axes>"
      ]
     },
     "metadata": {
      "needs_background": "light"
     },
     "output_type": "display_data"
    }
   ],
   "source": [
    "plt.subplots(figsize=(12, 9))\n",
    "# sns.catplot(x='revenue', y='popularity', data=train)\n",
    "plt.scatter(x=train['popularity'], y=train['revenue'])\n",
    "plt.xlabel('popularity')\n",
    "plt.ylabel('revenue')\n",
    "plt.show()"
   ]
  },
  {
   "cell_type": "markdown",
   "metadata": {},
   "source": [
    "## This would be useful"
   ]
  },
  {
   "cell_type": "markdown",
   "metadata": {},
   "source": [
    "# Poster Path"
   ]
  },
  {
   "cell_type": "code",
   "execution_count": 43,
   "metadata": {},
   "outputs": [
    {
     "data": {
      "text/plain": [
       "((3000, 19), (4398, 18))"
      ]
     },
     "execution_count": 43,
     "metadata": {},
     "output_type": "execute_result"
    }
   ],
   "source": [
    "train.drop(['poster_path'], axis=1, inplace=True)\n",
    "test.drop(['poster_path'], axis=1, inplace=True)\n",
    "train.shape, test.shape"
   ]
  },
  {
   "cell_type": "markdown",
   "metadata": {},
   "source": [
    "# Production Companies"
   ]
  },
  {
   "cell_type": "code",
   "execution_count": 44,
   "metadata": {},
   "outputs": [
    {
     "name": "stdout",
     "output_type": "stream",
     "text": [
      "[{'name': 'Paramount Pictures', 'id': 4}, {'name': 'United Artists', 'id': 60}, {'name': 'Metro-Goldwyn-Mayer (MGM)', 'id': 8411}]\n",
      "-------\n",
      "[{'name': 'Walt Disney Pictures', 'id': 2}]\n",
      "-------\n",
      "[{'name': 'Bold Films', 'id': 2266}, {'name': 'Blumhouse Productions', 'id': 3172}, {'name': 'Right of Way Films', 'id': 32157}]\n",
      "-------\n",
      "nan\n",
      "-------\n",
      "nan\n",
      "-------\n"
     ]
    }
   ],
   "source": [
    "for i in range(5):\n",
    "    print(train['production_companies'][i])\n",
    "    print(\"-------\")"
   ]
  },
  {
   "cell_type": "markdown",
   "metadata": {},
   "source": [
    "### Most of films have 1-2 production companies, cometimes 3-4. But there are films with 10+ companies! Let's have a look at some of them.\n",
    "### Not sure yet what i'm gonna do with these data"
   ]
  },
  {
   "cell_type": "markdown",
   "metadata": {},
   "source": [
    "## I guess my best move for now to get the number of production companies, The most 50 common production companies"
   ]
  },
  {
   "cell_type": "markdown",
   "metadata": {},
   "source": [
    "# Number of prod companies"
   ]
  },
  {
   "cell_type": "code",
   "execution_count": 45,
   "metadata": {},
   "outputs": [],
   "source": [
    "num_prod_com = pd.DataFrame(columns=['num_production_companies'])\n",
    "train = pd.concat([train, num_prod_com], axis=1)\n",
    "test = pd.concat([test, num_prod_com], axis=1)"
   ]
  },
  {
   "cell_type": "code",
   "execution_count": 46,
   "metadata": {},
   "outputs": [
    {
     "name": "stdout",
     "output_type": "stream",
     "text": [
      "3\n"
     ]
    },
    {
     "data": {
      "text/plain": [
       "[{'name': 'Paramount Pictures', 'id': 4},\n",
       " {'name': 'United Artists', 'id': 60},\n",
       " {'name': 'Metro-Goldwyn-Mayer (MGM)', 'id': 8411}]"
      ]
     },
     "execution_count": 46,
     "metadata": {},
     "output_type": "execute_result"
    }
   ],
   "source": [
    "d = get_dict(train['production_companies'][0])\n",
    "# This has 3 production companies\n",
    "print(len(d))\n",
    "d"
   ]
  },
  {
   "cell_type": "code",
   "execution_count": 47,
   "metadata": {},
   "outputs": [],
   "source": [
    "j = 0\n",
    "for i in train['production_companies']:\n",
    "    d = get_dict(i)\n",
    "    if len(d) != 0:\n",
    "        train['num_production_companies'][j] = len(d)\n",
    "    else:\n",
    "        train['num_production_companies'][j] = np.NaN\n",
    "    j += 1\n",
    "\n",
    "j = 0\n",
    "for i in test['production_companies']:\n",
    "    d = get_dict(i)\n",
    "    if len(d) != 0:\n",
    "        test['num_production_companies'][j] = len(d)\n",
    "    else:\n",
    "        test['num_production_companies'][j] = np.NaN\n",
    "    j += 1"
   ]
  },
  {
   "cell_type": "code",
   "execution_count": 48,
   "metadata": {},
   "outputs": [
    {
     "data": {
      "text/plain": [
       "<seaborn.axisgrid.FacetGrid at 0x7f3eb0730f10>"
      ]
     },
     "execution_count": 48,
     "metadata": {},
     "output_type": "execute_result"
    },
    {
     "data": {
      "image/png": "[encoded data removed]",
      "text/plain": [
       "<Figure size 360x360 with 1 Axes>"
      ]
     },
     "metadata": {
      "needs_background": "light"
     },
     "output_type": "display_data"
    }
   ],
   "source": [
    "sns.catplot(x='num_production_companies', y='revenue', data=train)"
   ]
  },
  {
   "cell_type": "markdown",
   "metadata": {},
   "source": [
    "# Production Company"
   ]
  },
  {
   "cell_type": "code",
   "execution_count": 49,
   "metadata": {},
   "outputs": [
    {
     "data": {
      "text/plain": [
       "['Paramount Pictures',\n",
       " 'United Artists',\n",
       " 'Metro-Goldwyn-Mayer (MGM)',\n",
       " 'Walt Disney Pictures',\n",
       " 'Bold Films',\n",
       " 'Blumhouse Productions',\n",
       " 'Right of Way Films',\n",
       " 'Ghost House Pictures',\n",
       " 'North Box Productions',\n",
       " 'Walt Disney Pictures',\n",
       " 'Jim Henson Productions',\n",
       " 'Jim Henson Company, The',\n",
       " 'Castle Rock Entertainment',\n",
       " 'United Artists',\n",
       " 'Twentieth Century Fox Film Corporation',\n",
       " 'Amercent Films',\n",
       " 'American Entertainment Partners L.P.',\n",
       " 'Interscope Communications',\n",
       " 'DreamWorks SKG',\n",
       " 'Jinks/Cohen Company',\n",
       " 'Double Feature Films',\n",
       " 'Jersey Films',\n",
       " 'Nina Saxon Film Design',\n",
       " 'Metro-Goldwyn-Mayer (MGM)',\n",
       " 'DreamWorks SKG',\n",
       " 'Cruise/Wagner Productions',\n",
       " 'Amblin Entertainment',\n",
       " 'Twentieth Century Fox Film Corporation',\n",
       " 'Blue Tulip Productions',\n",
       " 'Ronald Shusett/Gary Goldman',\n",
       " 'Digital Image Associates',\n",
       " 'Hypnopolis',\n",
       " 'DreamWorks SKG',\n",
       " 'Craven-Maddalena Films',\n",
       " 'BenderSpink',\n",
       " 'BBC Films',\n",
       " 'Headline Pictures',\n",
       " 'Magnolia Mae Films',\n",
       " 'Taeoo Entertainment',\n",
       " 'UK Film Council',\n",
       " 'Prescience',\n",
       " 'Aegis Film Fund',\n",
       " 'Kaleidoscope Films',\n",
       " 'Twentieth Century Fox Film Corporation',\n",
       " 'Current Entertainment',\n",
       " 'TF1 Films Production',\n",
       " 'Canal+',\n",
       " 'TPS Star',\n",
       " 'EuropaCorp',\n",
       " 'Sea Side Films Florida Inc.',\n",
       " 'New Line Cinema',\n",
       " 'Irwin Allen Productions',\n",
       " 'Prelude Pictures',\n",
       " 'Saltire Entertainment',\n",
       " 'Paramount Pictures',\n",
       " 'Jason Productions',\n",
       " 'The Collective',\n",
       " 'Bloody Disgusting',\n",
       " '8383 Productions',\n",
       " '\\xa0Braeburn Entertainment',\n",
       " '\\xa0Check Entertainment',\n",
       " 'G.C. Pix\\xa0',\n",
       " 'New Zealand Film Commission',\n",
       " 'Live Stock Films',\n",
       " 'Universal Pictures',\n",
       " 'Dark Horse Entertainment',\n",
       " 'Largo Entertainment',\n",
       " 'JVC Entertainment Networks',\n",
       " 'Jean Doumanian Productions',\n",
       " 'Sweetland Films',\n",
       " 'Magnolia Films',\n",
       " 'Jasmine Productions Inc.',\n",
       " 'Fastnet Films',\n",
       " 'Caramel Film',\n",
       " 'No Trace Camping',\n",
       " 'De Laurentiis Entertainment Group (DEG)',\n",
       " 'Marvel Productions',\n",
       " 'Hasbro',\n",
       " 'Sunbow Productions',\n",
       " 'Paramount Pictures',\n",
       " 'Gaumont',\n",
       " 'TF1 Films Production',\n",
       " 'Canal+',\n",
       " 'CinéCinéma',\n",
       " 'Quad Productions',\n",
       " 'Chaocorp',\n",
       " 'Ten Films',\n",
       " 'TF1',\n",
       " 'Les Films du Losange',\n",
       " 'Wega Film',\n",
       " 'BIM Distribuzione',\n",
       " 'Centre National de la Cinématographie',\n",
       " 'Filmstiftung Nordrhein-Westfalen',\n",
       " 'France 3 Cinéma',\n",
       " 'Eurimages',\n",
       " 'Bavaria Film',\n",
       " 'Canal+',\n",
       " 'Studio Canal',\n",
       " 'Arte France Cinéma',\n",
       " 'Westdeutscher Rundfunk (WDR)',\n",
       " 'Filmfonds Wien',\n",
       " 'ORF Film/Fernseh-Abkommen',\n",
       " 'Österreichisches Filminstitut',\n",
       " 'Summit Entertainment',\n",
       " 'Atmosphere Entertainment MM',\n",
       " 'One Race Films',\n",
       " 'Goldmann Pictures',\n",
       " 'NeoReel',\n",
       " 'Aperture Entertainment',\n",
       " 'TIK Films',\n",
       " 'Magnet Releasing',\n",
       " 'Drafthouse Films',\n",
       " 'Timpson Films',\n",
       " 'New Line Cinema',\n",
       " 'Lawrence Bender Productions',\n",
       " 'IM Global',\n",
       " 'Automatik Entertainment',\n",
       " 'Trigger Street Productions',\n",
       " '87Eleven',\n",
       " 'Bórd Scannán na hÉireann',\n",
       " 'British Broadcasting Corporation (BBC)',\n",
       " 'Venus Productions',\n",
       " 'Kopelson Entertainment',\n",
       " 'Punch Productions',\n",
       " 'Warner Bros.',\n",
       " 'Arnold Kopelson Productions',\n",
       " 'Columbia Pictures Corporation',\n",
       " 'Jerry Bresler Productions',\n",
       " 'Rakontur',\n",
       " 'Warner Bros.',\n",
       " 'Jalem Productions',\n",
       " 'Paramount Pictures',\n",
       " 'Lakeshore Entertainment',\n",
       " 'Revelations Entertainment',\n",
       " 'Lascaux Films',\n",
       " 'Latitude Productions',\n",
       " '26 Films',\n",
       " 'Gold Circle Films',\n",
       " 'Visionview Production',\n",
       " 'Indigo Film',\n",
       " 'Medusa Film',\n",
       " 'Blue Sky Studios',\n",
       " 'Twentieth Century Fox Animation',\n",
       " 'Double Feature Films',\n",
       " 'The Weinstein Company',\n",
       " 'FilmColony',\n",
       " 'Ad Hominem Enterprises',\n",
       " 'Paramount Pictures',\n",
       " 'Warner Bros.',\n",
       " 'Walt Disney Productions',\n",
       " 'TriStar Pictures',\n",
       " 'Columbia Pictures',\n",
       " 'Affirm Films',\n",
       " 'LD Entertainment',\n",
       " 'Patrick Aiello Productions',\n",
       " 'Hollywood Pictures',\n",
       " 'Mon Voisin Productions',\n",
       " 'PolyGram Filmed Entertainment',\n",
       " 'Warner Bros.',\n",
       " 'Speak Productions',\n",
       " 'New Line Cinema',\n",
       " 'Eon Productions',\n",
       " 'Stillking Films',\n",
       " 'Babelsberg Film',\n",
       " 'Joanna Productions',\n",
       " 'Atlas Entertainment',\n",
       " 'Turner Pictures (I)',\n",
       " 'Paramount Pictures',\n",
       " 'Sean S. Cunningham Films',\n",
       " 'Horror Inc.',\n",
       " 'Paramount Vantage',\n",
       " 'Bona Fide Productions',\n",
       " 'Cannon Films',\n",
       " 'Company Films',\n",
       " 'Moving Pictures Film and Television',\n",
       " 'Office Kitano',\n",
       " 'Xstream Pictures',\n",
       " 'Shanghai Film Group',\n",
       " 'Universal Pictures',\n",
       " 'Universal Pictures',\n",
       " 'Section Eight',\n",
       " 'Mandalay Pictures',\n",
       " 'VIP 3 Medienfonds',\n",
       " '2929 Productions',\n",
       " 'Rising Star',\n",
       " 'VIP 2 Medienfonds',\n",
       " 'Warner Independent Pictures (WIP)',\n",
       " 'Senator Film Produktion',\n",
       " 'Wildwood Enterprises',\n",
       " 'Sound for Film',\n",
       " 'Inca Films S.A.',\n",
       " 'Filmfour',\n",
       " 'BD Cine',\n",
       " 'Tu Vas Voir Productions',\n",
       " 'Sahara Films',\n",
       " 'Imagine Entertainment',\n",
       " 'Universal Pictures',\n",
       " 'New World Pictures',\n",
       " 'Touchstone Pictures',\n",
       " 'Orion Pictures',\n",
       " 'Warner Bros.',\n",
       " 'Warner Bros.',\n",
       " 'Deliverance Productions',\n",
       " 'Spectacle Entertainment Group',\n",
       " 'Windy Hill Pictures',\n",
       " 'Protagonist Pictures',\n",
       " 'Bow and Arrow Entertainment',\n",
       " 'PalmStar Media',\n",
       " 'United Artists',\n",
       " 'Intermedia Films',\n",
       " 'IM Filmproduktion',\n",
       " 'Cosmic Pictures',\n",
       " 'Metro-Goldwyn-Mayer (MGM)',\n",
       " 'Alphaville Films',\n",
       " 'Epsilon Motion Pictures',\n",
       " 'Hyde Park Films',\n",
       " 'Shopgirl',\n",
       " 'Touchstone Pictures',\n",
       " 'Universal Pictures',\n",
       " 'MFPV Film',\n",
       " 'Double Feature Films',\n",
       " 'ShadowCatcher Entertainment',\n",
       " 'Daniel Bobker Productions',\n",
       " 'Brick Dust Productions LLC',\n",
       " 'Metro-Goldwyn-Mayer (MGM)',\n",
       " 'Elle Driver',\n",
       " 'Tazora Films',\n",
       " 'Paramount Pictures',\n",
       " 'Kennedy/Marshall Company, The',\n",
       " 'Columbia Pictures',\n",
       " 'New Line Cinema',\n",
       " 'Golden Harvest Company',\n",
       " 'Scion Films',\n",
       " 'LD Entertainment',\n",
       " 'Czech Anglo Productions',\n",
       " 'Canal Plus',\n",
       " 'Regency Enterprises',\n",
       " 'Alcor Films',\n",
       " 'Miramax Films',\n",
       " 'A Band Apart',\n",
       " 'Super Cool ManChu',\n",
       " 'R%26C Produzioni',\n",
       " 'Les Films Balenciaga',\n",
       " 'France 2 Cinéma',\n",
       " 'Hachette Première',\n",
       " 'Canal+',\n",
       " 'Blast! Films',\n",
       " 'Asymmetrical Productions',\n",
       " 'Les Films Alain Sarde',\n",
       " 'Babbo Inc.',\n",
       " 'The Picture Factory',\n",
       " 'Canal+',\n",
       " 'Yellow, Black & White',\n",
       " 'Procirep',\n",
       " 'Canal+',\n",
       " 'Film Fund Luxembourg',\n",
       " 'Centre National de la Cinématographie (CNC)',\n",
       " 'Media Programme of the European Community',\n",
       " 'Ciné+',\n",
       " 'Ren Film',\n",
       " 'Studio Canal',\n",
       " 'Orion Pictures',\n",
       " 'Epic Productions',\n",
       " 'Vision International',\n",
       " 'Vision PDG',\n",
       " 'Trans World Entertainment (TWE)',\n",
       " 'Imagine Entertainment',\n",
       " 'DreamWorks SKG',\n",
       " 'Universal Pictures',\n",
       " 'Barunson Film Division',\n",
       " 'Film It Suda',\n",
       " 'Sio Film and Bravo Entertainment',\n",
       " 'Gran Via Productions',\n",
       " 'Walden Media',\n",
       " 'Lemodeln Model & Talent Agency',\n",
       " 'Çamaşırhane',\n",
       " 'Kinostar',\n",
       " 'Tiglon',\n",
       " 'Emrah Gamsızoğlu',\n",
       " 'Isle of Man Film',\n",
       " 'DJ Films',\n",
       " 'British Film Institute (BFI)',\n",
       " 'Pinewood Studios',\n",
       " 'Metrol Technology',\n",
       " 'Double Feature Films',\n",
       " 'CBS Films',\n",
       " 'Icon Entertainment International',\n",
       " 'The Ladd Company',\n",
       " 'B.H. Finance C.V.',\n",
       " 'Miramax Films',\n",
       " 'Pyramide Productions',\n",
       " 'The Mirisch Corporation',\n",
       " 'Cheyenne Enterprises',\n",
       " 'Epsilon Motion Pictures',\n",
       " 'Empire Pictures',\n",
       " 'Metro-Goldwyn-Mayer (MGM)',\n",
       " 'Hyde Park Entertainment',\n",
       " 'Baltimore Spring Creek Productions',\n",
       " 'Lotus Pictures',\n",
       " 'Revolution Studios',\n",
       " 'Blue Star Pictures',\n",
       " 'Imagine Entertainment',\n",
       " 'Spring Creek Productions',\n",
       " 'Warner Bros.',\n",
       " 'Roth Films',\n",
       " 'K. JAM Media',\n",
       " 'Cott Productions',\n",
       " 'Surf Film',\n",
       " 'Enelmar Productions, A.I.E.',\n",
       " 'Universal Pictures',\n",
       " 'Rastar Pictures',\n",
       " 'WingNut Films',\n",
       " 'New Line Cinema',\n",
       " 'The Saul Zaentz Company',\n",
       " 'Universal Pictures',\n",
       " 'Emperor Motion Pictures',\n",
       " 'Media Asia Films',\n",
       " 'Sil-Metropole Organisation Ltd.',\n",
       " 'Huayi Brothers Media',\n",
       " 'China Film Co.',\n",
       " 'Chongoing Film Group',\n",
       " 'Bon Voyage Film Studio',\n",
       " 'Shanghai Media Group',\n",
       " 'Zhejiang Films & TV(Group) Company Ltd.',\n",
       " 'Hunan Broadcasting System',\n",
       " 'Anhui Broadcasting Corp.',\n",
       " 'Beijing TV Station',\n",
       " 'Wild Hogs Productions',\n",
       " 'Touchstone Pictures',\n",
       " 'Mainline Pictures',\n",
       " 'Golden Harvest Company',\n",
       " 'New Line Cinema',\n",
       " 'Walt Disney Pictures',\n",
       " 'TriStar Pictures',\n",
       " 'Silver Pictures',\n",
       " 'Warner Bros.',\n",
       " 'Fox Searchlight Pictures',\n",
       " 'Watermark',\n",
       " 'Dune Entertainment III',\n",
       " 'Australian Film Finance Corporation',\n",
       " 'Zero Fiction Film',\n",
       " 'Ming Productions',\n",
       " 'Bluewater Pictures',\n",
       " 'Cheerland Entertainment Organization',\n",
       " 'Metro-Goldwyn-Mayer (MGM)',\n",
       " 'Lakeshore Entertainment',\n",
       " 'Alphaville Films',\n",
       " 'Revolution Studios',\n",
       " 'Debra Hill Productions',\n",
       " 'Columbia Pictures',\n",
       " '40 Acres & A Mule Filmworks',\n",
       " 'BBC Films',\n",
       " 'StudioCanal',\n",
       " 'Baby Cow Productions',\n",
       " 'British Film Institute (BFI)',\n",
       " 'Baby Cow Films',\n",
       " 'Discovery Channel Pictures',\n",
       " 'Legendary Pictures',\n",
       " 'Green Hat Films',\n",
       " 'Warner Bros.',\n",
       " 'Entertainment Films',\n",
       " 'Material Entertainment',\n",
       " 'Beech Hill Films',\n",
       " 'Fandango',\n",
       " 'Vertigo Productions',\n",
       " 'SBS Independent',\n",
       " 'Adelaide Film Festival',\n",
       " 'Paul Schiff Productions',\n",
       " 'ArieScope Pictures',\n",
       " 'A Bigger Boat',\n",
       " 'Twentieth Century Fox Film Corporation',\n",
       " \"Donners' Company\",\n",
       " 'Bad Hat Harry Productions',\n",
       " 'Marvel Enterprises',\n",
       " 'XM2 Productions',\n",
       " 'XF2 Canada Productions',\n",
       " 'Twentieth Century Fox Film Corporation',\n",
       " 'Robert Wise Productions',\n",
       " 'Wild Bear Films',\n",
       " 'Archer Street Productions',\n",
       " 'Delux Productions',\n",
       " 'Duplass Brothers Productions',\n",
       " 'Senator Entertainment Co',\n",
       " 'Warner Bros.',\n",
       " 'Killer Films',\n",
       " 'Parts and Labor',\n",
       " 'FullDawa Films',\n",
       " 'Warner Bros.',\n",
       " 'CJ Entertainment',\n",
       " 'Opus Pictures',\n",
       " 'Stillking Films',\n",
       " 'SnowPiercer',\n",
       " 'Moho Film',\n",
       " 'Universal Pictures',\n",
       " 'Northern Lights Entertainment',\n",
       " 'Social Capital',\n",
       " 'Film Afrika Worldwide',\n",
       " 'Lipsync Productions',\n",
       " 'Procinvest Sas',\n",
       " 'Cinedigm',\n",
       " 'Magnet Media Productions',\n",
       " 'Magnet Media Group',\n",
       " 'Mirabelle Pictures',\n",
       " 'Alliance Cinema',\n",
       " 'Windwalker',\n",
       " 'Santa Fe International',\n",
       " 'Whitewater Films',\n",
       " 'Very Special Projects',\n",
       " 'WRA Productions',\n",
       " 'Universal Pictures',\n",
       " 'Nuyorican Productions',\n",
       " 'Blumhouse Productions',\n",
       " 'Smart Entertainment',\n",
       " 'Magnum Motion Pictures Inc..',\n",
       " 'Walt Disney Pictures',\n",
       " 'Walt Disney Television Animation',\n",
       " 'Walt Disney Animation Australia',\n",
       " 'DisneyToon Studios',\n",
       " 'Walt Disney Animation Canada',\n",
       " 'Global Pictures',\n",
       " 'Franchise Pictures',\n",
       " 'Warner Bros.',\n",
       " 'Morgan Creek Productions',\n",
       " 'The Canton Company',\n",
       " 'TriStar Pictures',\n",
       " 'Yari Film Group',\n",
       " 'Stratus Film Co.',\n",
       " 'Universal Pictures',\n",
       " 'Jascat',\n",
       " 'Ada Films',\n",
       " 'Touchstone Pictures',\n",
       " 'Village Roadshow Pictures',\n",
       " 'Dark Castle Entertainment',\n",
       " 'Warner Bros.',\n",
       " 'Eyetronics',\n",
       " 'Chime Films',\n",
       " 'IRE Productions',\n",
       " 'Santa Fe Institute for Regional Education',\n",
       " 'Lakeshore Entertainment',\n",
       " 'Firm Films',\n",
       " 'Screen Gems',\n",
       " 'United Artists',\n",
       " 'Jewel Productions',\n",
       " 'Pimlico Films',\n",
       " 'Incorporated Television Company (ITC)',\n",
       " 'Kennedy Miller Productions',\n",
       " 'Warner Bros.',\n",
       " 'The Ladd Company',\n",
       " 'Filmhaus',\n",
       " 'Warner Bros.',\n",
       " 'Columbia Pictures Corporation',\n",
       " 'Price Entertainment',\n",
       " 'Parabolic Pictures',\n",
       " 'Stable Way Entertainment',\n",
       " 'Quickfire Films',\n",
       " 'Screen Australia',\n",
       " 'Screen NSW',\n",
       " 'Ingenious Broadcasting',\n",
       " 'Unthank Films',\n",
       " 'Story Bridge Films',\n",
       " 'Auburn Entertainment',\n",
       " 'Universal Pictures',\n",
       " 'Original Film',\n",
       " 'Ardustry Entertainment',\n",
       " 'Mediastream Film GmbH & Co. Productions KG',\n",
       " 'United Artists',\n",
       " 'Metro-Goldwyn-Mayer (MGM)',\n",
       " 'Hammerhead Productions',\n",
       " 'Screenland Pictures',\n",
       " 'Stand See',\n",
       " 'Orion Pictures',\n",
       " 'Eon Productions',\n",
       " 'New Line Cinema',\n",
       " 'Solaris Film',\n",
       " 'Avery Pix',\n",
       " \"O'Connor Brothers\",\n",
       " 'Kumar Mobiliengesellschaft mbH & Co. Projekt Nr. 1 KG',\n",
       " 'Film Council',\n",
       " 'Scottish Screen',\n",
       " 'Bórd Scannán na hÉireann',\n",
       " 'Twentieth Century Fox Film Corporation',\n",
       " 'Hughes Entertainment',\n",
       " 'Toho Company',\n",
       " 'Sedic International',\n",
       " 'Original Film',\n",
       " 'Columbia Pictures Corporation',\n",
       " 'Revolution Studios',\n",
       " 'Happy Madison Productions',\n",
       " 'Steve White Entertainment',\n",
       " 'Alliance Films',\n",
       " 'Metro-Goldwyn-Mayer (MGM)',\n",
       " 'Walt Disney Pictures',\n",
       " 'Pixar Animation Studios',\n",
       " 'FortyFour Studios',\n",
       " 'Lionsgate',\n",
       " '34th Street Films',\n",
       " 'Miramax Films',\n",
       " 'Dimension Films',\n",
       " 'Trans Atlantic Entertainment',\n",
       " 'Alcon Entertainment',\n",
       " 'Lionsgate',\n",
       " 'Phoenix Pictures',\n",
       " 'What to Expect Productions',\n",
       " 'Fox Searchlight Pictures',\n",
       " 'British Film Company',\n",
       " 'Cannon Group',\n",
       " 'Cannon Films',\n",
       " 'Metro-Goldwyn-Mayer (MGM)',\n",
       " 'Werc Werk Works',\n",
       " 'Majid Majidi Film Production',\n",
       " 'Smart Egg Pictures',\n",
       " 'Twentieth Century Fox Film Corporation',\n",
       " 'Dune Entertainment',\n",
       " 'Major Studio Partners',\n",
       " 'Regency Enterprises',\n",
       " 'Epsilon Motion Pictures',\n",
       " 'New Regency Pictures',\n",
       " 'Sentinel Productions',\n",
       " 'Furthur Films',\n",
       " 'Bel Air Entertainment',\n",
       " 'Warner Bros.',\n",
       " 'Fox Searchlight Pictures',\n",
       " 'Chernin Entertainment',\n",
       " 'Paramount Pictures',\n",
       " 'Kerner Entertainment Company',\n",
       " 'De Laurentiis Entertainment Group (DEG)',\n",
       " 'Kestrel Films',\n",
       " 'Earth Girls',\n",
       " 'Reel FX Creative Studios',\n",
       " 'Relativity Media',\n",
       " 'Gracie Films',\n",
       " 'Twentieth Century Fox Film Corporation',\n",
       " 'Night Light Films',\n",
       " 'Itaca Films',\n",
       " 'BN Films',\n",
       " 'Brightside Entertainment',\n",
       " '1019 Entertainment',\n",
       " 'Yoruba Saxon Productions',\n",
       " 'IRS Media',\n",
       " 'Twentieth Century Fox Film Corporation',\n",
       " 'Saban Entertainment',\n",
       " 'Toei Company',\n",
       " 'Admire Productions Ltd.',\n",
       " 'Coral Productions',\n",
       " 'Triumph Films',\n",
       " 'Casey Silver Productions',\n",
       " 'Touchstone Pictures',\n",
       " 'Dune Films',\n",
       " 'Hollywood Pictures',\n",
       " 'Cometstone Pictures',\n",
       " 'Universal Pictures',\n",
       " 'Zanuck/Brown Productions',\n",
       " 'Hollywood Pictures',\n",
       " 'SLB Films Pvt. Ltd.',\n",
       " 'Bleiberg Entertainment',\n",
       " 'Millennium Films',\n",
       " 'Stuber Productions',\n",
       " 'Aggregate Films',\n",
       " 'DumbDumb',\n",
       " 'Toho',\n",
       " 'Columbia Pictures Industries',\n",
       " 'Europa Film',\n",
       " 'Viking Films',\n",
       " 'Rifilm',\n",
       " 'Media Asia Films',\n",
       " 'China Film Group Corporation (CFGC)',\n",
       " 'Stellar Megamedia',\n",
       " 'Jiangsu Broadcasting System',\n",
       " 'Chuan Production Film Studio',\n",
       " 'Twentieth Century Fox Film Corporation',\n",
       " 'Penta Pictures',\n",
       " 'TriStar Pictures',\n",
       " 'Canal+',\n",
       " 'Carolco Pictures',\n",
       " 'Apostle',\n",
       " 'Type 55 Films',\n",
       " 'StudioCanal',\n",
       " 'The Australian Film Commission',\n",
       " 'Endymion Films',\n",
       " 'Australian Film Finance Corporation (AFFC)',\n",
       " 'Working Title Films',\n",
       " 'WTA',\n",
       " 'Woss Group Film Productions',\n",
       " 'Summit Entertainment',\n",
       " 'Saturn Films',\n",
       " 'Nu Image Films',\n",
       " 'Millennium Films',\n",
       " 'Michael De Luca Productions',\n",
       " 'BBC Films',\n",
       " 'Warner Brothers/Seven Arts',\n",
       " 'Merchant Ivory Productions',\n",
       " 'Touchstone Pictures',\n",
       " 'Studio Babelsberg',\n",
       " 'Walden Media',\n",
       " 'Babelsberg Film',\n",
       " 'Mostow/Lieberman Productions',\n",
       " '80 Days Productions',\n",
       " 'Spanknyce Films',\n",
       " 'Fitzwilliam Productions',\n",
       " 'Ruby in Paradise',\n",
       " 'Full Crew/Say Yea',\n",
       " 'Le Bureau',\n",
       " 'Film4',\n",
       " 'Free Range Films',\n",
       " 'Plan B Entertainment',\n",
       " 'Northern Ireland Screen',\n",
       " 'Sierra / Affinity',\n",
       " 'MICA Entertainment',\n",
       " 'MadRiver Pictures',\n",
       " 'Keep Your Head',\n",
       " 'New Line Cinema',\n",
       " 'Michael Phillips Productions',\n",
       " 'Universal Pictures',\n",
       " 'Tales From The Crypt Holdings',\n",
       " 'Universal City Studios',\n",
       " 'Impala',\n",
       " 'In-Cine Compania Industrial Cinematografica',\n",
       " 'Paramount Pictures',\n",
       " 'Fox 2000 Pictures',\n",
       " 'Orion Pictures',\n",
       " 'Kouf/Bigelow Productions',\n",
       " 'Prana Animation Studios',\n",
       " 'Summertime Entertainment',\n",
       " 'Madhouse',\n",
       " 'Warner Bros. Japan',\n",
       " 'Paramount Pictures',\n",
       " 'Egg Pictures',\n",
       " 'PolyGram Filmed Entertainment',\n",
       " 'Melvin Simon Productions',\n",
       " 'American International Pictures (AIP)',\n",
       " 'Summit Entertainment',\n",
       " 'Alloy Entertainment',\n",
       " 'Goldcrest Pictures',\n",
       " 'New Line Cinema',\n",
       " 'Dark Horse Entertainment',\n",
       " 'Degeto Film',\n",
       " 'EOS Entertainment',\n",
       " 'Rai Cinema',\n",
       " 'Österreichischer Rundfunk (ORF)',\n",
       " 'Constantin Film Produktion',\n",
       " 'Westdeutscher Rundfunk (WDR)',\n",
       " 'Norddeutscher Rundfunk (NDR)',\n",
       " 'Village Roadshow Pictures',\n",
       " 'NPV Entertainment',\n",
       " 'Silver Pictures',\n",
       " 'Warner Bros.',\n",
       " 'Jonathan Krane Group',\n",
       " 'EMI Films Ltd.',\n",
       " 'Mersham Productions',\n",
       " 'TPS Cinéma',\n",
       " 'TF1 Films Production',\n",
       " 'M6 Métropole Télévision',\n",
       " 'Télégraphe',\n",
       " 'Vertigo',\n",
       " 'Le Studio Canal+',\n",
       " 'Laurence Mark Productions',\n",
       " 'Metro-Goldwyn-Mayer (MGM)',\n",
       " 'Carolco Pictures',\n",
       " 'Fox Searchlight Pictures',\n",
       " 'Broken Lizard Industries',\n",
       " 'Coconut Pete Productions',\n",
       " 'APT Entertainment',\n",
       " 'Star Cinema Productions',\n",
       " 'Cinemalaya Foundation',\n",
       " 'Darko Entertainment',\n",
       " 'Aggregate Film',\n",
       " 'Universal Pictures',\n",
       " 'Working Title Films',\n",
       " 'Walden Media',\n",
       " 'Cross Creek Pictures',\n",
       " 'Free State Pictures',\n",
       " 'RVK Studios',\n",
       " 'Twentieth Century Fox Film Corporation',\n",
       " 'Bandai Visual Company',\n",
       " 'Kodansha',\n",
       " 'Production I.G.',\n",
       " 'Columbia Pictures Corporation',\n",
       " 'Columbia Pictures',\n",
       " 'Intermedia Films',\n",
       " 'Relativity Media',\n",
       " 'Red Wagon Entertainment',\n",
       " 'IMF Internationale Medien und Film GmbH & Co. 3. Produktions KG',\n",
       " 'RV Camping Productions Ltd.',\n",
       " 'Asmik Ace Entertainment',\n",
       " 'Fuji Television Network',\n",
       " 'WoWow',\n",
       " 'Dentsu',\n",
       " 'Kodansha',\n",
       " 'Sumitomo Corporation',\n",
       " 'Sankei Shimbun',\n",
       " 'Orion Pictures',\n",
       " 'ERP Productions',\n",
       " '40 Acres & A Mule Filmworks',\n",
       " 'Touchstone Pictures',\n",
       " 'Paramount Vantage',\n",
       " 'River Road Entertainment',\n",
       " 'Art Linson Productions',\n",
       " 'Into the Wild',\n",
       " 'Miramax Films',\n",
       " 'View Askew Productions',\n",
       " 'Isle of Man Film',\n",
       " 'Weinstein Company, The',\n",
       " 'Samuelson Productions',\n",
       " 'Fox 2000 Pictures',\n",
       " 'Color Force',\n",
       " 'Columbia Pictures',\n",
       " 'Apatow Productions',\n",
       " 'Twentieth Century Fox Film Corporation',\n",
       " 'Steamroller Productions',\n",
       " 'Victor & Grais Productions',\n",
       " 'Twentieth Century Fox Film Corporation',\n",
       " 'Warner Bros.',\n",
       " 'Universal Pictures',\n",
       " 'Universal Pictures International (UPI)',\n",
       " 'Jigsaw',\n",
       " 'Global Produce',\n",
       " 'Caravan Pictures',\n",
       " 'Roger Birnbaum Productions',\n",
       " 'Northern Lights Entertainment',\n",
       " 'Touchstone Pictures',\n",
       " 'Killer Films',\n",
       " 'Rabbit Bandini Films',\n",
       " 'Great Point Media',\n",
       " 'Paramount Pictures',\n",
       " 'DreamWorks SKG',\n",
       " 'Parkes/MacDonald Productions',\n",
       " 'Edge City',\n",
       " 'Destination Films',\n",
       " 'Lionsgate',\n",
       " 'Mutant Enemy Productions',\n",
       " 'New Line Cinema',\n",
       " 'Jersey Films',\n",
       " 'France 2 Cinéma',\n",
       " 'Canal+',\n",
       " 'Studio Canal',\n",
       " 'TPS Star',\n",
       " 'Ce Qui Me Meut Motion Pictures',\n",
       " 'StudioCanal Image',\n",
       " 'Uni Etoile 4',\n",
       " 'Emmett/Furla Films',\n",
       " 'Exclusive Media Group',\n",
       " 'Hedge Fund Film Partners',\n",
       " 'Crave Films',\n",
       " 'Knightsbridge Entertainment',\n",
       " 'Le Grisbi Productions',\n",
       " '5150 Action',\n",
       " 'Goldcrest Films International',\n",
       " 'Peter Newman/Interal',\n",
       " 'Mary Breen-Farrelly Productions',\n",
       " 'Irish Film Industry',\n",
       " 'Pachyderm Production',\n",
       " 'Universal Pictures',\n",
       " 'Blumhouse Productions',\n",
       " 'Blinding Edge Pictures',\n",
       " 'Savoy Pictures',\n",
       " 'DreamWorks Pictures',\n",
       " 'Warner Bros.',\n",
       " 'Don Bluth Productions',\n",
       " 'Channel Four Films',\n",
       " 'PolyGram Filmed Entertainment',\n",
       " 'Working Title Films',\n",
       " 'Miramax Films',\n",
       " 'Spyglass Entertainment',\n",
       " 'Legendary Pictures',\n",
       " '3 Arts Entertainment',\n",
       " 'Jolie Pas',\n",
       " 'Miramax Films',\n",
       " 'Columbia TriStar',\n",
       " 'Studio Babelsberg',\n",
       " 'Lionsgate',\n",
       " 'Color Force',\n",
       " 'Art Pictures Studio',\n",
       " 'Universal Pictures',\n",
       " 'Spyglass Entertainment',\n",
       " 'Shady Acres Entertainment',\n",
       " 'Gran Via Productions',\n",
       " 'Kalima Productions GmbH & Co. KG',\n",
       " 'NDE Productions',\n",
       " 'Silver Pictures',\n",
       " 'Warner Bros.',\n",
       " 'Touchstone Pictures',\n",
       " 'Silver Screen Partners IV',\n",
       " 'Hemdale Film Corporation',\n",
       " 'Universal Pictures',\n",
       " 'No Frills Film Production',\n",
       " 'Paramount Pictures',\n",
       " 'United Artists',\n",
       " 'Hollywood Pictures',\n",
       " 'Golan-Globus Productions',\n",
       " 'The Cannon Group',\n",
       " 'Miramax Films',\n",
       " 'Initial Entertainment Group (IEG)',\n",
       " 'Alberto Grimaldi Productions',\n",
       " 'Village Roadshow Pictures',\n",
       " 'Legendary Pictures',\n",
       " 'Playtone',\n",
       " 'Wild Things Productions',\n",
       " 'Warner Bros.',\n",
       " 'Appian Way',\n",
       " 'Warner Bros.',\n",
       " 'Pearl Street Films',\n",
       " 'Touchstone Pictures',\n",
       " 'Walt Disney Pictures',\n",
       " 'Gunn Films',\n",
       " 'Casual Friday Productions',\n",
       " 'StudioCanal',\n",
       " 'Montecito Picture Company, The',\n",
       " 'Outpost Studios',\n",
       " 'MK2 Productions',\n",
       " 'Cookout Productions',\n",
       " 'Walt Disney Pictures',\n",
       " 'Pixar Animation Studios',\n",
       " 'Imagine Entertainment',\n",
       " 'Malpaso Productions',\n",
       " 'Relativity Media',\n",
       " 'Columbia Pictures',\n",
       " 'Aardman Animations',\n",
       " 'Sony Pictures Animation',\n",
       " 'TriStar Pictures',\n",
       " 'Media Rights Capital',\n",
       " 'Sony Pictures Entertainment (SPE)',\n",
       " 'QED International',\n",
       " 'Alpha Core',\n",
       " 'Genre Films',\n",
       " 'Simon Kinberg Productions',\n",
       " 'Warner Bros.',\n",
       " 'Paramount Pictures',\n",
       " 'The Rank Organisation',\n",
       " 'Enigma Productions',\n",
       " 'National Film Finance Corporation (NFFC)',\n",
       " 'Relativity Media',\n",
       " 'Misher Films',\n",
       " 'Yucaipa Films',\n",
       " 'Goldmann Pictures',\n",
       " 'Rat Entertainment',\n",
       " 'Misha Films',\n",
       " 'Regency Enterprises',\n",
       " 'Appian Way',\n",
       " 'CatchPlay',\n",
       " 'Anonymous Content',\n",
       " 'New Regency Pictures',\n",
       " 'Hong Kong Alpha Motion Pictures Co.',\n",
       " 'RatPac Entertainment',\n",
       " 'M Productions',\n",
       " 'Monarchy Enterprises S.a.r.l.',\n",
       " 'Paramount Pictures',\n",
       " 'Icon Entertainment International',\n",
       " 'TriStar Pictures',\n",
       " 'Twentieth Century Fox Film Corporation',\n",
       " 'Joseph M. Singer Entertainment',\n",
       " 'Davis Entertainment',\n",
       " 'Scott Rudin Productions',\n",
       " 'TF1 Films Production',\n",
       " 'Canal+',\n",
       " 'CinéCinéma',\n",
       " 'Grive Productions',\n",
       " 'EuropaCorp',\n",
       " 'A.J.O.Z. Films',\n",
       " 'Maguire Entertainment',\n",
       " 'Screen Gems',\n",
       " 'Sony Pictures Home Entertainment',\n",
       " 'Kennedy Miller Productions',\n",
       " 'Animal Logic',\n",
       " 'AVCO Embassy Pictures',\n",
       " 'Guardian Trust Company',\n",
       " 'RSL Entertainment Corp.',\n",
       " 'Moviecorp VI',\n",
       " 'China Film Group Corporation',\n",
       " 'Greenestreet Films',\n",
       " 'Eclipse Catering',\n",
       " 'Twentieth Century Fox Film Corporation',\n",
       " 'Walt Disney Pictures',\n",
       " 'Summit Entertainment',\n",
       " 'K/O Paper Products',\n",
       " 'SOIXAN7E QUIN5E',\n",
       " 'See Me Louisiana',\n",
       " 'Touchstone Pictures',\n",
       " 'Milkshake Films',\n",
       " 'Hargitay & Hargitay Pictures in Motion',\n",
       " 'Paramount Pictures',\n",
       " 'Tamm Productions',\n",
       " 'BBC Films',\n",
       " 'Lionsgate',\n",
       " 'Paramount Pictures',\n",
       " 'Rysher Entertainment',\n",
       " 'Here Films',\n",
       " 'The Australian Film Commission',\n",
       " 'Central Motion Pictures',\n",
       " 'Fauna Productions',\n",
       " 'Paramount Pictures',\n",
       " 'Di Bonaventura Pictures',\n",
       " 'Mace Neufeld Productions',\n",
       " 'Skydance Productions',\n",
       " 'Etalon film',\n",
       " 'Buckaroo Entertainment',\n",
       " 'Warner Bros.',\n",
       " 'New Line Cinema',\n",
       " 'Village Roadshow Pictures',\n",
       " 'Likely Story',\n",
       " 'Anonymous Content',\n",
       " 'Overbrook Entertainment',\n",
       " 'PalmStar Media',\n",
       " 'Allied Filmmakers',\n",
       " 'Topcraft',\n",
       " 'HBO/Cinemax Documentary',\n",
       " 'thinkfilm',\n",
       " 'Creative Visions Productions',\n",
       " 'Red Light Films',\n",
       " 'Sundance Institute Documentary Fund',\n",
       " 'Di Bonaventura Pictures',\n",
       " 'Summit Entertainment',\n",
       " 'Participant Media',\n",
       " 'Closest to the Hole Productions',\n",
       " 'Leverage Entertainment',\n",
       " 'TIK Film',\n",
       " 'United Artists',\n",
       " 'Eon Productions',\n",
       " 'Danjaq',\n",
       " 'Universal Pictures',\n",
       " 'Lionsgate',\n",
       " 'Lionsgate',\n",
       " 'MHF Zweite Academy Film',\n",
       " 'Marvel Knights',\n",
       " 'Valhalla Motion Pictures',\n",
       " 'SGF Entertainment',\n",
       " 'Muse Entertainment',\n",
       " 'Meteor 17',\n",
       " 'Crew Neck Productions',\n",
       " 'Paramount Pictures',\n",
       " 'Bristol Bay Productions',\n",
       " 'Baldwin Entertainment Group',\n",
       " 'Desertlands Entertainment',\n",
       " 'Mace Neufeld Productions',\n",
       " 'Kanzaman',\n",
       " 'J.K. Livin Productions',\n",
       " 'Moguletta',\n",
       " 'Sahara Productions',\n",
       " 'Babelsberg Film',\n",
       " 'Walt Disney Pictures',\n",
       " 'Walt Disney Feature Animation',\n",
       " 'Impact Pictures',\n",
       " 'Jerry Weintraub Productions',\n",
       " 'Warner Bros.',\n",
       " 'Morgan Creek Productions',\n",
       " 'WingNut Films',\n",
       " 'DreamWorks SKG',\n",
       " 'Key Creatives',\n",
       " 'Film4',\n",
       " 'Goldcrest Pictures',\n",
       " 'New Zealand Large Budget Screen Production Grant',\n",
       " 'Kissaki Films',\n",
       " 'Stacey Reiss Productions',\n",
       " 'Reliance Big Pictures',\n",
       " 'Studio Green',\n",
       " 'Star Media',\n",
       " 'Интерфест',\n",
       " 'Реал-Дакота',\n",
       " 'France 2 Cinéma',\n",
       " 'Why Not Productions',\n",
       " 'Les Films Du Fleuve',\n",
       " 'Vlaams Audiovisueel fonds',\n",
       " 'Canal+',\n",
       " 'Radio Télévision Belge Francophone (RTBF)',\n",
       " 'Ciné+',\n",
       " 'Page 114',\n",
       " 'Lumière',\n",
       " 'Lunanime',\n",
       " 'France Télévisions',\n",
       " \"Centre du Cinéma et de l'Audiovisuel de la Fédération Wallonie-Bruxelles\",\n",
       " 'VOO',\n",
       " \"Région Provence-Alpes-Côte d'Azur\",\n",
       " 'Département des Alpes-Maritimes',\n",
       " 'Casa Kafka Pictures Movie Tax Shelter Empowered by Dexia',\n",
       " 'Spyglass Entertainment',\n",
       " 'Forward Pass',\n",
       " 'Kaitz Productions',\n",
       " 'Mann/Roth Productions',\n",
       " 'Touchstone Pictures',\n",
       " 'Thinkfilm',\n",
       " 'TriStar Pictures',\n",
       " 'Screen Gems',\n",
       " 'Roth Films',\n",
       " 'Cecchi Gori Group Tiger Cinematografica',\n",
       " 'AMLF',\n",
       " 'Canal+',\n",
       " 'Bavaria Entertainment',\n",
       " 'Round Films',\n",
       " 'Rachael Horovitz Productions',\n",
       " 'Lionsgate',\n",
       " 'Blumhouse Productions',\n",
       " 'Chapter One Films',\n",
       " 'UTV Motion Pictures',\n",
       " 'Twentieth Century Fox Film Corporation',\n",
       " 'Davis Entertainment',\n",
       " 'Double Play',\n",
       " 'Geffen Company, The',\n",
       " 'Arachnid Productions Ltd.',\n",
       " 'The Ladd Company',\n",
       " 'Outland Productions',\n",
       " 'Paramount Pictures',\n",
       " ...]"
      ]
     },
     "execution_count": 49,
     "metadata": {},
     "output_type": "execute_result"
    }
   ],
   "source": [
    "list_of_companies = []\n",
    "for i in train['production_companies']:\n",
    "    d = get_dict(i)\n",
    "    if d != {}:\n",
    "        for j in range(len(d)):\n",
    "            list_of_companies.append(d[j]['name'])\n",
    "list_of_companies"
   ]
  },
  {
   "cell_type": "code",
   "execution_count": 50,
   "metadata": {},
   "outputs": [
    {
     "data": {
      "text/plain": [
       "2119"
      ]
     },
     "execution_count": 50,
     "metadata": {},
     "output_type": "execute_result"
    }
   ],
   "source": [
    "# Top 50 production companies\n",
    "top_companies_cnt = list(Counter(list_of_companies).most_common(50))\n",
    "top_companies = []\n",
    "for i in top_companies_cnt:\n",
    "    top_companies.append(i[0])\n",
    "temp = 0\n",
    "for i in top_companies_cnt:\n",
    "    temp += i[1]\n",
    "temp"
   ]
  },
  {
   "cell_type": "code",
   "execution_count": 51,
   "metadata": {},
   "outputs": [
    {
     "name": "stdout",
     "output_type": "stream",
     "text": [
      "[('Warner Bros.', 202), ('Universal Pictures', 188), ('Paramount Pictures', 161), ('Twentieth Century Fox Film Corporation', 138), ('Columbia Pictures', 91), ('Metro-Goldwyn-Mayer (MGM)', 84), ('New Line Cinema', 75), ('Touchstone Pictures', 63), ('Walt Disney Pictures', 62), ('Columbia Pictures Corporation', 61), ('TriStar Pictures', 53), ('Relativity Media', 48), ('Canal+', 46), ('United Artists', 44), ('Miramax Films', 40), ('Village Roadshow Pictures', 36), ('Regency Enterprises', 31), ('BBC Films', 30), ('Dune Entertainment', 30), ('Working Title Films', 30), ('Fox Searchlight Pictures', 29), ('StudioCanal', 28), ('Lionsgate', 28), ('DreamWorks SKG', 27), ('Fox 2000 Pictures', 25), ('Summit Entertainment', 24), ('Hollywood Pictures', 24), ('Orion Pictures', 24), ('Amblin Entertainment', 23), ('Dimension Films', 23), ('Castle Rock Entertainment', 21), ('Epsilon Motion Pictures', 21), ('Morgan Creek Productions', 21), ('Original Film', 21), ('Focus Features', 21), ('Legendary Pictures', 19), ('Participant Media', 19), ('Blumhouse Productions', 18), ('New Regency Pictures', 18), ('Film4', 18), ('Spyglass Entertainment', 17), ('Imagine Entertainment', 16), ('Screen Gems', 16), ('Millennium Films', 16), ('TSG Entertainment', 16), ('Lakeshore Entertainment', 15), ('France 2 Cinéma', 15), ('Silver Pictures', 15), ('The Weinstein Company', 14), ('PolyGram Filmed Entertainment', 14)]\n"
     ]
    }
   ],
   "source": [
    "print(top_companies_cnt)"
   ]
  },
  {
   "cell_type": "code",
   "execution_count": 52,
   "metadata": {},
   "outputs": [
    {
     "name": "stdout",
     "output_type": "stream",
     "text": [
      "['Warner Bros.', 'Universal Pictures', 'Paramount Pictures', 'Twentieth Century Fox Film Corporation', 'Columbia Pictures', 'Metro-Goldwyn-Mayer (MGM)', 'New Line Cinema', 'Touchstone Pictures', 'Walt Disney Pictures', 'Columbia Pictures Corporation', 'TriStar Pictures', 'Relativity Media', 'Canal+', 'United Artists', 'Miramax Films', 'Village Roadshow Pictures', 'Regency Enterprises', 'BBC Films', 'Dune Entertainment', 'Working Title Films', 'Fox Searchlight Pictures', 'StudioCanal', 'Lionsgate', 'DreamWorks SKG', 'Fox 2000 Pictures', 'Summit Entertainment', 'Hollywood Pictures', 'Orion Pictures', 'Amblin Entertainment', 'Dimension Films', 'Castle Rock Entertainment', 'Epsilon Motion Pictures', 'Morgan Creek Productions', 'Original Film', 'Focus Features', 'Legendary Pictures', 'Participant Media', 'Blumhouse Productions', 'New Regency Pictures', 'Film4', 'Spyglass Entertainment', 'Imagine Entertainment', 'Screen Gems', 'Millennium Films', 'TSG Entertainment', 'Lakeshore Entertainment', 'France 2 Cinéma', 'Silver Pictures', 'The Weinstein Company', 'PolyGram Filmed Entertainment']\n"
     ]
    }
   ],
   "source": [
    "print(top_companies)"
   ]
  },
  {
   "cell_type": "code",
   "execution_count": 53,
   "metadata": {},
   "outputs": [],
   "source": [
    "prod_company = pd.DataFrame(columns=['production_company'])\n",
    "train = pd.concat([train, prod_company], axis=1)\n",
    "test = pd.concat([test, prod_company], axis=1)"
   ]
  },
  {
   "cell_type": "code",
   "execution_count": 54,
   "metadata": {},
   "outputs": [
    {
     "name": "stdout",
     "output_type": "stream",
     "text": [
      "THE NUMBER OF TOP COMPANIES AT TRAIN: 1313\n",
      "THE NUMBER OF TOP COMPANIES AT TEST: 1869\n"
     ]
    }
   ],
   "source": [
    "j = 0\n",
    "cnt = 0\n",
    "chk = False\n",
    "for i in train['production_companies']:\n",
    "    d = get_dict(i)\n",
    "#     print(len(d))\n",
    "    if d != {}:\n",
    "        if len(d) > 1:\n",
    "            for k in range(len(d)):\n",
    "                company_name = d[k]['name']\n",
    "                if company_name in top_companies:\n",
    "                    train['production_company'][j] = company_name\n",
    "                    cnt += 1\n",
    "                    chk = True\n",
    "                    break\n",
    "            \n",
    "            if chk is False:\n",
    "                    train['production_company'][j] = d[0]['name']\n",
    "                \n",
    "        else:\n",
    "            train['production_company'][j] = d[0]['name']\n",
    "    else:\n",
    "        train['production_company'][j] = np.NaN\n",
    "    j += 1\n",
    "\n",
    "print(\"THE NUMBER OF TOP COMPANIES AT TRAIN:\", cnt)\n",
    "\n",
    "j = 0\n",
    "cnt = 0\n",
    "chk = False\n",
    "for i in test['production_companies']:\n",
    "    d = get_dict(i)\n",
    "#     print(len(d))\n",
    "    if d != {}:\n",
    "        if len(d) > 1:\n",
    "            for k in range(len(d)):\n",
    "                company_name = d[k]['name']\n",
    "                if company_name in top_companies:\n",
    "                    test['production_company'][j] = company_name\n",
    "                    cnt += 1\n",
    "                    chk = True\n",
    "                    break\n",
    "            \n",
    "            if chk is False:\n",
    "                    test['production_company'][j] = d[0]['name']\n",
    "                \n",
    "        else:\n",
    "            test['production_company'][j] = d[0]['name']\n",
    "    else:\n",
    "        test['production_company'][j] = np.NaN\n",
    "    j += 1\n",
    "\n",
    "print(\"THE NUMBER OF TOP COMPANIES AT TEST:\", cnt)"
   ]
  },
  {
   "cell_type": "code",
   "execution_count": 55,
   "metadata": {},
   "outputs": [
    {
     "data": {
      "text/plain": [
       "NaN                                       912\n",
       "Universal Pictures                        173\n",
       "Paramount Pictures                        161\n",
       "Warner Bros.                              137\n",
       "Twentieth Century Fox Film Corporation    133\n",
       "                                         ... \n",
       "Starburns Industries                        1\n",
       "Kingsize Entertainment                      1\n",
       "Lorimar Film Entertainment                  1\n",
       "Scorsese Productions                        1\n",
       "Memfis Film                                 1\n",
       "Name: production_company, Length: 421, dtype: int64"
      ]
     },
     "execution_count": 55,
     "metadata": {},
     "output_type": "execute_result"
    }
   ],
   "source": [
    "train['production_company'].value_counts(dropna=False)"
   ]
  },
  {
   "cell_type": "markdown",
   "metadata": {},
   "source": [
    "## I guess using this column is just useless, we are gonna drop it"
   ]
  },
  {
   "cell_type": "code",
   "execution_count": 56,
   "metadata": {},
   "outputs": [
    {
     "data": {
      "text/plain": [
       "((3000, 19), (4398, 18))"
      ]
     },
     "execution_count": 56,
     "metadata": {},
     "output_type": "execute_result"
    }
   ],
   "source": [
    "train.drop(['production_companies', 'production_company'], axis=1, inplace=True)\n",
    "test.drop(['production_companies', 'production_company'], axis=1, inplace=True)\n",
    "train.shape, test.shape"
   ]
  },
  {
   "cell_type": "markdown",
   "metadata": {},
   "source": [
    "# Production Countries"
   ]
  },
  {
   "cell_type": "code",
   "execution_count": 57,
   "metadata": {},
   "outputs": [
    {
     "name": "stdout",
     "output_type": "stream",
     "text": [
      "[{'iso_3166_1': 'US', 'name': 'United States of America'}]\n",
      "---\n",
      "[{'iso_3166_1': 'US', 'name': 'United States of America'}]\n",
      "---\n",
      "[{'iso_3166_1': 'US', 'name': 'United States of America'}]\n",
      "---\n",
      "[{'iso_3166_1': 'IN', 'name': 'India'}]\n",
      "---\n",
      "[{'iso_3166_1': 'KR', 'name': 'South Korea'}]\n",
      "---\n",
      "nan\n",
      "---\n",
      "[{'iso_3166_1': 'US', 'name': 'United States of America'}, {'iso_3166_1': 'CA', 'name': 'Canada'}]\n",
      "---\n",
      "nan\n",
      "---\n",
      "[{'iso_3166_1': 'US', 'name': 'United States of America'}]\n",
      "---\n",
      "[{'iso_3166_1': 'US', 'name': 'United States of America'}]\n",
      "---\n"
     ]
    }
   ],
   "source": [
    "for i in range(10):\n",
    "    print(train['production_countries'][i])\n",
    "    print(\"---\")"
   ]
  },
  {
   "cell_type": "code",
   "execution_count": 58,
   "metadata": {},
   "outputs": [
    {
     "name": "stdout",
     "output_type": "stream",
     "text": [
      "55\n",
      "102\n"
     ]
    }
   ],
   "source": [
    "print(train['production_countries'].isnull().sum())\n",
    "print(test['production_countries'].isnull().sum())"
   ]
  },
  {
   "cell_type": "markdown",
   "metadata": {},
   "source": [
    "# Number of production Countries"
   ]
  },
  {
   "cell_type": "code",
   "execution_count": 59,
   "metadata": {},
   "outputs": [],
   "source": [
    "num_of_production_countries = pd.DataFrame(columns=['num_of_production_countries'])\n",
    "train = pd.concat([train, num_of_production_countries], axis=1)\n",
    "test = pd.concat([test, num_of_production_countries], axis=1)"
   ]
  },
  {
   "cell_type": "code",
   "execution_count": 60,
   "metadata": {},
   "outputs": [],
   "source": [
    "j = 0\n",
    "for i in train['production_countries']:\n",
    "    d = get_dict(i)\n",
    "    if d != {}:\n",
    "        train['num_of_production_countries'][j] = len(d)\n",
    "    else:\n",
    "        train['num_of_production_countries'][j] = np.NaN\n",
    "    j += 1\n",
    "\n",
    "j = 0\n",
    "for i in test['production_countries']:\n",
    "    d = get_dict(i)\n",
    "    if d != {}:\n",
    "        test['num_of_production_countries'][j] = len(d)\n",
    "    else:\n",
    "        test['num_of_production_countries'][j] = np.NaN\n",
    "    j += 1"
   ]
  },
  {
   "cell_type": "code",
   "execution_count": 61,
   "metadata": {},
   "outputs": [
    {
     "data": {
      "text/plain": [
       "<seaborn.axisgrid.FacetGrid at 0x7f3eb0650c40>"
      ]
     },
     "execution_count": 61,
     "metadata": {},
     "output_type": "execute_result"
    },
    {
     "data": {
      "image/png": "[encoded data removed]",
      "text/plain": [
       "<Figure size 360x360 with 1 Axes>"
      ]
     },
     "metadata": {
      "needs_background": "light"
     },
     "output_type": "display_data"
    }
   ],
   "source": [
    "# Let's see how useful it is\n",
    "sns.catplot(x='num_of_production_countries', y='revenue', data=train)"
   ]
  },
  {
   "cell_type": "markdown",
   "metadata": {},
   "source": [
    "# Production Country"
   ]
  },
  {
   "cell_type": "code",
   "execution_count": 62,
   "metadata": {},
   "outputs": [],
   "source": [
    "prod_country = pd.DataFrame(columns=['production_country'])\n",
    "train = pd.concat([train, prod_country], axis=1)\n",
    "test = pd.concat([test, prod_country], axis=1)"
   ]
  },
  {
   "cell_type": "code",
   "execution_count": 63,
   "metadata": {},
   "outputs": [],
   "source": [
    "j = 0\n",
    "for i in train['production_countries']:\n",
    "    d = get_dict(i)\n",
    "    if d != {}:\n",
    "        if len(d) > 1:\n",
    "            countires = []\n",
    "            for k in range(len(d)):\n",
    "                countires.append(d[k]['name'])\n",
    "            if 'United States of America' in countires:\n",
    "                train['production_country'][j] = 'United States of America'\n",
    "        else:\n",
    "            train['production_country'][j] = d[0]['name']\n",
    "    else:\n",
    "        train['production_country'][j] = np.NaN\n",
    "    j += 1\n",
    "    \n",
    "j = 0\n",
    "for i in test['production_countries']:\n",
    "    d = get_dict(i)\n",
    "    if d != {}:\n",
    "        if len(d) > 1:\n",
    "            countires = []\n",
    "            for k in range(len(d)):\n",
    "                countires.append(d[k]['name'])\n",
    "            if 'United States of America' in countires:\n",
    "                test['production_country'][j] = 'United States of America'\n",
    "        else:\n",
    "            test['production_country'][j] = d[0]['name']\n",
    "    else:\n",
    "        test['production_country'][j] = np.NaN\n",
    "    j += 1"
   ]
  },
  {
   "cell_type": "code",
   "execution_count": 64,
   "metadata": {},
   "outputs": [
    {
     "data": {
      "text/plain": [
       "<seaborn.axisgrid.FacetGrid at 0x7f3eb05b6100>"
      ]
     },
     "execution_count": 64,
     "metadata": {},
     "output_type": "execute_result"
    },
    {
     "data": {
      "image/png": "[encoded data removed]",
      "text/plain": [
       "<Figure size 360x360 with 1 Axes>"
      ]
     },
     "metadata": {
      "needs_background": "light"
     },
     "output_type": "display_data"
    }
   ],
   "source": [
    "sns.catplot(x='production_country', y='revenue', data=train)"
   ]
  },
  {
   "cell_type": "markdown",
   "metadata": {},
   "source": [
    "### Some feature like is USA Production sould be useful here, let's see"
   ]
  },
  {
   "cell_type": "code",
   "execution_count": 65,
   "metadata": {},
   "outputs": [],
   "source": [
    "is_usa_production = pd.DataFrame(columns=['is_usa_production'])\n",
    "train = pd.concat([train, is_usa_production], axis=1)\n",
    "test = pd.concat([test, is_usa_production], axis=1)"
   ]
  },
  {
   "cell_type": "code",
   "execution_count": 66,
   "metadata": {},
   "outputs": [],
   "source": [
    "j = 0\n",
    "for i in train['production_country']:\n",
    "    if i == 'United States of America':\n",
    "        train['is_usa_production'][j] = 1\n",
    "    elif str(i) == 'nan':\n",
    "        train['is_usa_production'][j] = np.NaN\n",
    "    else:\n",
    "        train['is_usa_production'][j] = 0\n",
    "    j += 1\n",
    "    \n",
    "j = 0\n",
    "for i in test['production_country']:\n",
    "    if i == 'United States of America':\n",
    "        test['is_usa_production'][j] = 1\n",
    "    elif str(i) == 'nan':\n",
    "        test['is_usa_production'][j] = np.NaN\n",
    "    else:\n",
    "        test['is_usa_production'][j] = 0\n",
    "    \n",
    "    j += 1"
   ]
  },
  {
   "cell_type": "code",
   "execution_count": 67,
   "metadata": {},
   "outputs": [
    {
     "data": {
      "text/plain": [
       "<seaborn.axisgrid.FacetGrid at 0x7f3eb0594b20>"
      ]
     },
     "execution_count": 67,
     "metadata": {},
     "output_type": "execute_result"
    },
    {
     "data": {
      "image/png": "[encoded data removed]",
      "text/plain": [
       "<Figure size 360x360 with 1 Axes>"
      ]
     },
     "metadata": {
      "needs_background": "light"
     },
     "output_type": "display_data"
    }
   ],
   "source": [
    "sns.catplot(x='is_usa_production', y='revenue', data=train)"
   ]
  },
  {
   "cell_type": "code",
   "execution_count": 68,
   "metadata": {},
   "outputs": [],
   "source": [
    "train.drop(['production_countries'], axis=1, inplace=True)\n",
    "test.drop(['production_countries'], axis=1, inplace=True)"
   ]
  },
  {
   "cell_type": "markdown",
   "metadata": {},
   "source": [
    "# Release Date"
   ]
  },
  {
   "cell_type": "code",
   "execution_count": 69,
   "metadata": {},
   "outputs": [
    {
     "data": {
      "text/plain": [
       "0     2/20/15\n",
       "1      8/6/04\n",
       "2    10/10/14\n",
       "3      3/9/12\n",
       "4      2/5/09\n",
       "Name: release_date, dtype: object"
      ]
     },
     "execution_count": 69,
     "metadata": {},
     "output_type": "execute_result"
    }
   ],
   "source": [
    "train['release_date'][:5]"
   ]
  },
  {
   "cell_type": "code",
   "execution_count": 70,
   "metadata": {},
   "outputs": [
    {
     "name": "stdout",
     "output_type": "stream",
     "text": [
      "['8', '/', '6', '/', '0', '4']\n",
      "8/6/04\n"
     ]
    }
   ],
   "source": [
    "print(list(train['release_date'][1]))\n",
    "print(train['release_date'][1])"
   ]
  },
  {
   "cell_type": "markdown",
   "metadata": {},
   "source": [
    "# Split the Release date to (Release Day, Release Month, Release Year)"
   ]
  },
  {
   "cell_type": "code",
   "execution_count": 71,
   "metadata": {},
   "outputs": [],
   "source": [
    "train[['release_month', 'release_day', 'release_year']] = train['release_date'].str.split('/',expand=True).replace(np.nan, -1).astype(int)\n",
    "test[['release_month', 'release_day', 'release_year']] = test['release_date'].str.split('/',expand=True).replace(np.nan, -1).astype(int)"
   ]
  },
  {
   "cell_type": "code",
   "execution_count": 72,
   "metadata": {},
   "outputs": [
    {
     "data": {
      "text/plain": [
       "((3000, 23), (4398, 22))"
      ]
     },
     "execution_count": 72,
     "metadata": {},
     "output_type": "execute_result"
    }
   ],
   "source": [
    "train.drop(['release_date'], axis=1, inplace=True)\n",
    "test.drop(['release_date'], axis=1, inplace=True)\n",
    "train.shape, test.shape"
   ]
  },
  {
   "cell_type": "code",
   "execution_count": 73,
   "metadata": {},
   "outputs": [
    {
     "data": {
      "text/plain": [
       "<seaborn.axisgrid.FacetGrid at 0x7f3eb0fd88e0>"
      ]
     },
     "execution_count": 73,
     "metadata": {},
     "output_type": "execute_result"
    },
    {
     "data": {
      "image/png": "[encoded data removed]",
      "text/plain": [
       "<Figure size 360x360 with 1 Axes>"
      ]
     },
     "metadata": {
      "needs_background": "light"
     },
     "output_type": "display_data"
    }
   ],
   "source": [
    "sns.catplot(x='release_month', y='revenue', data=train)"
   ]
  },
  {
   "cell_type": "code",
   "execution_count": 74,
   "metadata": {},
   "outputs": [
    {
     "data": {
      "text/plain": [
       "<seaborn.axisgrid.FacetGrid at 0x7f3eb02755b0>"
      ]
     },
     "execution_count": 74,
     "metadata": {},
     "output_type": "execute_result"
    },
    {
     "data": {
      "image/png": "[encoded data removed]",
      "text/plain": [
       "<Figure size 360x360 with 1 Axes>"
      ]
     },
     "metadata": {
      "needs_background": "light"
     },
     "output_type": "display_data"
    }
   ],
   "source": [
    "sns.catplot(x='release_day', y='revenue', data=train)"
   ]
  },
  {
   "cell_type": "code",
   "execution_count": 75,
   "metadata": {},
   "outputs": [
    {
     "data": {
      "text/plain": [
       "<matplotlib.collections.PathCollection at 0x7f3eb017e790>"
      ]
     },
     "execution_count": 75,
     "metadata": {},
     "output_type": "execute_result"
    },
    {
     "data": {
      "image/png": "[encoded data removed]",
      "text/plain": [
       "<Figure size 864x648 with 1 Axes>"
      ]
     },
     "metadata": {
      "needs_background": "light"
     },
     "output_type": "display_data"
    }
   ],
   "source": [
    "plt.subplots(figsize=(12, 9))\n",
    "plt.scatter(x=train['release_year'], y=train['revenue'])"
   ]
  },
  {
   "cell_type": "markdown",
   "metadata": {},
   "source": [
    "# RunTime"
   ]
  },
  {
   "cell_type": "code",
   "execution_count": 76,
   "metadata": {},
   "outputs": [
    {
     "name": "stdout",
     "output_type": "stream",
     "text": [
      "2\n",
      "4\n"
     ]
    }
   ],
   "source": [
    "print(train['runtime'].isnull().sum())\n",
    "print(test['runtime'].isnull().sum())"
   ]
  },
  {
   "cell_type": "code",
   "execution_count": 77,
   "metadata": {},
   "outputs": [
    {
     "data": {
      "text/plain": [
       "<matplotlib.collections.PathCollection at 0x7f3eb03b9430>"
      ]
     },
     "execution_count": 77,
     "metadata": {},
     "output_type": "execute_result"
    },
    {
     "data": {
      "image/png": "[encoded data removed]",
      "text/plain": [
       "<Figure size 864x648 with 1 Axes>"
      ]
     },
     "metadata": {
      "needs_background": "light"
     },
     "output_type": "display_data"
    }
   ],
   "source": [
    "plt.subplots(figsize=(12, 9))\n",
    "plt.scatter(x=train['runtime'], y=train['revenue'])"
   ]
  },
  {
   "cell_type": "code",
   "execution_count": 78,
   "metadata": {},
   "outputs": [
    {
     "name": "stdout",
     "output_type": "stream",
     "text": [
      "12\n",
      "12\n"
     ]
    }
   ],
   "source": [
    "# Zero running time means null value\n",
    "print(len(train[train['runtime'] == 0]))\n",
    "print(len(train[train['runtime'] == 0]))"
   ]
  },
  {
   "cell_type": "markdown",
   "metadata": {},
   "source": [
    "# Spoken Languages"
   ]
  },
  {
   "cell_type": "code",
   "execution_count": 79,
   "metadata": {},
   "outputs": [
    {
     "data": {
      "text/plain": [
       "0             [{'iso_639_1': 'en', 'name': 'English'}]\n",
       "1             [{'iso_639_1': 'en', 'name': 'English'}]\n",
       "2             [{'iso_639_1': 'en', 'name': 'English'}]\n",
       "3    [{'iso_639_1': 'en', 'name': 'English'}, {'iso...\n",
       "4             [{'iso_639_1': 'ko', 'name': '한국어/조선말'}]\n",
       "Name: spoken_languages, dtype: object"
      ]
     },
     "execution_count": 79,
     "metadata": {},
     "output_type": "execute_result"
    }
   ],
   "source": [
    "train['spoken_languages'][:5]"
   ]
  },
  {
   "cell_type": "markdown",
   "metadata": {},
   "source": [
    "## Let's generate some features like (how many languages have been spoken in the movie, is English has been spoken)"
   ]
  },
  {
   "cell_type": "markdown",
   "metadata": {},
   "source": [
    "# Number of Spoken Languages"
   ]
  },
  {
   "cell_type": "code",
   "execution_count": 80,
   "metadata": {},
   "outputs": [],
   "source": [
    "number_of_spoken_languages = pd.DataFrame(columns=['number_of_spoken_languages'])\n",
    "train = pd.concat([train, number_of_spoken_languages], axis=1)\n",
    "test = pd.concat([test, number_of_spoken_languages], axis=1)"
   ]
  },
  {
   "cell_type": "code",
   "execution_count": 81,
   "metadata": {},
   "outputs": [],
   "source": [
    "j = 0\n",
    "for i in train['spoken_languages']:\n",
    "    d = get_dict(i)\n",
    "    if d != {}:\n",
    "        train['number_of_spoken_languages'][j] = len(d)\n",
    "    else:\n",
    "        train['number_of_spoken_languages'][j] = np.NaN\n",
    "    j += 1\n",
    "    \n",
    "j = 0\n",
    "for i in test['spoken_languages']:\n",
    "    d = get_dict(i)\n",
    "    if d != {}:\n",
    "        test['number_of_spoken_languages'][j] = len(d)\n",
    "    else:\n",
    "        test['number_of_spoken_languages'][j] = np.NaN\n",
    "    j += 1"
   ]
  },
  {
   "cell_type": "code",
   "execution_count": 82,
   "metadata": {},
   "outputs": [
    {
     "data": {
      "text/plain": [
       "<seaborn.axisgrid.FacetGrid at 0x7f3eb05a2af0>"
      ]
     },
     "execution_count": 82,
     "metadata": {},
     "output_type": "execute_result"
    },
    {
     "data": {
      "image/png": "[encoded data removed]",
      "text/plain": [
       "<Figure size 360x360 with 1 Axes>"
      ]
     },
     "metadata": {
      "needs_background": "light"
     },
     "output_type": "display_data"
    }
   ],
   "source": [
    "sns.catplot(x='number_of_spoken_languages', y='revenue', data=train)"
   ]
  },
  {
   "cell_type": "markdown",
   "metadata": {},
   "source": [
    "Clear pattern in the graph above"
   ]
  },
  {
   "cell_type": "markdown",
   "metadata": {},
   "source": [
    "# Is English a Spoken Language"
   ]
  },
  {
   "cell_type": "code",
   "execution_count": 83,
   "metadata": {},
   "outputs": [],
   "source": [
    "is_en_spoken = pd.DataFrame(columns=['is_en_spoken'])\n",
    "train = pd.concat([train, is_en_spoken], axis=1)\n",
    "test = pd.concat([test, is_en_spoken], axis=1)"
   ]
  },
  {
   "cell_type": "code",
   "execution_count": 84,
   "metadata": {},
   "outputs": [],
   "source": [
    "j = 0\n",
    "for i in train['spoken_languages']:\n",
    "    d = get_dict(i)\n",
    "    if d != {}:\n",
    "        langs = []\n",
    "        for k in range(len(d)):\n",
    "            lang = d[k]['name']\n",
    "            langs.append(lang)\n",
    "        if 'English' in langs:\n",
    "            train['is_en_spoken'][j] = 1\n",
    "        else:\n",
    "            train['is_en_spoken'][j] = 0\n",
    "    else:\n",
    "        train['is_en_spoken'][j] = np.NaN\n",
    "    j += 1\n",
    "        \n",
    "j = 0\n",
    "for i in test['spoken_languages']:\n",
    "    d = get_dict(i)\n",
    "    if d != {}:\n",
    "        langs = []\n",
    "        for k in range(len(d)):\n",
    "            lang = d[k]['name']\n",
    "            langs.append(lang)\n",
    "        if 'English' in langs:\n",
    "            test['is_en_spoken'][j] = 1\n",
    "        else:\n",
    "            test['is_en_spoken'][j] = 0\n",
    "    else:\n",
    "        test['is_en_spoken'][j] = np.NaN\n",
    "    j += 1"
   ]
  },
  {
   "cell_type": "code",
   "execution_count": 85,
   "metadata": {},
   "outputs": [
    {
     "data": {
      "text/plain": [
       "<seaborn.axisgrid.FacetGrid at 0x7f3eda7fcd90>"
      ]
     },
     "execution_count": 85,
     "metadata": {},
     "output_type": "execute_result"
    },
    {
     "data": {
      "image/png": "[encoded data removed]",
      "text/plain": [
       "<Figure size 360x360 with 1 Axes>"
      ]
     },
     "metadata": {
      "needs_background": "light"
     },
     "output_type": "display_data"
    }
   ],
   "source": [
    "sns.catplot(x='is_en_spoken', y='revenue', data=train)"
   ]
  },
  {
   "cell_type": "markdown",
   "metadata": {},
   "source": [
    "This feature is really useful"
   ]
  },
  {
   "cell_type": "markdown",
   "metadata": {},
   "source": [
    "# Spoken Language"
   ]
  },
  {
   "cell_type": "code",
   "execution_count": 86,
   "metadata": {},
   "outputs": [],
   "source": [
    "spoken_language = pd.DataFrame(columns=['spoken_language'])\n",
    "train = pd.concat([train, spoken_language], axis=1)\n",
    "test = pd.concat([test, spoken_language], axis=1)"
   ]
  },
  {
   "cell_type": "code",
   "execution_count": 87,
   "metadata": {},
   "outputs": [],
   "source": [
    "j = 0\n",
    "for i in train['spoken_languages']:\n",
    "    d = get_dict(i)\n",
    "    if d != {}:\n",
    "        langs = []\n",
    "        for k in range(len(d)):\n",
    "            lang = d[k]['name']\n",
    "            langs.append(lang)\n",
    "        if 'English' in langs:\n",
    "            train['spoken_language'][j] = 'English'\n",
    "        else:\n",
    "            train['spoken_language'][j] = langs[0]\n",
    "    else:\n",
    "        train['spoken_language'][j] = np.NaN\n",
    "    j += 1\n",
    "    \n",
    "j = 0\n",
    "for i in test['spoken_languages']:\n",
    "    d = get_dict(i)\n",
    "    if d != {}:\n",
    "        langs = []\n",
    "        for k in range(len(d)):\n",
    "            lang = d[k]['name']\n",
    "            langs.append(lang)\n",
    "        if 'English' in langs:\n",
    "            test['spoken_language'][j] = 'English'\n",
    "        else:\n",
    "            test['spoken_language'][j] = langs[0]\n",
    "    else:\n",
    "        test['spoken_language'][j] = np.NaN\n",
    "    j += 1"
   ]
  },
  {
   "cell_type": "code",
   "execution_count": 88,
   "metadata": {},
   "outputs": [
    {
     "name": "stdout",
     "output_type": "stream",
     "text": [
      "34\n",
      "41\n"
     ]
    }
   ],
   "source": [
    "print(len(train['spoken_language'].value_counts()))\n",
    "print(len(test['spoken_language'].value_counts()))"
   ]
  },
  {
   "cell_type": "code",
   "execution_count": 89,
   "metadata": {},
   "outputs": [
    {
     "data": {
      "text/plain": [
       "<seaborn.axisgrid.FacetGrid at 0x7f3eb0010550>"
      ]
     },
     "execution_count": 89,
     "metadata": {},
     "output_type": "execute_result"
    },
    {
     "data": {
      "image/png": "[encoded data removed]",
      "text/plain": [
       "<Figure size 360x360 with 1 Axes>"
      ]
     },
     "metadata": {
      "needs_background": "light"
     },
     "output_type": "display_data"
    }
   ],
   "source": [
    "sns.catplot(x='spoken_language', y='revenue', data=train)"
   ]
  },
  {
   "cell_type": "code",
   "execution_count": 90,
   "metadata": {},
   "outputs": [
    {
     "data": {
      "text/plain": [
       "((3000, 25), (4398, 24))"
      ]
     },
     "execution_count": 90,
     "metadata": {},
     "output_type": "execute_result"
    }
   ],
   "source": [
    "train.drop(['spoken_languages'], axis=1, inplace=True)\n",
    "test.drop(['spoken_languages'], axis=1, inplace=True)\n",
    "train.shape, test.shape"
   ]
  },
  {
   "cell_type": "markdown",
   "metadata": {},
   "source": [
    "# Status"
   ]
  },
  {
   "cell_type": "code",
   "execution_count": 91,
   "metadata": {},
   "outputs": [
    {
     "name": "stdout",
     "output_type": "stream",
     "text": [
      "Released    2996\n",
      "Rumored        4\n",
      "Name: status, dtype: int64\n",
      "Released           4389\n",
      "Post Production       5\n",
      "Rumored               2\n",
      "NaN                   2\n",
      "Name: status, dtype: int64\n"
     ]
    }
   ],
   "source": [
    "print(train['status'].value_counts(dropna=False))\n",
    "print(test['status'].value_counts(dropna=False))"
   ]
  },
  {
   "cell_type": "markdown",
   "metadata": {},
   "source": [
    "## Is released"
   ]
  },
  {
   "cell_type": "code",
   "execution_count": 92,
   "metadata": {},
   "outputs": [],
   "source": [
    "is_released = pd.DataFrame(columns=['is_released'])\n",
    "train = pd.concat([train, is_released], axis=1)\n",
    "test = pd.concat([test, is_released], axis=1)"
   ]
  },
  {
   "cell_type": "code",
   "execution_count": 93,
   "metadata": {},
   "outputs": [],
   "source": [
    "j = 0\n",
    "for i in train['status']:\n",
    "    if i == 'Released':\n",
    "        train['is_released'][j] = 1\n",
    "    else:\n",
    "        train['is_released'][j] = 0\n",
    "    j += 1\n",
    "    \n",
    "j = 0\n",
    "for i in test['status']:\n",
    "    if i == 'Released':\n",
    "        test['is_released'][j] = 1\n",
    "    else:\n",
    "        test['is_released'][j] = 0\n",
    "    j += 1"
   ]
  },
  {
   "cell_type": "code",
   "execution_count": 94,
   "metadata": {},
   "outputs": [
    {
     "name": "stdout",
     "output_type": "stream",
     "text": [
      "1    2996\n",
      "0       4\n",
      "Name: is_released, dtype: int64\n",
      "1    4389\n",
      "0       9\n",
      "Name: is_released, dtype: int64\n"
     ]
    }
   ],
   "source": [
    "print(train['is_released'].value_counts(dropna=False))\n",
    "print(test['is_released'].value_counts(dropna=False))"
   ]
  },
  {
   "cell_type": "code",
   "execution_count": 95,
   "metadata": {},
   "outputs": [
    {
     "data": {
      "text/plain": [
       "<seaborn.axisgrid.FacetGrid at 0x7f3eb01d78b0>"
      ]
     },
     "execution_count": 95,
     "metadata": {},
     "output_type": "execute_result"
    },
    {
     "data": {
      "image/png": "[encoded data removed]",
      "text/plain": [
       "<Figure size 360x360 with 1 Axes>"
      ]
     },
     "metadata": {
      "needs_background": "light"
     },
     "output_type": "display_data"
    }
   ],
   "source": [
    "sns.catplot(x='is_released', y='revenue', data=train)"
   ]
  },
  {
   "cell_type": "code",
   "execution_count": 96,
   "metadata": {},
   "outputs": [
    {
     "data": {
      "text/plain": [
       "((3000, 25), (4398, 24))"
      ]
     },
     "execution_count": 96,
     "metadata": {},
     "output_type": "execute_result"
    }
   ],
   "source": [
    "train.drop(['status'], axis=1, inplace=True)\n",
    "test.drop(['status'], axis=1, inplace=True)\n",
    "train.shape, test.shape"
   ]
  },
  {
   "cell_type": "markdown",
   "metadata": {},
   "source": [
    "# Tagline"
   ]
  },
  {
   "cell_type": "code",
   "execution_count": 97,
   "metadata": {},
   "outputs": [
    {
     "data": {
      "text/plain": [
       "0    The Laws of Space and Time are About to be Vio...\n",
       "1    It can take a lifetime to find true love; she'...\n",
       "2      The road to greatness can take you to the edge.\n",
       "3                                                  NaN\n",
       "4                                                  NaN\n",
       "5                                                  NaN\n",
       "6                 Fear The Demon That Doesn't Fear God\n",
       "7                Different channels. Different truths.\n",
       "8                          Set sail for Muppet mayhem!\n",
       "9             Back together for the first time, again.\n",
       "Name: tagline, dtype: object"
      ]
     },
     "execution_count": 97,
     "metadata": {},
     "output_type": "execute_result"
    }
   ],
   "source": [
    "train['tagline'][:10]"
   ]
  },
  {
   "cell_type": "code",
   "execution_count": 98,
   "metadata": {},
   "outputs": [
    {
     "data": {
      "text/plain": [
       "((3000, 24), (4398, 23))"
      ]
     },
     "execution_count": 98,
     "metadata": {},
     "output_type": "execute_result"
    }
   ],
   "source": [
    "train.drop(['tagline'], axis=1, inplace=True)\n",
    "test.drop(['tagline'], axis=1, inplace=True)\n",
    "train.shape, test.shape"
   ]
  },
  {
   "cell_type": "markdown",
   "metadata": {},
   "source": [
    "# We Will not delete Title now, We are gonne need it later to fill sum null values manually"
   ]
  },
  {
   "cell_type": "markdown",
   "metadata": {},
   "source": [
    "# Keywords"
   ]
  },
  {
   "cell_type": "code",
   "execution_count": 99,
   "metadata": {},
   "outputs": [
    {
     "name": "stdout",
     "output_type": "stream",
     "text": [
      "[{'id': 4379, 'name': 'time travel'}, {'id': 9663, 'name': 'sequel'}, {'id': 11830, 'name': 'hot tub'}, {'id': 179431, 'name': 'duringcreditsstinger'}]\n",
      "-------\n",
      "[{'id': 2505, 'name': 'coronation'}, {'id': 4263, 'name': 'duty'}, {'id': 6038, 'name': 'marriage'}, {'id': 13072, 'name': 'falling in love'}]\n",
      "-------\n",
      "[{'id': 1416, 'name': 'jazz'}, {'id': 1523, 'name': 'obsession'}, {'id': 1640, 'name': 'conservatory'}, {'id': 2176, 'name': 'music teacher'}, {'id': 14512, 'name': 'new york city'}, {'id': 14819, 'name': 'violence'}, {'id': 33896, 'name': 'montage'}, {'id': 156823, 'name': 'drummer'}, {'id': 170418, 'name': 'public humiliation'}, {'id': 176095, 'name': 'jazz band'}, {'id': 206298, 'name': 'young adult'}, {'id': 207739, 'name': 'music school'}]\n",
      "-------\n",
      "[{'id': 10092, 'name': 'mystery'}, {'id': 10540, 'name': 'bollywood'}, {'id': 11734, 'name': 'police corruption'}, {'id': 14536, 'name': 'crime'}, {'id': 14636, 'name': 'india'}, {'id': 208364, 'name': 'missing husband'}, {'id': 220935, 'name': 'nerve gas'}]\n",
      "-------\n",
      "nan\n",
      "-------\n",
      "nan\n",
      "-------\n",
      "nan\n",
      "-------\n",
      "[{'id': 917, 'name': 'journalism'}, {'id': 1638, 'name': 'translation'}, {'id': 2136, 'name': 'television'}, {'id': 2954, 'name': 'manipulation of the media'}, {'id': 5939, 'name': 'iraq'}, {'id': 12193, 'name': 'reporter'}, {'id': 187056, 'name': 'woman director'}]\n",
      "-------\n",
      "[{'id': 2041, 'name': 'island'}, {'id': 4418, 'name': 'pirate gang'}, {'id': 6300, 'name': 'puppet'}, {'id': 6956, 'name': 'treasure hunt'}]\n",
      "-------\n",
      "[{'id': 11800, 'name': 'mockumentary'}, {'id': 33534, 'name': 'folk singer'}]\n",
      "-------\n"
     ]
    }
   ],
   "source": [
    "for i in range(10): \n",
    "    print(train['Keywords'][i])\n",
    "    print(\"-------\")"
   ]
  },
  {
   "cell_type": "code",
   "execution_count": 100,
   "metadata": {},
   "outputs": [],
   "source": [
    "keyword = pd.DataFrame(columns=['keyword'])\n",
    "train = pd.concat([train, keyword], axis=1)\n",
    "test = pd.concat([test, keyword], axis=1)"
   ]
  },
  {
   "cell_type": "code",
   "execution_count": 101,
   "metadata": {},
   "outputs": [],
   "source": [
    "j = 0\n",
    "for i in train['Keywords']:\n",
    "    d = get_dict(i)\n",
    "    if d != {}:\n",
    "        train['keyword'][j] = d[0]['name']\n",
    "    else:\n",
    "        train['keyword'][j] = np.NaN\n",
    "    j += 1\n",
    "    \n",
    "j = 0\n",
    "for i in test['Keywords']:\n",
    "    d = get_dict(i)\n",
    "    if d != {}:\n",
    "        test['keyword'][j] = d[0]['name']\n",
    "    else:\n",
    "        test['keyword'][j] = np.NaN\n",
    "    j += 1"
   ]
  },
  {
   "cell_type": "code",
   "execution_count": 102,
   "metadata": {},
   "outputs": [
    {
     "data": {
      "text/plain": [
       "NaN                 276\n",
       "based on novel       56\n",
       "independent film     42\n",
       "prison               41\n",
       "new york             40\n",
       "                   ... \n",
       "space mission         1\n",
       "beauty salon          1\n",
       "overweight            1\n",
       "chance                1\n",
       "bodybuilder           1\n",
       "Name: keyword, Length: 1029, dtype: int64"
      ]
     },
     "execution_count": 102,
     "metadata": {},
     "output_type": "execute_result"
    }
   ],
   "source": [
    "train['keyword'].value_counts(dropna=False)"
   ]
  },
  {
   "cell_type": "code",
   "execution_count": 103,
   "metadata": {},
   "outputs": [
    {
     "data": {
      "text/plain": [
       "((3000, 23), (4398, 22))"
      ]
     },
     "execution_count": 103,
     "metadata": {},
     "output_type": "execute_result"
    }
   ],
   "source": [
    "# We can not handle this much of keywords\n",
    "train.drop(['Keywords', 'keyword'], axis=1, inplace=True)\n",
    "test.drop(['Keywords', 'keyword'], axis=1, inplace=True)\n",
    "train.shape, test.shape"
   ]
  },
  {
   "cell_type": "markdown",
   "metadata": {},
   "source": [
    "# Cast"
   ]
  },
  {
   "cell_type": "code",
   "execution_count": 104,
   "metadata": {},
   "outputs": [
    {
     "name": "stdout",
     "output_type": "stream",
     "text": [
      "[{'cast_id': 4, 'character': 'Lou', 'credit_id': '52fe4ee7c3a36847f82afae7', 'gender': 2, 'id': 52997, 'name': 'Rob Corddry', 'order': 0, 'profile_path': '/k2zJL0V1nEZuFT08xUdOd3ucfXz.jpg'}, {'cast_id': 5, 'character': 'Nick', 'credit_id': '52fe4ee7c3a36847f82afaeb', 'gender': 2, 'id': 64342, 'name': 'Craig Robinson', 'order': 1, 'profile_path': '/tVaRMkJXOEVhYxtnnFuhqW0Rjzz.jpg'}, {'cast_id': 6, 'character': 'Jacob', 'credit_id': '52fe4ee7c3a36847f82afaef', 'gender': 2, 'id': 54729, 'name': 'Clark Duke', 'order': 2, 'profile_path': '/oNzK0umwm5Wn0wyEbOy6TVJCSBn.jpg'}, {'cast_id': 7, 'character': 'Adam Jr.', 'credit_id': '52fe4ee7c3a36847f82afaf3', 'gender': 2, 'id': 36801, 'name': 'Adam Scott', 'order': 3, 'profile_path': '/5gb65xz8bzd42yjMAl4zwo4cvKw.jpg'}, {'cast_id': 8, 'character': 'Hot Tub Repairman', 'credit_id': '52fe4ee7c3a36847f82afaf7', 'gender': 2, 'id': 54812, 'name': 'Chevy Chase', 'order': 4, 'profile_path': '/svjpyYtPwtjvRxX9IZnOmOkhDOt.jpg'}, {'cast_id': 9, 'character': 'Jill', 'credit_id': '52fe4ee7c3a36847f82afafb', 'gender': 1, 'id': 94098, 'name': 'Gillian Jacobs', 'order': 5, 'profile_path': '/rBnhe5vhNPnhRUdtYahBWx90fJM.jpg'}, {'cast_id': 10, 'character': 'Sophie', 'credit_id': '52fe4ee7c3a36847f82afaff', 'gender': 1, 'id': 1159009, 'name': 'Bianca Haase', 'order': 6, 'profile_path': '/4x3nbtD8q8phAJPmoGWXPvz0iM.jpg'}, {'cast_id': 11, 'character': 'Kelly', 'credit_id': '5524ec51c3a3687df3000dbb', 'gender': 1, 'id': 86624, 'name': 'Collette Wolfe', 'order': 7, 'profile_path': '/aSD4h5379b2eEw3bLou9ByLimmq.jpg'}, {'cast_id': 13, 'character': 'Brad', 'credit_id': '5524ec8ec3a3687ded000d72', 'gender': 2, 'id': 466505, 'name': 'Kumail Nanjiani', 'order': 9, 'profile_path': '/x4nAztHY72SVciRfxEsbhIVTsIu.jpg'}, {'cast_id': 14, 'character': 'Courtney', 'credit_id': '5524ec9bc3a3687df8000d13', 'gender': 1, 'id': 70776, 'name': 'Kellee Stewart', 'order': 10, 'profile_path': '/w3xmsEPmJc1Cf0dQ4aIn8YmlHbk.jpg'}, {'cast_id': 15, 'character': 'Terry', 'credit_id': '5524eca892514171cb008237', 'gender': 2, 'id': 347335, 'name': 'Josh Heald', 'order': 11, 'profile_path': '/pwXJIenrDMrG7t3zNfLvr8w1RGU.jpg'}, {'cast_id': 16, 'character': 'Susan', 'credit_id': '5524ecb7925141720c001116', 'gender': 0, 'id': 1451392, 'name': 'Gretchen Koerner', 'order': 12, 'profile_path': '/muULPexCTJGyJba4yKzxronpD50.jpg'}, {'cast_id': 17, 'character': 'Herself', 'credit_id': '5524ecc3c3a3687ded000d74', 'gender': 1, 'id': 98879, 'name': 'Lisa Loeb', 'order': 13, 'profile_path': '/bGqg58ca0bZR38z9HliUMmeNGE.jpg'}, {'cast_id': 18, 'character': 'Herself', 'credit_id': '5524ecd3c3a3687e11000ed3', 'gender': 1, 'id': 1394648, 'name': 'Jessica Williams', 'order': 14, 'profile_path': '/A4syKjkcYB92wLEhH0c0hC3BCpz.jpg'}, {'cast_id': 19, 'character': 'Himself', 'credit_id': '5524ece6925141718d001009', 'gender': 0, 'id': 1451393, 'name': 'Bruce Buffer', 'order': 15, 'profile_path': None}, {'cast_id': 20, 'character': 'Shot Girl', 'credit_id': '5524ecf5c3a3687e08000dc2', 'gender': 0, 'id': 1451394, 'name': 'Mariana Paola Vicente', 'order': 16, 'profile_path': '/ckPllza8624UHWGHCbLShkLxCD1.jpg'}, {'cast_id': 33, 'character': 'Choozy Doozy Host', 'credit_id': '555844da9251412afe0013a9', 'gender': 2, 'id': 2224, 'name': 'Christian Slater', 'order': 17, 'profile_path': '/3ElLWjnvchMS6Q4cIQOK8QNAoMG.jpg'}, {'cast_id': 35, 'character': 'Gary Winkle', 'credit_id': '55872027c3a3683853005074', 'gender': 0, 'id': 185805, 'name': 'Jason Jones', 'order': 18, 'profile_path': '/aIoCw6vo8AGMdsQRAI5g2t0yJT3.jpg'}, {'cast_id': 36, 'character': 'Bridesmaid', 'credit_id': '55efe971c3a368090c00cd1b', 'gender': 0, 'id': 1507448, 'name': 'Olivia Jordan', 'order': 19, 'profile_path': '/szMukAEiIDeasel0lvyaeyKuych.jpg'}, {'cast_id': 37, 'character': 'Christine', 'credit_id': '55efe980c3a36871bf008176', 'gender': 1, 'id': 1334091, 'name': 'Christine Bently', 'order': 20, 'profile_path': '/oUZltnGa55OXE52hfyPTfCshuNy.jpg'}, {'cast_id': 38, 'character': 'Excited Girl', 'credit_id': '55efe98e9251413e3201d316', 'gender': 0, 'id': 557803, 'name': 'Stacey Asaro', 'order': 21, 'profile_path': '/qTPdlr1dXf3kNdyHuDsgtGC0HCC.jpg'}, {'cast_id': 64, 'character': 'Adam (uncredited)', 'credit_id': '58f2135ac3a3682e95008b91', 'gender': 2, 'id': 3036, 'name': 'John Cusack', 'order': 22, 'profile_path': '/uKydQYuZ9TnCzvbQLtj6j98vWAT.jpg'}, {'cast_id': 65, 'character': 'J-Bird', 'credit_id': '59ac0240c3a3682cc802c399', 'gender': 2, 'id': 59256, 'name': 'Adam Herschman', 'order': 23, 'profile_path': '/wZMwiuX1DslF6hDS50z9OTN6z1X.jpg'}, {'cast_id': 66, 'character': 'Bridesmaid', 'credit_id': '59ac02cd925141079d02b1b4', 'gender': 1, 'id': 129714, 'name': 'Kisha Sierra', 'order': 24, 'profile_path': None}]\n",
      "----------\n"
     ]
    }
   ],
   "source": [
    "for i in range(1):\n",
    "    print(train['cast'][i])\n",
    "    print(\"----------\")"
   ]
  },
  {
   "cell_type": "markdown",
   "metadata": {},
   "source": [
    "# Size of crew (number of actors)"
   ]
  },
  {
   "cell_type": "code",
   "execution_count": 105,
   "metadata": {},
   "outputs": [],
   "source": [
    "size_of_cast = pd.DataFrame(columns=['size_of_cast'])\n",
    "train = pd.concat([train, size_of_cast], axis=1)\n",
    "test = pd.concat([test, size_of_cast], axis=1)"
   ]
  },
  {
   "cell_type": "code",
   "execution_count": 106,
   "metadata": {},
   "outputs": [],
   "source": [
    "j = 0\n",
    "for i in train['cast']:\n",
    "    d = get_dict(i)\n",
    "    if d != {}:\n",
    "        train['size_of_cast'][j] = len(d)\n",
    "    else:\n",
    "        train['size_of_cast'][j] = np.NaN\n",
    "    j += 1\n",
    "    \n",
    "j = 0\n",
    "for i in test['cast']:\n",
    "    d = get_dict(i)\n",
    "    if d != {}:\n",
    "        test['size_of_cast'][j] = len(d)\n",
    "    else:\n",
    "        test['size_of_cast'][j] = np.NaN\n",
    "    j += 1"
   ]
  },
  {
   "cell_type": "code",
   "execution_count": 107,
   "metadata": {},
   "outputs": [
    {
     "data": {
      "text/plain": [
       "<matplotlib.collections.PathCollection at 0x7f3eafec5250>"
      ]
     },
     "execution_count": 107,
     "metadata": {},
     "output_type": "execute_result"
    },
    {
     "data": {
      "image/png": "[encoded data removed]",
      "text/plain": [
       "<Figure size 864x648 with 1 Axes>"
      ]
     },
     "metadata": {
      "needs_background": "light"
     },
     "output_type": "display_data"
    }
   ],
   "source": [
    "plt.subplots(figsize=(12, 9))\n",
    "plt.scatter(x=train['size_of_cast'], y=train['revenue'])"
   ]
  },
  {
   "cell_type": "code",
   "execution_count": 108,
   "metadata": {},
   "outputs": [
    {
     "data": {
      "text/plain": [
       "((3000, 23), (4398, 22))"
      ]
     },
     "execution_count": 108,
     "metadata": {},
     "output_type": "execute_result"
    }
   ],
   "source": [
    "train.drop(['cast'], axis=1, inplace=True)\n",
    "test.drop(['cast'], axis=1, inplace=True)\n",
    "train.shape, test.shape"
   ]
  },
  {
   "cell_type": "markdown",
   "metadata": {},
   "source": [
    "# Title, Crew"
   ]
  },
  {
   "cell_type": "code",
   "execution_count": 109,
   "metadata": {},
   "outputs": [
    {
     "data": {
      "text/plain": [
       "((3000, 20), (4398, 19))"
      ]
     },
     "execution_count": 109,
     "metadata": {},
     "output_type": "execute_result"
    }
   ],
   "source": [
    "train.drop(['id', 'crew', 'title'], axis=1, inplace=True)\n",
    "test.drop(['id', 'crew', 'title'], axis=1, inplace=True)\n",
    "train.shape, test.shape"
   ]
  },
  {
   "cell_type": "markdown",
   "metadata": {},
   "source": [
    "# Null Values"
   ]
  },
  {
   "cell_type": "markdown",
   "metadata": {},
   "source": [
    "### Budget"
   ]
  },
  {
   "cell_type": "code",
   "execution_count": 110,
   "metadata": {},
   "outputs": [
    {
     "name": "stdout",
     "output_type": "stream",
     "text": [
      "0\n",
      "0\n",
      "812\n",
      "1211\n"
     ]
    }
   ],
   "source": [
    "print(train['budget'].isnull().sum())\n",
    "print(test['budget'].isnull().sum())\n",
    "print(len(train[train['budget'] == 0]))\n",
    "print(len(test[test['budget'] == 0]))"
   ]
  },
  {
   "cell_type": "code",
   "execution_count": 111,
   "metadata": {},
   "outputs": [
    {
     "data": {
      "text/plain": [
       "<matplotlib.collections.PathCollection at 0x7f3eb60c3d90>"
      ]
     },
     "execution_count": 111,
     "metadata": {},
     "output_type": "execute_result"
    },
    {
     "data": {
      "image/png": "[encoded data removed]",
      "text/plain": [
       "<Figure size 432x288 with 1 Axes>"
      ]
     },
     "metadata": {
      "needs_background": "light"
     },
     "output_type": "display_data"
    }
   ],
   "source": [
    "plt.scatter(x=train['budget'], y=train['revenue'])"
   ]
  },
  {
   "cell_type": "code",
   "execution_count": 112,
   "metadata": {},
   "outputs": [
    {
     "data": {
      "text/plain": [
       "((3000, 20), (4398, 19), (7398, 20))"
      ]
     },
     "execution_count": 112,
     "metadata": {},
     "output_type": "execute_result"
    }
   ],
   "source": [
    "ntrain = train.shape[0]\n",
    "ntest = test.shape[0]\n",
    "all_data = pd.concat([train, test], axis=0)\n",
    "train.shape, test.shape, all_data.shape"
   ]
  },
  {
   "cell_type": "code",
   "execution_count": 113,
   "metadata": {},
   "outputs": [
    {
     "data": {
      "text/plain": [
       "dtype('int64')"
      ]
     },
     "execution_count": 113,
     "metadata": {},
     "output_type": "execute_result"
    }
   ],
   "source": [
    "all_data['budget'].dtype"
   ]
  },
  {
   "cell_type": "code",
   "execution_count": 114,
   "metadata": {},
   "outputs": [],
   "source": [
    "all_data['budget'] = all_data['budget'].replace(0, all_data['budget'].mean())"
   ]
  },
  {
   "cell_type": "markdown",
   "metadata": {},
   "source": [
    "### Original Language"
   ]
  },
  {
   "cell_type": "code",
   "execution_count": 115,
   "metadata": {},
   "outputs": [
    {
     "name": "stdout",
     "output_type": "stream",
     "text": [
      "0\n",
      "0\n"
     ]
    }
   ],
   "source": [
    "print(all_data['original_language'].isnull().sum())\n",
    "print(len(all_data[all_data['original_language'] == 0]))"
   ]
  },
  {
   "cell_type": "markdown",
   "metadata": {},
   "source": [
    "### Popularity"
   ]
  },
  {
   "cell_type": "code",
   "execution_count": 116,
   "metadata": {},
   "outputs": [
    {
     "name": "stdout",
     "output_type": "stream",
     "text": [
      "0\n",
      "0\n"
     ]
    }
   ],
   "source": [
    "print(all_data['popularity'].isnull().sum())\n",
    "print(len(all_data[all_data['popularity'] == 0]))"
   ]
  },
  {
   "cell_type": "markdown",
   "metadata": {},
   "source": [
    "### Runtime"
   ]
  },
  {
   "cell_type": "code",
   "execution_count": 117,
   "metadata": {},
   "outputs": [
    {
     "name": "stdout",
     "output_type": "stream",
     "text": [
      "6\n",
      "21\n"
     ]
    }
   ],
   "source": [
    "print(all_data['runtime'].isnull().sum())\n",
    "print(len(all_data[all_data['runtime'] == 0]))"
   ]
  },
  {
   "cell_type": "code",
   "execution_count": 118,
   "metadata": {},
   "outputs": [
    {
     "data": {
      "text/plain": [
       "108.0"
      ]
     },
     "execution_count": 118,
     "metadata": {},
     "output_type": "execute_result"
    }
   ],
   "source": [
    "all_data['runtime'].mean().round()"
   ]
  },
  {
   "cell_type": "code",
   "execution_count": 119,
   "metadata": {},
   "outputs": [],
   "source": [
    "all_data['runtime'] = all_data['runtime'].replace(0, all_data['runtime'].mean().round())\n",
    "all_data['runtime'] = all_data['runtime'].fillna(all_data['runtime'].mean().round())"
   ]
  },
  {
   "cell_type": "markdown",
   "metadata": {},
   "source": [
    "### Genre Name"
   ]
  },
  {
   "cell_type": "code",
   "execution_count": 120,
   "metadata": {},
   "outputs": [
    {
     "name": "stdout",
     "output_type": "stream",
     "text": [
      "23\n",
      "0\n"
     ]
    }
   ],
   "source": [
    "print(all_data['genre_name'].isnull().sum())\n",
    "print(len(all_data[all_data['genre_name'] == 0]))"
   ]
  },
  {
   "cell_type": "code",
   "execution_count": 121,
   "metadata": {},
   "outputs": [
    {
     "name": "stdout",
     "output_type": "stream",
     "text": [
      "Drama              1934\n",
      "Comedy             1568\n",
      "Action             1195\n",
      "Adventure           474\n",
      "Horror              403\n",
      "Crime               333\n",
      "Thriller            259\n",
      "Documentary         188\n",
      "Animation           188\n",
      "Fantasy             182\n",
      "Romance             176\n",
      "Science Fiction     116\n",
      "Mystery              91\n",
      "Family               79\n",
      "War                  50\n",
      "Music                49\n",
      "Western              44\n",
      "History              39\n",
      "Foreign               6\n",
      "TV Movie              1\n",
      "Name: genre_name, dtype: int64\n"
     ]
    }
   ],
   "source": [
    "print(all_data['genre_name'].value_counts())"
   ]
  },
  {
   "cell_type": "code",
   "execution_count": 122,
   "metadata": {},
   "outputs": [],
   "source": [
    "all_data['genre_name'] = all_data['genre_name'].fillna(all_data['genre_name'].mode()[0])"
   ]
  },
  {
   "cell_type": "markdown",
   "metadata": {},
   "source": [
    "### has homepage"
   ]
  },
  {
   "cell_type": "code",
   "execution_count": 123,
   "metadata": {},
   "outputs": [
    {
     "name": "stdout",
     "output_type": "stream",
     "text": [
      "0\n"
     ]
    }
   ],
   "source": [
    "print(all_data['has_homepage'].isnull().sum())"
   ]
  },
  {
   "cell_type": "markdown",
   "metadata": {},
   "source": [
    "### Is En Original Language"
   ]
  },
  {
   "cell_type": "code",
   "execution_count": 124,
   "metadata": {},
   "outputs": [
    {
     "name": "stdout",
     "output_type": "stream",
     "text": [
      "0\n"
     ]
    }
   ],
   "source": [
    "print(all_data['is_en_original_language'].isnull().sum())"
   ]
  },
  {
   "cell_type": "markdown",
   "metadata": {},
   "source": [
    "### Number of production companies"
   ]
  },
  {
   "cell_type": "code",
   "execution_count": 125,
   "metadata": {},
   "outputs": [
    {
     "name": "stdout",
     "output_type": "stream",
     "text": [
      "414\n",
      "0\n"
     ]
    }
   ],
   "source": [
    "print(all_data['num_production_companies'].isnull().sum())\n",
    "print(len(all_data[all_data['num_production_companies'] == 0]))"
   ]
  },
  {
   "cell_type": "code",
   "execution_count": 126,
   "metadata": {},
   "outputs": [],
   "source": [
    "all_data['num_production_companies'] = all_data['num_production_companies'].fillna(all_data['num_production_companies'].mean().round())"
   ]
  },
  {
   "cell_type": "markdown",
   "metadata": {},
   "source": [
    "### Number of production countries"
   ]
  },
  {
   "cell_type": "code",
   "execution_count": 127,
   "metadata": {},
   "outputs": [
    {
     "name": "stdout",
     "output_type": "stream",
     "text": [
      "157\n",
      "0\n"
     ]
    }
   ],
   "source": [
    "print(all_data['num_of_production_countries'].isnull().sum())\n",
    "print(len(all_data[all_data['num_of_production_countries'] == 0]))"
   ]
  },
  {
   "cell_type": "code",
   "execution_count": 128,
   "metadata": {},
   "outputs": [
    {
     "name": "stdout",
     "output_type": "stream",
     "text": [
      "1\n",
      "1.0\n"
     ]
    }
   ],
   "source": [
    "print(all_data['num_of_production_countries'].mode()[0])\n",
    "print(all_data['num_of_production_countries'].mean().round())"
   ]
  },
  {
   "cell_type": "code",
   "execution_count": 129,
   "metadata": {},
   "outputs": [],
   "source": [
    "all_data['num_of_production_countries']= all_data['num_of_production_countries'].fillna(all_data['num_of_production_countries'].mode()[0])"
   ]
  },
  {
   "cell_type": "markdown",
   "metadata": {},
   "source": [
    "### Production Country, Is USA production"
   ]
  },
  {
   "cell_type": "code",
   "execution_count": 130,
   "metadata": {},
   "outputs": [
    {
     "name": "stdout",
     "output_type": "stream",
     "text": [
      "656\n",
      "0\n",
      "656\n"
     ]
    }
   ],
   "source": [
    "print(all_data['production_country'].isnull().sum())\n",
    "print(len(all_data[all_data['production_country'] == 0]))\n",
    "print(all_data['is_usa_production'].isnull().sum())"
   ]
  },
  {
   "cell_type": "code",
   "execution_count": 131,
   "metadata": {},
   "outputs": [
    {
     "name": "stdout",
     "output_type": "stream",
     "text": [
      "United States of America    5617\n",
      "United Kingdom               205\n",
      "India                        183\n",
      "France                       117\n",
      "Russia                       106\n",
      "Japan                         77\n",
      "Canada                        58\n",
      "Spain                         51\n",
      "South Korea                   47\n",
      "Australia                     43\n",
      "Italy                         31\n",
      "Hong Kong                     30\n",
      "Germany                       29\n",
      "China                         23\n",
      "Mexico                        11\n",
      "New Zealand                   11\n",
      "Sweden                        11\n",
      "Brazil                        10\n",
      "Norway                         6\n",
      "Turkey                         6\n",
      "Ireland                        6\n",
      "Denmark                        5\n",
      "Israel                         5\n",
      "Finland                        5\n",
      "Philippines                    5\n",
      "Belgium                        5\n",
      "Thailand                       4\n",
      "Hungary                        3\n",
      "Romania                        3\n",
      "Netherlands                    3\n",
      "South Africa                   3\n",
      "Iran                           3\n",
      "Poland                         2\n",
      "Taiwan                         2\n",
      "Serbia                         2\n",
      "Chile                          2\n",
      "Pakistan                       1\n",
      "Indonesia                      1\n",
      "Ukraine                        1\n",
      "Greece                         1\n",
      "Austria                        1\n",
      "Bulgaria                       1\n",
      "Czech Republic                 1\n",
      "Sri Lanka                      1\n",
      "Jamaica                        1\n",
      "Singapore                      1\n",
      "Congo                          1\n",
      "Ethiopia                       1\n",
      "Name: production_country, dtype: int64\n"
     ]
    }
   ],
   "source": [
    "print(all_data['production_country'].value_counts())"
   ]
  },
  {
   "cell_type": "code",
   "execution_count": 132,
   "metadata": {},
   "outputs": [],
   "source": [
    "all_data['production_country'] = all_data['production_country'].fillna(all_data['production_country'].mode()[0])\n",
    "all_data['is_usa_production'] = all_data['is_usa_production'].fillna(1)"
   ]
  },
  {
   "cell_type": "markdown",
   "metadata": {},
   "source": [
    "### Release day, month, year"
   ]
  },
  {
   "cell_type": "code",
   "execution_count": 133,
   "metadata": {},
   "outputs": [
    {
     "name": "stdout",
     "output_type": "stream",
     "text": [
      "0\n",
      "0\n",
      "0\n",
      "0\n",
      "0\n",
      "155\n"
     ]
    }
   ],
   "source": [
    "print(all_data['release_day'].isnull().sum())\n",
    "print(len(all_data[all_data['release_day'] == 0]))\n",
    "print(all_data['release_month'].isnull().sum())\n",
    "print(len(all_data[all_data['release_month'] == 0]))\n",
    "print(all_data['release_year'].isnull().sum())\n",
    "print(len(all_data[all_data['release_year'] == 0]))"
   ]
  },
  {
   "cell_type": "markdown",
   "metadata": {},
   "source": [
    "### Number of spoken languages"
   ]
  },
  {
   "cell_type": "code",
   "execution_count": 134,
   "metadata": {},
   "outputs": [
    {
     "name": "stdout",
     "output_type": "stream",
     "text": [
      "62\n",
      "0\n"
     ]
    }
   ],
   "source": [
    "print(all_data['number_of_spoken_languages'].isnull().sum())\n",
    "print(len(all_data[all_data['number_of_spoken_languages'] == 0]))"
   ]
  },
  {
   "cell_type": "code",
   "execution_count": 135,
   "metadata": {},
   "outputs": [
    {
     "name": "stdout",
     "output_type": "stream",
     "text": [
      "1    5226\n",
      "2    1319\n",
      "3     502\n",
      "4     178\n",
      "5      73\n",
      "6      25\n",
      "7       6\n",
      "8       4\n",
      "9       3\n",
      "Name: number_of_spoken_languages, dtype: int64\n"
     ]
    },
    {
     "data": {
      "text/plain": [
       "1.0"
      ]
     },
     "execution_count": 135,
     "metadata": {},
     "output_type": "execute_result"
    }
   ],
   "source": [
    "print(all_data['number_of_spoken_languages'].value_counts())\n",
    "all_data['number_of_spoken_languages'].mean().round()"
   ]
  },
  {
   "cell_type": "code",
   "execution_count": 136,
   "metadata": {},
   "outputs": [],
   "source": [
    "all_data['number_of_spoken_languages'] = all_data['number_of_spoken_languages'].fillna(1)"
   ]
  },
  {
   "cell_type": "markdown",
   "metadata": {},
   "source": [
    "### Is En spoken"
   ]
  },
  {
   "cell_type": "code",
   "execution_count": 137,
   "metadata": {},
   "outputs": [
    {
     "name": "stdout",
     "output_type": "stream",
     "text": [
      "62\n"
     ]
    }
   ],
   "source": [
    "print(all_data['is_en_spoken'].isnull().sum())\n",
    "# print(len(all_data[all_data['is_en_spoken'] == 0]))"
   ]
  },
  {
   "cell_type": "code",
   "execution_count": 138,
   "metadata": {},
   "outputs": [],
   "source": [
    "all_data['is_en_spoken'] = all_data['is_en_spoken'].fillna(1)"
   ]
  },
  {
   "cell_type": "markdown",
   "metadata": {},
   "source": [
    "### Spoken Language"
   ]
  },
  {
   "cell_type": "code",
   "execution_count": 139,
   "metadata": {},
   "outputs": [
    {
     "name": "stdout",
     "output_type": "stream",
     "text": [
      "62\n",
      "0\n"
     ]
    }
   ],
   "source": [
    "print(all_data['spoken_language'].isnull().sum())\n",
    "print(len(all_data[all_data['spoken_language'] == 0]))"
   ]
  },
  {
   "cell_type": "code",
   "execution_count": 140,
   "metadata": {},
   "outputs": [],
   "source": [
    "all_data['spoken_language'] = all_data['spoken_language'].fillna('English')"
   ]
  },
  {
   "cell_type": "markdown",
   "metadata": {},
   "source": [
    "### Is released"
   ]
  },
  {
   "cell_type": "code",
   "execution_count": 141,
   "metadata": {},
   "outputs": [
    {
     "name": "stdout",
     "output_type": "stream",
     "text": [
      "0\n"
     ]
    }
   ],
   "source": [
    "print(all_data['is_released'].isnull().sum())\n",
    "# print(all_data[all_data['spoken_language'] == 0])"
   ]
  },
  {
   "cell_type": "markdown",
   "metadata": {},
   "source": [
    "### Size of cast"
   ]
  },
  {
   "cell_type": "code",
   "execution_count": 142,
   "metadata": {},
   "outputs": [
    {
     "name": "stdout",
     "output_type": "stream",
     "text": [
      "26\n",
      "34\n"
     ]
    }
   ],
   "source": [
    "print(all_data['size_of_cast'].isnull().sum())\n",
    "print(len(all_data[all_data['size_of_cast'] == 0]))"
   ]
  },
  {
   "cell_type": "code",
   "execution_count": 143,
   "metadata": {},
   "outputs": [
    {
     "name": "stdout",
     "output_type": "stream",
     "text": [
      "21.0\n",
      "15\n"
     ]
    }
   ],
   "source": [
    "print(all_data['size_of_cast'].mean().round())\n",
    "print(all_data['size_of_cast'].mode()[0])"
   ]
  },
  {
   "cell_type": "code",
   "execution_count": 144,
   "metadata": {},
   "outputs": [
    {
     "data": {
      "text/plain": [
       "15.0     525\n",
       "16.0     379\n",
       "12.0     328\n",
       "11.0     325\n",
       "10.0     324\n",
       "        ... \n",
       "103.0      1\n",
       "102.0      1\n",
       "91.0       1\n",
       "93.0       1\n",
       "165.0      1\n",
       "Name: size_of_cast, Length: 136, dtype: int64"
      ]
     },
     "execution_count": 144,
     "metadata": {},
     "output_type": "execute_result"
    }
   ],
   "source": [
    "all_data['size_of_cast'].value_counts(dropna=False)"
   ]
  },
  {
   "cell_type": "code",
   "execution_count": 145,
   "metadata": {},
   "outputs": [],
   "source": [
    "all_data['size_of_cast'] = all_data['size_of_cast'].fillna(all_data['size_of_cast'].mean().round())\n",
    "all_data['size_of_cast'] = all_data['size_of_cast'].replace(0, all_data['size_of_cast'].mode()[0])"
   ]
  },
  {
   "cell_type": "code",
   "execution_count": 146,
   "metadata": {},
   "outputs": [
    {
     "data": {
      "text/plain": [
       "((3000, 20), (4398, 19))"
      ]
     },
     "execution_count": 146,
     "metadata": {},
     "output_type": "execute_result"
    }
   ],
   "source": [
    "# Split the data\n",
    "train = all_data[:ntrain]\n",
    "test = all_data[ntrain:]\n",
    "test.drop(['revenue'], axis=1, inplace=True)\n",
    "train.shape, test.shape"
   ]
  },
  {
   "cell_type": "markdown",
   "metadata": {},
   "source": [
    "# Skewness"
   ]
  },
  {
   "cell_type": "code",
   "execution_count": 147,
   "metadata": {},
   "outputs": [
    {
     "data": {
      "text/plain": [
       "budget                          3.346907\n",
       "popularity                     14.377407\n",
       "runtime                         1.665219\n",
       "revenue                         4.542285\n",
       "has_homepage                    0.795264\n",
       "is_en_original_language        -2.056234\n",
       "num_production_companies        1.872844\n",
       "num_of_production_countries     2.786064\n",
       "is_usa_production              -1.890059\n",
       "release_month                  -0.134171\n",
       "release_day                     0.080945\n",
       "release_year                    0.565566\n",
       "number_of_spoken_languages      2.661873\n",
       "is_en_spoken                   -2.330225\n",
       "is_released                   -27.345000\n",
       "size_of_cast                    2.673158\n",
       "dtype: float64"
      ]
     },
     "execution_count": 147,
     "metadata": {},
     "output_type": "execute_result"
    }
   ],
   "source": [
    "train.skew()"
   ]
  },
  {
   "cell_type": "code",
   "execution_count": 148,
   "metadata": {},
   "outputs": [
    {
     "data": {
      "text/plain": [
       "<AxesSubplot:xlabel='revenue', ylabel='Density'>"
      ]
     },
     "execution_count": 148,
     "metadata": {},
     "output_type": "execute_result"
    },
    {
     "data": {
      "image/png": "[encoded data removed]",
      "text/plain": [
       "<Figure size 432x288 with 1 Axes>"
      ]
     },
     "metadata": {
      "needs_background": "light"
     },
     "output_type": "display_data"
    }
   ],
   "source": [
    "sns.distplot(train['revenue'], fit=norm)"
   ]
  },
  {
   "cell_type": "code",
   "execution_count": 149,
   "metadata": {},
   "outputs": [
    {
     "data": {
      "text/plain": [
       "<AxesSubplot:xlabel='popularity', ylabel='Density'>"
      ]
     },
     "execution_count": 149,
     "metadata": {},
     "output_type": "execute_result"
    },
    {
     "data": {
      "image/png": "[encoded data removed]",
      "text/plain": [
       "<Figure size 432x288 with 1 Axes>"
      ]
     },
     "metadata": {
      "needs_background": "light"
     },
     "output_type": "display_data"
    }
   ],
   "source": [
    "sns.distplot(train['popularity'], fit=norm)"
   ]
  },
  {
   "cell_type": "code",
   "execution_count": 150,
   "metadata": {},
   "outputs": [],
   "source": [
    "train['revenue'] = np.log1p(train['revenue'])"
   ]
  },
  {
   "cell_type": "code",
   "execution_count": 151,
   "metadata": {},
   "outputs": [
    {
     "data": {
      "text/plain": [
       "budget                          3.346907\n",
       "popularity                     14.377407\n",
       "runtime                         1.665219\n",
       "revenue                        -1.650536\n",
       "has_homepage                    0.795264\n",
       "is_en_original_language        -2.056234\n",
       "num_production_companies        1.872844\n",
       "num_of_production_countries     2.786064\n",
       "is_usa_production              -1.890059\n",
       "release_month                  -0.134171\n",
       "release_day                     0.080945\n",
       "release_year                    0.565566\n",
       "number_of_spoken_languages      2.661873\n",
       "is_en_spoken                   -2.330225\n",
       "is_released                   -27.345000\n",
       "size_of_cast                    2.673158\n",
       "dtype: float64"
      ]
     },
     "execution_count": 151,
     "metadata": {},
     "output_type": "execute_result"
    }
   ],
   "source": [
    "train.skew()"
   ]
  },
  {
   "cell_type": "code",
   "execution_count": 152,
   "metadata": {},
   "outputs": [
    {
     "data": {
      "text/plain": [
       "<AxesSubplot:xlabel='revenue', ylabel='Density'>"
      ]
     },
     "execution_count": 152,
     "metadata": {},
     "output_type": "execute_result"
    },
    {
     "data": {
      "image/png": "[encoded data removed]",
      "text/plain": [
       "<Figure size 432x288 with 1 Axes>"
      ]
     },
     "metadata": {
      "needs_background": "light"
     },
     "output_type": "display_data"
    }
   ],
   "source": [
    "sns.distplot(train['revenue'], fit=norm)"
   ]
  },
  {
   "cell_type": "markdown",
   "metadata": {},
   "source": [
    "# Encoding Categorical Data"
   ]
  },
  {
   "cell_type": "code",
   "execution_count": 153,
   "metadata": {},
   "outputs": [
    {
     "data": {
      "text/plain": [
       "((3000, 19), (4398, 19))"
      ]
     },
     "execution_count": 153,
     "metadata": {},
     "output_type": "execute_result"
    }
   ],
   "source": [
    "target = train['revenue']\n",
    "train.drop(['revenue'], axis=1, inplace=True)\n",
    "ntrain = train.shape[0]\n",
    "ntest = test.shape[0]\n",
    "all_data = pd.concat([train, test], axis=0)\n",
    "le = LabelEncoder()\n",
    "cat_features = all_data.select_dtypes(include='object')\n",
    "for i in cat_features.columns:\n",
    "    all_data[i] = le.fit_transform(all_data[i])\n",
    "    \n",
    "train = all_data[:ntrain]\n",
    "test = all_data[ntrain:]\n",
    "train.shape, test.shape"
   ]
  },
  {
   "cell_type": "code",
   "execution_count": 154,
   "metadata": {},
   "outputs": [
    {
     "data": {
      "text/plain": [
       "Index(['original_language', 'genre_name', 'has_homepage',\n",
       "       'is_en_original_language', 'production_country', 'spoken_language',\n",
       "       'is_released'],\n",
       "      dtype='object')"
      ]
     },
     "execution_count": 154,
     "metadata": {},
     "output_type": "execute_result"
    }
   ],
   "source": [
    "cat_features.columns"
   ]
  },
  {
   "cell_type": "markdown",
   "metadata": {},
   "source": [
    "# Scaling"
   ]
  },
  {
   "cell_type": "code",
   "execution_count": 155,
   "metadata": {},
   "outputs": [],
   "source": [
    "sc = StandardScaler()\n",
    "train = sc.fit_transform(train)\n",
    "test = sc.transform(test)"
   ]
  },
  {
   "cell_type": "markdown",
   "metadata": {},
   "source": [
    "# Modelling"
   ]
  },
  {
   "cell_type": "code",
   "execution_count": 172,
   "metadata": {},
   "outputs": [],
   "source": [
    "# XGBOOST\n",
    "model_xgb = xgb.XGBRegressor(colsample_bytree=0.4603, gamma=0.0468, \n",
    "                             learning_rate=0.1, max_depth=10, n_estimators=200,\n",
    "                             reg_alpha=0.4640, reg_lambda=0.8571)\n",
    "model_xgb.fit(train, target)\n",
    "y_pred_train_xgb = model_xgb.predict(train)"
   ]
  },
  {
   "cell_type": "code",
   "execution_count": 173,
   "metadata": {},
   "outputs": [
    {
     "name": "stdout",
     "output_type": "stream",
     "text": [
      "0.017645138765075553\n"
     ]
    }
   ],
   "source": [
    "print(np.sqrt(mean_squared_log_error(target, y_pred_train_xgb)))"
   ]
  },
  {
   "cell_type": "code",
   "execution_count": 174,
   "metadata": {},
   "outputs": [
    {
     "data": {
      "text/plain": [
       "array([1.2807938e+07, 9.3890640e+07, 1.3784093e+07, ..., 8.5715840e+07,\n",
       "       1.5675062e+08, 7.3456752e+07], dtype=float32)"
      ]
     },
     "execution_count": 174,
     "metadata": {},
     "output_type": "execute_result"
    }
   ],
   "source": [
    "np.expm1(y_pred_train_xgb)"
   ]
  },
  {
   "cell_type": "code",
   "execution_count": 175,
   "metadata": {},
   "outputs": [
    {
     "data": {
      "text/plain": [
       "0        12314651.0\n",
       "1        95149435.0\n",
       "2        13092000.0\n",
       "3        16000000.0\n",
       "4         3923970.0\n",
       "           ...     \n",
       "2995      1596687.0\n",
       "2996       180590.0\n",
       "2997     89456761.0\n",
       "2998    171963386.0\n",
       "2999     82087155.0\n",
       "Name: revenue, Length: 3000, dtype: float64"
      ]
     },
     "execution_count": 175,
     "metadata": {},
     "output_type": "execute_result"
    }
   ],
   "source": [
    "np.expm1(target)"
   ]
  },
  {
   "cell_type": "code",
   "execution_count": 176,
   "metadata": {},
   "outputs": [],
   "source": [
    "y_pred = model_xgb.predict(test)\n",
    "sub = pd.DataFrame()\n",
    "sub['id'] = test_id\n",
    "sub['revenue'] = np.expm1(y_pred)\n",
    "sub.to_csv('sub7.csv', index=False)"
   ]
  },
  {
   "cell_type": "code",
   "execution_count": null,
   "metadata": {},
   "outputs": [],
   "source": [
    "# LightGBM"
   ]
  }
 ],
 "metadata": {
  "kernelspec": {
   "display_name": "Python 3",
   "language": "python",
   "name": "python3"
  },
  "language_info": {
   "codemirror_mode": {
    "name": "ipython",
    "version": 3
   },
   "file_extension": ".py",
   "mimetype": "text/x-python",
   "name": "python",
   "nbconvert_exporter": "python",
   "pygments_lexer": "ipython3",
   "version": "3.8.3"
  }
 },
 "nbformat": 4,
 "nbformat_minor": 4
}
