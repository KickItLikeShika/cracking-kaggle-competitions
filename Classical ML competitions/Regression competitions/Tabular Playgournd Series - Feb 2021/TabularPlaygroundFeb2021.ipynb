{
 "cells": [
  {
   "cell_type": "code",
   "execution_count": 1,
   "metadata": {},
   "outputs": [],
   "source": [
    "import numpy as np\n",
    "import pandas as pd\n",
    "import matplotlib.pyplot as plt\n",
    "import seaborn as sns\n",
    "from sklearn.model_selection import KFold\n",
    "from sklearn.preprocessing import LabelEncoder\n",
    "from sklearn.metrics import mean_squared_error\n",
    "from sklearn.tree import DecisionTreeRegressor\n",
    "from sklearn.ensemble import RandomForestRegressor, GradientBoostingRegressor\n",
    "import xgboost as xgb\n",
    "import lightgbm as lgb\n",
    "import warnings\n",
    "\n",
    "warnings.filterwarnings('ignore')\n",
    "pd.set_option('display.max_columns', None)\n",
    "plt.style.use(style='ggplot')\n",
    "%matplotlib inline"
   ]
  },
  {
   "cell_type": "markdown",
   "metadata": {},
   "source": [
    "# Exploration"
   ]
  },
  {
   "cell_type": "code",
   "execution_count": 2,
   "metadata": {},
   "outputs": [],
   "source": [
    "train = pd.read_csv('train.csv')\n",
    "test = pd.read_csv('test.csv')\n",
    "sample = pd.read_csv('sample_submission.csv')\n",
    "test_id = test['id']\n",
    "train.drop('id', axis=1, inplace=True)\n",
    "test.drop('id', axis=1, inplace=True)"
   ]
  },
  {
   "cell_type": "code",
   "execution_count": 3,
   "metadata": {},
   "outputs": [
    {
     "name": "stdout",
     "output_type": "stream",
     "text": [
      "(300000, 25)\n"
     ]
    },
    {
     "data": {
      "text/html": [
       "<div>\n",
       "<style scoped>\n",
       "    .dataframe tbody tr th:only-of-type {\n",
       "        vertical-align: middle;\n",
       "    }\n",
       "\n",
       "    .dataframe tbody tr th {\n",
       "        vertical-align: top;\n",
       "    }\n",
       "\n",
       "    .dataframe thead th {\n",
       "        text-align: right;\n",
       "    }\n",
       "</style>\n",
       "<table border=\"1\" class=\"dataframe\">\n",
       "  <thead>\n",
       "    <tr style=\"text-align: right;\">\n",
       "      <th></th>\n",
       "      <th>cat0</th>\n",
       "      <th>cat1</th>\n",
       "      <th>cat2</th>\n",
       "      <th>cat3</th>\n",
       "      <th>cat4</th>\n",
       "      <th>cat5</th>\n",
       "      <th>cat6</th>\n",
       "      <th>cat7</th>\n",
       "      <th>cat8</th>\n",
       "      <th>cat9</th>\n",
       "      <th>cont0</th>\n",
       "      <th>cont1</th>\n",
       "      <th>cont2</th>\n",
       "      <th>cont3</th>\n",
       "      <th>cont4</th>\n",
       "      <th>cont5</th>\n",
       "      <th>cont6</th>\n",
       "      <th>cont7</th>\n",
       "      <th>cont8</th>\n",
       "      <th>cont9</th>\n",
       "      <th>cont10</th>\n",
       "      <th>cont11</th>\n",
       "      <th>cont12</th>\n",
       "      <th>cont13</th>\n",
       "      <th>target</th>\n",
       "    </tr>\n",
       "  </thead>\n",
       "  <tbody>\n",
       "    <tr>\n",
       "      <th>0</th>\n",
       "      <td>A</td>\n",
       "      <td>B</td>\n",
       "      <td>A</td>\n",
       "      <td>A</td>\n",
       "      <td>B</td>\n",
       "      <td>D</td>\n",
       "      <td>A</td>\n",
       "      <td>E</td>\n",
       "      <td>C</td>\n",
       "      <td>I</td>\n",
       "      <td>0.923191</td>\n",
       "      <td>0.684968</td>\n",
       "      <td>0.124454</td>\n",
       "      <td>0.217886</td>\n",
       "      <td>0.281421</td>\n",
       "      <td>0.881122</td>\n",
       "      <td>0.421650</td>\n",
       "      <td>0.741413</td>\n",
       "      <td>0.895799</td>\n",
       "      <td>0.802461</td>\n",
       "      <td>0.724417</td>\n",
       "      <td>0.701915</td>\n",
       "      <td>0.877618</td>\n",
       "      <td>0.719903</td>\n",
       "      <td>6.994023</td>\n",
       "    </tr>\n",
       "    <tr>\n",
       "      <th>1</th>\n",
       "      <td>B</td>\n",
       "      <td>A</td>\n",
       "      <td>A</td>\n",
       "      <td>A</td>\n",
       "      <td>B</td>\n",
       "      <td>B</td>\n",
       "      <td>A</td>\n",
       "      <td>E</td>\n",
       "      <td>A</td>\n",
       "      <td>F</td>\n",
       "      <td>0.437627</td>\n",
       "      <td>0.014213</td>\n",
       "      <td>0.357438</td>\n",
       "      <td>0.846127</td>\n",
       "      <td>0.282354</td>\n",
       "      <td>0.440011</td>\n",
       "      <td>0.346230</td>\n",
       "      <td>0.278495</td>\n",
       "      <td>0.593413</td>\n",
       "      <td>0.546056</td>\n",
       "      <td>0.613252</td>\n",
       "      <td>0.741289</td>\n",
       "      <td>0.326679</td>\n",
       "      <td>0.808464</td>\n",
       "      <td>8.071256</td>\n",
       "    </tr>\n",
       "    <tr>\n",
       "      <th>2</th>\n",
       "      <td>A</td>\n",
       "      <td>A</td>\n",
       "      <td>A</td>\n",
       "      <td>C</td>\n",
       "      <td>B</td>\n",
       "      <td>D</td>\n",
       "      <td>A</td>\n",
       "      <td>B</td>\n",
       "      <td>C</td>\n",
       "      <td>N</td>\n",
       "      <td>0.732209</td>\n",
       "      <td>0.760122</td>\n",
       "      <td>0.454644</td>\n",
       "      <td>0.812990</td>\n",
       "      <td>0.293756</td>\n",
       "      <td>0.914155</td>\n",
       "      <td>0.369602</td>\n",
       "      <td>0.832564</td>\n",
       "      <td>0.865620</td>\n",
       "      <td>0.825251</td>\n",
       "      <td>0.264104</td>\n",
       "      <td>0.695561</td>\n",
       "      <td>0.869133</td>\n",
       "      <td>0.828352</td>\n",
       "      <td>5.760456</td>\n",
       "    </tr>\n",
       "    <tr>\n",
       "      <th>3</th>\n",
       "      <td>A</td>\n",
       "      <td>A</td>\n",
       "      <td>A</td>\n",
       "      <td>C</td>\n",
       "      <td>B</td>\n",
       "      <td>D</td>\n",
       "      <td>A</td>\n",
       "      <td>E</td>\n",
       "      <td>G</td>\n",
       "      <td>K</td>\n",
       "      <td>0.705142</td>\n",
       "      <td>0.771678</td>\n",
       "      <td>0.153735</td>\n",
       "      <td>0.732893</td>\n",
       "      <td>0.769785</td>\n",
       "      <td>0.934138</td>\n",
       "      <td>0.578930</td>\n",
       "      <td>0.407313</td>\n",
       "      <td>0.868099</td>\n",
       "      <td>0.794402</td>\n",
       "      <td>0.494269</td>\n",
       "      <td>0.698125</td>\n",
       "      <td>0.809799</td>\n",
       "      <td>0.614766</td>\n",
       "      <td>7.806457</td>\n",
       "    </tr>\n",
       "    <tr>\n",
       "      <th>4</th>\n",
       "      <td>A</td>\n",
       "      <td>B</td>\n",
       "      <td>A</td>\n",
       "      <td>A</td>\n",
       "      <td>B</td>\n",
       "      <td>B</td>\n",
       "      <td>A</td>\n",
       "      <td>E</td>\n",
       "      <td>C</td>\n",
       "      <td>F</td>\n",
       "      <td>0.486063</td>\n",
       "      <td>0.639349</td>\n",
       "      <td>0.496212</td>\n",
       "      <td>0.354186</td>\n",
       "      <td>0.279105</td>\n",
       "      <td>0.382600</td>\n",
       "      <td>0.705940</td>\n",
       "      <td>0.325193</td>\n",
       "      <td>0.440967</td>\n",
       "      <td>0.462146</td>\n",
       "      <td>0.724447</td>\n",
       "      <td>0.683073</td>\n",
       "      <td>0.343457</td>\n",
       "      <td>0.297743</td>\n",
       "      <td>6.868974</td>\n",
       "    </tr>\n",
       "  </tbody>\n",
       "</table>\n",
       "</div>"
      ],
      "text/plain": [
       "  cat0 cat1 cat2 cat3 cat4 cat5 cat6 cat7 cat8 cat9     cont0     cont1  \\\n",
       "0    A    B    A    A    B    D    A    E    C    I  0.923191  0.684968   \n",
       "1    B    A    A    A    B    B    A    E    A    F  0.437627  0.014213   \n",
       "2    A    A    A    C    B    D    A    B    C    N  0.732209  0.760122   \n",
       "3    A    A    A    C    B    D    A    E    G    K  0.705142  0.771678   \n",
       "4    A    B    A    A    B    B    A    E    C    F  0.486063  0.639349   \n",
       "\n",
       "      cont2     cont3     cont4     cont5     cont6     cont7     cont8  \\\n",
       "0  0.124454  0.217886  0.281421  0.881122  0.421650  0.741413  0.895799   \n",
       "1  0.357438  0.846127  0.282354  0.440011  0.346230  0.278495  0.593413   \n",
       "2  0.454644  0.812990  0.293756  0.914155  0.369602  0.832564  0.865620   \n",
       "3  0.153735  0.732893  0.769785  0.934138  0.578930  0.407313  0.868099   \n",
       "4  0.496212  0.354186  0.279105  0.382600  0.705940  0.325193  0.440967   \n",
       "\n",
       "      cont9    cont10    cont11    cont12    cont13    target  \n",
       "0  0.802461  0.724417  0.701915  0.877618  0.719903  6.994023  \n",
       "1  0.546056  0.613252  0.741289  0.326679  0.808464  8.071256  \n",
       "2  0.825251  0.264104  0.695561  0.869133  0.828352  5.760456  \n",
       "3  0.794402  0.494269  0.698125  0.809799  0.614766  7.806457  \n",
       "4  0.462146  0.724447  0.683073  0.343457  0.297743  6.868974  "
      ]
     },
     "execution_count": 3,
     "metadata": {},
     "output_type": "execute_result"
    }
   ],
   "source": [
    "print(train.shape)\n",
    "train.head()"
   ]
  },
  {
   "cell_type": "code",
   "execution_count": 4,
   "metadata": {},
   "outputs": [
    {
     "name": "stdout",
     "output_type": "stream",
     "text": [
      "(200000, 24)\n"
     ]
    },
    {
     "data": {
      "text/html": [
       "<div>\n",
       "<style scoped>\n",
       "    .dataframe tbody tr th:only-of-type {\n",
       "        vertical-align: middle;\n",
       "    }\n",
       "\n",
       "    .dataframe tbody tr th {\n",
       "        vertical-align: top;\n",
       "    }\n",
       "\n",
       "    .dataframe thead th {\n",
       "        text-align: right;\n",
       "    }\n",
       "</style>\n",
       "<table border=\"1\" class=\"dataframe\">\n",
       "  <thead>\n",
       "    <tr style=\"text-align: right;\">\n",
       "      <th></th>\n",
       "      <th>cat0</th>\n",
       "      <th>cat1</th>\n",
       "      <th>cat2</th>\n",
       "      <th>cat3</th>\n",
       "      <th>cat4</th>\n",
       "      <th>cat5</th>\n",
       "      <th>cat6</th>\n",
       "      <th>cat7</th>\n",
       "      <th>cat8</th>\n",
       "      <th>cat9</th>\n",
       "      <th>cont0</th>\n",
       "      <th>cont1</th>\n",
       "      <th>cont2</th>\n",
       "      <th>cont3</th>\n",
       "      <th>cont4</th>\n",
       "      <th>cont5</th>\n",
       "      <th>cont6</th>\n",
       "      <th>cont7</th>\n",
       "      <th>cont8</th>\n",
       "      <th>cont9</th>\n",
       "      <th>cont10</th>\n",
       "      <th>cont11</th>\n",
       "      <th>cont12</th>\n",
       "      <th>cont13</th>\n",
       "    </tr>\n",
       "  </thead>\n",
       "  <tbody>\n",
       "    <tr>\n",
       "      <th>0</th>\n",
       "      <td>A</td>\n",
       "      <td>B</td>\n",
       "      <td>A</td>\n",
       "      <td>C</td>\n",
       "      <td>B</td>\n",
       "      <td>D</td>\n",
       "      <td>A</td>\n",
       "      <td>E</td>\n",
       "      <td>E</td>\n",
       "      <td>G</td>\n",
       "      <td>0.331261</td>\n",
       "      <td>0.551131</td>\n",
       "      <td>0.486284</td>\n",
       "      <td>0.156058</td>\n",
       "      <td>0.701679</td>\n",
       "      <td>0.595507</td>\n",
       "      <td>0.286912</td>\n",
       "      <td>0.279884</td>\n",
       "      <td>0.202234</td>\n",
       "      <td>0.242654</td>\n",
       "      <td>0.285147</td>\n",
       "      <td>0.264308</td>\n",
       "      <td>0.653654</td>\n",
       "      <td>0.302448</td>\n",
       "    </tr>\n",
       "    <tr>\n",
       "      <th>1</th>\n",
       "      <td>A</td>\n",
       "      <td>B</td>\n",
       "      <td>A</td>\n",
       "      <td>C</td>\n",
       "      <td>B</td>\n",
       "      <td>D</td>\n",
       "      <td>A</td>\n",
       "      <td>E</td>\n",
       "      <td>C</td>\n",
       "      <td>L</td>\n",
       "      <td>0.402404</td>\n",
       "      <td>0.617546</td>\n",
       "      <td>0.296852</td>\n",
       "      <td>0.187440</td>\n",
       "      <td>0.277480</td>\n",
       "      <td>0.479552</td>\n",
       "      <td>0.397436</td>\n",
       "      <td>0.476742</td>\n",
       "      <td>0.857073</td>\n",
       "      <td>0.516393</td>\n",
       "      <td>0.562065</td>\n",
       "      <td>0.730542</td>\n",
       "      <td>0.318492</td>\n",
       "      <td>0.736251</td>\n",
       "    </tr>\n",
       "    <tr>\n",
       "      <th>2</th>\n",
       "      <td>A</td>\n",
       "      <td>B</td>\n",
       "      <td>A</td>\n",
       "      <td>C</td>\n",
       "      <td>B</td>\n",
       "      <td>D</td>\n",
       "      <td>A</td>\n",
       "      <td>E</td>\n",
       "      <td>C</td>\n",
       "      <td>F</td>\n",
       "      <td>0.530677</td>\n",
       "      <td>0.618126</td>\n",
       "      <td>0.760865</td>\n",
       "      <td>0.199872</td>\n",
       "      <td>0.279508</td>\n",
       "      <td>0.676395</td>\n",
       "      <td>0.695284</td>\n",
       "      <td>0.253316</td>\n",
       "      <td>0.586934</td>\n",
       "      <td>0.548555</td>\n",
       "      <td>0.836193</td>\n",
       "      <td>0.759788</td>\n",
       "      <td>0.333572</td>\n",
       "      <td>0.273905</td>\n",
       "    </tr>\n",
       "    <tr>\n",
       "      <th>3</th>\n",
       "      <td>A</td>\n",
       "      <td>A</td>\n",
       "      <td>B</td>\n",
       "      <td>A</td>\n",
       "      <td>B</td>\n",
       "      <td>D</td>\n",
       "      <td>A</td>\n",
       "      <td>E</td>\n",
       "      <td>E</td>\n",
       "      <td>F</td>\n",
       "      <td>0.439653</td>\n",
       "      <td>0.487403</td>\n",
       "      <td>0.715786</td>\n",
       "      <td>0.192808</td>\n",
       "      <td>0.479503</td>\n",
       "      <td>0.759875</td>\n",
       "      <td>0.240049</td>\n",
       "      <td>0.298074</td>\n",
       "      <td>0.442475</td>\n",
       "      <td>0.596746</td>\n",
       "      <td>0.414131</td>\n",
       "      <td>0.255382</td>\n",
       "      <td>0.589080</td>\n",
       "      <td>0.311625</td>\n",
       "    </tr>\n",
       "    <tr>\n",
       "      <th>4</th>\n",
       "      <td>A</td>\n",
       "      <td>B</td>\n",
       "      <td>A</td>\n",
       "      <td>A</td>\n",
       "      <td>B</td>\n",
       "      <td>B</td>\n",
       "      <td>A</td>\n",
       "      <td>E</td>\n",
       "      <td>E</td>\n",
       "      <td>I</td>\n",
       "      <td>0.389844</td>\n",
       "      <td>0.752760</td>\n",
       "      <td>0.315269</td>\n",
       "      <td>0.191734</td>\n",
       "      <td>0.757845</td>\n",
       "      <td>0.210232</td>\n",
       "      <td>0.329851</td>\n",
       "      <td>0.616663</td>\n",
       "      <td>0.170475</td>\n",
       "      <td>0.263235</td>\n",
       "      <td>0.710961</td>\n",
       "      <td>0.224045</td>\n",
       "      <td>0.285860</td>\n",
       "      <td>0.794931</td>\n",
       "    </tr>\n",
       "  </tbody>\n",
       "</table>\n",
       "</div>"
      ],
      "text/plain": [
       "  cat0 cat1 cat2 cat3 cat4 cat5 cat6 cat7 cat8 cat9     cont0     cont1  \\\n",
       "0    A    B    A    C    B    D    A    E    E    G  0.331261  0.551131   \n",
       "1    A    B    A    C    B    D    A    E    C    L  0.402404  0.617546   \n",
       "2    A    B    A    C    B    D    A    E    C    F  0.530677  0.618126   \n",
       "3    A    A    B    A    B    D    A    E    E    F  0.439653  0.487403   \n",
       "4    A    B    A    A    B    B    A    E    E    I  0.389844  0.752760   \n",
       "\n",
       "      cont2     cont3     cont4     cont5     cont6     cont7     cont8  \\\n",
       "0  0.486284  0.156058  0.701679  0.595507  0.286912  0.279884  0.202234   \n",
       "1  0.296852  0.187440  0.277480  0.479552  0.397436  0.476742  0.857073   \n",
       "2  0.760865  0.199872  0.279508  0.676395  0.695284  0.253316  0.586934   \n",
       "3  0.715786  0.192808  0.479503  0.759875  0.240049  0.298074  0.442475   \n",
       "4  0.315269  0.191734  0.757845  0.210232  0.329851  0.616663  0.170475   \n",
       "\n",
       "      cont9    cont10    cont11    cont12    cont13  \n",
       "0  0.242654  0.285147  0.264308  0.653654  0.302448  \n",
       "1  0.516393  0.562065  0.730542  0.318492  0.736251  \n",
       "2  0.548555  0.836193  0.759788  0.333572  0.273905  \n",
       "3  0.596746  0.414131  0.255382  0.589080  0.311625  \n",
       "4  0.263235  0.710961  0.224045  0.285860  0.794931  "
      ]
     },
     "execution_count": 4,
     "metadata": {},
     "output_type": "execute_result"
    }
   ],
   "source": [
    "print(test.shape)\n",
    "test.head()"
   ]
  },
  {
   "cell_type": "code",
   "execution_count": 5,
   "metadata": {},
   "outputs": [
    {
     "data": {
      "text/html": [
       "<div>\n",
       "<style scoped>\n",
       "    .dataframe tbody tr th:only-of-type {\n",
       "        vertical-align: middle;\n",
       "    }\n",
       "\n",
       "    .dataframe tbody tr th {\n",
       "        vertical-align: top;\n",
       "    }\n",
       "\n",
       "    .dataframe thead th {\n",
       "        text-align: right;\n",
       "    }\n",
       "</style>\n",
       "<table border=\"1\" class=\"dataframe\">\n",
       "  <thead>\n",
       "    <tr style=\"text-align: right;\">\n",
       "      <th></th>\n",
       "      <th>id</th>\n",
       "      <th>target</th>\n",
       "    </tr>\n",
       "  </thead>\n",
       "  <tbody>\n",
       "    <tr>\n",
       "      <th>0</th>\n",
       "      <td>0</td>\n",
       "      <td>0.5</td>\n",
       "    </tr>\n",
       "    <tr>\n",
       "      <th>1</th>\n",
       "      <td>5</td>\n",
       "      <td>0.5</td>\n",
       "    </tr>\n",
       "    <tr>\n",
       "      <th>2</th>\n",
       "      <td>15</td>\n",
       "      <td>0.5</td>\n",
       "    </tr>\n",
       "    <tr>\n",
       "      <th>3</th>\n",
       "      <td>16</td>\n",
       "      <td>0.5</td>\n",
       "    </tr>\n",
       "    <tr>\n",
       "      <th>4</th>\n",
       "      <td>17</td>\n",
       "      <td>0.5</td>\n",
       "    </tr>\n",
       "  </tbody>\n",
       "</table>\n",
       "</div>"
      ],
      "text/plain": [
       "   id  target\n",
       "0   0     0.5\n",
       "1   5     0.5\n",
       "2  15     0.5\n",
       "3  16     0.5\n",
       "4  17     0.5"
      ]
     },
     "execution_count": 5,
     "metadata": {},
     "output_type": "execute_result"
    }
   ],
   "source": [
    "sample.head()"
   ]
  },
  {
   "cell_type": "code",
   "execution_count": 6,
   "metadata": {},
   "outputs": [
    {
     "name": "stdout",
     "output_type": "stream",
     "text": [
      "<class 'pandas.core.frame.DataFrame'>\n",
      "RangeIndex: 300000 entries, 0 to 299999\n",
      "Data columns (total 25 columns):\n",
      " #   Column  Non-Null Count   Dtype  \n",
      "---  ------  --------------   -----  \n",
      " 0   cat0    300000 non-null  object \n",
      " 1   cat1    300000 non-null  object \n",
      " 2   cat2    300000 non-null  object \n",
      " 3   cat3    300000 non-null  object \n",
      " 4   cat4    300000 non-null  object \n",
      " 5   cat5    300000 non-null  object \n",
      " 6   cat6    300000 non-null  object \n",
      " 7   cat7    300000 non-null  object \n",
      " 8   cat8    300000 non-null  object \n",
      " 9   cat9    300000 non-null  object \n",
      " 10  cont0   300000 non-null  float64\n",
      " 11  cont1   300000 non-null  float64\n",
      " 12  cont2   300000 non-null  float64\n",
      " 13  cont3   300000 non-null  float64\n",
      " 14  cont4   300000 non-null  float64\n",
      " 15  cont5   300000 non-null  float64\n",
      " 16  cont6   300000 non-null  float64\n",
      " 17  cont7   300000 non-null  float64\n",
      " 18  cont8   300000 non-null  float64\n",
      " 19  cont9   300000 non-null  float64\n",
      " 20  cont10  300000 non-null  float64\n",
      " 21  cont11  300000 non-null  float64\n",
      " 22  cont12  300000 non-null  float64\n",
      " 23  cont13  300000 non-null  float64\n",
      " 24  target  300000 non-null  float64\n",
      "dtypes: float64(15), object(10)\n",
      "memory usage: 57.2+ MB\n",
      "None\n",
      "=====================\n",
      "<class 'pandas.core.frame.DataFrame'>\n",
      "RangeIndex: 200000 entries, 0 to 199999\n",
      "Data columns (total 24 columns):\n",
      " #   Column  Non-Null Count   Dtype  \n",
      "---  ------  --------------   -----  \n",
      " 0   cat0    200000 non-null  object \n",
      " 1   cat1    200000 non-null  object \n",
      " 2   cat2    200000 non-null  object \n",
      " 3   cat3    200000 non-null  object \n",
      " 4   cat4    200000 non-null  object \n",
      " 5   cat5    200000 non-null  object \n",
      " 6   cat6    200000 non-null  object \n",
      " 7   cat7    200000 non-null  object \n",
      " 8   cat8    200000 non-null  object \n",
      " 9   cat9    200000 non-null  object \n",
      " 10  cont0   200000 non-null  float64\n",
      " 11  cont1   200000 non-null  float64\n",
      " 12  cont2   200000 non-null  float64\n",
      " 13  cont3   200000 non-null  float64\n",
      " 14  cont4   200000 non-null  float64\n",
      " 15  cont5   200000 non-null  float64\n",
      " 16  cont6   200000 non-null  float64\n",
      " 17  cont7   200000 non-null  float64\n",
      " 18  cont8   200000 non-null  float64\n",
      " 19  cont9   200000 non-null  float64\n",
      " 20  cont10  200000 non-null  float64\n",
      " 21  cont11  200000 non-null  float64\n",
      " 22  cont12  200000 non-null  float64\n",
      " 23  cont13  200000 non-null  float64\n",
      "dtypes: float64(14), object(10)\n",
      "memory usage: 36.6+ MB\n",
      "None\n"
     ]
    }
   ],
   "source": [
    "print(train.info())\n",
    "print(\"=====================\")\n",
    "print(test.info())"
   ]
  },
  {
   "cell_type": "code",
   "execution_count": 7,
   "metadata": {},
   "outputs": [
    {
     "data": {
      "text/plain": [
       "<AxesSubplot:>"
      ]
     },
     "execution_count": 7,
     "metadata": {},
     "output_type": "execute_result"
    },
    {
     "data": {
      "image/png": "[encoded data removed]",
      "text/plain": [
       "<Figure size 1152x1152 with 2 Axes>"
      ]
     },
     "metadata": {
      "needs_background": "light"
     },
     "output_type": "display_data"
    }
   ],
   "source": [
    "plt.figure(figsize=(16, 16))\n",
    "sns.heatmap(train.corr(), annot=True)"
   ]
  },
  {
   "cell_type": "markdown",
   "metadata": {},
   "source": [
    "# Data Cleaning"
   ]
  },
  {
   "cell_type": "markdown",
   "metadata": {},
   "source": [
    "Check if any value from the categorical variable is not in train or test"
   ]
  },
  {
   "cell_type": "code",
   "execution_count": 8,
   "metadata": {},
   "outputs": [
    {
     "name": "stdout",
     "output_type": "stream",
     "text": [
      "cat0\n",
      "['A' 'B']\n",
      "['A' 'B']\n",
      "-----------------------\n",
      "cat1\n",
      "['B' 'A']\n",
      "['B' 'A']\n",
      "-----------------------\n",
      "cat2\n",
      "['A' 'B']\n",
      "['A' 'B']\n",
      "-----------------------\n",
      "cat3\n",
      "['A' 'C' 'D' 'B']\n",
      "['C' 'A' 'D' 'B']\n",
      "-----------------------\n",
      "cat4\n",
      "['B' 'C' 'A' 'D']\n",
      "['B' 'A' 'C' 'D']\n",
      "-----------------------\n",
      "cat5\n",
      "['D' 'B' 'A' 'C']\n",
      "['D' 'B' 'A' 'C']\n",
      "-----------------------\n",
      "cat6\n",
      "['A' 'B' 'D' 'C' 'E' 'I' 'G' 'H']\n",
      "['A' 'B' 'C' 'D' 'E' 'I' 'H']\n",
      "-----------------------\n",
      "cat7\n",
      "['E' 'B' 'D' 'G' 'F' 'A' 'C' 'I']\n",
      "['E' 'D' 'B' 'G' 'F' 'I' 'A' 'C']\n",
      "-----------------------\n",
      "cat8\n",
      "['C' 'A' 'G' 'E' 'D' 'F' 'B']\n",
      "['E' 'C' 'D' 'G' 'A' 'F' 'B']\n",
      "-----------------------\n",
      "cat9\n",
      "['I' 'F' 'N' 'K' 'B' 'L' 'G' 'H' 'O' 'A' 'J' 'M' 'C' 'D' 'E']\n",
      "['G' 'L' 'F' 'I' 'A' 'K' 'M' 'O' 'N' 'H' 'B' 'J' 'C' 'E' 'D']\n",
      "-----------------------\n"
     ]
    }
   ],
   "source": [
    "cat = train.select_dtypes(include=object)\n",
    "for i in cat:\n",
    "    uniquetrain = train[i].unique()\n",
    "    uniquetest = test[i].unique()\n",
    "    print(i)\n",
    "    print(uniquetrain)\n",
    "    print(uniquetest)\n",
    "    print(\"-----------------------\")"
   ]
  },
  {
   "cell_type": "code",
   "execution_count": 9,
   "metadata": {},
   "outputs": [
    {
     "name": "stdout",
     "output_type": "stream",
     "text": [
      "(300000, 25)\n",
      "(299997, 25)\n"
     ]
    }
   ],
   "source": [
    "print(train.shape)\n",
    "todrop = train[train['cat6'] == 'G'].index\n",
    "train.drop(todrop, axis=0, inplace=True)\n",
    "print(train.shape)"
   ]
  },
  {
   "cell_type": "markdown",
   "metadata": {},
   "source": [
    "## Skewness"
   ]
  },
  {
   "cell_type": "code",
   "execution_count": 10,
   "metadata": {},
   "outputs": [
    {
     "data": {
      "text/plain": [
       "cont0     0.509880\n",
       "cont1    -0.726462\n",
       "cont2     0.171003\n",
       "cont3     0.401534\n",
       "cont4     0.743695\n",
       "cont5     0.511147\n",
       "cont6     0.871001\n",
       "cont7     0.705154\n",
       "cont8     0.725131\n",
       "cont9     0.223224\n",
       "cont10    0.084650\n",
       "cont11   -0.030753\n",
       "cont12    0.372885\n",
       "cont13    0.130783\n",
       "target   -0.201263\n",
       "dtype: float64"
      ]
     },
     "execution_count": 10,
     "metadata": {},
     "output_type": "execute_result"
    }
   ],
   "source": [
    "train.skew()"
   ]
  },
  {
   "cell_type": "markdown",
   "metadata": {},
   "source": [
    "# EDA"
   ]
  },
  {
   "cell_type": "markdown",
   "metadata": {},
   "source": [
    "### Target"
   ]
  },
  {
   "cell_type": "code",
   "execution_count": 11,
   "metadata": {},
   "outputs": [
    {
     "data": {
      "text/plain": [
       "<seaborn.axisgrid.FacetGrid at 0x7f390dff0040>"
      ]
     },
     "execution_count": 11,
     "metadata": {},
     "output_type": "execute_result"
    },
    {
     "data": {
      "image/png": "[encoded data removed]",
      "text/plain": [
       "<Figure size 360x360 with 1 Axes>"
      ]
     },
     "metadata": {
      "needs_background": "light"
     },
     "output_type": "display_data"
    }
   ],
   "source": [
    "sns.displot(train['target'])"
   ]
  },
  {
   "cell_type": "code",
   "execution_count": 12,
   "metadata": {},
   "outputs": [
    {
     "data": {
      "text/plain": [
       "<AxesSubplot:xlabel='target'>"
      ]
     },
     "execution_count": 12,
     "metadata": {},
     "output_type": "execute_result"
    },
    {
     "data": {
      "image/png": "[encoded data removed]",
      "text/plain": [
       "<Figure size 432x288 with 1 Axes>"
      ]
     },
     "metadata": {
      "needs_background": "light"
     },
     "output_type": "display_data"
    }
   ],
   "source": [
    "sns.boxplot(train['target'])"
   ]
  },
  {
   "cell_type": "code",
   "execution_count": 13,
   "metadata": {},
   "outputs": [
    {
     "name": "stdout",
     "output_type": "stream",
     "text": [
      "(299997, 25)\n",
      "(299993, 25)\n"
     ]
    }
   ],
   "source": [
    "print(train.shape)\n",
    "todrop = train[train['target'] < 3].index\n",
    "train.drop(todrop, axis=0, inplace=True)\n",
    "print(train.shape)"
   ]
  },
  {
   "cell_type": "markdown",
   "metadata": {},
   "source": [
    "### Conclusion\n",
    "I have gone through a lot of EDA, i explored all the features one by one to find anything interesing unfortunately i found nothing, no patterns, absolutley nothing. It seems the competition is all about the proper modelling technique. So i thought deleting all the useless cells (EDA related) is gonna make the notebook more readable and more organized."
   ]
  },
  {
   "cell_type": "markdown",
   "metadata": {},
   "source": [
    "Here is 2 random examples (1 Categorical, 1 Numerical) for the EDA i made for all the features."
   ]
  },
  {
   "cell_type": "markdown",
   "metadata": {},
   "source": [
    "### EDA Example"
   ]
  },
  {
   "cell_type": "code",
   "execution_count": 14,
   "metadata": {},
   "outputs": [
    {
     "name": "stdout",
     "output_type": "stream",
     "text": [
      "A    281466\n",
      "B     18527\n",
      "Name: cat0, dtype: int64\n",
      "A    187700\n",
      "B     12300\n",
      "Name: cat0, dtype: int64\n"
     ]
    }
   ],
   "source": [
    "print(train['cat0'].value_counts())\n",
    "print(test['cat0'].value_counts())"
   ]
  },
  {
   "cell_type": "code",
   "execution_count": 15,
   "metadata": {},
   "outputs": [
    {
     "data": {
      "text/plain": [
       "<seaborn.axisgrid.FacetGrid at 0x7f38e0fe77c0>"
      ]
     },
     "execution_count": 15,
     "metadata": {},
     "output_type": "execute_result"
    },
    {
     "data": {
      "image/png": "[encoded data removed]",
      "text/plain": [
       "<Figure size 360x360 with 1 Axes>"
      ]
     },
     "metadata": {
      "needs_background": "light"
     },
     "output_type": "display_data"
    }
   ],
   "source": [
    "sns.catplot('cat0', 'target', data=train)"
   ]
  },
  {
   "cell_type": "code",
   "execution_count": 16,
   "metadata": {},
   "outputs": [
    {
     "data": {
      "text/plain": [
       "<seaborn.axisgrid.FacetGrid at 0x7f38e0fe7a60>"
      ]
     },
     "execution_count": 16,
     "metadata": {},
     "output_type": "execute_result"
    },
    {
     "data": {
      "image/png": "[encoded data removed]",
      "text/plain": [
       "<Figure size 360x360 with 1 Axes>"
      ]
     },
     "metadata": {
      "needs_background": "light"
     },
     "output_type": "display_data"
    }
   ],
   "source": [
    "sns.catplot('cat0', 'target', data=train, kind='boxen')"
   ]
  },
  {
   "cell_type": "code",
   "execution_count": 17,
   "metadata": {},
   "outputs": [
    {
     "data": {
      "text/plain": [
       "<seaborn.axisgrid.FacetGrid at 0x7f38e352d6a0>"
      ]
     },
     "execution_count": 17,
     "metadata": {},
     "output_type": "execute_result"
    },
    {
     "data": {
      "image/png": "[encoded data removed]",
      "text/plain": [
       "<Figure size 360x360 with 1 Axes>"
      ]
     },
     "metadata": {
      "needs_background": "light"
     },
     "output_type": "display_data"
    }
   ],
   "source": [
    "sns.catplot('cat0', 'target', data=train, kind='violin')"
   ]
  },
  {
   "cell_type": "markdown",
   "metadata": {},
   "source": [
    "### cont5"
   ]
  },
  {
   "cell_type": "code",
   "execution_count": 18,
   "metadata": {},
   "outputs": [
    {
     "data": {
      "text/plain": [
       "<AxesSubplot:xlabel='cont5'>"
      ]
     },
     "execution_count": 18,
     "metadata": {},
     "output_type": "execute_result"
    },
    {
     "data": {
      "image/png": "[encoded data removed]",
      "text/plain": [
       "<Figure size 432x288 with 1 Axes>"
      ]
     },
     "metadata": {
      "needs_background": "light"
     },
     "output_type": "display_data"
    }
   ],
   "source": [
    "sns.boxplot(train['cont5'])"
   ]
  },
  {
   "cell_type": "code",
   "execution_count": 19,
   "metadata": {},
   "outputs": [
    {
     "data": {
      "text/plain": [
       "<matplotlib.collections.PathCollection at 0x7f38e1bcbdf0>"
      ]
     },
     "execution_count": 19,
     "metadata": {},
     "output_type": "execute_result"
    },
    {
     "data": {
      "image/png": "[encoded data removed]",
      "text/plain": [
       "<Figure size 648x432 with 1 Axes>"
      ]
     },
     "metadata": {
      "needs_background": "light"
     },
     "output_type": "display_data"
    }
   ],
   "source": [
    "plt.figure(figsize=(9, 6))\n",
    "plt.scatter(train['cont5'], train['target'])"
   ]
  },
  {
   "cell_type": "markdown",
   "metadata": {},
   "source": [
    "# Encdoing categorical features"
   ]
  },
  {
   "cell_type": "code",
   "execution_count": 20,
   "metadata": {},
   "outputs": [
    {
     "name": "stdout",
     "output_type": "stream",
     "text": [
      "(299993, 25) (200000, 24)\n",
      "(299993, 69) (200000, 69)\n"
     ]
    }
   ],
   "source": [
    "print(train.shape, test.shape)\n",
    "cat = train.select_dtypes(include=object)\n",
    "target = train['target']\n",
    "train.drop('target', axis=1, inplace=True)\n",
    "train = pd.get_dummies(train)\n",
    "test = pd.get_dummies(test)\n",
    "print(train.shape, test.shape)"
   ]
  },
  {
   "cell_type": "code",
   "execution_count": 21,
   "metadata": {},
   "outputs": [
    {
     "data": {
      "text/html": [
       "<div>\n",
       "<style scoped>\n",
       "    .dataframe tbody tr th:only-of-type {\n",
       "        vertical-align: middle;\n",
       "    }\n",
       "\n",
       "    .dataframe tbody tr th {\n",
       "        vertical-align: top;\n",
       "    }\n",
       "\n",
       "    .dataframe thead th {\n",
       "        text-align: right;\n",
       "    }\n",
       "</style>\n",
       "<table border=\"1\" class=\"dataframe\">\n",
       "  <thead>\n",
       "    <tr style=\"text-align: right;\">\n",
       "      <th></th>\n",
       "      <th>cont0</th>\n",
       "      <th>cont1</th>\n",
       "      <th>cont2</th>\n",
       "      <th>cont3</th>\n",
       "      <th>cont4</th>\n",
       "      <th>cont5</th>\n",
       "      <th>cont6</th>\n",
       "      <th>cont7</th>\n",
       "      <th>cont8</th>\n",
       "      <th>cont9</th>\n",
       "      <th>cont10</th>\n",
       "      <th>cont11</th>\n",
       "      <th>cont12</th>\n",
       "      <th>cont13</th>\n",
       "      <th>cat0_A</th>\n",
       "      <th>cat0_B</th>\n",
       "      <th>cat1_A</th>\n",
       "      <th>cat1_B</th>\n",
       "      <th>cat2_A</th>\n",
       "      <th>cat2_B</th>\n",
       "      <th>cat3_A</th>\n",
       "      <th>cat3_B</th>\n",
       "      <th>cat3_C</th>\n",
       "      <th>cat3_D</th>\n",
       "      <th>cat4_A</th>\n",
       "      <th>cat4_B</th>\n",
       "      <th>cat4_C</th>\n",
       "      <th>cat4_D</th>\n",
       "      <th>cat5_A</th>\n",
       "      <th>cat5_B</th>\n",
       "      <th>cat5_C</th>\n",
       "      <th>cat5_D</th>\n",
       "      <th>cat6_A</th>\n",
       "      <th>cat6_B</th>\n",
       "      <th>cat6_C</th>\n",
       "      <th>cat6_D</th>\n",
       "      <th>cat6_E</th>\n",
       "      <th>cat6_H</th>\n",
       "      <th>cat6_I</th>\n",
       "      <th>cat7_A</th>\n",
       "      <th>cat7_B</th>\n",
       "      <th>cat7_C</th>\n",
       "      <th>cat7_D</th>\n",
       "      <th>cat7_E</th>\n",
       "      <th>cat7_F</th>\n",
       "      <th>cat7_G</th>\n",
       "      <th>cat7_I</th>\n",
       "      <th>cat8_A</th>\n",
       "      <th>cat8_B</th>\n",
       "      <th>cat8_C</th>\n",
       "      <th>cat8_D</th>\n",
       "      <th>cat8_E</th>\n",
       "      <th>cat8_F</th>\n",
       "      <th>cat8_G</th>\n",
       "      <th>cat9_A</th>\n",
       "      <th>cat9_B</th>\n",
       "      <th>cat9_C</th>\n",
       "      <th>cat9_D</th>\n",
       "      <th>cat9_E</th>\n",
       "      <th>cat9_F</th>\n",
       "      <th>cat9_G</th>\n",
       "      <th>cat9_H</th>\n",
       "      <th>cat9_I</th>\n",
       "      <th>cat9_J</th>\n",
       "      <th>cat9_K</th>\n",
       "      <th>cat9_L</th>\n",
       "      <th>cat9_M</th>\n",
       "      <th>cat9_N</th>\n",
       "      <th>cat9_O</th>\n",
       "    </tr>\n",
       "  </thead>\n",
       "  <tbody>\n",
       "    <tr>\n",
       "      <th>0</th>\n",
       "      <td>0.923191</td>\n",
       "      <td>0.684968</td>\n",
       "      <td>0.124454</td>\n",
       "      <td>0.217886</td>\n",
       "      <td>0.281421</td>\n",
       "      <td>0.881122</td>\n",
       "      <td>0.421650</td>\n",
       "      <td>0.741413</td>\n",
       "      <td>0.895799</td>\n",
       "      <td>0.802461</td>\n",
       "      <td>0.724417</td>\n",
       "      <td>0.701915</td>\n",
       "      <td>0.877618</td>\n",
       "      <td>0.719903</td>\n",
       "      <td>1</td>\n",
       "      <td>0</td>\n",
       "      <td>0</td>\n",
       "      <td>1</td>\n",
       "      <td>1</td>\n",
       "      <td>0</td>\n",
       "      <td>1</td>\n",
       "      <td>0</td>\n",
       "      <td>0</td>\n",
       "      <td>0</td>\n",
       "      <td>0</td>\n",
       "      <td>1</td>\n",
       "      <td>0</td>\n",
       "      <td>0</td>\n",
       "      <td>0</td>\n",
       "      <td>0</td>\n",
       "      <td>0</td>\n",
       "      <td>1</td>\n",
       "      <td>1</td>\n",
       "      <td>0</td>\n",
       "      <td>0</td>\n",
       "      <td>0</td>\n",
       "      <td>0</td>\n",
       "      <td>0</td>\n",
       "      <td>0</td>\n",
       "      <td>0</td>\n",
       "      <td>0</td>\n",
       "      <td>0</td>\n",
       "      <td>0</td>\n",
       "      <td>1</td>\n",
       "      <td>0</td>\n",
       "      <td>0</td>\n",
       "      <td>0</td>\n",
       "      <td>0</td>\n",
       "      <td>0</td>\n",
       "      <td>1</td>\n",
       "      <td>0</td>\n",
       "      <td>0</td>\n",
       "      <td>0</td>\n",
       "      <td>0</td>\n",
       "      <td>0</td>\n",
       "      <td>0</td>\n",
       "      <td>0</td>\n",
       "      <td>0</td>\n",
       "      <td>0</td>\n",
       "      <td>0</td>\n",
       "      <td>0</td>\n",
       "      <td>0</td>\n",
       "      <td>1</td>\n",
       "      <td>0</td>\n",
       "      <td>0</td>\n",
       "      <td>0</td>\n",
       "      <td>0</td>\n",
       "      <td>0</td>\n",
       "      <td>0</td>\n",
       "    </tr>\n",
       "    <tr>\n",
       "      <th>1</th>\n",
       "      <td>0.437627</td>\n",
       "      <td>0.014213</td>\n",
       "      <td>0.357438</td>\n",
       "      <td>0.846127</td>\n",
       "      <td>0.282354</td>\n",
       "      <td>0.440011</td>\n",
       "      <td>0.346230</td>\n",
       "      <td>0.278495</td>\n",
       "      <td>0.593413</td>\n",
       "      <td>0.546056</td>\n",
       "      <td>0.613252</td>\n",
       "      <td>0.741289</td>\n",
       "      <td>0.326679</td>\n",
       "      <td>0.808464</td>\n",
       "      <td>0</td>\n",
       "      <td>1</td>\n",
       "      <td>1</td>\n",
       "      <td>0</td>\n",
       "      <td>1</td>\n",
       "      <td>0</td>\n",
       "      <td>1</td>\n",
       "      <td>0</td>\n",
       "      <td>0</td>\n",
       "      <td>0</td>\n",
       "      <td>0</td>\n",
       "      <td>1</td>\n",
       "      <td>0</td>\n",
       "      <td>0</td>\n",
       "      <td>0</td>\n",
       "      <td>1</td>\n",
       "      <td>0</td>\n",
       "      <td>0</td>\n",
       "      <td>1</td>\n",
       "      <td>0</td>\n",
       "      <td>0</td>\n",
       "      <td>0</td>\n",
       "      <td>0</td>\n",
       "      <td>0</td>\n",
       "      <td>0</td>\n",
       "      <td>0</td>\n",
       "      <td>0</td>\n",
       "      <td>0</td>\n",
       "      <td>0</td>\n",
       "      <td>1</td>\n",
       "      <td>0</td>\n",
       "      <td>0</td>\n",
       "      <td>0</td>\n",
       "      <td>1</td>\n",
       "      <td>0</td>\n",
       "      <td>0</td>\n",
       "      <td>0</td>\n",
       "      <td>0</td>\n",
       "      <td>0</td>\n",
       "      <td>0</td>\n",
       "      <td>0</td>\n",
       "      <td>0</td>\n",
       "      <td>0</td>\n",
       "      <td>0</td>\n",
       "      <td>0</td>\n",
       "      <td>1</td>\n",
       "      <td>0</td>\n",
       "      <td>0</td>\n",
       "      <td>0</td>\n",
       "      <td>0</td>\n",
       "      <td>0</td>\n",
       "      <td>0</td>\n",
       "      <td>0</td>\n",
       "      <td>0</td>\n",
       "      <td>0</td>\n",
       "    </tr>\n",
       "    <tr>\n",
       "      <th>2</th>\n",
       "      <td>0.732209</td>\n",
       "      <td>0.760122</td>\n",
       "      <td>0.454644</td>\n",
       "      <td>0.812990</td>\n",
       "      <td>0.293756</td>\n",
       "      <td>0.914155</td>\n",
       "      <td>0.369602</td>\n",
       "      <td>0.832564</td>\n",
       "      <td>0.865620</td>\n",
       "      <td>0.825251</td>\n",
       "      <td>0.264104</td>\n",
       "      <td>0.695561</td>\n",
       "      <td>0.869133</td>\n",
       "      <td>0.828352</td>\n",
       "      <td>1</td>\n",
       "      <td>0</td>\n",
       "      <td>1</td>\n",
       "      <td>0</td>\n",
       "      <td>1</td>\n",
       "      <td>0</td>\n",
       "      <td>0</td>\n",
       "      <td>0</td>\n",
       "      <td>1</td>\n",
       "      <td>0</td>\n",
       "      <td>0</td>\n",
       "      <td>1</td>\n",
       "      <td>0</td>\n",
       "      <td>0</td>\n",
       "      <td>0</td>\n",
       "      <td>0</td>\n",
       "      <td>0</td>\n",
       "      <td>1</td>\n",
       "      <td>1</td>\n",
       "      <td>0</td>\n",
       "      <td>0</td>\n",
       "      <td>0</td>\n",
       "      <td>0</td>\n",
       "      <td>0</td>\n",
       "      <td>0</td>\n",
       "      <td>0</td>\n",
       "      <td>1</td>\n",
       "      <td>0</td>\n",
       "      <td>0</td>\n",
       "      <td>0</td>\n",
       "      <td>0</td>\n",
       "      <td>0</td>\n",
       "      <td>0</td>\n",
       "      <td>0</td>\n",
       "      <td>0</td>\n",
       "      <td>1</td>\n",
       "      <td>0</td>\n",
       "      <td>0</td>\n",
       "      <td>0</td>\n",
       "      <td>0</td>\n",
       "      <td>0</td>\n",
       "      <td>0</td>\n",
       "      <td>0</td>\n",
       "      <td>0</td>\n",
       "      <td>0</td>\n",
       "      <td>0</td>\n",
       "      <td>0</td>\n",
       "      <td>0</td>\n",
       "      <td>0</td>\n",
       "      <td>0</td>\n",
       "      <td>0</td>\n",
       "      <td>0</td>\n",
       "      <td>0</td>\n",
       "      <td>1</td>\n",
       "      <td>0</td>\n",
       "    </tr>\n",
       "    <tr>\n",
       "      <th>3</th>\n",
       "      <td>0.705142</td>\n",
       "      <td>0.771678</td>\n",
       "      <td>0.153735</td>\n",
       "      <td>0.732893</td>\n",
       "      <td>0.769785</td>\n",
       "      <td>0.934138</td>\n",
       "      <td>0.578930</td>\n",
       "      <td>0.407313</td>\n",
       "      <td>0.868099</td>\n",
       "      <td>0.794402</td>\n",
       "      <td>0.494269</td>\n",
       "      <td>0.698125</td>\n",
       "      <td>0.809799</td>\n",
       "      <td>0.614766</td>\n",
       "      <td>1</td>\n",
       "      <td>0</td>\n",
       "      <td>1</td>\n",
       "      <td>0</td>\n",
       "      <td>1</td>\n",
       "      <td>0</td>\n",
       "      <td>0</td>\n",
       "      <td>0</td>\n",
       "      <td>1</td>\n",
       "      <td>0</td>\n",
       "      <td>0</td>\n",
       "      <td>1</td>\n",
       "      <td>0</td>\n",
       "      <td>0</td>\n",
       "      <td>0</td>\n",
       "      <td>0</td>\n",
       "      <td>0</td>\n",
       "      <td>1</td>\n",
       "      <td>1</td>\n",
       "      <td>0</td>\n",
       "      <td>0</td>\n",
       "      <td>0</td>\n",
       "      <td>0</td>\n",
       "      <td>0</td>\n",
       "      <td>0</td>\n",
       "      <td>0</td>\n",
       "      <td>0</td>\n",
       "      <td>0</td>\n",
       "      <td>0</td>\n",
       "      <td>1</td>\n",
       "      <td>0</td>\n",
       "      <td>0</td>\n",
       "      <td>0</td>\n",
       "      <td>0</td>\n",
       "      <td>0</td>\n",
       "      <td>0</td>\n",
       "      <td>0</td>\n",
       "      <td>0</td>\n",
       "      <td>0</td>\n",
       "      <td>1</td>\n",
       "      <td>0</td>\n",
       "      <td>0</td>\n",
       "      <td>0</td>\n",
       "      <td>0</td>\n",
       "      <td>0</td>\n",
       "      <td>0</td>\n",
       "      <td>0</td>\n",
       "      <td>0</td>\n",
       "      <td>0</td>\n",
       "      <td>0</td>\n",
       "      <td>1</td>\n",
       "      <td>0</td>\n",
       "      <td>0</td>\n",
       "      <td>0</td>\n",
       "      <td>0</td>\n",
       "    </tr>\n",
       "    <tr>\n",
       "      <th>4</th>\n",
       "      <td>0.486063</td>\n",
       "      <td>0.639349</td>\n",
       "      <td>0.496212</td>\n",
       "      <td>0.354186</td>\n",
       "      <td>0.279105</td>\n",
       "      <td>0.382600</td>\n",
       "      <td>0.705940</td>\n",
       "      <td>0.325193</td>\n",
       "      <td>0.440967</td>\n",
       "      <td>0.462146</td>\n",
       "      <td>0.724447</td>\n",
       "      <td>0.683073</td>\n",
       "      <td>0.343457</td>\n",
       "      <td>0.297743</td>\n",
       "      <td>1</td>\n",
       "      <td>0</td>\n",
       "      <td>0</td>\n",
       "      <td>1</td>\n",
       "      <td>1</td>\n",
       "      <td>0</td>\n",
       "      <td>1</td>\n",
       "      <td>0</td>\n",
       "      <td>0</td>\n",
       "      <td>0</td>\n",
       "      <td>0</td>\n",
       "      <td>1</td>\n",
       "      <td>0</td>\n",
       "      <td>0</td>\n",
       "      <td>0</td>\n",
       "      <td>1</td>\n",
       "      <td>0</td>\n",
       "      <td>0</td>\n",
       "      <td>1</td>\n",
       "      <td>0</td>\n",
       "      <td>0</td>\n",
       "      <td>0</td>\n",
       "      <td>0</td>\n",
       "      <td>0</td>\n",
       "      <td>0</td>\n",
       "      <td>0</td>\n",
       "      <td>0</td>\n",
       "      <td>0</td>\n",
       "      <td>0</td>\n",
       "      <td>1</td>\n",
       "      <td>0</td>\n",
       "      <td>0</td>\n",
       "      <td>0</td>\n",
       "      <td>0</td>\n",
       "      <td>0</td>\n",
       "      <td>1</td>\n",
       "      <td>0</td>\n",
       "      <td>0</td>\n",
       "      <td>0</td>\n",
       "      <td>0</td>\n",
       "      <td>0</td>\n",
       "      <td>0</td>\n",
       "      <td>0</td>\n",
       "      <td>0</td>\n",
       "      <td>0</td>\n",
       "      <td>1</td>\n",
       "      <td>0</td>\n",
       "      <td>0</td>\n",
       "      <td>0</td>\n",
       "      <td>0</td>\n",
       "      <td>0</td>\n",
       "      <td>0</td>\n",
       "      <td>0</td>\n",
       "      <td>0</td>\n",
       "      <td>0</td>\n",
       "    </tr>\n",
       "  </tbody>\n",
       "</table>\n",
       "</div>"
      ],
      "text/plain": [
       "      cont0     cont1     cont2     cont3     cont4     cont5     cont6  \\\n",
       "0  0.923191  0.684968  0.124454  0.217886  0.281421  0.881122  0.421650   \n",
       "1  0.437627  0.014213  0.357438  0.846127  0.282354  0.440011  0.346230   \n",
       "2  0.732209  0.760122  0.454644  0.812990  0.293756  0.914155  0.369602   \n",
       "3  0.705142  0.771678  0.153735  0.732893  0.769785  0.934138  0.578930   \n",
       "4  0.486063  0.639349  0.496212  0.354186  0.279105  0.382600  0.705940   \n",
       "\n",
       "      cont7     cont8     cont9    cont10    cont11    cont12    cont13  \\\n",
       "0  0.741413  0.895799  0.802461  0.724417  0.701915  0.877618  0.719903   \n",
       "1  0.278495  0.593413  0.546056  0.613252  0.741289  0.326679  0.808464   \n",
       "2  0.832564  0.865620  0.825251  0.264104  0.695561  0.869133  0.828352   \n",
       "3  0.407313  0.868099  0.794402  0.494269  0.698125  0.809799  0.614766   \n",
       "4  0.325193  0.440967  0.462146  0.724447  0.683073  0.343457  0.297743   \n",
       "\n",
       "   cat0_A  cat0_B  cat1_A  cat1_B  cat2_A  cat2_B  cat3_A  cat3_B  cat3_C  \\\n",
       "0       1       0       0       1       1       0       1       0       0   \n",
       "1       0       1       1       0       1       0       1       0       0   \n",
       "2       1       0       1       0       1       0       0       0       1   \n",
       "3       1       0       1       0       1       0       0       0       1   \n",
       "4       1       0       0       1       1       0       1       0       0   \n",
       "\n",
       "   cat3_D  cat4_A  cat4_B  cat4_C  cat4_D  cat5_A  cat5_B  cat5_C  cat5_D  \\\n",
       "0       0       0       1       0       0       0       0       0       1   \n",
       "1       0       0       1       0       0       0       1       0       0   \n",
       "2       0       0       1       0       0       0       0       0       1   \n",
       "3       0       0       1       0       0       0       0       0       1   \n",
       "4       0       0       1       0       0       0       1       0       0   \n",
       "\n",
       "   cat6_A  cat6_B  cat6_C  cat6_D  cat6_E  cat6_H  cat6_I  cat7_A  cat7_B  \\\n",
       "0       1       0       0       0       0       0       0       0       0   \n",
       "1       1       0       0       0       0       0       0       0       0   \n",
       "2       1       0       0       0       0       0       0       0       1   \n",
       "3       1       0       0       0       0       0       0       0       0   \n",
       "4       1       0       0       0       0       0       0       0       0   \n",
       "\n",
       "   cat7_C  cat7_D  cat7_E  cat7_F  cat7_G  cat7_I  cat8_A  cat8_B  cat8_C  \\\n",
       "0       0       0       1       0       0       0       0       0       1   \n",
       "1       0       0       1       0       0       0       1       0       0   \n",
       "2       0       0       0       0       0       0       0       0       1   \n",
       "3       0       0       1       0       0       0       0       0       0   \n",
       "4       0       0       1       0       0       0       0       0       1   \n",
       "\n",
       "   cat8_D  cat8_E  cat8_F  cat8_G  cat9_A  cat9_B  cat9_C  cat9_D  cat9_E  \\\n",
       "0       0       0       0       0       0       0       0       0       0   \n",
       "1       0       0       0       0       0       0       0       0       0   \n",
       "2       0       0       0       0       0       0       0       0       0   \n",
       "3       0       0       0       1       0       0       0       0       0   \n",
       "4       0       0       0       0       0       0       0       0       0   \n",
       "\n",
       "   cat9_F  cat9_G  cat9_H  cat9_I  cat9_J  cat9_K  cat9_L  cat9_M  cat9_N  \\\n",
       "0       0       0       0       1       0       0       0       0       0   \n",
       "1       1       0       0       0       0       0       0       0       0   \n",
       "2       0       0       0       0       0       0       0       0       1   \n",
       "3       0       0       0       0       0       1       0       0       0   \n",
       "4       1       0       0       0       0       0       0       0       0   \n",
       "\n",
       "   cat9_O  \n",
       "0       0  \n",
       "1       0  \n",
       "2       0  \n",
       "3       0  \n",
       "4       0  "
      ]
     },
     "execution_count": 21,
     "metadata": {},
     "output_type": "execute_result"
    }
   ],
   "source": [
    "train.head()"
   ]
  },
  {
   "cell_type": "markdown",
   "metadata": {},
   "source": [
    "# Modelling"
   ]
  },
  {
   "cell_type": "code",
   "execution_count": 22,
   "metadata": {},
   "outputs": [
    {
     "name": "stdout",
     "output_type": "stream",
     "text": [
      "Training.......\n",
      "Fold: 1\n",
      "LightGBM on validation\n",
      "RMSE on validation (LightGBM): 0.8414371326920068\n",
      "----------------------------------------\n",
      "Training.......\n",
      "Fold: 2\n",
      "LightGBM on validation\n",
      "RMSE on validation (LightGBM): 0.8442891118689341\n",
      "----------------------------------------\n",
      "Training.......\n",
      "Fold: 3\n",
      "LightGBM on validation\n",
      "RMSE on validation (LightGBM): 0.8408411905255756\n",
      "----------------------------------------\n",
      "Training.......\n",
      "Fold: 4\n",
      "LightGBM on validation\n",
      "RMSE on validation (LightGBM): 0.8408355126310143\n",
      "----------------------------------------\n",
      "Training.......\n",
      "Fold: 5\n",
      "LightGBM on validation\n",
      "RMSE on validation (LightGBM): 0.8425494667037051\n",
      "----------------------------------------\n",
      "Training.......\n",
      "Fold: 6\n",
      "LightGBM on validation\n",
      "RMSE on validation (LightGBM): 0.8403037718829217\n",
      "----------------------------------------\n",
      "Training.......\n",
      "Fold: 7\n",
      "LightGBM on validation\n",
      "RMSE on validation (LightGBM): 0.8404099387701631\n",
      "----------------------------------------\n",
      "Training.......\n",
      "Fold: 8\n",
      "LightGBM on validation\n",
      "RMSE on validation (LightGBM): 0.8442997693812353\n",
      "----------------------------------------\n",
      "Training.......\n",
      "Fold: 9\n",
      "LightGBM on validation\n",
      "RMSE on validation (LightGBM): 0.8370488402977004\n",
      "----------------------------------------\n",
      "Training.......\n",
      "Fold: 10\n",
      "LightGBM on validation\n",
      "RMSE on validation (LightGBM): 0.8465475964470426\n",
      "----------------------------------------\n",
      "DONE!\n"
     ]
    }
   ],
   "source": [
    "# LightGBM\n",
    "# lgb_model = lgb.LGBMRegressor(boosting=\"gbdt\", max_depth=10, learning_rate=0.001, \n",
    "#                               reg_alpha=6.147694913504962, reg_lambda= 0.002457826062076097, \n",
    "#                               colsample_bytree=0.3, subsample=0.8, subsample_freq=6, \n",
    "#                               min_data_in_leaf=200, min_child_samples = 285, min_data_per_groups = 39, \n",
    "#                               num_leaves=244, num_iterations=20000)\n",
    "\n",
    "# lgb_model = lgb.LGBMRegressor(boosting=\"gbdt\", max_depth=10, learning_rate=0.0004, \n",
    "#                               reg_alpha=6.147694913504962, reg_lambda= 0.002457826062076097, \n",
    "#                               colsample_bytree=0.3, subsample=0.8, subsample_freq=6, \n",
    "#                               min_data_in_leaf=200, min_child_samples = 285, min_data_per_groups = 39, \n",
    "#                               num_leaves=244, num_iterations=50000)\n",
    "\n",
    "lgb_model = lgb.LGBMRegressor(boosting=\"gbdt\", max_depth=10, learning_rate=0.00045, \n",
    "                              reg_alpha=6.147694913504962, reg_lambda= 0.002457826062076097, \n",
    "                              colsample_bytree=0.3, subsample=0.8, subsample_freq=6, \n",
    "                              min_data_in_leaf=200, min_child_samples = 285, min_data_per_groups = 39, \n",
    "                              num_leaves=244, num_iterations=50000)\n",
    "\n",
    "kf = KFold(n_splits=10, shuffle=True, random_state=1)\n",
    "i = 1\n",
    "test_pred_lgb = np.zeros(len(test))\n",
    "for train_idx, val_idx in kf.split(train, target):\n",
    "    X_train = train.iloc[train_idx]\n",
    "    X_val = train.iloc[val_idx]\n",
    "    y_train, y_val = target.iloc[train_idx], target.iloc[val_idx]\n",
    "    print(\"Training.......\")\n",
    "    lgb_model.fit(X_train, y_train)\n",
    "    print(\"Fold:\", i)\n",
    "    print(\"LightGBM on validation\")\n",
    "    y_pred_lgb_val = lgb_model.predict(X_val)\n",
    "    print(\"RMSE on validation (LightGBM):\", np.sqrt(mean_squared_error(y_pred_lgb_val, y_val)))\n",
    "    print(\"----------------------------------------\")\n",
    "    test_pred_lgb += lgb_model.predict(test)\n",
    "    i += 1\n",
    "print(\"DONE!\")"
   ]
  },
  {
   "cell_type": "code",
   "execution_count": null,
   "metadata": {},
   "outputs": [],
   "source": [
    "# Training.......\n",
    "# Fold: 1\n",
    "# LightGBM on validation\n",
    "# RMSE on validation (LightGBM): 0.8414371326920068\n",
    "# ----------------------------------------\n",
    "# Training.......\n",
    "# Fold: 2\n",
    "# LightGBM on validation\n",
    "# RMSE on validation (LightGBM): 0.8442891118689341\n",
    "# ----------------------------------------\n",
    "# Training.......\n",
    "# Fold: 3\n",
    "# LightGBM on validation\n",
    "# RMSE on validation (LightGBM): 0.8408411905255756\n",
    "# ----------------------------------------\n",
    "# Training.......\n",
    "# Fold: 4\n",
    "# LightGBM on validation\n",
    "# RMSE on validation (LightGBM): 0.8408355126310143\n",
    "# ----------------------------------------\n",
    "# Training.......\n",
    "# Fold: 5\n",
    "# LightGBM on validation\n",
    "# RMSE on validation (LightGBM): 0.8425494667037051\n",
    "# ----------------------------------------\n",
    "# Training.......\n",
    "# Fold: 6\n",
    "# LightGBM on validation\n",
    "# RMSE on validation (LightGBM): 0.8403037718829217\n",
    "# ----------------------------------------\n",
    "# Training.......\n",
    "# Fold: 7\n",
    "# LightGBM on validation\n",
    "# RMSE on validation (LightGBM): 0.8404099387701631\n",
    "# ----------------------------------------\n",
    "# Training.......\n",
    "# Fold: 8\n",
    "# LightGBM on validation\n",
    "# RMSE on validation (LightGBM): 0.8442997693812353\n",
    "# ----------------------------------------\n",
    "# Training.......\n",
    "# Fold: 9\n",
    "# LightGBM on validation\n",
    "# RMSE on validation (LightGBM): 0.8370488402977004\n",
    "# ----------------------------------------\n",
    "# Training.......\n",
    "# Fold: 10\n",
    "# LightGBM on validation\n",
    "# RMSE on validation (LightGBM): 0.8465475964470426\n",
    "# ----------------------------------------\n",
    "# DONE!\n",
    "\n",
    "\n",
    "\n",
    "\n",
    "\n",
    "# Training.......\n",
    "# Fold: 1\n",
    "# LightGBM on validation\n",
    "# RMSE on validation (LightGBM): 0.8414515125694104\n",
    "# ----------------------------------------\n",
    "# Training.......\n",
    "# Fold: 2\n",
    "# LightGBM on validation\n",
    "# RMSE on validation (LightGBM): 0.8443293230241399\n",
    "# ----------------------------------------\n",
    "# Training.......\n",
    "# Fold: 3\n",
    "# LightGBM on validation\n",
    "# RMSE on validation (LightGBM): 0.8408829857020816\n",
    "# ----------------------------------------\n",
    "# Training.......\n",
    "# Fold: 4\n",
    "# LightGBM on validation\n",
    "# RMSE on validation (LightGBM): 0.8408562475137823\n",
    "# ----------------------------------------\n",
    "# Training.......\n",
    "# Fold: 5\n",
    "# LightGBM on validation\n",
    "# RMSE on validation (LightGBM): 0.8425811231170374\n",
    "# ----------------------------------------\n",
    "# Training.......\n",
    "# Fold: 6\n",
    "# LightGBM on validation\n",
    "# RMSE on validation (LightGBM): 0.8403041884222258\n",
    "# ----------------------------------------\n",
    "# Training.......\n",
    "# Fold: 7\n",
    "# LightGBM on validation\n",
    "# RMSE on validation (LightGBM): 0.8403903826386889\n",
    "# ----------------------------------------\n",
    "# Training.......\n",
    "# Fold: 8\n",
    "# LightGBM on validation\n",
    "# RMSE on validation (LightGBM): 0.844317069896948\n",
    "# ----------------------------------------\n",
    "# Training.......\n",
    "# Fold: 9\n",
    "# LightGBM on validation\n",
    "# RMSE on validation (LightGBM): 0.8371227505368598\n",
    "# ----------------------------------------\n",
    "# Training.......\n",
    "# Fold: 10\n",
    "# LightGBM on validation\n",
    "# RMSE on validation (LightGBM): 0.8465750191219925\n",
    "# ----------------------------------------"
   ]
  },
  {
   "cell_type": "code",
   "execution_count": 23,
   "metadata": {},
   "outputs": [
    {
     "data": {
      "text/plain": [
       "array([7.59334316, 7.85966754, 7.59466558, ..., 7.50658192, 7.47524953,\n",
       "       7.35829744])"
      ]
     },
     "execution_count": 23,
     "metadata": {},
     "output_type": "execute_result"
    }
   ],
   "source": [
    "test_pred_lgb /= 10\n",
    "test_pred_lgb"
   ]
  },
  {
   "cell_type": "code",
   "execution_count": 24,
   "metadata": {},
   "outputs": [],
   "source": [
    "sub3 = pd.DataFrame()\n",
    "sub3['id'] = test_id\n",
    "sub3['target'] = test_pred_lgb\n",
    "\n",
    "# 0.84234\n",
    "sub3.to_csv('submission000.csv', index=False) "
   ]
  },
  {
   "cell_type": "code",
   "execution_count": null,
   "metadata": {},
   "outputs": [],
   "source": []
  },
  {
   "cell_type": "code",
   "execution_count": null,
   "metadata": {},
   "outputs": [],
   "source": []
  },
  {
   "cell_type": "code",
   "execution_count": null,
   "metadata": {},
   "outputs": [],
   "source": []
  },
  {
   "cell_type": "code",
   "execution_count": 35,
   "metadata": {},
   "outputs": [
    {
     "name": "stdout",
     "output_type": "stream",
     "text": [
      "Training........\n",
      "Fold: 1\n",
      "Gradient Boosting on train\n",
      "RMSE on train (Gradient Boosting): 0.8328818549511605\n",
      "XGBoost on validation\n",
      "RMSE on validation (Gradient Boosting): 0.8472127571291864\n",
      "----------------------------------------\n",
      "Training........\n",
      "Fold: 2\n",
      "Gradient Boosting on train\n",
      "RMSE on train (Gradient Boosting): 0.8330223302578459\n",
      "XGBoost on validation\n",
      "RMSE on validation (Gradient Boosting): 0.8509875803040288\n",
      "----------------------------------------\n",
      "Training........\n",
      "Fold: 3\n",
      "Gradient Boosting on train\n",
      "RMSE on train (Gradient Boosting): 0.8336406698352119\n",
      "XGBoost on validation\n",
      "RMSE on validation (Gradient Boosting): 0.8476382547626823\n",
      "----------------------------------------\n",
      "Training........\n",
      "Fold: 4\n",
      "Gradient Boosting on train\n",
      "RMSE on train (Gradient Boosting): 0.8333552588371174\n",
      "XGBoost on validation\n",
      "RMSE on validation (Gradient Boosting): 0.8475327338253198\n",
      "----------------------------------------\n",
      "Training........\n",
      "Fold: 5\n",
      "Gradient Boosting on train\n",
      "RMSE on train (Gradient Boosting): 0.8330358958662734\n",
      "XGBoost on validation\n",
      "RMSE on validation (Gradient Boosting): 0.8487534240355743\n",
      "----------------------------------------\n",
      "Training........\n",
      "Fold: 6\n",
      "Gradient Boosting on train\n",
      "RMSE on train (Gradient Boosting): 0.8333444960161194\n",
      "XGBoost on validation\n",
      "RMSE on validation (Gradient Boosting): 0.8466115357394534\n",
      "----------------------------------------\n",
      "Training........\n",
      "Fold: 7\n",
      "Gradient Boosting on train\n",
      "RMSE on train (Gradient Boosting): 0.8339384596047891\n",
      "XGBoost on validation\n",
      "RMSE on validation (Gradient Boosting): 0.8470301823600915\n",
      "----------------------------------------\n",
      "Training........\n",
      "Fold: 8\n",
      "Gradient Boosting on train\n",
      "RMSE on train (Gradient Boosting): 0.8327983965474083\n",
      "XGBoost on validation\n",
      "RMSE on validation (Gradient Boosting): 0.8514573950996015\n",
      "----------------------------------------\n",
      "Training........\n",
      "Fold: 9\n",
      "Gradient Boosting on train\n",
      "RMSE on train (Gradient Boosting): 0.8337254597353312\n",
      "XGBoost on validation\n",
      "RMSE on validation (Gradient Boosting): 0.8429615830241056\n",
      "----------------------------------------\n",
      "Training........\n",
      "Fold: 10\n",
      "Gradient Boosting on train\n",
      "RMSE on train (Gradient Boosting): 0.8323467747162494\n",
      "XGBoost on validation\n",
      "RMSE on validation (Gradient Boosting): 0.8530966287713267\n",
      "----------------------------------------\n"
     ]
    }
   ],
   "source": [
    "# Gradient Boosting\n",
    "gboosting = GradientBoostingRegressor(n_estimators=50, learning_rate=0.2, \n",
    "                                      max_depth=6, random_state=1, subsample=0.6)\n",
    "kf = KFold(n_splits=10, shuffle=True, random_state=1)\n",
    "i = 1\n",
    "test_pred_gboosting = np.zeros(len(test))\n",
    "for train_idx, val_idx in kf.split(train):\n",
    "    X_train, X_val = train.iloc[train_idx], train.iloc[val_idx]\n",
    "    y_train, y_val = target.iloc[train_idx], target.iloc[val_idx]\n",
    "    print(\"Training........\")\n",
    "    gboosting.fit(X_train, y_train)\n",
    "    print(\"Fold:\", i)\n",
    "    print(\"Gradient Boosting on train\")\n",
    "    y_pred_gboosting_train = gboosting.predict(X_train)\n",
    "    print(\"RMSE on train (Gradient Boosting):\", np.sqrt(mean_squared_error(y_pred_gboosting_train, y_train)))\n",
    "    print(\"XGBoost on validation\")\n",
    "    y_pred_gboosting_val = gboosting.predict(X_val)\n",
    "    print(\"RMSE on validation (Gradient Boosting):\", np.sqrt(mean_squared_error(y_pred_gboosting_val, y_val)))\n",
    "    print(\"----------------------------------------\")\n",
    "    test_pred_gboosting += gboosting.predict(test)\n",
    "    i += 1"
   ]
  },
  {
   "cell_type": "code",
   "execution_count": 51,
   "metadata": {},
   "outputs": [
    {
     "data": {
      "text/plain": [
       "array([7.55843311, 7.84008695, 7.62078581, ..., 7.49481851, 7.51211151,\n",
       "       7.41552406])"
      ]
     },
     "execution_count": 51,
     "metadata": {},
     "output_type": "execute_result"
    }
   ],
   "source": [
    "test_pred_gboosting /= 10\n",
    "test_pred_gboosting"
   ]
  },
  {
   "cell_type": "markdown",
   "metadata": {},
   "source": [
    "Till now the LightGBM is the best model "
   ]
  },
  {
   "cell_type": "markdown",
   "metadata": {},
   "source": [
    "## Feature Importance"
   ]
  },
  {
   "cell_type": "markdown",
   "metadata": {},
   "source": [
    "### LightGBM"
   ]
  },
  {
   "cell_type": "code",
   "execution_count": 34,
   "metadata": {},
   "outputs": [
    {
     "name": "stdout",
     "output_type": "stream",
     "text": [
      "[1208  875  622  743 1010  997  687  567  821  823  627  748   56   42\n",
      "   88   42   48   82   94   81   89   27   29   63   32   44   25   46\n",
      "   36   38   40   23   15   37   26   33   34   14   22    4   12    7\n",
      "    1    9    9    6    2    0    8    5    3    0]\n"
     ]
    },
    {
     "data": {
      "image/png": "[encoded data removed]",
      "text/plain": [
       "<Figure size 1152x936 with 1 Axes>"
      ]
     },
     "metadata": {
      "needs_background": "light"
     },
     "output_type": "display_data"
    }
   ],
   "source": [
    "importances = lgb_model.feature_importances_\n",
    "print(importances)\n",
    "lgb.plot_importance(lgb_model, figsize=(16, 13))\n",
    "plt.show()"
   ]
  },
  {
   "cell_type": "code",
   "execution_count": 29,
   "metadata": {},
   "outputs": [
    {
     "name": "stdout",
     "output_type": "stream",
     "text": [
      "Fold: 1\n",
      "LightGBM on train\n",
      "RMSE on train (LightGBM): 0.825716142944188\n",
      "XGBoost on validation\n",
      "RMSE on validation (LightGBM): 0.8437617620892015\n",
      "----------------------------------------\n",
      "Fold: 2\n",
      "LightGBM on train\n",
      "RMSE on train (LightGBM): 0.8252651366433272\n",
      "XGBoost on validation\n",
      "RMSE on validation (LightGBM): 0.8462789431556536\n",
      "----------------------------------------\n",
      "Fold: 3\n",
      "LightGBM on train\n",
      "RMSE on train (LightGBM): 0.8256175967213457\n",
      "XGBoost on validation\n",
      "RMSE on validation (LightGBM): 0.8432130278944875\n",
      "----------------------------------------\n",
      "Fold: 4\n",
      "LightGBM on train\n",
      "RMSE on train (LightGBM): 0.8255461742357797\n",
      "XGBoost on validation\n",
      "RMSE on validation (LightGBM): 0.8433134884226532\n",
      "----------------------------------------\n",
      "Fold: 5\n",
      "LightGBM on train\n",
      "RMSE on train (LightGBM): 0.8256493156096113\n",
      "XGBoost on validation\n",
      "RMSE on validation (LightGBM): 0.8445505186138206\n",
      "----------------------------------------\n",
      "Fold: 6\n",
      "LightGBM on train\n",
      "RMSE on train (LightGBM): 0.8257871406972244\n",
      "XGBoost on validation\n",
      "RMSE on validation (LightGBM): 0.8426969335774687\n",
      "----------------------------------------\n",
      "Fold: 7\n",
      "LightGBM on train\n",
      "RMSE on train (LightGBM): 0.8255649390913888\n",
      "XGBoost on validation\n",
      "RMSE on validation (LightGBM): 0.8434176871550818\n",
      "----------------------------------------\n",
      "Fold: 8\n",
      "LightGBM on train\n",
      "RMSE on train (LightGBM): 0.8253375454329361\n",
      "XGBoost on validation\n",
      "RMSE on validation (LightGBM): 0.8467753085493033\n",
      "----------------------------------------\n",
      "Fold: 9\n",
      "LightGBM on train\n",
      "RMSE on train (LightGBM): 0.8262476468861594\n",
      "XGBoost on validation\n",
      "RMSE on validation (LightGBM): 0.8392950615901127\n",
      "----------------------------------------\n",
      "Fold: 10\n",
      "LightGBM on train\n",
      "RMSE on train (LightGBM): 0.825135170306992\n",
      "XGBoost on validation\n",
      "RMSE on validation (LightGBM): 0.848501429958664\n",
      "----------------------------------------\n"
     ]
    }
   ],
   "source": [
    "predictors = ['cont8', 'cont5', 'cont3', 'cont10', 'cont9', 'cont11', 'cont2', \n",
    "              'cont1', 'cont12', 'cont6', 'cont0', 'cont13', 'cat0_A', 'cat8_C', \n",
    "              'cat9_F', 'cat9_A', 'cat3_C', 'cat1_A', 'cat9_I', 'cat8_E', 'cat3_A', \n",
    "              'cat8_G', 'cat9_G', 'cat9_L', 'cat7_D', 'cat6_A', 'cat9_J', 'cat2_B', \n",
    "              'cat1_B', 'cat7_E', 'cat5_B', 'cat2_A', 'cat9_K', 'cat5_D', 'cat8_A', \n",
    "              'cat5_C', 'cat0_B', 'cat9_H', 'cat6_B', 'cat5_A', 'cat9_O', 'cat9_M', \n",
    "              'cat9_N', 'cat9_B', 'cat6_C', 'cat4_B', 'cat8_D', 'cat7_G', 'cat7_B', \n",
    "              'cat4_C', 'cat4_A', 'cat8_F']\n",
    "\n",
    "new_dataset_train = train[predictors]\n",
    "new_dataset_test = test[predictors]\n",
    "lgb_model = lgb.LGBMRegressor(boosting=\"gbdt\", max_depth=40, learning_rate=0.1, \n",
    "                              reg_alpha=6.147694913504962, reg_lambda= 0.002457826062076097, \n",
    "                              colsample_bytree=0.3, subsample=0.8, subsample_freq=6, \n",
    "                              min_data_in_leaf=200, min_child_samples = 285, min_data_per_groups = 39, \n",
    "                              num_leaves=111)\n",
    "kf = KFold(n_splits=10, shuffle=True, random_state=1)\n",
    "i = 1\n",
    "test_pred = np.zeros(len(test))\n",
    "for train_idx, val_idx in kf.split(new_dataset_train):\n",
    "    X_train = new_dataset_train.iloc[train_idx]\n",
    "    X_val = new_dataset_train.iloc[val_idx]\n",
    "    y_train, y_val = target.iloc[train_idx], target.iloc[val_idx]\n",
    "    lgb_model.fit(X_train, y_train)\n",
    "    print(\"Fold:\", i)\n",
    "    print(\"LightGBM on train\")\n",
    "    y_pred_lgb_train = lgb_model.predict(X_train)\n",
    "    print(\"RMSE on train (LightGBM):\", np.sqrt(mean_squared_error(y_pred_lgb_train, y_train)))\n",
    "    print(\"XGBoost on validation\")\n",
    "    y_pred_lgb_val_im = lgb_model.predict(X_val)\n",
    "    print(\"RMSE on validation (LightGBM):\", np.sqrt(mean_squared_error(y_pred_lgb_val_im, y_val)))\n",
    "    print(\"----------------------------------------\")\n",
    "    test_pred += lgb_model.predict(new_dataset_test)\n",
    "    i += 1"
   ]
  },
  {
   "cell_type": "code",
   "execution_count": 30,
   "metadata": {},
   "outputs": [
    {
     "data": {
      "text/plain": [
       "array([7.63269726, 7.81763928, 7.56946732, ..., 7.49286316, 7.52535585,\n",
       "       7.30277672])"
      ]
     },
     "execution_count": 30,
     "metadata": {},
     "output_type": "execute_result"
    }
   ],
   "source": [
    "test_pred /= 10\n",
    "test_pred"
   ]
  },
  {
   "cell_type": "markdown",
   "metadata": {},
   "source": [
    "LightGBM with all features is better"
   ]
  },
  {
   "cell_type": "markdown",
   "metadata": {},
   "source": [
    "### Gradient Boosting"
   ]
  },
  {
   "cell_type": "code",
   "execution_count": 31,
   "metadata": {},
   "outputs": [
    {
     "name": "stdout",
     "output_type": "stream",
     "text": [
      "cont0 = 0.09238110779518188 Added\n",
      "cont1 = 0.04637861214279269 Added\n",
      "cont2 = 0.023177402312171965 Added\n",
      "cont3 = 0.03407558642239196 Added\n",
      "cont4 = 0.01753401446303616 Added\n",
      "cont5 = 0.05611753338641461 Added\n",
      "cont6 = 0.05016949299498207 Added\n",
      "cont7 = 0.024874424023511085 Added\n",
      "cont8 = 0.098831643950911 Added\n",
      "cont9 = 0.06472626050488395 Added\n",
      "cont10 = 0.029881822370852542 Added\n",
      "cont11 = 0.06691951586182121 Added\n",
      "cont12 = 0.025008107474367137 Added\n",
      "cont13 = 0.07379148701581863 Added\n",
      "cat0_A = 0.009262161874492476 Added\n",
      "cat0_B = 0.006156354718941599 Added\n",
      "cat1_A = 0.03250201485542212 Added\n",
      "cat1_B = 0.06663416661596196 Added\n",
      "cat2_A = 0.02375895287397871 Added\n",
      "cat2_B = 0.025172488702294264 Added\n",
      "cat3_A = 0.009903338099483558 Added\n",
      "cat3_B = 0.0003191720259724833 Added\n",
      "cat3_C = 0.011858405267903376 Added\n",
      "cat3_D = 0.00013224387404023332 Added\n",
      "cat4_A = 0.00016057081295147598 Added\n",
      "cat4_B = 0.00038686626846239563 Added\n",
      "cat4_C = 0.0003369455429393084 Added\n",
      "cat4_D = 0.0003324579077600467 Added\n",
      "cat5_A = 0.000161908960921191 Added\n",
      "cat5_B = 0.00019627062768220882 Added\n",
      "cat5_C = 0.01592264110597888 Added\n",
      "cat5_D = 0.0010633776386709602 Added\n",
      "cat6_A = 0.014466818911098623 Added\n",
      "cat6_B = 0.00022055392325200427 Added\n",
      "cat6_C = 0.0006831060574461626 Added\n",
      "cat7_B = 0.0002397903913107429 Added\n",
      "cat7_D = 0.0006553603885190592 Added\n",
      "cat7_E = 0.0010095776757167647 Added\n",
      "cat7_G = 2.8271053191754625e-05 Added\n",
      "cat8_A = 0.00033560110258232305 Added\n",
      "cat8_C = 0.0012327072387350345 Added\n",
      "cat8_D = 0.00028630379342911203 Added\n",
      "cat8_E = 0.005940227685525045 Added\n",
      "cat8_G = 0.01664588220744199 Added\n",
      "cat9_A = 0.00399447928975355 Added\n",
      "cat9_B = 0.0007298624731568789 Added\n",
      "cat9_F = 0.004921645962977083 Added\n",
      "cat9_G = 0.002620965100696854 Added\n",
      "cat9_H = 0.0003385254720480778 Added\n",
      "cat9_I = 0.01717798665199753 Added\n",
      "cat9_J = 0.001070428517954963 Added\n",
      "cat9_K = 0.0005222386284304844 Added\n",
      "cat9_L = 0.017869323051481954 Added\n",
      "cat9_M = 0.0003336904896236188 Added\n",
      "cat9_N = 0.0002204422558709229 Added\n",
      "cat9_O = 0.0003288631847654478 Added\n"
     ]
    }
   ],
   "source": [
    "importantces_gboosting = gboosting.feature_importances_\n",
    "indices = np.argsort(importantces_gboosting)\n",
    "predictors_gboosting = []\n",
    "for name, importance in zip(train.columns, gboosting.feature_importances_):\n",
    "    if importance > 0.00001:\n",
    "        predictors_gboosting.append(name)\n",
    "        print(name, \"=\", importance, \"Added\")"
   ]
  },
  {
   "cell_type": "code",
   "execution_count": 32,
   "metadata": {},
   "outputs": [
    {
     "name": "stdout",
     "output_type": "stream",
     "text": [
      "Training........\n",
      "Fold: 1\n",
      "Gradient Boosting on train\n",
      "RMSE on train (Gradient Boosting): 0.8331535428729853\n",
      "XGBoost on validation\n",
      "RMSE on validation (Gradient Boosting): 0.8472964238888625\n",
      "----------------------------------------\n",
      "Training........\n",
      "Fold: 2\n",
      "Gradient Boosting on train\n",
      "RMSE on train (Gradient Boosting): 0.8330028344958681\n",
      "XGBoost on validation\n",
      "RMSE on validation (Gradient Boosting): 0.850385170345829\n",
      "----------------------------------------\n",
      "Training........\n",
      "Fold: 3\n",
      "Gradient Boosting on train\n",
      "RMSE on train (Gradient Boosting): 0.8331902166622586\n",
      "XGBoost on validation\n",
      "RMSE on validation (Gradient Boosting): 0.8467481982830443\n",
      "----------------------------------------\n",
      "Training........\n",
      "Fold: 4\n",
      "Gradient Boosting on train\n",
      "RMSE on train (Gradient Boosting): 0.8331430993128562\n",
      "XGBoost on validation\n",
      "RMSE on validation (Gradient Boosting): 0.8472373427832052\n",
      "----------------------------------------\n",
      "Training........\n",
      "Fold: 5\n",
      "Gradient Boosting on train\n",
      "RMSE on train (Gradient Boosting): 0.8327610401957775\n",
      "XGBoost on validation\n",
      "RMSE on validation (Gradient Boosting): 0.8484840774842285\n",
      "----------------------------------------\n",
      "Training........\n",
      "Fold: 6\n",
      "Gradient Boosting on train\n",
      "RMSE on train (Gradient Boosting): 0.8331454369037895\n",
      "XGBoost on validation\n",
      "RMSE on validation (Gradient Boosting): 0.8465060651200332\n",
      "----------------------------------------\n",
      "Training........\n",
      "Fold: 7\n",
      "Gradient Boosting on train\n",
      "RMSE on train (Gradient Boosting): 0.8339418520866834\n",
      "XGBoost on validation\n",
      "RMSE on validation (Gradient Boosting): 0.8470647551260908\n",
      "----------------------------------------\n",
      "Training........\n",
      "Fold: 8\n",
      "Gradient Boosting on train\n",
      "RMSE on train (Gradient Boosting): 0.8329097268444812\n",
      "XGBoost on validation\n",
      "RMSE on validation (Gradient Boosting): 0.8520976351635212\n",
      "----------------------------------------\n",
      "Training........\n",
      "Fold: 9\n",
      "Gradient Boosting on train\n",
      "RMSE on train (Gradient Boosting): 0.8336694706683784\n",
      "XGBoost on validation\n",
      "RMSE on validation (Gradient Boosting): 0.8433506549514712\n",
      "----------------------------------------\n",
      "Training........\n",
      "Fold: 10\n",
      "Gradient Boosting on train\n",
      "RMSE on train (Gradient Boosting): 0.8322481100589132\n",
      "XGBoost on validation\n",
      "RMSE on validation (Gradient Boosting): 0.8535765922373088\n",
      "----------------------------------------\n"
     ]
    }
   ],
   "source": [
    "new_dataset_train_gbooting = train[predictors_gboosting]\n",
    "new_dataset_test_gbooting = test[predictors_gboosting]\n",
    "gboosting = GradientBoostingRegressor(n_estimators=50, learning_rate=0.2, \n",
    "                                      max_depth=6, random_state=1, subsample=0.6)\n",
    "kf = KFold(n_splits=10, shuffle=True, random_state=1)\n",
    "i = 1\n",
    "test_pred_gboosting = np.zeros(len(test))\n",
    "for train_idx, val_idx in kf.split(new_dataset_train_gbooting):\n",
    "    X_train, X_val = new_dataset_train_gbooting.iloc[train_idx], new_dataset_train_gbooting.iloc[val_idx]\n",
    "    y_train, y_val = target.iloc[train_idx], target.iloc[val_idx]\n",
    "    print(\"Training........\")\n",
    "    gboosting.fit(X_train, y_train)\n",
    "    print(\"Fold:\", i)\n",
    "    print(\"Gradient Boosting on train\")\n",
    "    y_pred_gboosting_train = gboosting.predict(X_train)\n",
    "    print(\"RMSE on train (Gradient Boosting):\", np.sqrt(mean_squared_error(y_pred_gboosting_train, y_train)))\n",
    "    print(\"XGBoost on validation\")\n",
    "    y_pred_gboosting_val_im = gboosting.predict(X_val)\n",
    "    print(\"RMSE on validation (Gradient Boosting):\", np.sqrt(mean_squared_error(y_pred_gboosting_val_im, y_val)))\n",
    "    print(\"----------------------------------------\")\n",
    "    test_pred_gboosting += gboosting.predict(new_dataset_test_gbooting)\n",
    "    i += 1"
   ]
  },
  {
   "cell_type": "code",
   "execution_count": 33,
   "metadata": {},
   "outputs": [
    {
     "data": {
      "text/plain": [
       "array([7.56719908, 7.83055967, 7.60528298, ..., 7.47405987, 7.52770834,\n",
       "       7.40283233])"
      ]
     },
     "execution_count": 33,
     "metadata": {},
     "output_type": "execute_result"
    }
   ],
   "source": [
    "test_pred_gboosting /= 10\n",
    "test_pred_gboosting"
   ]
  },
  {
   "cell_type": "markdown",
   "metadata": {},
   "source": [
    "### Ensembling"
   ]
  },
  {
   "cell_type": "code",
   "execution_count": 54,
   "metadata": {},
   "outputs": [
    {
     "name": "stdout",
     "output_type": "stream",
     "text": [
      "RMSE on validation (Gradient Boosting + LightGBM): 0.84922791884861\n"
     ]
    }
   ],
   "source": [
    "y_en_val = (0.1 * y_pred_gboosting_val) + (0.9 * y_pred_lgb_val) \n",
    "print(\"RMSE on validation (Gradient Boosting + LightGBM):\", \n",
    "      np.sqrt(mean_squared_error(y_en_val, y_val)))"
   ]
  },
  {
   "cell_type": "code",
   "execution_count": 56,
   "metadata": {},
   "outputs": [],
   "source": [
    "sub4 = pd.DataFrame()\n",
    "sub4['id'] = test_id\n",
    "en_pred = (0.9 * test_pred_lgb) + (0.1 * test_pred_gboosting)\n",
    "sub4['target'] = en_pred\n",
    "sub4.to_csv('submission2.csv', index=False)"
   ]
  },
  {
   "cell_type": "markdown",
   "metadata": {},
   "source": [
    "#### LightGBM with all features still the best with 0.84234, And TOP 50 :)))"
   ]
  }
 ],
 "metadata": {
  "kernelspec": {
   "display_name": "Python 3",
   "language": "python",
   "name": "python3"
  },
  "language_info": {
   "codemirror_mode": {
    "name": "ipython",
    "version": 3
   },
   "file_extension": ".py",
   "mimetype": "text/x-python",
   "name": "python",
   "nbconvert_exporter": "python",
   "pygments_lexer": "ipython3",
   "version": "3.8.3"
  }
 },
 "nbformat": 4,
 "nbformat_minor": 4
}
